{
 "cells": [
  {
   "cell_type": "code",
   "execution_count": 1,
   "metadata": {},
   "outputs": [],
   "source": [
    "import numpy as np"
   ]
  },
  {
   "cell_type": "code",
   "execution_count": 2,
   "metadata": {
    "scrolled": true
   },
   "outputs": [],
   "source": [
    "import matplotlib as mpl\n",
    "from mpl_toolkits.mplot3d import Axes3D\n",
    "import matplotlib.pyplot as plt"
   ]
  },
  {
   "cell_type": "code",
   "execution_count": 3,
   "metadata": {},
   "outputs": [],
   "source": [
    "import scipy.stats\n",
    "from tqdm import tqdm"
   ]
  },
  {
   "cell_type": "code",
   "execution_count": 4,
   "metadata": {},
   "outputs": [],
   "source": [
    "from tools import HelperTorch\n",
    "from domain import Flower, Polygon, Heart, Cross, Star"
   ]
  },
  {
   "cell_type": "code",
   "execution_count": 5,
   "metadata": {},
   "outputs": [],
   "source": [
    "np.set_printoptions(precision=3)\n",
    "np.set_printoptions(suppress=True)\n",
    "np.random.seed(9)"
   ]
  },
  {
   "cell_type": "markdown",
   "metadata": {},
   "source": [
    "## My Domains"
   ]
  },
  {
   "cell_type": "code",
   "execution_count": null,
   "metadata": {},
   "outputs": [],
   "source": []
  },
  {
   "cell_type": "code",
   "execution_count": 56,
   "metadata": {},
   "outputs": [],
   "source": [
    "noise_scale = 0.03"
   ]
  },
  {
   "cell_type": "code",
   "execution_count": 57,
   "metadata": {},
   "outputs": [],
   "source": [
    "x = np.linspace(0.5, np.pi-0.5, 1000)\n",
    "smile = np.stack([np.cos(x), -np.sin(x)-0.2*x], axis=1) * 1.5\n",
    "smile += 2 * noise_scale * np.random.normal(size=smile.shape)\n",
    "smile = smile.transpose()"
   ]
  },
  {
   "cell_type": "code",
   "execution_count": 58,
   "metadata": {},
   "outputs": [],
   "source": [
    "leye = np.random.normal(size=smile.shape) / 7\n",
    "leye[0, :] -= 1.2\n",
    "leye[1, :] += 0.7\n",
    "\n",
    "leyeBall = Flower(petals=1, move_out=1).position(np.arange(0, 1, 0.001)) * 2\n",
    "leyeBall += noise_scale * np.random.normal(size=leyeBall.shape)\n",
    "leyeBall[0, :] -= 1.4\n",
    "leyeBall[1, :] += 0.35"
   ]
  },
  {
   "cell_type": "code",
   "execution_count": 59,
   "metadata": {},
   "outputs": [],
   "source": [
    "reye = np.random.normal(size=smile.shape) / 7\n",
    "reye[0, :] += 1.6\n",
    "reye[1, :] += 0.7\n",
    "\n",
    "reyeBall = Flower(petals=1, move_out=1).position(np.arange(0, 1, 0.001)) * 2\n",
    "reyeBall += noise_scale * np.random.normal(size=reyeBall.shape)\n",
    "reyeBall[0, :] += 1.4\n",
    "reyeBall[1, :] += 0.35"
   ]
  },
  {
   "cell_type": "code",
   "execution_count": null,
   "metadata": {},
   "outputs": [],
   "source": []
  },
  {
   "cell_type": "code",
   "execution_count": 60,
   "metadata": {},
   "outputs": [],
   "source": [
    "myStar = Star()\n",
    "points = myStar.position(np.arange(0, 1, 0.001)) * 7"
   ]
  },
  {
   "cell_type": "code",
   "execution_count": 61,
   "metadata": {},
   "outputs": [],
   "source": [
    "all_points = np.concatenate([smile, leyeBall, leye, reye, reyeBall], axis=1)"
   ]
  },
  {
   "cell_type": "code",
   "execution_count": 62,
   "metadata": {},
   "outputs": [
    {
     "name": "stderr",
     "output_type": "stream",
     "text": [
      "No handles with labels found to put in legend.\n"
     ]
    },
    {
     "data": {
      "image/png": "[encoded data removed]",
      "text/plain": [
       "<Figure size 400x400 with 1 Axes>"
      ]
     },
     "metadata": {},
     "output_type": "display_data"
    }
   ],
   "source": [
    "fig = plt.figure(figsize=(4, 4))\n",
    "plt.plot(points[0, :], points[1, :])\n",
    "plt.plot(all_points[0, :], all_points[1, :], 'o', markersize=1)\n",
    "plt.legend(loc=\"upper left\", prop={'size': 10})\n",
    "plt.tight_layout()\n",
    "plt.show()"
   ]
  },
  {
   "cell_type": "code",
   "execution_count": null,
   "metadata": {},
   "outputs": [],
   "source": []
  },
  {
   "cell_type": "code",
   "execution_count": null,
   "metadata": {},
   "outputs": [],
   "source": []
  },
  {
   "cell_type": "code",
   "execution_count": null,
   "metadata": {},
   "outputs": [],
   "source": [
    "def save_toy_path_paper(xt, num_snapshot=None):\n",
    "    import seaborn\n",
    "    from scipy import stats\n",
    "    lims = [-0.1, 1.1]\n",
    "    \n",
    "    num_row = 1\n",
    "    num_col = np.ceil(num_snapshot/num_row).astype(int)\n",
    "    total_steps = xt.shape[1]\n",
    "    sample_steps = np.linspace(0, total_steps-1, num_snapshot).astype(int)\n",
    "    plt.style.use('default')\n",
    "    fig, axes = plt.subplots(num_row, num_col, figsize=[num_col*2.5, num_row*2.5])\n",
    "    plt.subplots_adjust(hspace=0.0, wspace=0.0)\n",
    "    fig.patch.set_facecolor('lightgrey')\n",
    "    axes = axes.reshape(-1)\n",
    "    \n",
    "    for ax, step in zip(axes, sample_steps):\n",
    "        x, y = xt[:, step, 0], xt[:, step, 1]\n",
    "        values = np.vstack([x, y])\n",
    "        kernel = stats.gaussian_kde(values)(values)\n",
    "        \n",
    "        ax = fig.add_subplot(ax)\n",
    "        cmap = 'viridis'\n",
    "        seaborn.scatterplot(x=x, y=y, s=8, c=kernel, vmin=-0.002, cmap=cmap, alpha=0.5)\n",
    "        \n",
    "        ax.set_xlim(*lims)\n",
    "        ax.set_ylim(*lims)\n",
    "        ax.axis('off')\n",
    "    plt.axis('off')\n",
    "    "
   ]
  },
  {
   "cell_type": "code",
   "execution_count": null,
   "metadata": {},
   "outputs": [],
   "source": [
    "import torch\n",
    "import numpy as np\n",
    "Xt = torch.rand(1000, 100, 2).numpy() * 8\n"
   ]
  },
  {
   "cell_type": "code",
   "execution_count": null,
   "metadata": {},
   "outputs": [],
   "source": [
    "save_toy_path_paper(Xt, 5)"
   ]
  },
  {
   "cell_type": "code",
   "execution_count": null,
   "metadata": {},
   "outputs": [],
   "source": [
    "myFlower = Flower(radius=7)\n",
    "myDomainCurve = myFlower.position(np.arange(0, 1, 0.001))\n",
    "#myDomainCurve = get_domain(opt)(radius=opt.domain_radius).position(np.arange(0, 1, 0.001))"
   ]
  },
  {
   "cell_type": "code",
   "execution_count": null,
   "metadata": {},
   "outputs": [],
   "source": [
    "import seaborn\n",
    "from scipy import stats\n",
    "lims = [-0.1, 1.1]\n",
    "\n",
    "xt = Xt\n",
    "num_snapshot = 5\n",
    "num_row = 1\n",
    "num_col = np.ceil(num_snapshot/num_row).astype(int)\n",
    "\n",
    "\n",
    "total_steps = xt.shape[1]\n",
    "sample_steps = np.linspace(0, total_steps-1, num_snapshot).astype(int)\n",
    "plt.style.use('default')\n",
    "fig, axes = plt.subplots(num_row, num_col, figsize=[num_col*2.5, num_row*2.5])\n",
    "plt.subplots_adjust(hspace=0.0, wspace=0.02)\n",
    "#fig.patch.set_facecolor('lightgrey')\n",
    "axes = axes.reshape(-1)\n",
    "\n",
    "for ax, step in zip(axes, sample_steps):\n",
    "    x, y = xt[:, step, 0], xt[:, step, 1]\n",
    "    values = np.vstack([x, y])\n",
    "    kernel = stats.gaussian_kde(values)(values)\n",
    "\n",
    "    ax = fig.add_subplot(ax)\n",
    "    cmap = 'salmon'\n",
    "    #seaborn.scatterplot(x=x, y=y, s=8, c=kernel, vmin=-0.002, cmap=cmap, palette='red', alpha=0.5)\n",
    "    seaborn.scatterplot(x=myDomainCurve[0, :], y=myDomainCurve[1, :], color='darkgreen', s=4, alpha=0.1)\n",
    "    #ax.set_xlim(*lims)\n",
    "    #ax.set_ylim(*lims)\n",
    "    #ax.axis('off')\n",
    "    \n",
    "    plt.tick_params(left = False, right = False , labelleft = False ,\n",
    "                    labelbottom = False, bottom = False)\n",
    "    plt.setp(ax.spines.values(), color='lightgrey', alpha=0.4)\n",
    "    #plt.axis('off')"
   ]
  },
  {
   "cell_type": "code",
   "execution_count": null,
   "metadata": {},
   "outputs": [],
   "source": [
    "plt.show()"
   ]
  },
  {
   "cell_type": "code",
   "execution_count": null,
   "metadata": {},
   "outputs": [],
   "source": [
    "Yt = torch.rand(2, 2000).numpy()"
   ]
  },
  {
   "cell_type": "code",
   "execution_count": null,
   "metadata": {},
   "outputs": [],
   "source": []
  }
 ],
 "metadata": {
  "kernelspec": {
   "display_name": "Python 3",
   "language": "python",
   "name": "python3"
  },
  "language_info": {
   "codemirror_mode": {
    "name": "ipython",
    "version": 3
   },
   "file_extension": ".py",
   "mimetype": "text/x-python",
   "name": "python",
   "nbconvert_exporter": "python",
   "pygments_lexer": "ipython3",
   "version": "3.8.10"
  }
 },
 "nbformat": 4,
 "nbformat_minor": 5
}
