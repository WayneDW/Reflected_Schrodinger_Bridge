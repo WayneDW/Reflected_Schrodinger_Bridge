{
 "cells": [
  {
   "cell_type": "code",
   "execution_count": 1,
   "metadata": {},
   "outputs": [],
   "source": [
    "import numpy as np\n",
    "from numpy import log, sqrt, sin, cos, exp, pi, prod\n",
    "from numpy.random import normal, uniform"
   ]
  },
  {
   "cell_type": "code",
   "execution_count": 2,
   "metadata": {
    "scrolled": true
   },
   "outputs": [],
   "source": [
    "import matplotlib as mpl\n",
    "from mpl_toolkits.mplot3d import Axes3D\n",
    "import matplotlib.pyplot as plt"
   ]
  },
  {
   "cell_type": "code",
   "execution_count": 3,
   "metadata": {},
   "outputs": [],
   "source": [
    "import scipy.stats\n",
    "from tqdm import tqdm"
   ]
  },
  {
   "cell_type": "code",
   "execution_count": 4,
   "metadata": {},
   "outputs": [],
   "source": [
    "from tools import HelperTorch\n",
    "from domain import Flower, Polygon, Heart, Cross, Star"
   ]
  },
  {
   "cell_type": "code",
   "execution_count": 5,
   "metadata": {},
   "outputs": [],
   "source": [
    "import torch"
   ]
  },
  {
   "cell_type": "code",
   "execution_count": 6,
   "metadata": {},
   "outputs": [],
   "source": [
    "np.set_printoptions(precision=3)\n",
    "np.set_printoptions(suppress=True)\n",
    "np.random.seed(9)"
   ]
  },
  {
   "cell_type": "code",
   "execution_count": null,
   "metadata": {},
   "outputs": [],
   "source": []
  },
  {
   "cell_type": "code",
   "execution_count": 7,
   "metadata": {},
   "outputs": [],
   "source": [
    "class Sampler:\n",
    "    def __init__(self, myHelper, device='cpu', boundary=None, xinit=None, lr=0.1, T=1.0):\n",
    "        self.lr = lr\n",
    "        self.T = T\n",
    "        self.myHelper = myHelper\n",
    "        self.device = device\n",
    "        self.x = torch.Tensor(xinit).to(self.device)\n",
    "        self.list = torch.empty((2, 0)).to(self.device)\n",
    "    \n",
    "    def reflection(self, prev_beta, beta):\n",
    "        if self.myHelper.inside_domain(beta):\n",
    "            return beta\n",
    "        else:\n",
    "            reflected_points, boundary = self.myHelper.get_reflection(prev_beta, beta)\n",
    "            \"\"\" numerical discretization may fail to reflect in extreme cases \"\"\"\n",
    "            if not self.myHelper.inside_domain(reflected_points):\n",
    "                reflected_points = boundary\n",
    "            \n",
    "            return reflected_points\n",
    "\n",
    "    \n",
    "    def rgld_step(self, iters):  \n",
    "        if self.device.startswith('cuda'):\n",
    "            noise = torch.cuda.FloatTensor(2).normal_().mul(sqrt(2. * self.lr * self.T))\n",
    "        else:\n",
    "            noise = torch.normal(mean=0., std=1., size=[2]) * sqrt(2. * self.lr * self.T)\n",
    "        proposal = self.x - self.lr * self.x + noise\n",
    "        self.x = self.reflection(self.x, proposal)\n",
    "        \n",
    "        if iters % 50 == 0:\n",
    "            self.list = np.concatenate((self.list, \\\n",
    "                                        self.x.reshape(-1, 1)), axis=1)\n"
   ]
  },
  {
   "cell_type": "code",
   "execution_count": 8,
   "metadata": {},
   "outputs": [
    {
     "name": "stdout",
     "output_type": "stream",
     "text": [
      "rm: cannot remove 'results/GIF_figures/flower': No such file or directory\r\n"
     ]
    }
   ],
   "source": [
    "!rm -r results/GIF_figures/flower\n",
    "!mkdir -p results/GIF_figures/flower"
   ]
  },
  {
   "cell_type": "code",
   "execution_count": 9,
   "metadata": {},
   "outputs": [],
   "source": [
    "def plot_MCMC_traj(myDomainClass, myHelper, total_iters=1e5, lr=1e-4, boundary_=1.5, filename='file'):\n",
    "    sampler = Sampler(myHelper, boundary=boundary_, xinit=[0.,0.], lr=lr, T=2)\n",
    "    \n",
    "    domainPoints = myDomainClass.position(np.arange(0, 1, 0.001))\n",
    "    for iters in tqdm(range(int(total_iters))):\n",
    "        sampler.rgld_step(iters)\n",
    "        if iters % 10 == 10-1:\n",
    "            fig = plt.figure(figsize=(4, 4))\n",
    "            progress = f'{(iters+1)/total_iters*100:.2f}%'\n",
    "            plt.plot(sampler.list[0, :], sampler.list[1, :], \\\n",
    "                     linewidth=0.3, marker='.', markersize=3, color='r', label=progress)\n",
    "            \n",
    "            plt.plot(domainPoints[0, :], domainPoints[1, :], color='salmon')\n",
    "            plt.legend(loc=\"upper left\", prop={'size': 10})\n",
    "            plt.xlim([-boundary_, boundary_])\n",
    "            plt.ylim([-boundary_, boundary_])\n",
    "            plt.tight_layout()\n",
    "            plt.axis('off')\n",
    "            print(f'{filename}_{progress}.png')\n",
    "            plt.savefig(f'results/GIF_figures/{filename}/{filename}_{(iters+1)/total_iters:.4f}.png', dpi=50, facecolor='white')\n",
    "            plt.close()\n",
    "            #plt.show()"
   ]
  },
  {
   "cell_type": "code",
   "execution_count": 10,
   "metadata": {},
   "outputs": [],
   "source": [
    "myHelper = HelperTorch(Flower, grid_radius=3e-3, grid_curve=3e-4)\n",
    "myFlower = Flower()"
   ]
  },
  {
   "cell_type": "code",
   "execution_count": null,
   "metadata": {},
   "outputs": [
    {
     "name": "stderr",
     "output_type": "stream",
     "text": [
      "  0%|          | 23/50000 [00:00<07:22, 112.82it/s]"
     ]
    },
    {
     "name": "stdout",
     "output_type": "stream",
     "text": [
      "flower_0.02%.png\n",
      "flower_0.04%.png\n",
      "flower_0.06%.png\n"
     ]
    },
    {
     "name": "stderr",
     "output_type": "stream",
     "text": [
      "  0%|          | 60/50000 [00:00<05:45, 144.60it/s]"
     ]
    },
    {
     "name": "stdout",
     "output_type": "stream",
     "text": [
      "flower_0.08%.png\n",
      "flower_0.10%.png\n",
      "flower_0.12%.png\n",
      "flower_0.14%.png\n"
     ]
    },
    {
     "name": "stderr",
     "output_type": "stream",
     "text": [
      "  0%|          | 100/50000 [00:00<05:22, 154.49it/s]"
     ]
    },
    {
     "name": "stdout",
     "output_type": "stream",
     "text": [
      "flower_0.16%.png\n",
      "flower_0.18%.png\n",
      "flower_0.20%.png\n",
      "flower_0.22%.png\n"
     ]
    },
    {
     "name": "stderr",
     "output_type": "stream",
     "text": [
      "  0%|          | 140/50000 [00:00<06:03, 137.23it/s]"
     ]
    },
    {
     "name": "stdout",
     "output_type": "stream",
     "text": [
      "flower_0.24%.png\n",
      "flower_0.26%.png\n",
      "flower_0.28%.png\n"
     ]
    },
    {
     "name": "stderr",
     "output_type": "stream",
     "text": [
      "  0%|          | 180/50000 [00:01<05:36, 148.18it/s]"
     ]
    },
    {
     "name": "stdout",
     "output_type": "stream",
     "text": [
      "flower_0.30%.png\n",
      "flower_0.32%.png\n",
      "flower_0.34%.png\n",
      "flower_0.36%.png\n"
     ]
    },
    {
     "name": "stderr",
     "output_type": "stream",
     "text": [
      "\r",
      "  0%|          | 200/50000 [00:01<05:13, 158.70it/s]"
     ]
    },
    {
     "name": "stdout",
     "output_type": "stream",
     "text": [
      "flower_0.38%.png\n",
      "flower_0.40%.png\n",
      "flower_0.42%.png\n",
      "flower_0.44%.png\n"
     ]
    },
    {
     "name": "stderr",
     "output_type": "stream",
     "text": [
      "  1%|          | 269/50000 [00:01<04:21, 190.19it/s]"
     ]
    },
    {
     "name": "stdout",
     "output_type": "stream",
     "text": [
      "flower_0.46%.png\n",
      "flower_0.48%.png\n",
      "flower_0.50%.png\n",
      "flower_0.52%.png\n",
      "flower_0.54%.png\n"
     ]
    },
    {
     "name": "stderr",
     "output_type": "stream",
     "text": [
      "\r",
      "  1%|          | 290/50000 [00:01<04:33, 181.45it/s]"
     ]
    },
    {
     "name": "stdout",
     "output_type": "stream",
     "text": [
      "flower_0.56%.png\n",
      "flower_0.58%.png\n",
      "flower_0.60%.png\n"
     ]
    },
    {
     "name": "stderr",
     "output_type": "stream",
     "text": [
      "  1%|          | 330/50000 [00:02<05:23, 153.70it/s]"
     ]
    },
    {
     "name": "stdout",
     "output_type": "stream",
     "text": [
      "flower_0.62%.png\n",
      "flower_0.64%.png\n",
      "flower_0.66%.png\n",
      "flower_0.68%.png\n"
     ]
    },
    {
     "name": "stderr",
     "output_type": "stream",
     "text": [
      "  1%|          | 370/50000 [00:02<05:02, 163.83it/s]"
     ]
    },
    {
     "name": "stdout",
     "output_type": "stream",
     "text": [
      "flower_0.70%.png\n",
      "flower_0.72%.png\n",
      "flower_0.74%.png\n",
      "flower_0.76%.png\n"
     ]
    },
    {
     "name": "stderr",
     "output_type": "stream",
     "text": [
      "  1%|          | 410/50000 [00:02<05:01, 164.23it/s]"
     ]
    },
    {
     "name": "stdout",
     "output_type": "stream",
     "text": [
      "flower_0.78%.png\n",
      "flower_0.80%.png\n",
      "flower_0.82%.png\n",
      "flower_0.84%.png\n"
     ]
    },
    {
     "name": "stderr",
     "output_type": "stream",
     "text": [
      "  1%|          | 450/50000 [00:02<04:55, 167.62it/s]"
     ]
    },
    {
     "name": "stdout",
     "output_type": "stream",
     "text": [
      "flower_0.86%.png\n",
      "flower_0.88%.png\n",
      "flower_0.90%.png\n",
      "flower_0.92%.png\n"
     ]
    },
    {
     "name": "stderr",
     "output_type": "stream",
     "text": [
      "  1%|          | 490/50000 [00:03<04:58, 165.65it/s]"
     ]
    },
    {
     "name": "stdout",
     "output_type": "stream",
     "text": [
      "flower_0.94%.png\n",
      "flower_0.96%.png\n",
      "flower_0.98%.png\n",
      "flower_1.00%.png\n"
     ]
    },
    {
     "name": "stderr",
     "output_type": "stream",
     "text": [
      "  1%|          | 527/50000 [00:03<05:45, 143.01it/s]"
     ]
    },
    {
     "name": "stdout",
     "output_type": "stream",
     "text": [
      "flower_1.02%.png\n",
      "flower_1.04%.png\n",
      "flower_1.06%.png\n"
     ]
    },
    {
     "name": "stderr",
     "output_type": "stream",
     "text": [
      "  1%|          | 560/50000 [00:03<05:43, 144.01it/s]"
     ]
    },
    {
     "name": "stdout",
     "output_type": "stream",
     "text": [
      "flower_1.08%.png\n",
      "flower_1.10%.png\n",
      "flower_1.12%.png\n",
      "flower_1.14%.png\n"
     ]
    },
    {
     "name": "stderr",
     "output_type": "stream",
     "text": [
      "  1%|          | 600/50000 [00:03<05:08, 159.95it/s]"
     ]
    },
    {
     "name": "stdout",
     "output_type": "stream",
     "text": [
      "flower_1.16%.png\n",
      "flower_1.18%.png\n",
      "flower_1.20%.png\n",
      "flower_1.22%.png\n"
     ]
    },
    {
     "name": "stderr",
     "output_type": "stream",
     "text": [
      "  1%|▏         | 640/50000 [00:04<04:55, 167.14it/s]"
     ]
    },
    {
     "name": "stdout",
     "output_type": "stream",
     "text": [
      "flower_1.24%.png\n",
      "flower_1.26%.png\n",
      "flower_1.28%.png\n",
      "flower_1.30%.png\n"
     ]
    },
    {
     "name": "stderr",
     "output_type": "stream",
     "text": [
      "  1%|▏         | 680/50000 [00:04<04:58, 165.21it/s]"
     ]
    },
    {
     "name": "stdout",
     "output_type": "stream",
     "text": [
      "flower_1.32%.png\n",
      "flower_1.34%.png\n",
      "flower_1.36%.png\n",
      "flower_1.38%.png\n"
     ]
    },
    {
     "name": "stderr",
     "output_type": "stream",
     "text": [
      "  1%|▏         | 720/50000 [00:04<05:01, 163.41it/s]"
     ]
    },
    {
     "name": "stdout",
     "output_type": "stream",
     "text": [
      "flower_1.40%.png\n",
      "flower_1.42%.png\n",
      "flower_1.44%.png\n",
      "flower_1.46%.png\n"
     ]
    },
    {
     "name": "stderr",
     "output_type": "stream",
     "text": [
      "  2%|▏         | 760/50000 [00:04<05:03, 162.31it/s]"
     ]
    },
    {
     "name": "stdout",
     "output_type": "stream",
     "text": [
      "flower_1.48%.png\n",
      "flower_1.50%.png\n",
      "flower_1.52%.png\n",
      "flower_1.54%.png\n"
     ]
    },
    {
     "name": "stderr",
     "output_type": "stream",
     "text": [
      "  2%|▏         | 800/50000 [00:05<06:02, 135.72it/s]"
     ]
    },
    {
     "name": "stdout",
     "output_type": "stream",
     "text": [
      "flower_1.56%.png\n",
      "flower_1.58%.png\n",
      "flower_1.60%.png\n",
      "flower_1.62%.png\n"
     ]
    },
    {
     "name": "stderr",
     "output_type": "stream",
     "text": [
      "  2%|▏         | 840/50000 [00:05<05:26, 150.48it/s]"
     ]
    },
    {
     "name": "stdout",
     "output_type": "stream",
     "text": [
      "flower_1.64%.png\n",
      "flower_1.66%.png\n",
      "flower_1.68%.png\n",
      "flower_1.70%.png\n"
     ]
    },
    {
     "name": "stderr",
     "output_type": "stream",
     "text": [
      "  2%|▏         | 880/50000 [00:05<05:08, 159.45it/s]"
     ]
    },
    {
     "name": "stdout",
     "output_type": "stream",
     "text": [
      "flower_1.72%.png\n",
      "flower_1.74%.png\n",
      "flower_1.76%.png\n",
      "flower_1.78%.png\n"
     ]
    },
    {
     "name": "stderr",
     "output_type": "stream",
     "text": [
      "  2%|▏         | 920/50000 [00:05<05:09, 158.49it/s]"
     ]
    },
    {
     "name": "stdout",
     "output_type": "stream",
     "text": [
      "flower_1.80%.png\n",
      "flower_1.82%.png\n",
      "flower_1.84%.png\n",
      "flower_1.86%.png\n"
     ]
    },
    {
     "name": "stderr",
     "output_type": "stream",
     "text": [
      "  2%|▏         | 960/50000 [00:06<05:03, 161.67it/s]"
     ]
    },
    {
     "name": "stdout",
     "output_type": "stream",
     "text": [
      "flower_1.88%.png\n",
      "flower_1.90%.png\n",
      "flower_1.92%.png\n",
      "flower_1.94%.png\n"
     ]
    },
    {
     "name": "stderr",
     "output_type": "stream",
     "text": [
      "  2%|▏         | 1000/50000 [00:06<04:57, 164.63it/s]"
     ]
    },
    {
     "name": "stdout",
     "output_type": "stream",
     "text": [
      "flower_1.96%.png\n",
      "flower_1.98%.png\n",
      "flower_2.00%.png\n",
      "flower_2.02%.png\n"
     ]
    },
    {
     "name": "stderr",
     "output_type": "stream",
     "text": [
      "  2%|▏         | 1040/50000 [00:06<05:02, 161.76it/s]"
     ]
    },
    {
     "name": "stdout",
     "output_type": "stream",
     "text": [
      "flower_2.04%.png\n",
      "flower_2.06%.png\n",
      "flower_2.08%.png\n",
      "flower_2.10%.png\n"
     ]
    },
    {
     "name": "stderr",
     "output_type": "stream",
     "text": [
      "  2%|▏         | 1080/50000 [00:06<04:50, 168.14it/s]"
     ]
    },
    {
     "name": "stdout",
     "output_type": "stream",
     "text": [
      "flower_2.12%.png\n",
      "flower_2.14%.png\n",
      "flower_2.16%.png\n",
      "flower_2.18%.png\n"
     ]
    },
    {
     "name": "stderr",
     "output_type": "stream",
     "text": [
      "\r",
      "  2%|▏         | 1097/50000 [00:07<06:07, 133.03it/s]"
     ]
    },
    {
     "name": "stdout",
     "output_type": "stream",
     "text": [
      "flower_2.20%.png\n"
     ]
    },
    {
     "name": "stderr",
     "output_type": "stream",
     "text": [
      "  2%|▏         | 1130/50000 [00:07<10:15, 79.43it/s] "
     ]
    },
    {
     "name": "stdout",
     "output_type": "stream",
     "text": [
      "flower_2.22%.png\n",
      "flower_2.24%.png\n",
      "flower_2.26%.png\n",
      "flower_2.28%.png\n"
     ]
    },
    {
     "name": "stderr",
     "output_type": "stream",
     "text": [
      "  2%|▏         | 1170/50000 [00:08<07:18, 111.43it/s]"
     ]
    },
    {
     "name": "stdout",
     "output_type": "stream",
     "text": [
      "flower_2.30%.png\n",
      "flower_2.32%.png\n",
      "flower_2.34%.png\n",
      "flower_2.36%.png\n"
     ]
    },
    {
     "name": "stderr",
     "output_type": "stream",
     "text": [
      "  2%|▏         | 1210/50000 [00:08<05:53, 137.98it/s]"
     ]
    },
    {
     "name": "stdout",
     "output_type": "stream",
     "text": [
      "flower_2.38%.png\n",
      "flower_2.40%.png\n",
      "flower_2.42%.png\n",
      "flower_2.44%.png\n"
     ]
    },
    {
     "name": "stderr",
     "output_type": "stream",
     "text": [
      "  2%|▎         | 1250/50000 [00:08<05:28, 148.20it/s]"
     ]
    },
    {
     "name": "stdout",
     "output_type": "stream",
     "text": [
      "flower_2.46%.png\n",
      "flower_2.48%.png\n",
      "flower_2.50%.png\n",
      "flower_2.52%.png\n"
     ]
    },
    {
     "name": "stderr",
     "output_type": "stream",
     "text": [
      "  3%|▎         | 1290/50000 [00:08<05:09, 157.58it/s]"
     ]
    },
    {
     "name": "stdout",
     "output_type": "stream",
     "text": [
      "flower_2.54%.png\n",
      "flower_2.56%.png\n",
      "flower_2.58%.png\n"
     ]
    },
    {
     "name": "stderr",
     "output_type": "stream",
     "text": [
      "  3%|▎         | 1322/50000 [00:09<06:03, 134.01it/s]"
     ]
    },
    {
     "name": "stdout",
     "output_type": "stream",
     "text": [
      "flower_2.60%.png\n",
      "flower_2.62%.png\n",
      "flower_2.64%.png\n"
     ]
    },
    {
     "name": "stderr",
     "output_type": "stream",
     "text": [
      "  3%|▎         | 1360/50000 [00:09<05:21, 151.18it/s]"
     ]
    },
    {
     "name": "stdout",
     "output_type": "stream",
     "text": [
      "flower_2.66%.png\n",
      "flower_2.68%.png\n",
      "flower_2.70%.png\n",
      "flower_2.72%.png\n"
     ]
    },
    {
     "name": "stderr",
     "output_type": "stream",
     "text": [
      "  3%|▎         | 1400/50000 [00:09<04:51, 166.79it/s]"
     ]
    },
    {
     "name": "stdout",
     "output_type": "stream",
     "text": [
      "flower_2.74%.png\n",
      "flower_2.76%.png\n",
      "flower_2.78%.png\n",
      "flower_2.80%.png\n"
     ]
    },
    {
     "name": "stderr",
     "output_type": "stream",
     "text": [
      "  3%|▎         | 1440/50000 [00:09<04:48, 168.25it/s]"
     ]
    },
    {
     "name": "stdout",
     "output_type": "stream",
     "text": [
      "flower_2.82%.png\n",
      "flower_2.84%.png\n",
      "flower_2.86%.png\n",
      "flower_2.88%.png\n"
     ]
    },
    {
     "name": "stderr",
     "output_type": "stream",
     "text": [
      "  3%|▎         | 1480/50000 [00:09<04:46, 169.62it/s]"
     ]
    },
    {
     "name": "stdout",
     "output_type": "stream",
     "text": [
      "flower_2.90%.png\n",
      "flower_2.92%.png\n",
      "flower_2.94%.png\n",
      "flower_2.96%.png\n"
     ]
    },
    {
     "name": "stderr",
     "output_type": "stream",
     "text": [
      "\r",
      "  3%|▎         | 1500/50000 [00:10<04:49, 167.46it/s]"
     ]
    },
    {
     "name": "stdout",
     "output_type": "stream",
     "text": [
      "flower_2.98%.png\n",
      "flower_3.00%.png\n",
      "flower_3.02%.png\n"
     ]
    },
    {
     "name": "stderr",
     "output_type": "stream",
     "text": [
      "  3%|▎         | 1540/50000 [00:10<06:18, 128.10it/s]"
     ]
    },
    {
     "name": "stdout",
     "output_type": "stream",
     "text": [
      "flower_3.04%.png\n",
      "flower_3.06%.png\n",
      "flower_3.08%.png\n",
      "flower_3.10%.png\n"
     ]
    },
    {
     "name": "stderr",
     "output_type": "stream",
     "text": [
      "  3%|▎         | 1580/50000 [00:10<05:33, 145.18it/s]"
     ]
    },
    {
     "name": "stdout",
     "output_type": "stream",
     "text": [
      "flower_3.12%.png\n",
      "flower_3.14%.png\n",
      "flower_3.16%.png\n",
      "flower_3.18%.png\n"
     ]
    },
    {
     "name": "stderr",
     "output_type": "stream",
     "text": [
      "  3%|▎         | 1620/50000 [00:10<05:14, 153.62it/s]"
     ]
    },
    {
     "name": "stdout",
     "output_type": "stream",
     "text": [
      "flower_3.20%.png\n",
      "flower_3.22%.png\n",
      "flower_3.24%.png\n",
      "flower_3.26%.png\n"
     ]
    },
    {
     "name": "stderr",
     "output_type": "stream",
     "text": [
      "  3%|▎         | 1660/50000 [00:11<05:10, 155.70it/s]"
     ]
    },
    {
     "name": "stdout",
     "output_type": "stream",
     "text": [
      "flower_3.28%.png\n",
      "flower_3.30%.png\n",
      "flower_3.32%.png\n",
      "flower_3.34%.png\n"
     ]
    },
    {
     "name": "stderr",
     "output_type": "stream",
     "text": [
      "  3%|▎         | 1700/50000 [00:11<05:03, 159.26it/s]"
     ]
    },
    {
     "name": "stdout",
     "output_type": "stream",
     "text": [
      "flower_3.36%.png\n",
      "flower_3.38%.png\n",
      "flower_3.40%.png\n",
      "flower_3.42%.png\n"
     ]
    },
    {
     "name": "stderr",
     "output_type": "stream",
     "text": [
      "  3%|▎         | 1740/50000 [00:11<04:57, 162.23it/s]"
     ]
    },
    {
     "name": "stdout",
     "output_type": "stream",
     "text": [
      "flower_3.44%.png\n",
      "flower_3.46%.png\n",
      "flower_3.48%.png\n",
      "flower_3.50%.png\n"
     ]
    },
    {
     "name": "stderr",
     "output_type": "stream",
     "text": [
      "  4%|▎         | 1780/50000 [00:11<04:52, 164.73it/s]"
     ]
    },
    {
     "name": "stdout",
     "output_type": "stream",
     "text": [
      "flower_3.52%.png\n",
      "flower_3.54%.png\n",
      "flower_3.56%.png\n",
      "flower_3.58%.png\n"
     ]
    },
    {
     "name": "stderr",
     "output_type": "stream",
     "text": [
      "  4%|▎         | 1820/50000 [00:12<04:47, 167.60it/s]"
     ]
    },
    {
     "name": "stdout",
     "output_type": "stream",
     "text": [
      "flower_3.60%.png\n",
      "flower_3.62%.png\n",
      "flower_3.64%.png\n",
      "flower_3.66%.png\n"
     ]
    },
    {
     "name": "stderr",
     "output_type": "stream",
     "text": [
      "  4%|▎         | 1871/50000 [00:12<05:02, 159.21it/s]"
     ]
    },
    {
     "name": "stdout",
     "output_type": "stream",
     "text": [
      "flower_3.68%.png\n",
      "flower_3.70%.png\n",
      "flower_3.72%.png\n",
      "flower_3.74%.png\n"
     ]
    },
    {
     "name": "stderr",
     "output_type": "stream",
     "text": [
      "  4%|▍         | 1910/50000 [00:12<05:03, 158.28it/s]"
     ]
    },
    {
     "name": "stdout",
     "output_type": "stream",
     "text": [
      "flower_3.76%.png\n",
      "flower_3.78%.png\n",
      "flower_3.80%.png\n",
      "flower_3.82%.png\n"
     ]
    },
    {
     "name": "stderr",
     "output_type": "stream",
     "text": [
      "  4%|▍         | 1950/50000 [00:13<05:03, 158.28it/s]"
     ]
    },
    {
     "name": "stdout",
     "output_type": "stream",
     "text": [
      "flower_3.84%.png\n",
      "flower_3.86%.png\n",
      "flower_3.88%.png\n",
      "flower_3.90%.png\n"
     ]
    },
    {
     "name": "stderr",
     "output_type": "stream",
     "text": [
      "  4%|▍         | 1990/50000 [00:13<04:56, 161.69it/s]"
     ]
    },
    {
     "name": "stdout",
     "output_type": "stream",
     "text": [
      "flower_3.92%.png\n",
      "flower_3.94%.png\n",
      "flower_3.96%.png\n",
      "flower_3.98%.png\n"
     ]
    },
    {
     "name": "stderr",
     "output_type": "stream",
     "text": [
      "\r",
      "  4%|▍         | 2010/50000 [00:13<04:56, 161.98it/s]"
     ]
    },
    {
     "name": "stdout",
     "output_type": "stream",
     "text": [
      "flower_4.00%.png\n",
      "flower_4.02%.png\n"
     ]
    },
    {
     "name": "stderr",
     "output_type": "stream",
     "text": [
      "  4%|▍         | 2041/50000 [00:13<07:01, 113.79it/s]"
     ]
    },
    {
     "name": "stdout",
     "output_type": "stream",
     "text": [
      "flower_4.04%.png\n",
      "flower_4.06%.png\n",
      "flower_4.08%.png\n"
     ]
    },
    {
     "name": "stderr",
     "output_type": "stream",
     "text": [
      "  4%|▍         | 2070/50000 [00:14<08:41, 91.89it/s] "
     ]
    },
    {
     "name": "stdout",
     "output_type": "stream",
     "text": [
      "flower_4.10%.png\n",
      "flower_4.12%.png\n",
      "flower_4.14%.png\n"
     ]
    },
    {
     "name": "stderr",
     "output_type": "stream",
     "text": [
      "  4%|▍         | 2110/50000 [00:14<06:20, 125.91it/s]"
     ]
    },
    {
     "name": "stdout",
     "output_type": "stream",
     "text": [
      "flower_4.16%.png\n",
      "flower_4.18%.png\n",
      "flower_4.20%.png\n",
      "flower_4.22%.png\n"
     ]
    },
    {
     "name": "stderr",
     "output_type": "stream",
     "text": [
      "  4%|▍         | 2150/50000 [00:14<05:35, 142.65it/s]"
     ]
    },
    {
     "name": "stdout",
     "output_type": "stream",
     "text": [
      "flower_4.24%.png\n",
      "flower_4.26%.png\n",
      "flower_4.28%.png\n",
      "flower_4.30%.png\n"
     ]
    },
    {
     "name": "stderr",
     "output_type": "stream",
     "text": [
      "\r",
      "  4%|▍         | 2170/50000 [00:14<05:27, 146.22it/s]"
     ]
    },
    {
     "name": "stdout",
     "output_type": "stream",
     "text": [
      "flower_4.32%.png\n",
      "flower_4.34%.png\n",
      "flower_4.36%.png\n"
     ]
    },
    {
     "name": "stderr",
     "output_type": "stream",
     "text": [
      "  4%|▍         | 2201/50000 [00:15<06:49, 116.87it/s]"
     ]
    },
    {
     "name": "stdout",
     "output_type": "stream",
     "text": [
      "flower_4.38%.png\n",
      "flower_4.40%.png\n"
     ]
    },
    {
     "name": "stderr",
     "output_type": "stream",
     "text": [
      "  4%|▍         | 2230/50000 [00:15<06:29, 122.51it/s]"
     ]
    },
    {
     "name": "stdout",
     "output_type": "stream",
     "text": [
      "flower_4.42%.png\n",
      "flower_4.44%.png\n",
      "flower_4.46%.png\n"
     ]
    },
    {
     "name": "stderr",
     "output_type": "stream",
     "text": [
      "  5%|▍         | 2255/50000 [00:15<09:57, 79.92it/s] "
     ]
    },
    {
     "name": "stdout",
     "output_type": "stream",
     "text": [
      "flower_4.48%.png\n",
      "flower_4.50%.png\n"
     ]
    },
    {
     "name": "stderr",
     "output_type": "stream",
     "text": [
      "  5%|▍         | 2277/50000 [00:16<09:31, 83.54it/s]"
     ]
    },
    {
     "name": "stdout",
     "output_type": "stream",
     "text": [
      "flower_4.52%.png\n",
      "flower_4.54%.png\n"
     ]
    },
    {
     "name": "stderr",
     "output_type": "stream",
     "text": [
      "  5%|▍         | 2306/50000 [00:16<07:39, 103.78it/s]"
     ]
    },
    {
     "name": "stdout",
     "output_type": "stream",
     "text": [
      "flower_4.56%.png\n",
      "flower_4.58%.png\n",
      "flower_4.60%.png\n"
     ]
    },
    {
     "name": "stderr",
     "output_type": "stream",
     "text": [
      "  5%|▍         | 2331/50000 [00:16<08:15, 96.15it/s] "
     ]
    },
    {
     "name": "stdout",
     "output_type": "stream",
     "text": [
      "flower_4.62%.png\n",
      "flower_4.64%.png\n",
      "flower_4.66%.png\n"
     ]
    },
    {
     "name": "stderr",
     "output_type": "stream",
     "text": [
      "  5%|▍         | 2360/50000 [00:16<07:10, 110.60it/s]"
     ]
    },
    {
     "name": "stdout",
     "output_type": "stream",
     "text": [
      "flower_4.68%.png\n",
      "flower_4.70%.png\n",
      "flower_4.72%.png\n"
     ]
    },
    {
     "name": "stderr",
     "output_type": "stream",
     "text": [
      "  5%|▍         | 2390/50000 [00:17<06:48, 116.62it/s]"
     ]
    },
    {
     "name": "stdout",
     "output_type": "stream",
     "text": [
      "flower_4.74%.png\n",
      "flower_4.76%.png\n",
      "flower_4.78%.png\n"
     ]
    },
    {
     "name": "stderr",
     "output_type": "stream",
     "text": [
      "  5%|▍         | 2420/50000 [00:17<06:28, 122.52it/s]"
     ]
    },
    {
     "name": "stdout",
     "output_type": "stream",
     "text": [
      "flower_4.80%.png\n",
      "flower_4.82%.png\n",
      "flower_4.84%.png\n"
     ]
    },
    {
     "name": "stderr",
     "output_type": "stream",
     "text": [
      "  5%|▍         | 2460/50000 [00:17<05:32, 142.80it/s]"
     ]
    },
    {
     "name": "stdout",
     "output_type": "stream",
     "text": [
      "flower_4.86%.png\n",
      "flower_4.88%.png\n",
      "flower_4.90%.png\n",
      "flower_4.92%.png\n"
     ]
    },
    {
     "name": "stderr",
     "output_type": "stream",
     "text": [
      "  5%|▌         | 2500/50000 [00:17<04:51, 162.85it/s]"
     ]
    },
    {
     "name": "stdout",
     "output_type": "stream",
     "text": [
      "flower_4.94%.png\n",
      "flower_4.96%.png\n",
      "flower_4.98%.png\n",
      "flower_5.00%.png\n"
     ]
    },
    {
     "name": "stderr",
     "output_type": "stream",
     "text": [
      "  5%|▌         | 2540/50000 [00:17<04:49, 164.10it/s]"
     ]
    },
    {
     "name": "stdout",
     "output_type": "stream",
     "text": [
      "flower_5.02%.png\n",
      "flower_5.04%.png\n",
      "flower_5.06%.png\n",
      "flower_5.08%.png\n"
     ]
    },
    {
     "name": "stderr",
     "output_type": "stream",
     "text": [
      "  5%|▌         | 2580/50000 [00:18<04:43, 167.24it/s]"
     ]
    },
    {
     "name": "stdout",
     "output_type": "stream",
     "text": [
      "flower_5.10%.png\n",
      "flower_5.12%.png\n",
      "flower_5.14%.png\n",
      "flower_5.16%.png\n"
     ]
    },
    {
     "name": "stderr",
     "output_type": "stream",
     "text": [
      "  5%|▌         | 2620/50000 [00:18<04:46, 165.37it/s]"
     ]
    },
    {
     "name": "stdout",
     "output_type": "stream",
     "text": [
      "flower_5.18%.png\n",
      "flower_5.20%.png\n",
      "flower_5.22%.png\n",
      "flower_5.24%.png\n"
     ]
    },
    {
     "name": "stderr",
     "output_type": "stream",
     "text": [
      "\r",
      "  5%|▌         | 2640/50000 [00:18<04:42, 167.85it/s]"
     ]
    },
    {
     "name": "stdout",
     "output_type": "stream",
     "text": [
      "flower_5.26%.png\n",
      "flower_5.28%.png\n"
     ]
    },
    {
     "name": "stderr",
     "output_type": "stream",
     "text": [
      "  5%|▌         | 2671/50000 [00:19<07:31, 104.74it/s]"
     ]
    },
    {
     "name": "stdout",
     "output_type": "stream",
     "text": [
      "flower_5.30%.png\n",
      "flower_5.32%.png\n",
      "flower_5.34%.png\n",
      "flower_5.36%.png\n"
     ]
    },
    {
     "name": "stderr",
     "output_type": "stream",
     "text": [
      "  5%|▌         | 2710/50000 [00:19<05:59, 131.47it/s]"
     ]
    },
    {
     "name": "stdout",
     "output_type": "stream",
     "text": [
      "flower_5.38%.png\n",
      "flower_5.40%.png\n",
      "flower_5.42%.png\n",
      "flower_5.44%.png\n"
     ]
    },
    {
     "name": "stderr",
     "output_type": "stream",
     "text": [
      "  6%|▌         | 2750/50000 [00:19<05:23, 145.99it/s]"
     ]
    },
    {
     "name": "stdout",
     "output_type": "stream",
     "text": [
      "flower_5.46%.png\n",
      "flower_5.48%.png\n",
      "flower_5.50%.png\n",
      "flower_5.52%.png\n"
     ]
    },
    {
     "name": "stderr",
     "output_type": "stream",
     "text": [
      "  6%|▌         | 2790/50000 [00:19<05:03, 155.61it/s]"
     ]
    },
    {
     "name": "stdout",
     "output_type": "stream",
     "text": [
      "flower_5.54%.png\n",
      "flower_5.56%.png\n",
      "flower_5.58%.png\n",
      "flower_5.60%.png\n"
     ]
    },
    {
     "name": "stderr",
     "output_type": "stream",
     "text": [
      "  6%|▌         | 2830/50000 [00:20<04:52, 161.50it/s]"
     ]
    },
    {
     "name": "stdout",
     "output_type": "stream",
     "text": [
      "flower_5.62%.png\n",
      "flower_5.64%.png\n",
      "flower_5.66%.png\n",
      "flower_5.68%.png\n"
     ]
    },
    {
     "name": "stderr",
     "output_type": "stream",
     "text": [
      "  6%|▌         | 2870/50000 [00:20<04:57, 158.65it/s]"
     ]
    },
    {
     "name": "stdout",
     "output_type": "stream",
     "text": [
      "flower_5.70%.png\n",
      "flower_5.72%.png\n",
      "flower_5.74%.png\n",
      "flower_5.76%.png\n"
     ]
    },
    {
     "name": "stderr",
     "output_type": "stream",
     "text": [
      "  6%|▌         | 2910/50000 [00:20<04:49, 162.61it/s]"
     ]
    },
    {
     "name": "stdout",
     "output_type": "stream",
     "text": [
      "flower_5.78%.png\n",
      "flower_5.80%.png\n",
      "flower_5.82%.png\n",
      "flower_5.84%.png\n"
     ]
    },
    {
     "name": "stderr",
     "output_type": "stream",
     "text": [
      "  6%|▌         | 2950/50000 [00:20<04:38, 168.86it/s]"
     ]
    },
    {
     "name": "stdout",
     "output_type": "stream",
     "text": [
      "flower_5.86%.png\n",
      "flower_5.88%.png\n",
      "flower_5.90%.png\n"
     ]
    },
    {
     "name": "stderr",
     "output_type": "stream",
     "text": [
      "  6%|▌         | 2983/50000 [00:21<06:14, 125.42it/s]"
     ]
    },
    {
     "name": "stdout",
     "output_type": "stream",
     "text": [
      "flower_5.92%.png\n",
      "flower_5.94%.png\n",
      "flower_5.96%.png\n"
     ]
    },
    {
     "name": "stderr",
     "output_type": "stream",
     "text": [
      "  6%|▌         | 3020/50000 [00:21<05:37, 139.29it/s]"
     ]
    },
    {
     "name": "stdout",
     "output_type": "stream",
     "text": [
      "flower_5.98%.png\n",
      "flower_6.00%.png\n",
      "flower_6.02%.png\n",
      "flower_6.04%.png\n"
     ]
    },
    {
     "name": "stderr",
     "output_type": "stream",
     "text": [
      "  6%|▌         | 3060/50000 [00:21<05:13, 149.61it/s]"
     ]
    },
    {
     "name": "stdout",
     "output_type": "stream",
     "text": [
      "flower_6.06%.png\n",
      "flower_6.08%.png\n",
      "flower_6.10%.png\n",
      "flower_6.12%.png\n"
     ]
    },
    {
     "name": "stderr",
     "output_type": "stream",
     "text": [
      "  6%|▌         | 3100/50000 [00:21<04:58, 157.05it/s]"
     ]
    },
    {
     "name": "stdout",
     "output_type": "stream",
     "text": [
      "flower_6.14%.png\n",
      "flower_6.16%.png\n",
      "flower_6.18%.png\n",
      "flower_6.20%.png\n"
     ]
    },
    {
     "name": "stderr",
     "output_type": "stream",
     "text": [
      "  6%|▋         | 3140/50000 [00:22<04:55, 158.56it/s]"
     ]
    },
    {
     "name": "stdout",
     "output_type": "stream",
     "text": [
      "flower_6.22%.png\n",
      "flower_6.24%.png\n",
      "flower_6.26%.png\n",
      "flower_6.28%.png\n"
     ]
    },
    {
     "name": "stderr",
     "output_type": "stream",
     "text": [
      "  6%|▋         | 3180/50000 [00:22<04:44, 164.77it/s]"
     ]
    },
    {
     "name": "stdout",
     "output_type": "stream",
     "text": [
      "flower_6.30%.png\n",
      "flower_6.32%.png\n",
      "flower_6.34%.png\n",
      "flower_6.36%.png\n"
     ]
    },
    {
     "name": "stderr",
     "output_type": "stream",
     "text": [
      "  6%|▋         | 3220/50000 [00:22<04:34, 170.28it/s]"
     ]
    },
    {
     "name": "stdout",
     "output_type": "stream",
     "text": [
      "flower_6.38%.png\n",
      "flower_6.40%.png\n",
      "flower_6.42%.png\n",
      "flower_6.44%.png\n"
     ]
    },
    {
     "name": "stderr",
     "output_type": "stream",
     "text": [
      "  7%|▋         | 3260/50000 [00:22<04:40, 166.45it/s]"
     ]
    },
    {
     "name": "stdout",
     "output_type": "stream",
     "text": [
      "flower_6.46%.png\n",
      "flower_6.48%.png\n",
      "flower_6.50%.png\n",
      "flower_6.52%.png\n"
     ]
    },
    {
     "name": "stderr",
     "output_type": "stream",
     "text": [
      "  7%|▋         | 3300/50000 [00:23<04:34, 170.23it/s]"
     ]
    },
    {
     "name": "stdout",
     "output_type": "stream",
     "text": [
      "flower_6.54%.png\n",
      "flower_6.56%.png\n",
      "flower_6.58%.png\n",
      "flower_6.60%.png\n"
     ]
    },
    {
     "name": "stderr",
     "output_type": "stream",
     "text": [
      "  7%|▋         | 3340/50000 [00:23<04:34, 170.17it/s]"
     ]
    },
    {
     "name": "stdout",
     "output_type": "stream",
     "text": [
      "flower_6.62%.png\n",
      "flower_6.64%.png\n",
      "flower_6.66%.png\n",
      "flower_6.68%.png\n"
     ]
    },
    {
     "name": "stderr",
     "output_type": "stream",
     "text": [
      "  7%|▋         | 3380/50000 [00:23<04:40, 166.44it/s]"
     ]
    },
    {
     "name": "stdout",
     "output_type": "stream",
     "text": [
      "flower_6.70%.png\n",
      "flower_6.72%.png\n",
      "flower_6.74%.png\n",
      "flower_6.76%.png\n"
     ]
    },
    {
     "name": "stderr",
     "output_type": "stream",
     "text": [
      "  7%|▋         | 3420/50000 [00:23<04:40, 165.83it/s]"
     ]
    },
    {
     "name": "stdout",
     "output_type": "stream",
     "text": [
      "flower_6.78%.png\n",
      "flower_6.80%.png\n",
      "flower_6.82%.png\n",
      "flower_6.84%.png\n"
     ]
    },
    {
     "name": "stderr",
     "output_type": "stream",
     "text": [
      "  7%|▋         | 3450/50000 [00:24<07:59, 97.14it/s] "
     ]
    },
    {
     "name": "stdout",
     "output_type": "stream",
     "text": [
      "flower_6.86%.png\n",
      "flower_6.88%.png\n",
      "flower_6.90%.png\n",
      "flower_6.92%.png\n"
     ]
    },
    {
     "name": "stderr",
     "output_type": "stream",
     "text": [
      "  7%|▋         | 3490/50000 [00:24<06:08, 126.19it/s]"
     ]
    },
    {
     "name": "stdout",
     "output_type": "stream",
     "text": [
      "flower_6.94%.png\n",
      "flower_6.96%.png\n",
      "flower_6.98%.png\n",
      "flower_7.00%.png\n"
     ]
    },
    {
     "name": "stderr",
     "output_type": "stream",
     "text": [
      "  7%|▋         | 3530/50000 [00:24<05:14, 147.56it/s]"
     ]
    },
    {
     "name": "stdout",
     "output_type": "stream",
     "text": [
      "flower_7.02%.png\n",
      "flower_7.04%.png\n",
      "flower_7.06%.png\n",
      "flower_7.08%.png\n"
     ]
    },
    {
     "name": "stderr",
     "output_type": "stream",
     "text": [
      "  7%|▋         | 3570/50000 [00:24<04:58, 155.65it/s]"
     ]
    },
    {
     "name": "stdout",
     "output_type": "stream",
     "text": [
      "flower_7.10%.png\n",
      "flower_7.12%.png\n",
      "flower_7.14%.png\n",
      "flower_7.16%.png\n"
     ]
    },
    {
     "name": "stderr",
     "output_type": "stream",
     "text": [
      "  7%|▋         | 3610/50000 [00:25<04:50, 159.87it/s]"
     ]
    },
    {
     "name": "stdout",
     "output_type": "stream",
     "text": [
      "flower_7.18%.png\n",
      "flower_7.20%.png\n",
      "flower_7.22%.png\n",
      "flower_7.24%.png\n"
     ]
    },
    {
     "name": "stderr",
     "output_type": "stream",
     "text": [
      "  7%|▋         | 3650/50000 [00:25<04:33, 169.72it/s]"
     ]
    },
    {
     "name": "stdout",
     "output_type": "stream",
     "text": [
      "flower_7.26%.png\n",
      "flower_7.28%.png\n",
      "flower_7.30%.png\n",
      "flower_7.32%.png\n"
     ]
    },
    {
     "name": "stderr",
     "output_type": "stream",
     "text": [
      "  7%|▋         | 3690/50000 [00:25<04:31, 170.53it/s]"
     ]
    },
    {
     "name": "stdout",
     "output_type": "stream",
     "text": [
      "flower_7.34%.png\n",
      "flower_7.36%.png\n",
      "flower_7.38%.png\n",
      "flower_7.40%.png\n"
     ]
    },
    {
     "name": "stderr",
     "output_type": "stream",
     "text": [
      "  7%|▋         | 3730/50000 [00:25<04:31, 170.28it/s]"
     ]
    },
    {
     "name": "stdout",
     "output_type": "stream",
     "text": [
      "flower_7.42%.png\n",
      "flower_7.44%.png\n",
      "flower_7.46%.png\n",
      "flower_7.48%.png\n"
     ]
    },
    {
     "name": "stderr",
     "output_type": "stream",
     "text": [
      "  8%|▊         | 3770/50000 [00:26<04:31, 170.43it/s]"
     ]
    },
    {
     "name": "stdout",
     "output_type": "stream",
     "text": [
      "flower_7.50%.png\n",
      "flower_7.52%.png\n",
      "flower_7.54%.png\n",
      "flower_7.56%.png\n"
     ]
    },
    {
     "name": "stderr",
     "output_type": "stream",
     "text": [
      "  8%|▊         | 3810/50000 [00:26<04:31, 170.21it/s]"
     ]
    },
    {
     "name": "stdout",
     "output_type": "stream",
     "text": [
      "flower_7.58%.png\n",
      "flower_7.60%.png\n",
      "flower_7.62%.png\n",
      "flower_7.64%.png\n"
     ]
    },
    {
     "name": "stderr",
     "output_type": "stream",
     "text": [
      "  8%|▊         | 3850/50000 [00:26<04:33, 169.01it/s]"
     ]
    },
    {
     "name": "stdout",
     "output_type": "stream",
     "text": [
      "flower_7.66%.png\n",
      "flower_7.68%.png\n",
      "flower_7.70%.png\n",
      "flower_7.72%.png\n"
     ]
    },
    {
     "name": "stderr",
     "output_type": "stream",
     "text": [
      "  8%|▊         | 3890/50000 [00:26<04:32, 169.03it/s]"
     ]
    },
    {
     "name": "stdout",
     "output_type": "stream",
     "text": [
      "flower_7.74%.png\n",
      "flower_7.76%.png\n",
      "flower_7.78%.png\n",
      "flower_7.80%.png\n"
     ]
    },
    {
     "name": "stderr",
     "output_type": "stream",
     "text": [
      "  8%|▊         | 3930/50000 [00:27<04:35, 167.41it/s]"
     ]
    },
    {
     "name": "stdout",
     "output_type": "stream",
     "text": [
      "flower_7.82%.png\n",
      "flower_7.84%.png\n",
      "flower_7.86%.png\n",
      "flower_7.88%.png\n"
     ]
    },
    {
     "name": "stderr",
     "output_type": "stream",
     "text": [
      "  8%|▊         | 3970/50000 [00:27<04:25, 173.27it/s]"
     ]
    },
    {
     "name": "stdout",
     "output_type": "stream",
     "text": [
      "flower_7.90%.png\n",
      "flower_7.92%.png\n",
      "flower_7.94%.png\n",
      "flower_7.96%.png\n"
     ]
    },
    {
     "name": "stderr",
     "output_type": "stream",
     "text": [
      "  8%|▊         | 4010/50000 [00:27<04:33, 168.26it/s]"
     ]
    },
    {
     "name": "stdout",
     "output_type": "stream",
     "text": [
      "flower_7.98%.png\n",
      "flower_8.00%.png\n",
      "flower_8.02%.png\n",
      "flower_8.04%.png\n"
     ]
    },
    {
     "name": "stderr",
     "output_type": "stream",
     "text": [
      "  8%|▊         | 4050/50000 [00:27<04:33, 167.73it/s]"
     ]
    },
    {
     "name": "stdout",
     "output_type": "stream",
     "text": [
      "flower_8.06%.png\n",
      "flower_8.08%.png\n",
      "flower_8.10%.png\n",
      "flower_8.12%.png\n"
     ]
    },
    {
     "name": "stderr",
     "output_type": "stream",
     "text": [
      "  8%|▊         | 4090/50000 [00:28<04:34, 167.05it/s]"
     ]
    },
    {
     "name": "stdout",
     "output_type": "stream",
     "text": [
      "flower_8.14%.png\n",
      "flower_8.16%.png\n",
      "flower_8.18%.png\n",
      "flower_8.20%.png\n"
     ]
    },
    {
     "name": "stderr",
     "output_type": "stream",
     "text": [
      "  8%|▊         | 4130/50000 [00:28<04:38, 164.75it/s]"
     ]
    },
    {
     "name": "stdout",
     "output_type": "stream",
     "text": [
      "flower_8.22%.png\n",
      "flower_8.24%.png\n",
      "flower_8.26%.png\n",
      "flower_8.28%.png\n"
     ]
    },
    {
     "name": "stderr",
     "output_type": "stream",
     "text": [
      "  8%|▊         | 4170/50000 [00:28<04:35, 166.54it/s]"
     ]
    },
    {
     "name": "stdout",
     "output_type": "stream",
     "text": [
      "flower_8.30%.png\n",
      "flower_8.32%.png\n",
      "flower_8.34%.png\n",
      "flower_8.36%.png\n"
     ]
    },
    {
     "name": "stderr",
     "output_type": "stream",
     "text": [
      "  8%|▊         | 4210/50000 [00:28<04:25, 172.37it/s]"
     ]
    },
    {
     "name": "stdout",
     "output_type": "stream",
     "text": [
      "flower_8.38%.png\n",
      "flower_8.40%.png\n",
      "flower_8.42%.png\n",
      "flower_8.44%.png\n"
     ]
    },
    {
     "name": "stderr",
     "output_type": "stream",
     "text": [
      "  8%|▊         | 4250/50000 [00:29<04:34, 166.39it/s]"
     ]
    },
    {
     "name": "stdout",
     "output_type": "stream",
     "text": [
      "flower_8.46%.png\n",
      "flower_8.48%.png\n",
      "flower_8.50%.png\n",
      "flower_8.52%.png\n"
     ]
    },
    {
     "name": "stderr",
     "output_type": "stream",
     "text": [
      "  9%|▊         | 4290/50000 [00:29<04:43, 160.98it/s]"
     ]
    },
    {
     "name": "stdout",
     "output_type": "stream",
     "text": [
      "flower_8.54%.png\n",
      "flower_8.56%.png\n",
      "flower_8.58%.png\n",
      "flower_8.60%.png\n"
     ]
    },
    {
     "name": "stderr",
     "output_type": "stream",
     "text": [
      "  9%|▊         | 4330/50000 [00:29<04:41, 162.01it/s]"
     ]
    },
    {
     "name": "stdout",
     "output_type": "stream",
     "text": [
      "flower_8.62%.png\n",
      "flower_8.64%.png\n",
      "flower_8.66%.png\n",
      "flower_8.68%.png\n"
     ]
    },
    {
     "name": "stderr",
     "output_type": "stream",
     "text": [
      "  9%|▊         | 4370/50000 [00:29<04:28, 169.80it/s]"
     ]
    },
    {
     "name": "stdout",
     "output_type": "stream",
     "text": [
      "flower_8.70%.png\n",
      "flower_8.72%.png\n",
      "flower_8.74%.png\n",
      "flower_8.76%.png\n"
     ]
    },
    {
     "name": "stderr",
     "output_type": "stream",
     "text": [
      "\r",
      "  9%|▉         | 4390/50000 [00:29<04:37, 164.52it/s]"
     ]
    },
    {
     "name": "stdout",
     "output_type": "stream",
     "text": [
      "flower_8.78%.png\n"
     ]
    },
    {
     "name": "stderr",
     "output_type": "stream",
     "text": [
      "  9%|▉         | 4420/50000 [00:30<08:50, 85.86it/s] "
     ]
    },
    {
     "name": "stdout",
     "output_type": "stream",
     "text": [
      "flower_8.80%.png\n",
      "flower_8.82%.png\n",
      "flower_8.84%.png\n",
      "flower_8.86%.png\n"
     ]
    },
    {
     "name": "stderr",
     "output_type": "stream",
     "text": [
      "  9%|▉         | 4460/50000 [00:30<06:31, 116.37it/s]"
     ]
    },
    {
     "name": "stdout",
     "output_type": "stream",
     "text": [
      "flower_8.88%.png\n",
      "flower_8.90%.png\n",
      "flower_8.92%.png\n",
      "flower_8.94%.png\n"
     ]
    },
    {
     "name": "stderr",
     "output_type": "stream",
     "text": [
      "  9%|▉         | 4500/50000 [00:30<05:31, 137.34it/s]"
     ]
    },
    {
     "name": "stdout",
     "output_type": "stream",
     "text": [
      "flower_8.96%.png\n",
      "flower_8.98%.png\n",
      "flower_9.00%.png\n",
      "flower_9.02%.png\n"
     ]
    },
    {
     "name": "stderr",
     "output_type": "stream",
     "text": [
      "  9%|▉         | 4540/50000 [00:31<05:02, 150.20it/s]"
     ]
    },
    {
     "name": "stdout",
     "output_type": "stream",
     "text": [
      "flower_9.04%.png\n",
      "flower_9.06%.png\n",
      "flower_9.08%.png\n",
      "flower_9.10%.png\n"
     ]
    },
    {
     "name": "stderr",
     "output_type": "stream",
     "text": [
      "  9%|▉         | 4580/50000 [00:31<04:49, 157.05it/s]"
     ]
    },
    {
     "name": "stdout",
     "output_type": "stream",
     "text": [
      "flower_9.12%.png\n",
      "flower_9.14%.png\n",
      "flower_9.16%.png\n",
      "flower_9.18%.png\n"
     ]
    },
    {
     "name": "stderr",
     "output_type": "stream",
     "text": [
      "  9%|▉         | 4620/50000 [00:31<04:35, 164.57it/s]"
     ]
    },
    {
     "name": "stdout",
     "output_type": "stream",
     "text": [
      "flower_9.20%.png\n",
      "flower_9.22%.png\n",
      "flower_9.24%.png\n",
      "flower_9.26%.png\n"
     ]
    },
    {
     "name": "stderr",
     "output_type": "stream",
     "text": [
      "  9%|▉         | 4660/50000 [00:31<04:31, 166.99it/s]"
     ]
    },
    {
     "name": "stdout",
     "output_type": "stream",
     "text": [
      "flower_9.28%.png\n",
      "flower_9.30%.png\n",
      "flower_9.32%.png\n",
      "flower_9.34%.png\n"
     ]
    },
    {
     "name": "stderr",
     "output_type": "stream",
     "text": [
      "  9%|▉         | 4699/50000 [00:32<04:16, 176.82it/s]"
     ]
    },
    {
     "name": "stdout",
     "output_type": "stream",
     "text": [
      "flower_9.36%.png\n",
      "flower_9.38%.png\n",
      "flower_9.40%.png\n",
      "flower_9.42%.png\n"
     ]
    },
    {
     "name": "stderr",
     "output_type": "stream",
     "text": [
      " 10%|▉         | 4752/50000 [00:32<04:42, 160.02it/s]"
     ]
    },
    {
     "name": "stdout",
     "output_type": "stream",
     "text": [
      "flower_9.44%.png\n",
      "flower_9.46%.png\n",
      "flower_9.48%.png\n",
      "flower_9.50%.png\n"
     ]
    },
    {
     "name": "stderr",
     "output_type": "stream",
     "text": [
      " 10%|▉         | 4790/50000 [00:32<04:37, 163.01it/s]"
     ]
    },
    {
     "name": "stdout",
     "output_type": "stream",
     "text": [
      "flower_9.52%.png\n",
      "flower_9.54%.png\n",
      "flower_9.56%.png\n",
      "flower_9.58%.png\n"
     ]
    },
    {
     "name": "stderr",
     "output_type": "stream",
     "text": [
      " 10%|▉         | 4830/50000 [00:32<04:19, 174.17it/s]"
     ]
    },
    {
     "name": "stdout",
     "output_type": "stream",
     "text": [
      "flower_9.60%.png\n",
      "flower_9.62%.png\n",
      "flower_9.64%.png\n",
      "flower_9.66%.png\n"
     ]
    },
    {
     "name": "stderr",
     "output_type": "stream",
     "text": [
      " 10%|▉         | 4870/50000 [00:33<04:08, 181.35it/s]"
     ]
    },
    {
     "name": "stdout",
     "output_type": "stream",
     "text": [
      "flower_9.68%.png\n",
      "flower_9.70%.png\n",
      "flower_9.72%.png\n",
      "flower_9.74%.png\n"
     ]
    },
    {
     "name": "stderr",
     "output_type": "stream",
     "text": [
      " 10%|▉         | 4910/50000 [00:33<04:21, 172.54it/s]"
     ]
    },
    {
     "name": "stdout",
     "output_type": "stream",
     "text": [
      "flower_9.76%.png\n",
      "flower_9.78%.png\n",
      "flower_9.80%.png\n",
      "flower_9.82%.png\n"
     ]
    },
    {
     "name": "stderr",
     "output_type": "stream",
     "text": [
      " 10%|▉         | 4950/50000 [00:33<04:25, 169.95it/s]"
     ]
    },
    {
     "name": "stdout",
     "output_type": "stream",
     "text": [
      "flower_9.84%.png\n",
      "flower_9.86%.png\n",
      "flower_9.88%.png\n",
      "flower_9.90%.png\n"
     ]
    },
    {
     "name": "stderr",
     "output_type": "stream",
     "text": [
      " 10%|▉         | 4990/50000 [00:33<04:22, 171.75it/s]"
     ]
    },
    {
     "name": "stdout",
     "output_type": "stream",
     "text": [
      "flower_9.92%.png\n",
      "flower_9.94%.png\n",
      "flower_9.96%.png\n",
      "flower_9.98%.png\n"
     ]
    },
    {
     "name": "stderr",
     "output_type": "stream",
     "text": [
      " 10%|█         | 5030/50000 [00:34<04:27, 167.94it/s]"
     ]
    },
    {
     "name": "stdout",
     "output_type": "stream",
     "text": [
      "flower_10.00%.png\n",
      "flower_10.02%.png\n",
      "flower_10.04%.png\n",
      "flower_10.06%.png\n"
     ]
    },
    {
     "name": "stderr",
     "output_type": "stream",
     "text": [
      " 10%|█         | 5070/50000 [00:34<04:30, 165.90it/s]"
     ]
    },
    {
     "name": "stdout",
     "output_type": "stream",
     "text": [
      "flower_10.08%.png\n",
      "flower_10.10%.png\n",
      "flower_10.12%.png\n",
      "flower_10.14%.png\n"
     ]
    },
    {
     "name": "stderr",
     "output_type": "stream",
     "text": [
      " 10%|█         | 5110/50000 [00:34<04:32, 164.82it/s]"
     ]
    },
    {
     "name": "stdout",
     "output_type": "stream",
     "text": [
      "flower_10.16%.png\n",
      "flower_10.18%.png\n",
      "flower_10.20%.png\n",
      "flower_10.22%.png\n"
     ]
    },
    {
     "name": "stderr",
     "output_type": "stream",
     "text": [
      " 10%|█         | 5150/50000 [00:34<04:33, 163.94it/s]"
     ]
    },
    {
     "name": "stdout",
     "output_type": "stream",
     "text": [
      "flower_10.24%.png\n",
      "flower_10.26%.png\n",
      "flower_10.28%.png\n",
      "flower_10.30%.png\n"
     ]
    },
    {
     "name": "stderr",
     "output_type": "stream",
     "text": [
      " 10%|█         | 5190/50000 [00:35<04:29, 166.14it/s]"
     ]
    },
    {
     "name": "stdout",
     "output_type": "stream",
     "text": [
      "flower_10.32%.png\n",
      "flower_10.34%.png\n",
      "flower_10.36%.png\n",
      "flower_10.38%.png\n"
     ]
    },
    {
     "name": "stderr",
     "output_type": "stream",
     "text": [
      " 10%|█         | 5230/50000 [00:35<04:35, 162.70it/s]"
     ]
    },
    {
     "name": "stdout",
     "output_type": "stream",
     "text": [
      "flower_10.40%.png\n",
      "flower_10.42%.png\n",
      "flower_10.44%.png\n",
      "flower_10.46%.png\n"
     ]
    },
    {
     "name": "stderr",
     "output_type": "stream",
     "text": [
      "\r",
      " 10%|█         | 5250/50000 [00:35<04:28, 166.67it/s]"
     ]
    },
    {
     "name": "stdout",
     "output_type": "stream",
     "text": [
      "flower_10.48%.png\n",
      "flower_10.50%.png\n",
      "flower_10.52%.png\n",
      "flower_10.54%.png\n"
     ]
    },
    {
     "name": "stderr",
     "output_type": "stream",
     "text": [
      " 11%|█         | 5310/50000 [00:35<04:28, 166.31it/s]"
     ]
    },
    {
     "name": "stdout",
     "output_type": "stream",
     "text": [
      "flower_10.56%.png\n",
      "flower_10.58%.png\n",
      "flower_10.60%.png\n",
      "flower_10.62%.png\n"
     ]
    },
    {
     "name": "stderr",
     "output_type": "stream",
     "text": [
      " 11%|█         | 5350/50000 [00:36<04:32, 164.09it/s]"
     ]
    },
    {
     "name": "stdout",
     "output_type": "stream",
     "text": [
      "flower_10.64%.png\n",
      "flower_10.66%.png\n",
      "flower_10.68%.png\n",
      "flower_10.70%.png\n"
     ]
    },
    {
     "name": "stderr",
     "output_type": "stream",
     "text": [
      " 11%|█         | 5390/50000 [00:36<04:31, 164.41it/s]"
     ]
    },
    {
     "name": "stdout",
     "output_type": "stream",
     "text": [
      "flower_10.72%.png\n",
      "flower_10.74%.png\n",
      "flower_10.76%.png\n",
      "flower_10.78%.png\n"
     ]
    },
    {
     "name": "stderr",
     "output_type": "stream",
     "text": [
      " 11%|█         | 5430/50000 [00:36<04:37, 160.62it/s]"
     ]
    },
    {
     "name": "stdout",
     "output_type": "stream",
     "text": [
      "flower_10.80%.png\n",
      "flower_10.82%.png\n",
      "flower_10.84%.png\n",
      "flower_10.86%.png\n"
     ]
    },
    {
     "name": "stderr",
     "output_type": "stream",
     "text": [
      " 11%|█         | 5470/50000 [00:36<04:37, 160.34it/s]"
     ]
    },
    {
     "name": "stdout",
     "output_type": "stream",
     "text": [
      "flower_10.88%.png\n",
      "flower_10.90%.png\n",
      "flower_10.92%.png\n",
      "flower_10.94%.png\n"
     ]
    },
    {
     "name": "stderr",
     "output_type": "stream",
     "text": [
      " 11%|█         | 5510/50000 [00:37<04:26, 166.88it/s]"
     ]
    },
    {
     "name": "stdout",
     "output_type": "stream",
     "text": [
      "flower_10.96%.png\n",
      "flower_10.98%.png\n",
      "flower_11.00%.png\n",
      "flower_11.02%.png\n"
     ]
    },
    {
     "name": "stderr",
     "output_type": "stream",
     "text": [
      " 11%|█         | 5550/50000 [00:37<04:19, 171.10it/s]"
     ]
    },
    {
     "name": "stdout",
     "output_type": "stream",
     "text": [
      "flower_11.04%.png\n",
      "flower_11.06%.png\n",
      "flower_11.08%.png\n",
      "flower_11.10%.png\n"
     ]
    },
    {
     "name": "stderr",
     "output_type": "stream",
     "text": [
      " 11%|█         | 5590/50000 [00:37<04:26, 166.78it/s]"
     ]
    },
    {
     "name": "stdout",
     "output_type": "stream",
     "text": [
      "flower_11.12%.png\n",
      "flower_11.14%.png\n",
      "flower_11.16%.png\n",
      "flower_11.18%.png\n"
     ]
    },
    {
     "name": "stderr",
     "output_type": "stream",
     "text": [
      " 11%|█         | 5620/50000 [00:38<09:19, 79.37it/s] "
     ]
    },
    {
     "name": "stdout",
     "output_type": "stream",
     "text": [
      "flower_11.20%.png\n",
      "flower_11.22%.png\n",
      "flower_11.24%.png\n",
      "flower_11.26%.png\n"
     ]
    },
    {
     "name": "stderr",
     "output_type": "stream",
     "text": [
      " 11%|█▏        | 5660/50000 [00:38<06:31, 113.37it/s]"
     ]
    },
    {
     "name": "stdout",
     "output_type": "stream",
     "text": [
      "flower_11.28%.png\n",
      "flower_11.30%.png\n",
      "flower_11.32%.png\n",
      "flower_11.34%.png\n"
     ]
    },
    {
     "name": "stderr",
     "output_type": "stream",
     "text": [
      " 11%|█▏        | 5700/50000 [00:38<05:24, 136.38it/s]"
     ]
    },
    {
     "name": "stdout",
     "output_type": "stream",
     "text": [
      "flower_11.36%.png\n",
      "flower_11.38%.png\n",
      "flower_11.40%.png\n",
      "flower_11.42%.png\n"
     ]
    },
    {
     "name": "stderr",
     "output_type": "stream",
     "text": [
      " 11%|█▏        | 5740/50000 [00:38<04:46, 154.49it/s]"
     ]
    },
    {
     "name": "stdout",
     "output_type": "stream",
     "text": [
      "flower_11.44%.png\n",
      "flower_11.46%.png\n",
      "flower_11.48%.png\n",
      "flower_11.50%.png\n"
     ]
    },
    {
     "name": "stderr",
     "output_type": "stream",
     "text": [
      " 12%|█▏        | 5780/50000 [00:39<04:38, 158.79it/s]"
     ]
    },
    {
     "name": "stdout",
     "output_type": "stream",
     "text": [
      "flower_11.52%.png\n",
      "flower_11.54%.png\n",
      "flower_11.56%.png\n",
      "flower_11.58%.png\n"
     ]
    },
    {
     "name": "stderr",
     "output_type": "stream",
     "text": [
      " 12%|█▏        | 5820/50000 [00:39<04:29, 163.79it/s]"
     ]
    },
    {
     "name": "stdout",
     "output_type": "stream",
     "text": [
      "flower_11.60%.png\n",
      "flower_11.62%.png\n",
      "flower_11.64%.png\n",
      "flower_11.66%.png\n"
     ]
    },
    {
     "name": "stderr",
     "output_type": "stream",
     "text": [
      " 12%|█▏        | 5860/50000 [00:39<04:17, 171.12it/s]"
     ]
    },
    {
     "name": "stdout",
     "output_type": "stream",
     "text": [
      "flower_11.68%.png\n",
      "flower_11.70%.png\n",
      "flower_11.72%.png\n",
      "flower_11.74%.png\n"
     ]
    },
    {
     "name": "stderr",
     "output_type": "stream",
     "text": [
      " 12%|█▏        | 5900/50000 [00:39<04:18, 170.39it/s]"
     ]
    },
    {
     "name": "stdout",
     "output_type": "stream",
     "text": [
      "flower_11.76%.png\n",
      "flower_11.78%.png\n",
      "flower_11.80%.png\n",
      "flower_11.82%.png\n"
     ]
    },
    {
     "name": "stderr",
     "output_type": "stream",
     "text": [
      " 12%|█▏        | 5940/50000 [00:40<04:16, 171.56it/s]"
     ]
    },
    {
     "name": "stdout",
     "output_type": "stream",
     "text": [
      "flower_11.84%.png\n",
      "flower_11.86%.png\n",
      "flower_11.88%.png\n",
      "flower_11.90%.png\n"
     ]
    },
    {
     "name": "stderr",
     "output_type": "stream",
     "text": [
      " 12%|█▏        | 5980/50000 [00:40<04:20, 168.67it/s]"
     ]
    },
    {
     "name": "stdout",
     "output_type": "stream",
     "text": [
      "flower_11.92%.png\n",
      "flower_11.94%.png\n",
      "flower_11.96%.png\n",
      "flower_11.98%.png\n"
     ]
    },
    {
     "name": "stderr",
     "output_type": "stream",
     "text": [
      " 12%|█▏        | 6020/50000 [00:40<04:16, 171.33it/s]"
     ]
    },
    {
     "name": "stdout",
     "output_type": "stream",
     "text": [
      "flower_12.00%.png\n",
      "flower_12.02%.png\n",
      "flower_12.04%.png\n",
      "flower_12.06%.png\n"
     ]
    },
    {
     "name": "stderr",
     "output_type": "stream",
     "text": [
      " 12%|█▏        | 6060/50000 [00:40<04:08, 177.01it/s]"
     ]
    },
    {
     "name": "stdout",
     "output_type": "stream",
     "text": [
      "flower_12.08%.png\n",
      "flower_12.10%.png\n",
      "flower_12.12%.png\n",
      "flower_12.14%.png\n"
     ]
    },
    {
     "name": "stderr",
     "output_type": "stream",
     "text": [
      " 12%|█▏        | 6100/50000 [00:41<04:14, 172.24it/s]"
     ]
    },
    {
     "name": "stdout",
     "output_type": "stream",
     "text": [
      "flower_12.16%.png\n",
      "flower_12.18%.png\n",
      "flower_12.20%.png\n",
      "flower_12.22%.png\n"
     ]
    },
    {
     "name": "stderr",
     "output_type": "stream",
     "text": [
      " 12%|█▏        | 6140/50000 [00:41<04:10, 175.24it/s]"
     ]
    },
    {
     "name": "stdout",
     "output_type": "stream",
     "text": [
      "flower_12.24%.png\n",
      "flower_12.26%.png\n",
      "flower_12.28%.png\n",
      "flower_12.30%.png\n"
     ]
    },
    {
     "name": "stderr",
     "output_type": "stream",
     "text": [
      " 12%|█▏        | 6180/50000 [00:41<04:03, 179.73it/s]"
     ]
    },
    {
     "name": "stdout",
     "output_type": "stream",
     "text": [
      "flower_12.32%.png\n",
      "flower_12.34%.png\n",
      "flower_12.36%.png\n",
      "flower_12.38%.png\n"
     ]
    },
    {
     "name": "stderr",
     "output_type": "stream",
     "text": [
      " 12%|█▏        | 6220/50000 [00:41<04:07, 176.59it/s]"
     ]
    },
    {
     "name": "stdout",
     "output_type": "stream",
     "text": [
      "flower_12.40%.png\n",
      "flower_12.42%.png\n",
      "flower_12.44%.png\n",
      "flower_12.46%.png\n"
     ]
    },
    {
     "name": "stderr",
     "output_type": "stream",
     "text": [
      " 13%|█▎        | 6260/50000 [00:41<04:05, 178.31it/s]"
     ]
    },
    {
     "name": "stdout",
     "output_type": "stream",
     "text": [
      "flower_12.48%.png\n",
      "flower_12.50%.png\n",
      "flower_12.52%.png\n",
      "flower_12.54%.png\n"
     ]
    },
    {
     "name": "stderr",
     "output_type": "stream",
     "text": [
      " 13%|█▎        | 6300/50000 [00:42<04:07, 176.69it/s]"
     ]
    },
    {
     "name": "stdout",
     "output_type": "stream",
     "text": [
      "flower_12.56%.png\n",
      "flower_12.58%.png\n",
      "flower_12.60%.png\n",
      "flower_12.62%.png\n"
     ]
    },
    {
     "name": "stderr",
     "output_type": "stream",
     "text": [
      " 13%|█▎        | 6340/50000 [00:42<04:09, 174.72it/s]"
     ]
    },
    {
     "name": "stdout",
     "output_type": "stream",
     "text": [
      "flower_12.64%.png\n",
      "flower_12.66%.png\n",
      "flower_12.68%.png\n",
      "flower_12.70%.png\n"
     ]
    },
    {
     "name": "stderr",
     "output_type": "stream",
     "text": [
      " 13%|█▎        | 6380/50000 [00:42<04:08, 175.48it/s]"
     ]
    },
    {
     "name": "stdout",
     "output_type": "stream",
     "text": [
      "flower_12.72%.png\n",
      "flower_12.74%.png\n",
      "flower_12.76%.png\n",
      "flower_12.78%.png\n"
     ]
    },
    {
     "name": "stderr",
     "output_type": "stream",
     "text": [
      " 13%|█▎        | 6423/50000 [00:42<03:52, 187.70it/s]"
     ]
    },
    {
     "name": "stdout",
     "output_type": "stream",
     "text": [
      "flower_12.80%.png\n",
      "flower_12.82%.png\n",
      "flower_12.84%.png\n",
      "flower_12.86%.png\n"
     ]
    },
    {
     "name": "stderr",
     "output_type": "stream",
     "text": [
      " 13%|█▎        | 6460/50000 [00:43<04:16, 169.49it/s]"
     ]
    },
    {
     "name": "stdout",
     "output_type": "stream",
     "text": [
      "flower_12.88%.png\n",
      "flower_12.90%.png\n",
      "flower_12.92%.png\n",
      "flower_12.94%.png\n"
     ]
    },
    {
     "name": "stderr",
     "output_type": "stream",
     "text": [
      " 13%|█▎        | 6500/50000 [00:43<04:19, 167.91it/s]"
     ]
    },
    {
     "name": "stdout",
     "output_type": "stream",
     "text": [
      "flower_12.96%.png\n",
      "flower_12.98%.png\n",
      "flower_13.00%.png\n",
      "flower_13.02%.png\n"
     ]
    },
    {
     "name": "stderr",
     "output_type": "stream",
     "text": [
      " 13%|█▎        | 6540/50000 [00:43<04:14, 170.48it/s]"
     ]
    },
    {
     "name": "stdout",
     "output_type": "stream",
     "text": [
      "flower_13.04%.png\n",
      "flower_13.06%.png\n",
      "flower_13.08%.png\n",
      "flower_13.10%.png\n"
     ]
    },
    {
     "name": "stderr",
     "output_type": "stream",
     "text": [
      " 13%|█▎        | 6580/50000 [00:43<04:13, 171.35it/s]"
     ]
    },
    {
     "name": "stdout",
     "output_type": "stream",
     "text": [
      "flower_13.12%.png\n",
      "flower_13.14%.png\n",
      "flower_13.16%.png\n",
      "flower_13.18%.png\n"
     ]
    },
    {
     "name": "stderr",
     "output_type": "stream",
     "text": [
      " 13%|█▎        | 6623/50000 [00:43<03:49, 188.70it/s]"
     ]
    },
    {
     "name": "stdout",
     "output_type": "stream",
     "text": [
      "flower_13.20%.png\n",
      "flower_13.22%.png\n",
      "flower_13.24%.png\n",
      "flower_13.26%.png\n"
     ]
    },
    {
     "name": "stderr",
     "output_type": "stream",
     "text": [
      " 13%|█▎        | 6662/50000 [00:44<04:03, 178.04it/s]"
     ]
    },
    {
     "name": "stdout",
     "output_type": "stream",
     "text": [
      "flower_13.28%.png\n",
      "flower_13.30%.png\n",
      "flower_13.32%.png\n",
      "flower_13.34%.png\n"
     ]
    },
    {
     "name": "stderr",
     "output_type": "stream",
     "text": [
      " 13%|█▎        | 6700/50000 [00:44<04:09, 173.24it/s]"
     ]
    },
    {
     "name": "stdout",
     "output_type": "stream",
     "text": [
      "flower_13.36%.png\n",
      "flower_13.38%.png\n",
      "flower_13.40%.png\n",
      "flower_13.42%.png\n"
     ]
    },
    {
     "name": "stderr",
     "output_type": "stream",
     "text": [
      " 13%|█▎        | 6740/50000 [00:44<04:07, 174.81it/s]"
     ]
    },
    {
     "name": "stdout",
     "output_type": "stream",
     "text": [
      "flower_13.44%.png\n",
      "flower_13.46%.png\n",
      "flower_13.48%.png\n",
      "flower_13.50%.png\n"
     ]
    },
    {
     "name": "stderr",
     "output_type": "stream",
     "text": [
      " 14%|█▎        | 6780/50000 [00:44<04:07, 174.71it/s]"
     ]
    },
    {
     "name": "stdout",
     "output_type": "stream",
     "text": [
      "flower_13.52%.png\n",
      "flower_13.54%.png\n",
      "flower_13.56%.png\n",
      "flower_13.58%.png\n"
     ]
    },
    {
     "name": "stderr",
     "output_type": "stream",
     "text": [
      " 14%|█▎        | 6820/50000 [00:45<04:00, 179.84it/s]"
     ]
    },
    {
     "name": "stdout",
     "output_type": "stream",
     "text": [
      "flower_13.60%.png\n",
      "flower_13.62%.png\n",
      "flower_13.64%.png\n",
      "flower_13.66%.png\n"
     ]
    },
    {
     "name": "stderr",
     "output_type": "stream",
     "text": [
      " 14%|█▎        | 6860/50000 [00:45<04:13, 170.38it/s]"
     ]
    },
    {
     "name": "stdout",
     "output_type": "stream",
     "text": [
      "flower_13.68%.png\n",
      "flower_13.70%.png\n",
      "flower_13.72%.png\n",
      "flower_13.74%.png\n"
     ]
    },
    {
     "name": "stderr",
     "output_type": "stream",
     "text": [
      " 14%|█▍        | 6900/50000 [00:45<04:18, 166.93it/s]"
     ]
    },
    {
     "name": "stdout",
     "output_type": "stream",
     "text": [
      "flower_13.76%.png\n",
      "flower_13.78%.png\n",
      "flower_13.80%.png\n",
      "flower_13.82%.png\n"
     ]
    },
    {
     "name": "stderr",
     "output_type": "stream",
     "text": [
      " 14%|█▍        | 6940/50000 [00:45<04:18, 166.61it/s]"
     ]
    },
    {
     "name": "stdout",
     "output_type": "stream",
     "text": [
      "flower_13.84%.png\n",
      "flower_13.86%.png\n",
      "flower_13.88%.png\n",
      "flower_13.90%.png\n"
     ]
    },
    {
     "name": "stderr",
     "output_type": "stream",
     "text": [
      " 14%|█▍        | 6980/50000 [00:46<04:17, 166.77it/s]"
     ]
    },
    {
     "name": "stdout",
     "output_type": "stream",
     "text": [
      "flower_13.92%.png\n",
      "flower_13.94%.png\n",
      "flower_13.96%.png\n",
      "flower_13.98%.png\n"
     ]
    },
    {
     "name": "stderr",
     "output_type": "stream",
     "text": [
      " 14%|█▍        | 7020/50000 [00:46<04:11, 171.06it/s]"
     ]
    },
    {
     "name": "stdout",
     "output_type": "stream",
     "text": [
      "flower_14.00%.png\n",
      "flower_14.02%.png\n",
      "flower_14.04%.png\n",
      "flower_14.06%.png\n"
     ]
    },
    {
     "name": "stderr",
     "output_type": "stream",
     "text": [
      " 14%|█▍        | 7060/50000 [00:46<04:20, 164.66it/s]"
     ]
    },
    {
     "name": "stdout",
     "output_type": "stream",
     "text": [
      "flower_14.08%.png\n",
      "flower_14.10%.png\n",
      "flower_14.12%.png\n",
      "flower_14.14%.png\n"
     ]
    },
    {
     "name": "stderr",
     "output_type": "stream",
     "text": [
      "\r",
      " 14%|█▍        | 7080/50000 [00:46<04:21, 164.07it/s]"
     ]
    },
    {
     "name": "stdout",
     "output_type": "stream",
     "text": [
      "flower_14.16%.png\n"
     ]
    },
    {
     "name": "stderr",
     "output_type": "stream",
     "text": [
      " 14%|█▍        | 7110/50000 [00:47<10:17, 69.41it/s] "
     ]
    },
    {
     "name": "stdout",
     "output_type": "stream",
     "text": [
      "flower_14.18%.png\n",
      "flower_14.20%.png\n",
      "flower_14.22%.png\n",
      "flower_14.24%.png\n"
     ]
    },
    {
     "name": "stderr",
     "output_type": "stream",
     "text": [
      " 14%|█▍        | 7150/50000 [00:47<07:09, 99.88it/s]"
     ]
    },
    {
     "name": "stdout",
     "output_type": "stream",
     "text": [
      "flower_14.26%.png\n",
      "flower_14.28%.png\n",
      "flower_14.30%.png\n",
      "flower_14.32%.png\n"
     ]
    },
    {
     "name": "stderr",
     "output_type": "stream",
     "text": [
      " 14%|█▍        | 7190/50000 [00:48<05:31, 129.07it/s]"
     ]
    },
    {
     "name": "stdout",
     "output_type": "stream",
     "text": [
      "flower_14.34%.png\n",
      "flower_14.36%.png\n",
      "flower_14.38%.png\n",
      "flower_14.40%.png\n"
     ]
    },
    {
     "name": "stderr",
     "output_type": "stream",
     "text": [
      " 14%|█▍        | 7230/50000 [00:48<04:53, 145.54it/s]"
     ]
    },
    {
     "name": "stdout",
     "output_type": "stream",
     "text": [
      "flower_14.42%.png\n",
      "flower_14.44%.png\n",
      "flower_14.46%.png\n",
      "flower_14.48%.png\n"
     ]
    },
    {
     "name": "stderr",
     "output_type": "stream",
     "text": [
      " 15%|█▍        | 7270/50000 [00:48<04:37, 154.03it/s]"
     ]
    },
    {
     "name": "stdout",
     "output_type": "stream",
     "text": [
      "flower_14.50%.png\n",
      "flower_14.52%.png\n",
      "flower_14.54%.png\n",
      "flower_14.56%.png\n"
     ]
    },
    {
     "name": "stderr",
     "output_type": "stream",
     "text": [
      " 15%|█▍        | 7310/50000 [00:48<04:22, 162.62it/s]"
     ]
    },
    {
     "name": "stdout",
     "output_type": "stream",
     "text": [
      "flower_14.58%.png\n",
      "flower_14.60%.png\n",
      "flower_14.62%.png\n",
      "flower_14.64%.png\n"
     ]
    },
    {
     "name": "stderr",
     "output_type": "stream",
     "text": [
      " 15%|█▍        | 7350/50000 [00:48<04:14, 167.47it/s]"
     ]
    },
    {
     "name": "stdout",
     "output_type": "stream",
     "text": [
      "flower_14.66%.png\n",
      "flower_14.68%.png\n",
      "flower_14.70%.png\n",
      "flower_14.72%.png\n"
     ]
    },
    {
     "name": "stderr",
     "output_type": "stream",
     "text": [
      " 15%|█▍        | 7390/50000 [00:49<04:17, 165.66it/s]"
     ]
    },
    {
     "name": "stdout",
     "output_type": "stream",
     "text": [
      "flower_14.74%.png\n",
      "flower_14.76%.png\n",
      "flower_14.78%.png\n",
      "flower_14.80%.png\n"
     ]
    },
    {
     "name": "stderr",
     "output_type": "stream",
     "text": [
      " 15%|█▍        | 7430/50000 [00:49<04:18, 164.83it/s]"
     ]
    },
    {
     "name": "stdout",
     "output_type": "stream",
     "text": [
      "flower_14.82%.png\n",
      "flower_14.84%.png\n",
      "flower_14.86%.png\n",
      "flower_14.88%.png\n"
     ]
    },
    {
     "name": "stderr",
     "output_type": "stream",
     "text": [
      " 15%|█▍        | 7470/50000 [00:49<04:18, 164.59it/s]"
     ]
    },
    {
     "name": "stdout",
     "output_type": "stream",
     "text": [
      "flower_14.90%.png\n",
      "flower_14.92%.png\n",
      "flower_14.94%.png\n",
      "flower_14.96%.png\n"
     ]
    },
    {
     "name": "stderr",
     "output_type": "stream",
     "text": [
      " 15%|█▌        | 7510/50000 [00:49<04:17, 165.03it/s]"
     ]
    },
    {
     "name": "stdout",
     "output_type": "stream",
     "text": [
      "flower_14.98%.png\n",
      "flower_15.00%.png\n",
      "flower_15.02%.png\n",
      "flower_15.04%.png\n"
     ]
    },
    {
     "name": "stderr",
     "output_type": "stream",
     "text": [
      " 15%|█▌        | 7550/50000 [00:50<04:11, 168.97it/s]"
     ]
    },
    {
     "name": "stdout",
     "output_type": "stream",
     "text": [
      "flower_15.06%.png\n",
      "flower_15.08%.png\n",
      "flower_15.10%.png\n",
      "flower_15.12%.png\n"
     ]
    },
    {
     "name": "stderr",
     "output_type": "stream",
     "text": [
      " 15%|█▌        | 7590/50000 [00:50<04:14, 166.32it/s]"
     ]
    },
    {
     "name": "stdout",
     "output_type": "stream",
     "text": [
      "flower_15.14%.png\n",
      "flower_15.16%.png\n",
      "flower_15.18%.png\n",
      "flower_15.20%.png\n"
     ]
    },
    {
     "name": "stderr",
     "output_type": "stream",
     "text": [
      " 15%|█▌        | 7630/50000 [00:50<04:21, 162.13it/s]"
     ]
    },
    {
     "name": "stdout",
     "output_type": "stream",
     "text": [
      "flower_15.22%.png\n",
      "flower_15.24%.png\n",
      "flower_15.26%.png\n",
      "flower_15.28%.png\n"
     ]
    },
    {
     "name": "stderr",
     "output_type": "stream",
     "text": [
      " 15%|█▌        | 7670/50000 [00:50<04:19, 163.38it/s]"
     ]
    },
    {
     "name": "stdout",
     "output_type": "stream",
     "text": [
      "flower_15.30%.png\n",
      "flower_15.32%.png\n",
      "flower_15.34%.png\n",
      "flower_15.36%.png\n"
     ]
    },
    {
     "name": "stderr",
     "output_type": "stream",
     "text": [
      " 15%|█▌        | 7710/50000 [00:51<04:17, 164.22it/s]"
     ]
    },
    {
     "name": "stdout",
     "output_type": "stream",
     "text": [
      "flower_15.38%.png\n",
      "flower_15.40%.png\n",
      "flower_15.42%.png\n",
      "flower_15.44%.png\n"
     ]
    },
    {
     "name": "stderr",
     "output_type": "stream",
     "text": [
      " 16%|█▌        | 7750/50000 [00:51<04:10, 168.71it/s]"
     ]
    },
    {
     "name": "stdout",
     "output_type": "stream",
     "text": [
      "flower_15.46%.png\n",
      "flower_15.48%.png\n",
      "flower_15.50%.png\n",
      "flower_15.52%.png\n"
     ]
    },
    {
     "name": "stderr",
     "output_type": "stream",
     "text": [
      " 16%|█▌        | 7790/50000 [00:51<04:13, 166.71it/s]"
     ]
    },
    {
     "name": "stdout",
     "output_type": "stream",
     "text": [
      "flower_15.54%.png\n",
      "flower_15.56%.png\n",
      "flower_15.58%.png\n",
      "flower_15.60%.png\n"
     ]
    },
    {
     "name": "stderr",
     "output_type": "stream",
     "text": [
      " 16%|█▌        | 7830/50000 [00:51<04:10, 168.55it/s]"
     ]
    },
    {
     "name": "stdout",
     "output_type": "stream",
     "text": [
      "flower_15.62%.png\n",
      "flower_15.64%.png\n",
      "flower_15.66%.png\n",
      "flower_15.68%.png\n"
     ]
    },
    {
     "name": "stderr",
     "output_type": "stream",
     "text": [
      " 16%|█▌        | 7870/50000 [00:52<04:20, 161.77it/s]"
     ]
    },
    {
     "name": "stdout",
     "output_type": "stream",
     "text": [
      "flower_15.70%.png\n",
      "flower_15.72%.png\n",
      "flower_15.74%.png\n",
      "flower_15.76%.png\n"
     ]
    },
    {
     "name": "stderr",
     "output_type": "stream",
     "text": [
      " 16%|█▌        | 7910/50000 [00:52<04:12, 166.43it/s]"
     ]
    },
    {
     "name": "stdout",
     "output_type": "stream",
     "text": [
      "flower_15.78%.png\n",
      "flower_15.80%.png\n",
      "flower_15.82%.png\n",
      "flower_15.84%.png\n"
     ]
    },
    {
     "name": "stderr",
     "output_type": "stream",
     "text": [
      " 16%|█▌        | 7950/50000 [00:52<04:18, 162.46it/s]"
     ]
    },
    {
     "name": "stdout",
     "output_type": "stream",
     "text": [
      "flower_15.86%.png\n",
      "flower_15.88%.png\n",
      "flower_15.90%.png\n",
      "flower_15.92%.png\n"
     ]
    },
    {
     "name": "stderr",
     "output_type": "stream",
     "text": [
      " 16%|█▌        | 7990/50000 [00:52<04:11, 166.76it/s]"
     ]
    },
    {
     "name": "stdout",
     "output_type": "stream",
     "text": [
      "flower_15.94%.png\n",
      "flower_15.96%.png\n",
      "flower_15.98%.png\n",
      "flower_16.00%.png\n"
     ]
    },
    {
     "name": "stderr",
     "output_type": "stream",
     "text": [
      " 16%|█▌        | 8030/50000 [00:53<04:07, 169.34it/s]"
     ]
    },
    {
     "name": "stdout",
     "output_type": "stream",
     "text": [
      "flower_16.02%.png\n",
      "flower_16.04%.png\n",
      "flower_16.06%.png\n",
      "flower_16.08%.png\n"
     ]
    },
    {
     "name": "stderr",
     "output_type": "stream",
     "text": [
      " 16%|█▌        | 8070/50000 [00:53<04:18, 162.11it/s]"
     ]
    },
    {
     "name": "stdout",
     "output_type": "stream",
     "text": [
      "flower_16.10%.png\n",
      "flower_16.12%.png\n",
      "flower_16.14%.png\n",
      "flower_16.16%.png\n"
     ]
    },
    {
     "name": "stderr",
     "output_type": "stream",
     "text": [
      " 16%|█▌        | 8110/50000 [00:53<04:16, 163.55it/s]"
     ]
    },
    {
     "name": "stdout",
     "output_type": "stream",
     "text": [
      "flower_16.18%.png\n",
      "flower_16.20%.png\n",
      "flower_16.22%.png\n",
      "flower_16.24%.png\n"
     ]
    },
    {
     "name": "stderr",
     "output_type": "stream",
     "text": [
      " 16%|█▋        | 8150/50000 [00:53<04:15, 163.82it/s]"
     ]
    },
    {
     "name": "stdout",
     "output_type": "stream",
     "text": [
      "flower_16.26%.png\n",
      "flower_16.28%.png\n",
      "flower_16.30%.png\n",
      "flower_16.32%.png\n"
     ]
    },
    {
     "name": "stderr",
     "output_type": "stream",
     "text": [
      " 16%|█▋        | 8190/50000 [00:54<04:14, 163.99it/s]"
     ]
    },
    {
     "name": "stdout",
     "output_type": "stream",
     "text": [
      "flower_16.34%.png\n",
      "flower_16.36%.png\n",
      "flower_16.38%.png\n",
      "flower_16.40%.png\n"
     ]
    },
    {
     "name": "stderr",
     "output_type": "stream",
     "text": [
      " 16%|█▋        | 8230/50000 [00:54<04:17, 162.33it/s]"
     ]
    },
    {
     "name": "stdout",
     "output_type": "stream",
     "text": [
      "flower_16.42%.png\n",
      "flower_16.44%.png\n",
      "flower_16.46%.png\n",
      "flower_16.48%.png\n"
     ]
    },
    {
     "name": "stderr",
     "output_type": "stream",
     "text": [
      " 17%|█▋        | 8270/50000 [00:54<04:18, 161.37it/s]"
     ]
    },
    {
     "name": "stdout",
     "output_type": "stream",
     "text": [
      "flower_16.50%.png\n",
      "flower_16.52%.png\n",
      "flower_16.54%.png\n",
      "flower_16.56%.png\n"
     ]
    },
    {
     "name": "stderr",
     "output_type": "stream",
     "text": [
      " 17%|█▋        | 8310/50000 [00:54<04:12, 164.81it/s]"
     ]
    },
    {
     "name": "stdout",
     "output_type": "stream",
     "text": [
      "flower_16.58%.png\n",
      "flower_16.60%.png\n",
      "flower_16.62%.png\n",
      "flower_16.64%.png\n"
     ]
    },
    {
     "name": "stderr",
     "output_type": "stream",
     "text": [
      " 17%|█▋        | 8350/50000 [00:55<04:12, 165.24it/s]"
     ]
    },
    {
     "name": "stdout",
     "output_type": "stream",
     "text": [
      "flower_16.66%.png\n",
      "flower_16.68%.png\n",
      "flower_16.70%.png\n",
      "flower_16.72%.png\n"
     ]
    },
    {
     "name": "stderr",
     "output_type": "stream",
     "text": [
      " 17%|█▋        | 8390/50000 [00:55<04:05, 169.15it/s]"
     ]
    },
    {
     "name": "stdout",
     "output_type": "stream",
     "text": [
      "flower_16.74%.png\n",
      "flower_16.76%.png\n",
      "flower_16.78%.png\n",
      "flower_16.80%.png\n"
     ]
    },
    {
     "name": "stderr",
     "output_type": "stream",
     "text": [
      " 17%|█▋        | 8430/50000 [00:55<04:04, 169.80it/s]"
     ]
    },
    {
     "name": "stdout",
     "output_type": "stream",
     "text": [
      "flower_16.82%.png\n",
      "flower_16.84%.png\n",
      "flower_16.86%.png\n",
      "flower_16.88%.png\n"
     ]
    },
    {
     "name": "stderr",
     "output_type": "stream",
     "text": [
      " 17%|█▋        | 8470/50000 [00:55<04:02, 170.91it/s]"
     ]
    },
    {
     "name": "stdout",
     "output_type": "stream",
     "text": [
      "flower_16.90%.png\n",
      "flower_16.92%.png\n",
      "flower_16.94%.png\n",
      "flower_16.96%.png\n"
     ]
    },
    {
     "name": "stderr",
     "output_type": "stream",
     "text": [
      " 17%|█▋        | 8510/50000 [00:56<04:05, 168.73it/s]"
     ]
    },
    {
     "name": "stdout",
     "output_type": "stream",
     "text": [
      "flower_16.98%.png\n",
      "flower_17.00%.png\n",
      "flower_17.02%.png\n",
      "flower_17.04%.png\n"
     ]
    },
    {
     "name": "stderr",
     "output_type": "stream",
     "text": [
      " 17%|█▋        | 8550/50000 [00:56<04:05, 169.09it/s]"
     ]
    },
    {
     "name": "stdout",
     "output_type": "stream",
     "text": [
      "flower_17.06%.png\n",
      "flower_17.08%.png\n",
      "flower_17.10%.png\n",
      "flower_17.12%.png\n"
     ]
    },
    {
     "name": "stderr",
     "output_type": "stream",
     "text": [
      " 17%|█▋        | 8590/50000 [00:56<04:04, 169.48it/s]"
     ]
    },
    {
     "name": "stdout",
     "output_type": "stream",
     "text": [
      "flower_17.14%.png\n",
      "flower_17.16%.png\n",
      "flower_17.18%.png\n",
      "flower_17.20%.png\n"
     ]
    },
    {
     "name": "stderr",
     "output_type": "stream",
     "text": [
      " 17%|█▋        | 8630/50000 [00:56<03:57, 174.55it/s]"
     ]
    },
    {
     "name": "stdout",
     "output_type": "stream",
     "text": [
      "flower_17.22%.png\n",
      "flower_17.24%.png\n",
      "flower_17.26%.png\n",
      "flower_17.28%.png\n"
     ]
    },
    {
     "name": "stderr",
     "output_type": "stream",
     "text": [
      " 17%|█▋        | 8670/50000 [00:56<04:09, 165.90it/s]"
     ]
    },
    {
     "name": "stdout",
     "output_type": "stream",
     "text": [
      "flower_17.30%.png\n",
      "flower_17.32%.png\n",
      "flower_17.34%.png\n",
      "flower_17.36%.png\n"
     ]
    },
    {
     "name": "stderr",
     "output_type": "stream",
     "text": [
      " 17%|█▋        | 8710/50000 [00:57<03:59, 172.23it/s]"
     ]
    },
    {
     "name": "stdout",
     "output_type": "stream",
     "text": [
      "flower_17.38%.png\n",
      "flower_17.40%.png\n",
      "flower_17.42%.png\n",
      "flower_17.44%.png\n"
     ]
    },
    {
     "name": "stderr",
     "output_type": "stream",
     "text": [
      " 18%|█▊        | 8750/50000 [00:57<04:04, 169.01it/s]"
     ]
    },
    {
     "name": "stdout",
     "output_type": "stream",
     "text": [
      "flower_17.46%.png\n",
      "flower_17.48%.png\n",
      "flower_17.50%.png\n",
      "flower_17.52%.png\n"
     ]
    },
    {
     "name": "stderr",
     "output_type": "stream",
     "text": [
      " 18%|█▊        | 8790/50000 [00:57<04:03, 168.93it/s]"
     ]
    },
    {
     "name": "stdout",
     "output_type": "stream",
     "text": [
      "flower_17.54%.png\n",
      "flower_17.56%.png\n",
      "flower_17.58%.png\n",
      "flower_17.60%.png\n"
     ]
    },
    {
     "name": "stderr",
     "output_type": "stream",
     "text": [
      " 18%|█▊        | 8830/50000 [00:57<04:01, 170.18it/s]"
     ]
    },
    {
     "name": "stdout",
     "output_type": "stream",
     "text": [
      "flower_17.62%.png\n",
      "flower_17.64%.png\n",
      "flower_17.66%.png\n",
      "flower_17.68%.png\n"
     ]
    },
    {
     "name": "stderr",
     "output_type": "stream",
     "text": [
      " 18%|█▊        | 8870/50000 [00:58<03:53, 176.49it/s]"
     ]
    },
    {
     "name": "stdout",
     "output_type": "stream",
     "text": [
      "flower_17.70%.png\n",
      "flower_17.72%.png\n",
      "flower_17.74%.png\n",
      "flower_17.76%.png\n"
     ]
    },
    {
     "name": "stderr",
     "output_type": "stream",
     "text": [
      " 18%|█▊        | 8910/50000 [00:58<03:57, 172.85it/s]"
     ]
    },
    {
     "name": "stdout",
     "output_type": "stream",
     "text": [
      "flower_17.78%.png\n",
      "flower_17.80%.png\n",
      "flower_17.82%.png\n",
      "flower_17.84%.png\n"
     ]
    },
    {
     "name": "stderr",
     "output_type": "stream",
     "text": [
      "\r",
      " 18%|█▊        | 8930/50000 [00:58<03:51, 177.66it/s]"
     ]
    },
    {
     "name": "stdout",
     "output_type": "stream",
     "text": [
      "flower_17.86%.png\n"
     ]
    },
    {
     "name": "stderr",
     "output_type": "stream",
     "text": [
      " 18%|█▊        | 8965/50000 [00:59<10:17, 66.42it/s] "
     ]
    },
    {
     "name": "stdout",
     "output_type": "stream",
     "text": [
      "flower_17.88%.png\n",
      "flower_17.90%.png\n",
      "flower_17.92%.png\n",
      "flower_17.94%.png\n"
     ]
    },
    {
     "name": "stderr",
     "output_type": "stream",
     "text": [
      " 18%|█▊        | 9000/50000 [00:59<07:22, 92.69it/s]"
     ]
    },
    {
     "name": "stdout",
     "output_type": "stream",
     "text": [
      "flower_17.96%.png\n",
      "flower_17.98%.png\n",
      "flower_18.00%.png\n",
      "flower_18.02%.png\n"
     ]
    },
    {
     "name": "stderr",
     "output_type": "stream",
     "text": [
      " 18%|█▊        | 9040/50000 [00:59<05:39, 120.57it/s]"
     ]
    },
    {
     "name": "stdout",
     "output_type": "stream",
     "text": [
      "flower_18.04%.png\n",
      "flower_18.06%.png\n",
      "flower_18.08%.png\n",
      "flower_18.10%.png\n"
     ]
    },
    {
     "name": "stderr",
     "output_type": "stream",
     "text": [
      " 18%|█▊        | 9080/50000 [01:00<04:53, 139.25it/s]"
     ]
    },
    {
     "name": "stdout",
     "output_type": "stream",
     "text": [
      "flower_18.12%.png\n",
      "flower_18.14%.png\n",
      "flower_18.16%.png\n",
      "flower_18.18%.png\n"
     ]
    },
    {
     "name": "stderr",
     "output_type": "stream",
     "text": [
      " 18%|█▊        | 9120/50000 [01:00<04:32, 150.15it/s]"
     ]
    },
    {
     "name": "stdout",
     "output_type": "stream",
     "text": [
      "flower_18.20%.png\n",
      "flower_18.22%.png\n",
      "flower_18.24%.png\n",
      "flower_18.26%.png\n"
     ]
    },
    {
     "name": "stderr",
     "output_type": "stream",
     "text": [
      " 18%|█▊        | 9160/50000 [01:00<04:23, 154.98it/s]"
     ]
    },
    {
     "name": "stdout",
     "output_type": "stream",
     "text": [
      "flower_18.28%.png\n",
      "flower_18.30%.png\n",
      "flower_18.32%.png\n",
      "flower_18.34%.png\n"
     ]
    },
    {
     "name": "stderr",
     "output_type": "stream",
     "text": [
      " 18%|█▊        | 9200/50000 [01:00<04:20, 156.33it/s]"
     ]
    },
    {
     "name": "stdout",
     "output_type": "stream",
     "text": [
      "flower_18.36%.png\n",
      "flower_18.38%.png\n",
      "flower_18.40%.png\n",
      "flower_18.42%.png\n"
     ]
    },
    {
     "name": "stderr",
     "output_type": "stream",
     "text": [
      " 18%|█▊        | 9240/50000 [01:01<04:13, 160.64it/s]"
     ]
    },
    {
     "name": "stdout",
     "output_type": "stream",
     "text": [
      "flower_18.44%.png\n",
      "flower_18.46%.png\n",
      "flower_18.48%.png\n",
      "flower_18.50%.png\n"
     ]
    },
    {
     "name": "stderr",
     "output_type": "stream",
     "text": [
      " 19%|█▊        | 9280/50000 [01:01<04:09, 163.38it/s]"
     ]
    },
    {
     "name": "stdout",
     "output_type": "stream",
     "text": [
      "flower_18.52%.png\n",
      "flower_18.54%.png\n",
      "flower_18.56%.png\n",
      "flower_18.58%.png\n"
     ]
    },
    {
     "name": "stderr",
     "output_type": "stream",
     "text": [
      " 19%|█▊        | 9320/50000 [01:01<04:06, 164.77it/s]"
     ]
    },
    {
     "name": "stdout",
     "output_type": "stream",
     "text": [
      "flower_18.60%.png\n",
      "flower_18.62%.png\n",
      "flower_18.64%.png\n",
      "flower_18.66%.png\n"
     ]
    },
    {
     "name": "stderr",
     "output_type": "stream",
     "text": [
      " 19%|█▊        | 9360/50000 [01:01<04:07, 164.42it/s]"
     ]
    },
    {
     "name": "stdout",
     "output_type": "stream",
     "text": [
      "flower_18.68%.png\n",
      "flower_18.70%.png\n",
      "flower_18.72%.png\n",
      "flower_18.74%.png\n"
     ]
    },
    {
     "name": "stderr",
     "output_type": "stream",
     "text": [
      " 19%|█▉        | 9400/50000 [01:02<04:08, 163.47it/s]"
     ]
    },
    {
     "name": "stdout",
     "output_type": "stream",
     "text": [
      "flower_18.76%.png\n",
      "flower_18.78%.png\n",
      "flower_18.80%.png\n",
      "flower_18.82%.png\n"
     ]
    },
    {
     "name": "stderr",
     "output_type": "stream",
     "text": [
      " 19%|█▉        | 9440/50000 [01:02<04:07, 163.76it/s]"
     ]
    },
    {
     "name": "stdout",
     "output_type": "stream",
     "text": [
      "flower_18.84%.png\n",
      "flower_18.86%.png\n",
      "flower_18.88%.png\n",
      "flower_18.90%.png\n"
     ]
    },
    {
     "name": "stderr",
     "output_type": "stream",
     "text": [
      " 19%|█▉        | 9480/50000 [01:02<04:03, 166.22it/s]"
     ]
    },
    {
     "name": "stdout",
     "output_type": "stream",
     "text": [
      "flower_18.92%.png\n",
      "flower_18.94%.png\n",
      "flower_18.96%.png\n",
      "flower_18.98%.png\n"
     ]
    },
    {
     "name": "stderr",
     "output_type": "stream",
     "text": [
      " 19%|█▉        | 9520/50000 [01:02<04:00, 168.37it/s]"
     ]
    },
    {
     "name": "stdout",
     "output_type": "stream",
     "text": [
      "flower_19.00%.png\n",
      "flower_19.02%.png\n",
      "flower_19.04%.png\n",
      "flower_19.06%.png\n"
     ]
    },
    {
     "name": "stderr",
     "output_type": "stream",
     "text": [
      " 19%|█▉        | 9560/50000 [01:03<03:53, 173.10it/s]"
     ]
    },
    {
     "name": "stdout",
     "output_type": "stream",
     "text": [
      "flower_19.08%.png\n",
      "flower_19.10%.png\n",
      "flower_19.12%.png\n",
      "flower_19.14%.png\n"
     ]
    },
    {
     "name": "stderr",
     "output_type": "stream",
     "text": [
      " 19%|█▉        | 9600/50000 [01:03<03:59, 168.46it/s]"
     ]
    },
    {
     "name": "stdout",
     "output_type": "stream",
     "text": [
      "flower_19.16%.png\n",
      "flower_19.18%.png\n",
      "flower_19.20%.png\n",
      "flower_19.22%.png\n"
     ]
    },
    {
     "name": "stderr",
     "output_type": "stream",
     "text": [
      " 19%|█▉        | 9640/50000 [01:03<04:00, 167.78it/s]"
     ]
    },
    {
     "name": "stdout",
     "output_type": "stream",
     "text": [
      "flower_19.24%.png\n",
      "flower_19.26%.png\n",
      "flower_19.28%.png\n",
      "flower_19.30%.png\n"
     ]
    },
    {
     "name": "stderr",
     "output_type": "stream",
     "text": [
      " 19%|█▉        | 9680/50000 [01:03<04:02, 166.04it/s]"
     ]
    },
    {
     "name": "stdout",
     "output_type": "stream",
     "text": [
      "flower_19.32%.png\n",
      "flower_19.34%.png\n",
      "flower_19.36%.png\n",
      "flower_19.38%.png\n"
     ]
    },
    {
     "name": "stderr",
     "output_type": "stream",
     "text": [
      " 19%|█▉        | 9720/50000 [01:04<03:54, 171.50it/s]"
     ]
    },
    {
     "name": "stdout",
     "output_type": "stream",
     "text": [
      "flower_19.40%.png\n",
      "flower_19.42%.png\n",
      "flower_19.44%.png\n",
      "flower_19.46%.png\n"
     ]
    },
    {
     "name": "stderr",
     "output_type": "stream",
     "text": [
      " 20%|█▉        | 9760/50000 [01:04<03:59, 167.69it/s]"
     ]
    },
    {
     "name": "stdout",
     "output_type": "stream",
     "text": [
      "flower_19.48%.png\n",
      "flower_19.50%.png\n",
      "flower_19.52%.png\n",
      "flower_19.54%.png\n"
     ]
    },
    {
     "name": "stderr",
     "output_type": "stream",
     "text": [
      " 20%|█▉        | 9800/50000 [01:04<04:01, 166.49it/s]"
     ]
    },
    {
     "name": "stdout",
     "output_type": "stream",
     "text": [
      "flower_19.56%.png\n",
      "flower_19.58%.png\n",
      "flower_19.60%.png\n",
      "flower_19.62%.png\n"
     ]
    },
    {
     "name": "stderr",
     "output_type": "stream",
     "text": [
      " 20%|█▉        | 9840/50000 [01:04<04:00, 166.92it/s]"
     ]
    },
    {
     "name": "stdout",
     "output_type": "stream",
     "text": [
      "flower_19.64%.png\n",
      "flower_19.66%.png\n",
      "flower_19.68%.png\n",
      "flower_19.70%.png\n"
     ]
    },
    {
     "name": "stderr",
     "output_type": "stream",
     "text": [
      " 20%|█▉        | 9880/50000 [01:05<03:56, 169.82it/s]"
     ]
    },
    {
     "name": "stdout",
     "output_type": "stream",
     "text": [
      "flower_19.72%.png\n",
      "flower_19.74%.png\n",
      "flower_19.76%.png\n",
      "flower_19.78%.png\n"
     ]
    },
    {
     "name": "stderr",
     "output_type": "stream",
     "text": [
      " 20%|█▉        | 9920/50000 [01:05<04:03, 164.33it/s]"
     ]
    },
    {
     "name": "stdout",
     "output_type": "stream",
     "text": [
      "flower_19.80%.png\n",
      "flower_19.82%.png\n",
      "flower_19.84%.png\n",
      "flower_19.86%.png\n"
     ]
    },
    {
     "name": "stderr",
     "output_type": "stream",
     "text": [
      " 20%|█▉        | 9960/50000 [01:05<04:04, 163.84it/s]"
     ]
    },
    {
     "name": "stdout",
     "output_type": "stream",
     "text": [
      "flower_19.88%.png\n",
      "flower_19.90%.png\n",
      "flower_19.92%.png\n",
      "flower_19.94%.png\n"
     ]
    },
    {
     "name": "stderr",
     "output_type": "stream",
     "text": [
      " 20%|██        | 10000/50000 [01:05<04:05, 163.22it/s]"
     ]
    },
    {
     "name": "stdout",
     "output_type": "stream",
     "text": [
      "flower_19.96%.png\n",
      "flower_19.98%.png\n",
      "flower_20.00%.png\n",
      "flower_20.02%.png\n"
     ]
    },
    {
     "name": "stderr",
     "output_type": "stream",
     "text": [
      " 20%|██        | 10040/50000 [01:05<04:00, 166.33it/s]"
     ]
    },
    {
     "name": "stdout",
     "output_type": "stream",
     "text": [
      "flower_20.04%.png\n",
      "flower_20.06%.png\n",
      "flower_20.08%.png\n",
      "flower_20.10%.png\n"
     ]
    },
    {
     "name": "stderr",
     "output_type": "stream",
     "text": [
      " 20%|██        | 10080/50000 [01:06<04:01, 165.56it/s]"
     ]
    },
    {
     "name": "stdout",
     "output_type": "stream",
     "text": [
      "flower_20.12%.png\n",
      "flower_20.14%.png\n",
      "flower_20.16%.png\n",
      "flower_20.18%.png\n"
     ]
    },
    {
     "name": "stderr",
     "output_type": "stream",
     "text": [
      " 20%|██        | 10120/50000 [01:06<04:00, 165.74it/s]"
     ]
    },
    {
     "name": "stdout",
     "output_type": "stream",
     "text": [
      "flower_20.20%.png\n",
      "flower_20.22%.png\n",
      "flower_20.24%.png\n",
      "flower_20.26%.png\n"
     ]
    },
    {
     "name": "stderr",
     "output_type": "stream",
     "text": [
      " 20%|██        | 10160/50000 [01:06<03:55, 168.93it/s]"
     ]
    },
    {
     "name": "stdout",
     "output_type": "stream",
     "text": [
      "flower_20.28%.png\n",
      "flower_20.30%.png\n",
      "flower_20.32%.png\n",
      "flower_20.34%.png\n"
     ]
    },
    {
     "name": "stderr",
     "output_type": "stream",
     "text": [
      " 20%|██        | 10200/50000 [01:06<03:59, 165.98it/s]"
     ]
    },
    {
     "name": "stdout",
     "output_type": "stream",
     "text": [
      "flower_20.36%.png\n",
      "flower_20.38%.png\n",
      "flower_20.40%.png\n",
      "flower_20.42%.png\n"
     ]
    },
    {
     "name": "stderr",
     "output_type": "stream",
     "text": [
      " 20%|██        | 10240/50000 [01:07<04:04, 162.56it/s]"
     ]
    },
    {
     "name": "stdout",
     "output_type": "stream",
     "text": [
      "flower_20.44%.png\n",
      "flower_20.46%.png\n",
      "flower_20.48%.png\n",
      "flower_20.50%.png\n"
     ]
    },
    {
     "name": "stderr",
     "output_type": "stream",
     "text": [
      " 21%|██        | 10273/50000 [01:07<04:24, 150.42it/s]"
     ]
    },
    {
     "name": "stdout",
     "output_type": "stream",
     "text": [
      "flower_20.52%.png\n",
      "flower_20.54%.png\n"
     ]
    },
    {
     "name": "stderr",
     "output_type": "stream",
     "text": [
      "\r",
      " 21%|██        | 10289/50000 [01:07<06:46, 97.71it/s] "
     ]
    },
    {
     "name": "stdout",
     "output_type": "stream",
     "text": [
      "flower_20.56%.png\n"
     ]
    },
    {
     "name": "stderr",
     "output_type": "stream",
     "text": [
      "\r",
      " 21%|██        | 10302/50000 [01:08<08:08, 81.20it/s]"
     ]
    },
    {
     "name": "stdout",
     "output_type": "stream",
     "text": [
      "flower_20.58%.png\n",
      "flower_20.60%.png\n"
     ]
    },
    {
     "name": "stderr",
     "output_type": "stream",
     "text": [
      " 21%|██        | 10322/50000 [01:08<10:47, 61.31it/s]"
     ]
    },
    {
     "name": "stdout",
     "output_type": "stream",
     "text": [
      "flower_20.62%.png\n",
      "flower_20.64%.png\n"
     ]
    },
    {
     "name": "stderr",
     "output_type": "stream",
     "text": [
      " 21%|██        | 10360/50000 [01:08<06:47, 97.24it/s]"
     ]
    },
    {
     "name": "stdout",
     "output_type": "stream",
     "text": [
      "flower_20.66%.png\n",
      "flower_20.68%.png\n",
      "flower_20.70%.png\n",
      "flower_20.72%.png\n"
     ]
    },
    {
     "name": "stderr",
     "output_type": "stream",
     "text": [
      " 21%|██        | 10400/50000 [01:08<05:10, 127.52it/s]"
     ]
    },
    {
     "name": "stdout",
     "output_type": "stream",
     "text": [
      "flower_20.74%.png\n",
      "flower_20.76%.png\n",
      "flower_20.78%.png\n",
      "flower_20.80%.png\n"
     ]
    },
    {
     "name": "stderr",
     "output_type": "stream",
     "text": [
      " 21%|██        | 10440/50000 [01:09<04:32, 145.17it/s]"
     ]
    },
    {
     "name": "stdout",
     "output_type": "stream",
     "text": [
      "flower_20.82%.png\n",
      "flower_20.84%.png\n",
      "flower_20.86%.png\n",
      "flower_20.88%.png\n"
     ]
    },
    {
     "name": "stderr",
     "output_type": "stream",
     "text": [
      " 21%|██        | 10480/50000 [01:09<04:06, 160.42it/s]"
     ]
    },
    {
     "name": "stdout",
     "output_type": "stream",
     "text": [
      "flower_20.90%.png\n",
      "flower_20.92%.png\n",
      "flower_20.94%.png\n",
      "flower_20.96%.png\n"
     ]
    },
    {
     "name": "stderr",
     "output_type": "stream",
     "text": [
      " 21%|██        | 10515/50000 [01:09<04:09, 158.43it/s]"
     ]
    },
    {
     "name": "stdout",
     "output_type": "stream",
     "text": [
      "flower_20.98%.png\n",
      "flower_21.00%.png\n",
      "flower_21.02%.png\n",
      "flower_21.04%.png\n"
     ]
    },
    {
     "name": "stderr",
     "output_type": "stream",
     "text": [
      " 21%|██        | 10550/50000 [01:09<04:05, 160.64it/s]"
     ]
    },
    {
     "name": "stdout",
     "output_type": "stream",
     "text": [
      "flower_21.06%.png\n",
      "flower_21.08%.png\n",
      "flower_21.10%.png\n",
      "flower_21.12%.png\n"
     ]
    },
    {
     "name": "stderr",
     "output_type": "stream",
     "text": [
      " 21%|██        | 10590/50000 [01:10<03:55, 167.06it/s]"
     ]
    },
    {
     "name": "stdout",
     "output_type": "stream",
     "text": [
      "flower_21.14%.png\n",
      "flower_21.16%.png\n",
      "flower_21.18%.png\n",
      "flower_21.20%.png\n"
     ]
    },
    {
     "name": "stderr",
     "output_type": "stream",
     "text": [
      " 21%|██▏       | 10630/50000 [01:10<03:50, 170.51it/s]"
     ]
    },
    {
     "name": "stdout",
     "output_type": "stream",
     "text": [
      "flower_21.22%.png\n",
      "flower_21.24%.png\n",
      "flower_21.26%.png\n",
      "flower_21.28%.png\n"
     ]
    },
    {
     "name": "stderr",
     "output_type": "stream",
     "text": [
      " 21%|██▏       | 10670/50000 [01:10<03:52, 168.95it/s]"
     ]
    },
    {
     "name": "stdout",
     "output_type": "stream",
     "text": [
      "flower_21.30%.png\n",
      "flower_21.32%.png\n",
      "flower_21.34%.png\n",
      "flower_21.36%.png\n"
     ]
    },
    {
     "name": "stderr",
     "output_type": "stream",
     "text": [
      " 21%|██▏       | 10710/50000 [01:10<03:50, 170.59it/s]"
     ]
    },
    {
     "name": "stdout",
     "output_type": "stream",
     "text": [
      "flower_21.38%.png\n",
      "flower_21.40%.png\n",
      "flower_21.42%.png\n",
      "flower_21.44%.png\n"
     ]
    },
    {
     "name": "stderr",
     "output_type": "stream",
     "text": [
      " 22%|██▏       | 10750/50000 [01:11<03:53, 167.78it/s]"
     ]
    },
    {
     "name": "stdout",
     "output_type": "stream",
     "text": [
      "flower_21.46%.png\n",
      "flower_21.48%.png\n",
      "flower_21.50%.png\n",
      "flower_21.52%.png\n"
     ]
    },
    {
     "name": "stderr",
     "output_type": "stream",
     "text": [
      " 22%|██▏       | 10790/50000 [01:11<03:50, 170.05it/s]"
     ]
    },
    {
     "name": "stdout",
     "output_type": "stream",
     "text": [
      "flower_21.54%.png\n",
      "flower_21.56%.png\n",
      "flower_21.58%.png\n",
      "flower_21.60%.png\n"
     ]
    },
    {
     "name": "stderr",
     "output_type": "stream",
     "text": [
      " 22%|██▏       | 10830/50000 [01:11<03:49, 170.72it/s]"
     ]
    },
    {
     "name": "stdout",
     "output_type": "stream",
     "text": [
      "flower_21.62%.png\n",
      "flower_21.64%.png\n",
      "flower_21.66%.png\n",
      "flower_21.68%.png\n"
     ]
    },
    {
     "name": "stderr",
     "output_type": "stream",
     "text": [
      " 22%|██▏       | 10870/50000 [01:11<03:51, 168.76it/s]"
     ]
    },
    {
     "name": "stdout",
     "output_type": "stream",
     "text": [
      "flower_21.70%.png\n",
      "flower_21.72%.png\n",
      "flower_21.74%.png\n",
      "flower_21.76%.png\n"
     ]
    },
    {
     "name": "stderr",
     "output_type": "stream",
     "text": [
      " 22%|██▏       | 10910/50000 [01:11<03:49, 170.29it/s]"
     ]
    },
    {
     "name": "stdout",
     "output_type": "stream",
     "text": [
      "flower_21.78%.png\n",
      "flower_21.80%.png\n",
      "flower_21.82%.png\n",
      "flower_21.84%.png\n"
     ]
    },
    {
     "name": "stderr",
     "output_type": "stream",
     "text": [
      " 22%|██▏       | 10950/50000 [01:12<03:45, 173.05it/s]"
     ]
    },
    {
     "name": "stdout",
     "output_type": "stream",
     "text": [
      "flower_21.86%.png\n",
      "flower_21.88%.png\n",
      "flower_21.90%.png\n",
      "flower_21.92%.png\n"
     ]
    },
    {
     "name": "stderr",
     "output_type": "stream",
     "text": [
      " 22%|██▏       | 10990/50000 [01:12<03:50, 168.96it/s]"
     ]
    },
    {
     "name": "stdout",
     "output_type": "stream",
     "text": [
      "flower_21.94%.png\n",
      "flower_21.96%.png\n",
      "flower_21.98%.png\n",
      "flower_22.00%.png\n"
     ]
    },
    {
     "name": "stderr",
     "output_type": "stream",
     "text": [
      " 22%|██▏       | 11030/50000 [01:12<03:51, 168.41it/s]"
     ]
    },
    {
     "name": "stdout",
     "output_type": "stream",
     "text": [
      "flower_22.02%.png\n",
      "flower_22.04%.png\n",
      "flower_22.06%.png\n",
      "flower_22.08%.png\n"
     ]
    },
    {
     "name": "stderr",
     "output_type": "stream",
     "text": [
      " 22%|██▏       | 11070/50000 [01:12<03:51, 168.22it/s]"
     ]
    },
    {
     "name": "stdout",
     "output_type": "stream",
     "text": [
      "flower_22.10%.png\n",
      "flower_22.12%.png\n",
      "flower_22.14%.png\n",
      "flower_22.16%.png\n"
     ]
    },
    {
     "name": "stderr",
     "output_type": "stream",
     "text": [
      " 22%|██▏       | 11110/50000 [01:13<03:49, 169.29it/s]"
     ]
    },
    {
     "name": "stdout",
     "output_type": "stream",
     "text": [
      "flower_22.18%.png\n",
      "flower_22.20%.png\n",
      "flower_22.22%.png\n",
      "flower_22.24%.png\n"
     ]
    },
    {
     "name": "stderr",
     "output_type": "stream",
     "text": [
      " 22%|██▏       | 11150/50000 [01:13<03:45, 172.50it/s]"
     ]
    },
    {
     "name": "stdout",
     "output_type": "stream",
     "text": [
      "flower_22.26%.png\n",
      "flower_22.28%.png\n",
      "flower_22.30%.png\n",
      "flower_22.32%.png\n"
     ]
    },
    {
     "name": "stderr",
     "output_type": "stream",
     "text": [
      " 22%|██▏       | 11190/50000 [01:13<03:48, 169.62it/s]"
     ]
    },
    {
     "name": "stdout",
     "output_type": "stream",
     "text": [
      "flower_22.34%.png\n",
      "flower_22.36%.png\n",
      "flower_22.38%.png\n",
      "flower_22.40%.png\n"
     ]
    },
    {
     "name": "stderr",
     "output_type": "stream",
     "text": [
      "\r",
      " 22%|██▏       | 11210/50000 [01:13<03:49, 168.71it/s]"
     ]
    },
    {
     "name": "stdout",
     "output_type": "stream",
     "text": [
      "flower_22.42%.png\n",
      "flower_22.44%.png\n"
     ]
    },
    {
     "name": "stderr",
     "output_type": "stream",
     "text": [
      " 22%|██▎       | 11250/50000 [01:15<10:57, 58.89it/s] "
     ]
    },
    {
     "name": "stdout",
     "output_type": "stream",
     "text": [
      "flower_22.46%.png\n",
      "flower_22.48%.png\n",
      "flower_22.50%.png\n",
      "flower_22.52%.png\n"
     ]
    },
    {
     "name": "stderr",
     "output_type": "stream",
     "text": [
      " 23%|██▎       | 11290/50000 [01:15<07:27, 86.54it/s]"
     ]
    },
    {
     "name": "stdout",
     "output_type": "stream",
     "text": [
      "flower_22.54%.png\n",
      "flower_22.56%.png\n",
      "flower_22.58%.png\n",
      "flower_22.60%.png\n"
     ]
    },
    {
     "name": "stderr",
     "output_type": "stream",
     "text": [
      " 23%|██▎       | 11330/50000 [01:15<05:37, 114.64it/s]"
     ]
    },
    {
     "name": "stdout",
     "output_type": "stream",
     "text": [
      "flower_22.62%.png\n",
      "flower_22.64%.png\n",
      "flower_22.66%.png\n",
      "flower_22.68%.png\n"
     ]
    },
    {
     "name": "stderr",
     "output_type": "stream",
     "text": [
      " 23%|██▎       | 11370/50000 [01:15<04:45, 135.47it/s]"
     ]
    },
    {
     "name": "stdout",
     "output_type": "stream",
     "text": [
      "flower_22.70%.png\n",
      "flower_22.72%.png\n",
      "flower_22.74%.png\n",
      "flower_22.76%.png\n"
     ]
    },
    {
     "name": "stderr",
     "output_type": "stream",
     "text": [
      " 23%|██▎       | 11410/50000 [01:16<04:23, 146.63it/s]"
     ]
    },
    {
     "name": "stdout",
     "output_type": "stream",
     "text": [
      "flower_22.78%.png\n",
      "flower_22.80%.png\n",
      "flower_22.82%.png\n",
      "flower_22.84%.png\n"
     ]
    },
    {
     "name": "stderr",
     "output_type": "stream",
     "text": [
      " 23%|██▎       | 11450/50000 [01:16<04:14, 151.21it/s]"
     ]
    },
    {
     "name": "stdout",
     "output_type": "stream",
     "text": [
      "flower_22.86%.png\n",
      "flower_22.88%.png\n",
      "flower_22.90%.png\n",
      "flower_22.92%.png\n"
     ]
    },
    {
     "name": "stderr",
     "output_type": "stream",
     "text": [
      " 23%|██▎       | 11490/50000 [01:16<04:07, 155.35it/s]"
     ]
    },
    {
     "name": "stdout",
     "output_type": "stream",
     "text": [
      "flower_22.94%.png\n",
      "flower_22.96%.png\n",
      "flower_22.98%.png\n",
      "flower_23.00%.png\n"
     ]
    },
    {
     "name": "stderr",
     "output_type": "stream",
     "text": [
      " 23%|██▎       | 11530/50000 [01:16<03:59, 160.83it/s]"
     ]
    },
    {
     "name": "stdout",
     "output_type": "stream",
     "text": [
      "flower_23.02%.png\n",
      "flower_23.04%.png\n",
      "flower_23.06%.png\n",
      "flower_23.08%.png\n"
     ]
    },
    {
     "name": "stderr",
     "output_type": "stream",
     "text": [
      " 23%|██▎       | 11570/50000 [01:17<04:02, 158.22it/s]"
     ]
    },
    {
     "name": "stdout",
     "output_type": "stream",
     "text": [
      "flower_23.10%.png\n",
      "flower_23.12%.png\n",
      "flower_23.14%.png\n",
      "flower_23.16%.png\n"
     ]
    },
    {
     "name": "stderr",
     "output_type": "stream",
     "text": [
      " 23%|██▎       | 11610/50000 [01:17<03:56, 162.09it/s]"
     ]
    },
    {
     "name": "stdout",
     "output_type": "stream",
     "text": [
      "flower_23.18%.png\n",
      "flower_23.20%.png\n",
      "flower_23.22%.png\n",
      "flower_23.24%.png\n"
     ]
    },
    {
     "name": "stderr",
     "output_type": "stream",
     "text": [
      " 23%|██▎       | 11650/50000 [01:17<03:52, 164.60it/s]"
     ]
    },
    {
     "name": "stdout",
     "output_type": "stream",
     "text": [
      "flower_23.26%.png\n",
      "flower_23.28%.png\n",
      "flower_23.30%.png\n",
      "flower_23.32%.png\n"
     ]
    },
    {
     "name": "stderr",
     "output_type": "stream",
     "text": [
      " 23%|██▎       | 11690/50000 [01:17<03:49, 167.00it/s]"
     ]
    },
    {
     "name": "stdout",
     "output_type": "stream",
     "text": [
      "flower_23.34%.png\n",
      "flower_23.36%.png\n",
      "flower_23.38%.png\n",
      "flower_23.40%.png\n"
     ]
    },
    {
     "name": "stderr",
     "output_type": "stream",
     "text": [
      " 23%|██▎       | 11730/50000 [01:17<03:44, 170.41it/s]"
     ]
    },
    {
     "name": "stdout",
     "output_type": "stream",
     "text": [
      "flower_23.42%.png\n",
      "flower_23.44%.png\n",
      "flower_23.46%.png\n",
      "flower_23.48%.png\n"
     ]
    },
    {
     "name": "stderr",
     "output_type": "stream",
     "text": [
      " 24%|██▎       | 11770/50000 [01:18<03:38, 175.26it/s]"
     ]
    },
    {
     "name": "stdout",
     "output_type": "stream",
     "text": [
      "flower_23.50%.png\n",
      "flower_23.52%.png\n",
      "flower_23.54%.png\n",
      "flower_23.56%.png\n"
     ]
    },
    {
     "name": "stderr",
     "output_type": "stream",
     "text": [
      " 24%|██▎       | 11810/50000 [01:18<03:42, 171.80it/s]"
     ]
    },
    {
     "name": "stdout",
     "output_type": "stream",
     "text": [
      "flower_23.58%.png\n",
      "flower_23.60%.png\n",
      "flower_23.62%.png\n",
      "flower_23.64%.png\n"
     ]
    },
    {
     "name": "stderr",
     "output_type": "stream",
     "text": [
      " 24%|██▎       | 11850/50000 [01:18<03:38, 174.69it/s]"
     ]
    },
    {
     "name": "stdout",
     "output_type": "stream",
     "text": [
      "flower_23.66%.png\n",
      "flower_23.68%.png\n",
      "flower_23.70%.png\n",
      "flower_23.72%.png\n"
     ]
    },
    {
     "name": "stderr",
     "output_type": "stream",
     "text": [
      " 24%|██▍       | 11890/50000 [01:18<03:42, 171.23it/s]"
     ]
    },
    {
     "name": "stdout",
     "output_type": "stream",
     "text": [
      "flower_23.74%.png\n",
      "flower_23.76%.png\n",
      "flower_23.78%.png\n",
      "flower_23.80%.png\n"
     ]
    },
    {
     "name": "stderr",
     "output_type": "stream",
     "text": [
      " 24%|██▍       | 11930/50000 [01:19<03:32, 179.30it/s]"
     ]
    },
    {
     "name": "stdout",
     "output_type": "stream",
     "text": [
      "flower_23.82%.png\n",
      "flower_23.84%.png\n",
      "flower_23.86%.png\n",
      "flower_23.88%.png\n"
     ]
    },
    {
     "name": "stderr",
     "output_type": "stream",
     "text": [
      " 24%|██▍       | 11970/50000 [01:19<03:41, 171.67it/s]"
     ]
    },
    {
     "name": "stdout",
     "output_type": "stream",
     "text": [
      "flower_23.90%.png\n",
      "flower_23.92%.png\n",
      "flower_23.94%.png\n",
      "flower_23.96%.png\n"
     ]
    },
    {
     "name": "stderr",
     "output_type": "stream",
     "text": [
      " 24%|██▍       | 12010/50000 [01:19<03:53, 162.97it/s]"
     ]
    },
    {
     "name": "stdout",
     "output_type": "stream",
     "text": [
      "flower_23.98%.png\n",
      "flower_24.00%.png\n",
      "flower_24.02%.png\n",
      "flower_24.04%.png\n"
     ]
    },
    {
     "name": "stderr",
     "output_type": "stream",
     "text": [
      " 24%|██▍       | 12050/50000 [01:19<03:48, 165.99it/s]"
     ]
    },
    {
     "name": "stdout",
     "output_type": "stream",
     "text": [
      "flower_24.06%.png\n",
      "flower_24.08%.png\n",
      "flower_24.10%.png\n",
      "flower_24.12%.png\n"
     ]
    },
    {
     "name": "stderr",
     "output_type": "stream",
     "text": [
      " 24%|██▍       | 12090/50000 [01:20<03:40, 171.73it/s]"
     ]
    },
    {
     "name": "stdout",
     "output_type": "stream",
     "text": [
      "flower_24.14%.png\n",
      "flower_24.16%.png\n",
      "flower_24.18%.png\n",
      "flower_24.20%.png\n"
     ]
    },
    {
     "name": "stderr",
     "output_type": "stream",
     "text": [
      " 24%|██▍       | 12130/50000 [01:20<03:40, 171.96it/s]"
     ]
    },
    {
     "name": "stdout",
     "output_type": "stream",
     "text": [
      "flower_24.22%.png\n",
      "flower_24.24%.png\n",
      "flower_24.26%.png\n",
      "flower_24.28%.png\n"
     ]
    },
    {
     "name": "stderr",
     "output_type": "stream",
     "text": [
      " 24%|██▍       | 12170/50000 [01:20<03:44, 168.82it/s]"
     ]
    },
    {
     "name": "stdout",
     "output_type": "stream",
     "text": [
      "flower_24.30%.png\n",
      "flower_24.32%.png\n",
      "flower_24.34%.png\n",
      "flower_24.36%.png\n"
     ]
    },
    {
     "name": "stderr",
     "output_type": "stream",
     "text": [
      " 24%|██▍       | 12210/50000 [01:20<03:42, 169.92it/s]"
     ]
    },
    {
     "name": "stdout",
     "output_type": "stream",
     "text": [
      "flower_24.38%.png\n",
      "flower_24.40%.png\n",
      "flower_24.42%.png\n",
      "flower_24.44%.png\n"
     ]
    },
    {
     "name": "stderr",
     "output_type": "stream",
     "text": [
      " 24%|██▍       | 12250/50000 [01:21<03:43, 168.89it/s]"
     ]
    },
    {
     "name": "stdout",
     "output_type": "stream",
     "text": [
      "flower_24.46%.png\n",
      "flower_24.48%.png\n",
      "flower_24.50%.png\n",
      "flower_24.52%.png\n"
     ]
    },
    {
     "name": "stderr",
     "output_type": "stream",
     "text": [
      " 25%|██▍       | 12290/50000 [01:21<03:46, 166.44it/s]"
     ]
    },
    {
     "name": "stdout",
     "output_type": "stream",
     "text": [
      "flower_24.54%.png\n",
      "flower_24.56%.png\n",
      "flower_24.58%.png\n",
      "flower_24.60%.png\n"
     ]
    },
    {
     "name": "stderr",
     "output_type": "stream",
     "text": [
      " 25%|██▍       | 12330/50000 [01:21<03:41, 170.02it/s]"
     ]
    },
    {
     "name": "stdout",
     "output_type": "stream",
     "text": [
      "flower_24.62%.png\n",
      "flower_24.64%.png\n",
      "flower_24.66%.png\n",
      "flower_24.68%.png\n"
     ]
    },
    {
     "name": "stderr",
     "output_type": "stream",
     "text": [
      " 25%|██▍       | 12370/50000 [01:21<03:50, 162.99it/s]"
     ]
    },
    {
     "name": "stdout",
     "output_type": "stream",
     "text": [
      "flower_24.70%.png\n",
      "flower_24.72%.png\n",
      "flower_24.74%.png\n",
      "flower_24.76%.png\n"
     ]
    },
    {
     "name": "stderr",
     "output_type": "stream",
     "text": [
      " 25%|██▍       | 12410/50000 [01:21<03:41, 169.96it/s]"
     ]
    },
    {
     "name": "stdout",
     "output_type": "stream",
     "text": [
      "flower_24.78%.png\n",
      "flower_24.80%.png\n",
      "flower_24.82%.png\n",
      "flower_24.84%.png\n"
     ]
    },
    {
     "name": "stderr",
     "output_type": "stream",
     "text": [
      " 25%|██▍       | 12450/50000 [01:22<03:42, 168.89it/s]"
     ]
    },
    {
     "name": "stdout",
     "output_type": "stream",
     "text": [
      "flower_24.86%.png\n",
      "flower_24.88%.png\n",
      "flower_24.90%.png\n",
      "flower_24.92%.png\n"
     ]
    },
    {
     "name": "stderr",
     "output_type": "stream",
     "text": [
      " 25%|██▍       | 12490/50000 [01:22<03:51, 161.95it/s]"
     ]
    },
    {
     "name": "stdout",
     "output_type": "stream",
     "text": [
      "flower_24.94%.png\n",
      "flower_24.96%.png\n",
      "flower_24.98%.png\n",
      "flower_25.00%.png\n"
     ]
    },
    {
     "name": "stderr",
     "output_type": "stream",
     "text": [
      " 25%|██▌       | 12530/50000 [01:22<03:50, 162.34it/s]"
     ]
    },
    {
     "name": "stdout",
     "output_type": "stream",
     "text": [
      "flower_25.02%.png\n",
      "flower_25.04%.png\n",
      "flower_25.06%.png\n",
      "flower_25.08%.png\n"
     ]
    },
    {
     "name": "stderr",
     "output_type": "stream",
     "text": [
      " 25%|██▌       | 12570/50000 [01:22<03:53, 160.41it/s]"
     ]
    },
    {
     "name": "stdout",
     "output_type": "stream",
     "text": [
      "flower_25.10%.png\n",
      "flower_25.12%.png\n",
      "flower_25.14%.png\n",
      "flower_25.16%.png\n"
     ]
    },
    {
     "name": "stderr",
     "output_type": "stream",
     "text": [
      " 25%|██▌       | 12610/50000 [01:23<03:48, 163.93it/s]"
     ]
    },
    {
     "name": "stdout",
     "output_type": "stream",
     "text": [
      "flower_25.18%.png\n",
      "flower_25.20%.png\n",
      "flower_25.22%.png\n",
      "flower_25.24%.png\n"
     ]
    },
    {
     "name": "stderr",
     "output_type": "stream",
     "text": [
      " 25%|██▌       | 12650/50000 [01:23<03:40, 169.30it/s]"
     ]
    },
    {
     "name": "stdout",
     "output_type": "stream",
     "text": [
      "flower_25.26%.png\n",
      "flower_25.28%.png\n",
      "flower_25.30%.png\n",
      "flower_25.32%.png\n"
     ]
    },
    {
     "name": "stderr",
     "output_type": "stream",
     "text": [
      " 25%|██▌       | 12690/50000 [01:23<03:45, 165.22it/s]"
     ]
    },
    {
     "name": "stdout",
     "output_type": "stream",
     "text": [
      "flower_25.34%.png\n",
      "flower_25.36%.png\n",
      "flower_25.38%.png\n",
      "flower_25.40%.png\n"
     ]
    },
    {
     "name": "stderr",
     "output_type": "stream",
     "text": [
      " 25%|██▌       | 12730/50000 [01:23<03:43, 166.48it/s]"
     ]
    },
    {
     "name": "stdout",
     "output_type": "stream",
     "text": [
      "flower_25.42%.png\n",
      "flower_25.44%.png\n",
      "flower_25.46%.png\n",
      "flower_25.48%.png\n"
     ]
    },
    {
     "name": "stderr",
     "output_type": "stream",
     "text": [
      " 26%|██▌       | 12770/50000 [01:24<03:43, 166.39it/s]"
     ]
    },
    {
     "name": "stdout",
     "output_type": "stream",
     "text": [
      "flower_25.50%.png\n",
      "flower_25.52%.png\n",
      "flower_25.54%.png\n",
      "flower_25.56%.png\n"
     ]
    },
    {
     "name": "stderr",
     "output_type": "stream",
     "text": [
      " 26%|██▌       | 12810/50000 [01:24<03:39, 169.15it/s]"
     ]
    },
    {
     "name": "stdout",
     "output_type": "stream",
     "text": [
      "flower_25.58%.png\n",
      "flower_25.60%.png\n",
      "flower_25.62%.png\n",
      "flower_25.64%.png\n"
     ]
    },
    {
     "name": "stderr",
     "output_type": "stream",
     "text": [
      " 26%|██▌       | 12850/50000 [01:24<03:33, 174.02it/s]"
     ]
    },
    {
     "name": "stdout",
     "output_type": "stream",
     "text": [
      "flower_25.66%.png\n",
      "flower_25.68%.png\n",
      "flower_25.70%.png\n",
      "flower_25.72%.png\n"
     ]
    },
    {
     "name": "stderr",
     "output_type": "stream",
     "text": [
      " 26%|██▌       | 12890/50000 [01:24<03:41, 167.69it/s]"
     ]
    },
    {
     "name": "stdout",
     "output_type": "stream",
     "text": [
      "flower_25.74%.png\n",
      "flower_25.76%.png\n",
      "flower_25.78%.png\n",
      "flower_25.80%.png\n"
     ]
    },
    {
     "name": "stderr",
     "output_type": "stream",
     "text": [
      " 26%|██▌       | 12930/50000 [01:25<03:44, 165.39it/s]"
     ]
    },
    {
     "name": "stdout",
     "output_type": "stream",
     "text": [
      "flower_25.82%.png\n",
      "flower_25.84%.png\n",
      "flower_25.86%.png\n",
      "flower_25.88%.png\n"
     ]
    },
    {
     "name": "stderr",
     "output_type": "stream",
     "text": [
      " 26%|██▌       | 12970/50000 [01:25<03:44, 165.02it/s]"
     ]
    },
    {
     "name": "stdout",
     "output_type": "stream",
     "text": [
      "flower_25.90%.png\n",
      "flower_25.92%.png\n",
      "flower_25.94%.png\n",
      "flower_25.96%.png\n"
     ]
    },
    {
     "name": "stderr",
     "output_type": "stream",
     "text": [
      " 26%|██▌       | 13011/50000 [01:25<03:37, 169.69it/s]"
     ]
    },
    {
     "name": "stdout",
     "output_type": "stream",
     "text": [
      "flower_25.98%.png\n",
      "flower_26.00%.png\n",
      "flower_26.02%.png\n",
      "flower_26.04%.png\n"
     ]
    },
    {
     "name": "stderr",
     "output_type": "stream",
     "text": [
      " 26%|██▌       | 13051/50000 [01:25<03:26, 178.76it/s]"
     ]
    },
    {
     "name": "stdout",
     "output_type": "stream",
     "text": [
      "flower_26.06%.png\n",
      "flower_26.08%.png\n",
      "flower_26.10%.png\n",
      "flower_26.12%.png\n"
     ]
    },
    {
     "name": "stderr",
     "output_type": "stream",
     "text": [
      " 26%|██▌       | 13090/50000 [01:26<03:41, 166.27it/s]"
     ]
    },
    {
     "name": "stdout",
     "output_type": "stream",
     "text": [
      "flower_26.14%.png\n",
      "flower_26.16%.png\n",
      "flower_26.18%.png\n",
      "flower_26.20%.png\n"
     ]
    },
    {
     "name": "stderr",
     "output_type": "stream",
     "text": [
      " 26%|██▋       | 13130/50000 [01:26<03:43, 164.75it/s]"
     ]
    },
    {
     "name": "stdout",
     "output_type": "stream",
     "text": [
      "flower_26.22%.png\n",
      "flower_26.24%.png\n",
      "flower_26.26%.png\n",
      "flower_26.28%.png\n"
     ]
    },
    {
     "name": "stderr",
     "output_type": "stream",
     "text": [
      " 26%|██▋       | 13170/50000 [01:26<03:41, 166.58it/s]"
     ]
    },
    {
     "name": "stdout",
     "output_type": "stream",
     "text": [
      "flower_26.30%.png\n",
      "flower_26.32%.png\n",
      "flower_26.34%.png\n",
      "flower_26.36%.png\n"
     ]
    },
    {
     "name": "stderr",
     "output_type": "stream",
     "text": [
      " 26%|██▋       | 13210/50000 [01:26<03:38, 168.30it/s]"
     ]
    },
    {
     "name": "stdout",
     "output_type": "stream",
     "text": [
      "flower_26.38%.png\n",
      "flower_26.40%.png\n",
      "flower_26.42%.png\n",
      "flower_26.44%.png\n"
     ]
    },
    {
     "name": "stderr",
     "output_type": "stream",
     "text": [
      " 26%|██▋       | 13250/50000 [01:27<03:42, 165.46it/s]"
     ]
    },
    {
     "name": "stdout",
     "output_type": "stream",
     "text": [
      "flower_26.46%.png\n",
      "flower_26.48%.png\n",
      "flower_26.50%.png\n",
      "flower_26.52%.png\n"
     ]
    },
    {
     "name": "stderr",
     "output_type": "stream",
     "text": [
      " 27%|██▋       | 13290/50000 [01:27<03:41, 166.05it/s]"
     ]
    },
    {
     "name": "stdout",
     "output_type": "stream",
     "text": [
      "flower_26.54%.png\n",
      "flower_26.56%.png\n",
      "flower_26.58%.png\n",
      "flower_26.60%.png\n"
     ]
    },
    {
     "name": "stderr",
     "output_type": "stream",
     "text": [
      " 27%|██▋       | 13330/50000 [01:27<03:41, 165.87it/s]"
     ]
    },
    {
     "name": "stdout",
     "output_type": "stream",
     "text": [
      "flower_26.62%.png\n",
      "flower_26.64%.png\n",
      "flower_26.66%.png\n",
      "flower_26.68%.png\n"
     ]
    },
    {
     "name": "stderr",
     "output_type": "stream",
     "text": [
      " 27%|██▋       | 13370/50000 [01:27<03:43, 163.63it/s]"
     ]
    },
    {
     "name": "stdout",
     "output_type": "stream",
     "text": [
      "flower_26.70%.png\n",
      "flower_26.72%.png\n",
      "flower_26.74%.png\n",
      "flower_26.76%.png\n"
     ]
    },
    {
     "name": "stderr",
     "output_type": "stream",
     "text": [
      " 27%|██▋       | 13410/50000 [01:27<03:38, 167.72it/s]"
     ]
    },
    {
     "name": "stdout",
     "output_type": "stream",
     "text": [
      "flower_26.78%.png\n",
      "flower_26.80%.png\n",
      "flower_26.82%.png\n",
      "flower_26.84%.png\n"
     ]
    },
    {
     "name": "stderr",
     "output_type": "stream",
     "text": [
      " 27%|██▋       | 13450/50000 [01:28<03:38, 167.23it/s]"
     ]
    },
    {
     "name": "stdout",
     "output_type": "stream",
     "text": [
      "flower_26.86%.png\n",
      "flower_26.88%.png\n",
      "flower_26.90%.png\n",
      "flower_26.92%.png\n"
     ]
    },
    {
     "name": "stderr",
     "output_type": "stream",
     "text": [
      " 27%|██▋       | 13490/50000 [01:28<03:37, 168.07it/s]"
     ]
    },
    {
     "name": "stdout",
     "output_type": "stream",
     "text": [
      "flower_26.94%.png\n",
      "flower_26.96%.png\n",
      "flower_26.98%.png\n",
      "flower_27.00%.png\n"
     ]
    },
    {
     "name": "stderr",
     "output_type": "stream",
     "text": [
      " 27%|██▋       | 13530/50000 [01:28<03:36, 168.42it/s]"
     ]
    },
    {
     "name": "stdout",
     "output_type": "stream",
     "text": [
      "flower_27.02%.png\n",
      "flower_27.04%.png\n",
      "flower_27.06%.png\n",
      "flower_27.08%.png\n"
     ]
    },
    {
     "name": "stderr",
     "output_type": "stream",
     "text": [
      " 27%|██▋       | 13570/50000 [01:28<03:31, 172.45it/s]"
     ]
    },
    {
     "name": "stdout",
     "output_type": "stream",
     "text": [
      "flower_27.10%.png\n",
      "flower_27.12%.png\n",
      "flower_27.14%.png\n",
      "flower_27.16%.png\n"
     ]
    },
    {
     "name": "stderr",
     "output_type": "stream",
     "text": [
      " 27%|██▋       | 13610/50000 [01:29<03:30, 172.64it/s]"
     ]
    },
    {
     "name": "stdout",
     "output_type": "stream",
     "text": [
      "flower_27.18%.png\n",
      "flower_27.20%.png\n",
      "flower_27.22%.png\n",
      "flower_27.24%.png\n"
     ]
    },
    {
     "name": "stderr",
     "output_type": "stream",
     "text": [
      " 27%|██▋       | 13650/50000 [01:29<03:29, 173.37it/s]"
     ]
    },
    {
     "name": "stdout",
     "output_type": "stream",
     "text": [
      "flower_27.26%.png\n",
      "flower_27.28%.png\n",
      "flower_27.30%.png\n",
      "flower_27.32%.png\n"
     ]
    },
    {
     "name": "stderr",
     "output_type": "stream",
     "text": [
      " 27%|██▋       | 13690/50000 [01:29<03:31, 171.95it/s]"
     ]
    },
    {
     "name": "stdout",
     "output_type": "stream",
     "text": [
      "flower_27.34%.png\n",
      "flower_27.36%.png\n",
      "flower_27.38%.png\n",
      "flower_27.40%.png\n"
     ]
    },
    {
     "name": "stderr",
     "output_type": "stream",
     "text": [
      " 27%|██▋       | 13730/50000 [01:29<03:33, 169.51it/s]"
     ]
    },
    {
     "name": "stdout",
     "output_type": "stream",
     "text": [
      "flower_27.42%.png\n",
      "flower_27.44%.png\n",
      "flower_27.46%.png\n",
      "flower_27.48%.png\n"
     ]
    },
    {
     "name": "stderr",
     "output_type": "stream",
     "text": [
      " 28%|██▊       | 13770/50000 [01:30<03:37, 166.63it/s]"
     ]
    },
    {
     "name": "stdout",
     "output_type": "stream",
     "text": [
      "flower_27.50%.png\n",
      "flower_27.52%.png\n",
      "flower_27.54%.png\n",
      "flower_27.56%.png\n"
     ]
    },
    {
     "name": "stderr",
     "output_type": "stream",
     "text": [
      " 28%|██▊       | 13810/50000 [01:30<03:38, 165.46it/s]"
     ]
    },
    {
     "name": "stdout",
     "output_type": "stream",
     "text": [
      "flower_27.58%.png\n",
      "flower_27.60%.png\n",
      "flower_27.62%.png\n",
      "flower_27.64%.png\n"
     ]
    },
    {
     "name": "stderr",
     "output_type": "stream",
     "text": [
      " 28%|██▊       | 13851/50000 [01:30<03:24, 176.70it/s]"
     ]
    },
    {
     "name": "stdout",
     "output_type": "stream",
     "text": [
      "flower_27.66%.png\n",
      "flower_27.68%.png\n",
      "flower_27.70%.png\n",
      "flower_27.72%.png\n"
     ]
    },
    {
     "name": "stderr",
     "output_type": "stream",
     "text": [
      " 28%|██▊       | 13890/50000 [01:30<03:32, 169.63it/s]"
     ]
    },
    {
     "name": "stdout",
     "output_type": "stream",
     "text": [
      "flower_27.74%.png\n",
      "flower_27.76%.png\n",
      "flower_27.78%.png\n",
      "flower_27.80%.png\n"
     ]
    },
    {
     "name": "stderr",
     "output_type": "stream",
     "text": [
      " 28%|██▊       | 13930/50000 [01:31<03:36, 166.73it/s]"
     ]
    },
    {
     "name": "stdout",
     "output_type": "stream",
     "text": [
      "flower_27.82%.png\n",
      "flower_27.84%.png\n",
      "flower_27.86%.png\n",
      "flower_27.88%.png\n"
     ]
    },
    {
     "name": "stderr",
     "output_type": "stream",
     "text": [
      " 28%|██▊       | 13970/50000 [01:31<03:37, 165.78it/s]"
     ]
    },
    {
     "name": "stdout",
     "output_type": "stream",
     "text": [
      "flower_27.90%.png\n",
      "flower_27.92%.png\n",
      "flower_27.94%.png\n",
      "flower_27.96%.png\n"
     ]
    },
    {
     "name": "stderr",
     "output_type": "stream",
     "text": [
      " 28%|██▊       | 14010/50000 [01:31<03:37, 165.39it/s]"
     ]
    },
    {
     "name": "stdout",
     "output_type": "stream",
     "text": [
      "flower_27.98%.png\n",
      "flower_28.00%.png\n",
      "flower_28.02%.png\n",
      "flower_28.04%.png\n"
     ]
    },
    {
     "name": "stderr",
     "output_type": "stream",
     "text": [
      " 28%|██▊       | 14050/50000 [01:31<03:42, 161.26it/s]"
     ]
    },
    {
     "name": "stdout",
     "output_type": "stream",
     "text": [
      "flower_28.06%.png\n",
      "flower_28.08%.png\n",
      "flower_28.10%.png\n",
      "flower_28.12%.png\n"
     ]
    },
    {
     "name": "stderr",
     "output_type": "stream",
     "text": [
      "\r",
      " 28%|██▊       | 14070/50000 [01:31<03:41, 161.86it/s]"
     ]
    },
    {
     "name": "stdout",
     "output_type": "stream",
     "text": [
      "flower_28.14%.png\n"
     ]
    },
    {
     "name": "stderr",
     "output_type": "stream",
     "text": [
      " 28%|██▊       | 14100/50000 [01:33<13:29, 44.36it/s] "
     ]
    },
    {
     "name": "stdout",
     "output_type": "stream",
     "text": [
      "flower_28.16%.png\n",
      "flower_28.18%.png\n",
      "flower_28.20%.png\n"
     ]
    },
    {
     "name": "stderr",
     "output_type": "stream",
     "text": [
      " 28%|██▊       | 14140/50000 [01:33<08:08, 73.42it/s]"
     ]
    },
    {
     "name": "stdout",
     "output_type": "stream",
     "text": [
      "flower_28.22%.png\n",
      "flower_28.24%.png\n",
      "flower_28.26%.png\n",
      "flower_28.28%.png\n"
     ]
    },
    {
     "name": "stderr",
     "output_type": "stream",
     "text": [
      " 28%|██▊       | 14176/50000 [01:33<05:59, 99.58it/s]"
     ]
    },
    {
     "name": "stdout",
     "output_type": "stream",
     "text": [
      "flower_28.30%.png\n",
      "flower_28.32%.png\n",
      "flower_28.34%.png\n"
     ]
    },
    {
     "name": "stderr",
     "output_type": "stream",
     "text": [
      " 28%|██▊       | 14210/50000 [01:34<05:03, 117.76it/s]"
     ]
    },
    {
     "name": "stdout",
     "output_type": "stream",
     "text": [
      "flower_28.36%.png\n",
      "flower_28.38%.png\n",
      "flower_28.40%.png\n",
      "flower_28.42%.png\n"
     ]
    },
    {
     "name": "stderr",
     "output_type": "stream",
     "text": [
      " 28%|██▊       | 14250/50000 [01:34<04:11, 142.19it/s]"
     ]
    },
    {
     "name": "stdout",
     "output_type": "stream",
     "text": [
      "flower_28.44%.png\n",
      "flower_28.46%.png\n",
      "flower_28.48%.png\n",
      "flower_28.50%.png\n"
     ]
    },
    {
     "name": "stderr",
     "output_type": "stream",
     "text": [
      " 29%|██▊       | 14290/50000 [01:34<03:51, 154.04it/s]"
     ]
    },
    {
     "name": "stdout",
     "output_type": "stream",
     "text": [
      "flower_28.52%.png\n",
      "flower_28.54%.png\n",
      "flower_28.56%.png\n",
      "flower_28.58%.png\n"
     ]
    },
    {
     "name": "stderr",
     "output_type": "stream",
     "text": [
      "\r",
      " 29%|██▊       | 14310/50000 [01:34<03:44, 158.77it/s]"
     ]
    },
    {
     "name": "stdout",
     "output_type": "stream",
     "text": [
      "flower_28.60%.png\n",
      "flower_28.62%.png\n",
      "flower_28.64%.png\n",
      "flower_28.66%.png\n"
     ]
    },
    {
     "name": "stderr",
     "output_type": "stream",
     "text": [
      " 29%|██▊       | 14370/50000 [01:35<03:38, 163.01it/s]"
     ]
    },
    {
     "name": "stdout",
     "output_type": "stream",
     "text": [
      "flower_28.68%.png\n",
      "flower_28.70%.png\n",
      "flower_28.72%.png\n",
      "flower_28.74%.png\n"
     ]
    },
    {
     "name": "stderr",
     "output_type": "stream",
     "text": [
      " 29%|██▉       | 14410/50000 [01:35<03:35, 165.15it/s]"
     ]
    },
    {
     "name": "stdout",
     "output_type": "stream",
     "text": [
      "flower_28.76%.png\n",
      "flower_28.78%.png\n",
      "flower_28.80%.png\n",
      "flower_28.82%.png\n"
     ]
    },
    {
     "name": "stderr",
     "output_type": "stream",
     "text": [
      " 29%|██▉       | 14450/50000 [01:35<03:41, 160.32it/s]"
     ]
    },
    {
     "name": "stdout",
     "output_type": "stream",
     "text": [
      "flower_28.84%.png\n",
      "flower_28.86%.png\n",
      "flower_28.88%.png\n",
      "flower_28.90%.png\n"
     ]
    },
    {
     "name": "stderr",
     "output_type": "stream",
     "text": [
      "\r",
      " 29%|██▉       | 14470/50000 [01:35<03:41, 160.24it/s]"
     ]
    },
    {
     "name": "stdout",
     "output_type": "stream",
     "text": [
      "flower_28.92%.png\n",
      "flower_28.94%.png\n",
      "flower_28.96%.png\n",
      "flower_28.98%.png\n"
     ]
    },
    {
     "name": "stderr",
     "output_type": "stream",
     "text": [
      " 29%|██▉       | 14530/50000 [01:36<03:39, 161.63it/s]"
     ]
    },
    {
     "name": "stdout",
     "output_type": "stream",
     "text": [
      "flower_29.00%.png\n",
      "flower_29.02%.png\n",
      "flower_29.04%.png\n",
      "flower_29.06%.png\n"
     ]
    },
    {
     "name": "stderr",
     "output_type": "stream",
     "text": [
      " 29%|██▉       | 14570/50000 [01:36<03:39, 161.62it/s]"
     ]
    },
    {
     "name": "stdout",
     "output_type": "stream",
     "text": [
      "flower_29.08%.png\n",
      "flower_29.10%.png\n",
      "flower_29.12%.png\n",
      "flower_29.14%.png\n"
     ]
    },
    {
     "name": "stderr",
     "output_type": "stream",
     "text": [
      " 29%|██▉       | 14610/50000 [01:36<03:30, 167.74it/s]"
     ]
    },
    {
     "name": "stdout",
     "output_type": "stream",
     "text": [
      "flower_29.16%.png\n",
      "flower_29.18%.png\n",
      "flower_29.20%.png\n",
      "flower_29.22%.png\n"
     ]
    },
    {
     "name": "stderr",
     "output_type": "stream",
     "text": [
      " 29%|██▉       | 14650/50000 [01:36<03:29, 168.99it/s]"
     ]
    },
    {
     "name": "stdout",
     "output_type": "stream",
     "text": [
      "flower_29.24%.png\n",
      "flower_29.26%.png\n",
      "flower_29.28%.png\n",
      "flower_29.30%.png\n"
     ]
    },
    {
     "name": "stderr",
     "output_type": "stream",
     "text": [
      " 29%|██▉       | 14690/50000 [01:37<03:26, 170.59it/s]"
     ]
    },
    {
     "name": "stdout",
     "output_type": "stream",
     "text": [
      "flower_29.32%.png\n",
      "flower_29.34%.png\n",
      "flower_29.36%.png\n",
      "flower_29.38%.png\n"
     ]
    },
    {
     "name": "stderr",
     "output_type": "stream",
     "text": [
      " 29%|██▉       | 14730/50000 [01:37<03:28, 169.42it/s]"
     ]
    },
    {
     "name": "stdout",
     "output_type": "stream",
     "text": [
      "flower_29.40%.png\n",
      "flower_29.42%.png\n",
      "flower_29.44%.png\n",
      "flower_29.46%.png\n"
     ]
    },
    {
     "name": "stderr",
     "output_type": "stream",
     "text": [
      " 30%|██▉       | 14770/50000 [01:37<03:23, 173.05it/s]"
     ]
    },
    {
     "name": "stdout",
     "output_type": "stream",
     "text": [
      "flower_29.48%.png\n",
      "flower_29.50%.png\n",
      "flower_29.52%.png\n",
      "flower_29.54%.png\n"
     ]
    },
    {
     "name": "stderr",
     "output_type": "stream",
     "text": [
      " 30%|██▉       | 14810/50000 [01:37<03:26, 170.30it/s]"
     ]
    },
    {
     "name": "stdout",
     "output_type": "stream",
     "text": [
      "flower_29.56%.png\n",
      "flower_29.58%.png\n",
      "flower_29.60%.png\n",
      "flower_29.62%.png\n"
     ]
    },
    {
     "name": "stderr",
     "output_type": "stream",
     "text": [
      " 30%|██▉       | 14850/50000 [01:37<03:23, 172.42it/s]"
     ]
    },
    {
     "name": "stdout",
     "output_type": "stream",
     "text": [
      "flower_29.64%.png\n",
      "flower_29.66%.png\n",
      "flower_29.68%.png\n",
      "flower_29.70%.png\n"
     ]
    },
    {
     "name": "stderr",
     "output_type": "stream",
     "text": [
      "\r",
      " 30%|██▉       | 14870/50000 [01:38<03:25, 170.84it/s]"
     ]
    },
    {
     "name": "stdout",
     "output_type": "stream",
     "text": [
      "flower_29.72%.png\n",
      "flower_29.74%.png\n",
      "flower_29.76%.png\n",
      "flower_29.78%.png\n"
     ]
    },
    {
     "name": "stderr",
     "output_type": "stream",
     "text": [
      " 30%|██▉       | 14930/50000 [01:38<03:31, 165.62it/s]"
     ]
    },
    {
     "name": "stdout",
     "output_type": "stream",
     "text": [
      "flower_29.80%.png\n",
      "flower_29.82%.png\n",
      "flower_29.84%.png\n",
      "flower_29.86%.png\n"
     ]
    },
    {
     "name": "stderr",
     "output_type": "stream",
     "text": [
      " 30%|██▉       | 14970/50000 [01:38<03:32, 164.90it/s]"
     ]
    },
    {
     "name": "stdout",
     "output_type": "stream",
     "text": [
      "flower_29.88%.png\n",
      "flower_29.90%.png\n",
      "flower_29.92%.png\n",
      "flower_29.94%.png\n"
     ]
    },
    {
     "name": "stderr",
     "output_type": "stream",
     "text": [
      " 30%|███       | 15010/50000 [01:38<03:26, 169.55it/s]"
     ]
    },
    {
     "name": "stdout",
     "output_type": "stream",
     "text": [
      "flower_29.96%.png\n",
      "flower_29.98%.png\n",
      "flower_30.00%.png\n",
      "flower_30.02%.png\n"
     ]
    },
    {
     "name": "stderr",
     "output_type": "stream",
     "text": [
      " 30%|███       | 15050/50000 [01:39<03:29, 166.78it/s]"
     ]
    },
    {
     "name": "stdout",
     "output_type": "stream",
     "text": [
      "flower_30.04%.png\n",
      "flower_30.06%.png\n",
      "flower_30.08%.png\n",
      "flower_30.10%.png\n"
     ]
    },
    {
     "name": "stderr",
     "output_type": "stream",
     "text": [
      " 30%|███       | 15090/50000 [01:39<03:23, 171.34it/s]"
     ]
    },
    {
     "name": "stdout",
     "output_type": "stream",
     "text": [
      "flower_30.12%.png\n",
      "flower_30.14%.png\n",
      "flower_30.16%.png\n",
      "flower_30.18%.png\n"
     ]
    },
    {
     "name": "stderr",
     "output_type": "stream",
     "text": [
      " 30%|███       | 15130/50000 [01:39<03:33, 162.97it/s]"
     ]
    },
    {
     "name": "stdout",
     "output_type": "stream",
     "text": [
      "flower_30.20%.png\n",
      "flower_30.22%.png\n",
      "flower_30.24%.png\n",
      "flower_30.26%.png\n"
     ]
    },
    {
     "name": "stderr",
     "output_type": "stream",
     "text": [
      " 30%|███       | 15170/50000 [01:39<03:33, 162.94it/s]"
     ]
    },
    {
     "name": "stdout",
     "output_type": "stream",
     "text": [
      "flower_30.28%.png\n",
      "flower_30.30%.png\n",
      "flower_30.32%.png\n",
      "flower_30.34%.png\n"
     ]
    },
    {
     "name": "stderr",
     "output_type": "stream",
     "text": [
      " 30%|███       | 15210/50000 [01:40<03:33, 163.13it/s]"
     ]
    },
    {
     "name": "stdout",
     "output_type": "stream",
     "text": [
      "flower_30.36%.png\n",
      "flower_30.38%.png\n",
      "flower_30.40%.png\n",
      "flower_30.42%.png\n"
     ]
    },
    {
     "name": "stderr",
     "output_type": "stream",
     "text": [
      " 30%|███       | 15250/50000 [01:40<03:32, 163.91it/s]"
     ]
    },
    {
     "name": "stdout",
     "output_type": "stream",
     "text": [
      "flower_30.44%.png\n",
      "flower_30.46%.png\n",
      "flower_30.48%.png\n",
      "flower_30.50%.png\n"
     ]
    },
    {
     "name": "stderr",
     "output_type": "stream",
     "text": [
      " 31%|███       | 15290/50000 [01:40<03:26, 167.85it/s]"
     ]
    },
    {
     "name": "stdout",
     "output_type": "stream",
     "text": [
      "flower_30.52%.png\n",
      "flower_30.54%.png\n",
      "flower_30.56%.png\n",
      "flower_30.58%.png\n"
     ]
    },
    {
     "name": "stderr",
     "output_type": "stream",
     "text": [
      " 31%|███       | 15330/50000 [01:40<03:19, 173.86it/s]"
     ]
    },
    {
     "name": "stdout",
     "output_type": "stream",
     "text": [
      "flower_30.60%.png\n",
      "flower_30.62%.png\n",
      "flower_30.64%.png\n",
      "flower_30.66%.png\n"
     ]
    },
    {
     "name": "stderr",
     "output_type": "stream",
     "text": [
      " 31%|███       | 15370/50000 [01:41<03:16, 176.64it/s]"
     ]
    },
    {
     "name": "stdout",
     "output_type": "stream",
     "text": [
      "flower_30.68%.png\n",
      "flower_30.70%.png\n",
      "flower_30.72%.png\n",
      "flower_30.74%.png\n"
     ]
    },
    {
     "name": "stderr",
     "output_type": "stream",
     "text": [
      " 31%|███       | 15410/50000 [01:41<03:20, 172.34it/s]"
     ]
    },
    {
     "name": "stdout",
     "output_type": "stream",
     "text": [
      "flower_30.76%.png\n",
      "flower_30.78%.png\n",
      "flower_30.80%.png\n",
      "flower_30.82%.png\n"
     ]
    },
    {
     "name": "stderr",
     "output_type": "stream",
     "text": [
      " 31%|███       | 15450/50000 [01:41<03:24, 169.14it/s]"
     ]
    },
    {
     "name": "stdout",
     "output_type": "stream",
     "text": [
      "flower_30.84%.png\n",
      "flower_30.86%.png\n",
      "flower_30.88%.png\n",
      "flower_30.90%.png\n"
     ]
    },
    {
     "name": "stderr",
     "output_type": "stream",
     "text": [
      " 31%|███       | 15490/50000 [01:41<03:21, 171.15it/s]"
     ]
    },
    {
     "name": "stdout",
     "output_type": "stream",
     "text": [
      "flower_30.92%.png\n",
      "flower_30.94%.png\n",
      "flower_30.96%.png\n",
      "flower_30.98%.png\n"
     ]
    },
    {
     "name": "stderr",
     "output_type": "stream",
     "text": [
      " 31%|███       | 15530/50000 [01:42<03:23, 169.68it/s]"
     ]
    },
    {
     "name": "stdout",
     "output_type": "stream",
     "text": [
      "flower_31.00%.png\n",
      "flower_31.02%.png\n",
      "flower_31.04%.png\n",
      "flower_31.06%.png\n"
     ]
    },
    {
     "name": "stderr",
     "output_type": "stream",
     "text": [
      " 31%|███       | 15570/50000 [01:42<03:16, 175.10it/s]"
     ]
    },
    {
     "name": "stdout",
     "output_type": "stream",
     "text": [
      "flower_31.08%.png\n",
      "flower_31.10%.png\n",
      "flower_31.12%.png\n",
      "flower_31.14%.png\n"
     ]
    },
    {
     "name": "stderr",
     "output_type": "stream",
     "text": [
      "\r",
      " 31%|███       | 15590/50000 [01:42<03:22, 169.88it/s]"
     ]
    },
    {
     "name": "stdout",
     "output_type": "stream",
     "text": [
      "flower_31.16%.png\n",
      "flower_31.18%.png\n"
     ]
    },
    {
     "name": "stderr",
     "output_type": "stream",
     "text": [
      "\r",
      " 31%|███       | 15608/50000 [01:42<05:20, 107.22it/s]"
     ]
    },
    {
     "name": "stdout",
     "output_type": "stream",
     "text": [
      "flower_31.20%.png\n",
      "flower_31.22%.png\n"
     ]
    },
    {
     "name": "stderr",
     "output_type": "stream",
     "text": [
      " 31%|███▏      | 15633/50000 [01:43<07:40, 74.68it/s] "
     ]
    },
    {
     "name": "stdout",
     "output_type": "stream",
     "text": [
      "flower_31.24%.png\n",
      "flower_31.26%.png\n"
     ]
    },
    {
     "name": "stderr",
     "output_type": "stream",
     "text": [
      " 31%|███▏      | 15670/50000 [01:43<05:23, 106.18it/s]"
     ]
    },
    {
     "name": "stdout",
     "output_type": "stream",
     "text": [
      "flower_31.28%.png\n",
      "flower_31.30%.png\n",
      "flower_31.32%.png\n",
      "flower_31.34%.png\n"
     ]
    },
    {
     "name": "stderr",
     "output_type": "stream",
     "text": [
      " 31%|███▏      | 15710/50000 [01:43<04:19, 132.09it/s]"
     ]
    },
    {
     "name": "stdout",
     "output_type": "stream",
     "text": [
      "flower_31.36%.png\n",
      "flower_31.38%.png\n",
      "flower_31.40%.png\n",
      "flower_31.42%.png\n"
     ]
    },
    {
     "name": "stderr",
     "output_type": "stream",
     "text": [
      " 32%|███▏      | 15750/50000 [01:43<03:51, 147.90it/s]"
     ]
    },
    {
     "name": "stdout",
     "output_type": "stream",
     "text": [
      "flower_31.44%.png\n",
      "flower_31.46%.png\n",
      "flower_31.48%.png\n",
      "flower_31.50%.png\n"
     ]
    },
    {
     "name": "stderr",
     "output_type": "stream",
     "text": [
      " 32%|███▏      | 15790/50000 [01:44<03:34, 159.47it/s]"
     ]
    },
    {
     "name": "stdout",
     "output_type": "stream",
     "text": [
      "flower_31.52%.png\n",
      "flower_31.54%.png\n",
      "flower_31.56%.png\n",
      "flower_31.58%.png\n"
     ]
    },
    {
     "name": "stderr",
     "output_type": "stream",
     "text": [
      " 32%|███▏      | 15830/50000 [01:44<03:31, 161.74it/s]"
     ]
    },
    {
     "name": "stdout",
     "output_type": "stream",
     "text": [
      "flower_31.60%.png\n",
      "flower_31.62%.png\n",
      "flower_31.64%.png\n",
      "flower_31.66%.png\n"
     ]
    },
    {
     "name": "stderr",
     "output_type": "stream",
     "text": [
      " 32%|███▏      | 15870/50000 [01:44<03:29, 162.59it/s]"
     ]
    },
    {
     "name": "stdout",
     "output_type": "stream",
     "text": [
      "flower_31.68%.png\n",
      "flower_31.70%.png\n",
      "flower_31.72%.png\n",
      "flower_31.74%.png\n"
     ]
    },
    {
     "name": "stderr",
     "output_type": "stream",
     "text": [
      " 32%|███▏      | 15910/50000 [01:44<03:33, 159.94it/s]"
     ]
    },
    {
     "name": "stdout",
     "output_type": "stream",
     "text": [
      "flower_31.76%.png\n",
      "flower_31.78%.png\n",
      "flower_31.80%.png\n",
      "flower_31.82%.png\n"
     ]
    },
    {
     "name": "stderr",
     "output_type": "stream",
     "text": [
      " 32%|███▏      | 15950/50000 [01:45<03:27, 163.76it/s]"
     ]
    },
    {
     "name": "stdout",
     "output_type": "stream",
     "text": [
      "flower_31.84%.png\n",
      "flower_31.86%.png\n",
      "flower_31.88%.png\n",
      "flower_31.90%.png\n"
     ]
    },
    {
     "name": "stderr",
     "output_type": "stream",
     "text": [
      " 32%|███▏      | 15990/50000 [01:45<03:24, 166.21it/s]"
     ]
    },
    {
     "name": "stdout",
     "output_type": "stream",
     "text": [
      "flower_31.92%.png\n",
      "flower_31.94%.png\n",
      "flower_31.96%.png\n",
      "flower_31.98%.png\n"
     ]
    },
    {
     "name": "stderr",
     "output_type": "stream",
     "text": [
      " 32%|███▏      | 16030/50000 [01:45<03:24, 166.50it/s]"
     ]
    },
    {
     "name": "stdout",
     "output_type": "stream",
     "text": [
      "flower_32.00%.png\n",
      "flower_32.02%.png\n",
      "flower_32.04%.png\n",
      "flower_32.06%.png\n"
     ]
    },
    {
     "name": "stderr",
     "output_type": "stream",
     "text": [
      " 32%|███▏      | 16070/50000 [01:45<03:20, 169.13it/s]"
     ]
    },
    {
     "name": "stdout",
     "output_type": "stream",
     "text": [
      "flower_32.08%.png\n",
      "flower_32.10%.png\n",
      "flower_32.12%.png\n",
      "flower_32.14%.png\n"
     ]
    },
    {
     "name": "stderr",
     "output_type": "stream",
     "text": [
      " 32%|███▏      | 16110/50000 [01:46<03:21, 167.99it/s]"
     ]
    },
    {
     "name": "stdout",
     "output_type": "stream",
     "text": [
      "flower_32.16%.png\n",
      "flower_32.18%.png\n",
      "flower_32.20%.png\n",
      "flower_32.22%.png\n"
     ]
    },
    {
     "name": "stderr",
     "output_type": "stream",
     "text": [
      " 32%|███▏      | 16150/50000 [01:46<03:24, 165.42it/s]"
     ]
    },
    {
     "name": "stdout",
     "output_type": "stream",
     "text": [
      "flower_32.24%.png\n",
      "flower_32.26%.png\n",
      "flower_32.28%.png\n",
      "flower_32.30%.png\n"
     ]
    },
    {
     "name": "stderr",
     "output_type": "stream",
     "text": [
      " 32%|███▏      | 16190/50000 [01:46<03:18, 170.53it/s]"
     ]
    },
    {
     "name": "stdout",
     "output_type": "stream",
     "text": [
      "flower_32.32%.png\n",
      "flower_32.34%.png\n",
      "flower_32.36%.png\n",
      "flower_32.38%.png\n"
     ]
    },
    {
     "name": "stderr",
     "output_type": "stream",
     "text": [
      " 32%|███▏      | 16230/50000 [01:46<03:22, 167.01it/s]"
     ]
    },
    {
     "name": "stdout",
     "output_type": "stream",
     "text": [
      "flower_32.40%.png\n",
      "flower_32.42%.png\n",
      "flower_32.44%.png\n",
      "flower_32.46%.png\n"
     ]
    },
    {
     "name": "stderr",
     "output_type": "stream",
     "text": [
      " 33%|███▎      | 16270/50000 [01:47<03:23, 165.70it/s]"
     ]
    },
    {
     "name": "stdout",
     "output_type": "stream",
     "text": [
      "flower_32.48%.png\n",
      "flower_32.50%.png\n",
      "flower_32.52%.png\n",
      "flower_32.54%.png\n"
     ]
    },
    {
     "name": "stderr",
     "output_type": "stream",
     "text": [
      " 33%|███▎      | 16310/50000 [01:47<03:15, 172.13it/s]"
     ]
    },
    {
     "name": "stdout",
     "output_type": "stream",
     "text": [
      "flower_32.56%.png\n",
      "flower_32.58%.png\n",
      "flower_32.60%.png\n",
      "flower_32.62%.png\n"
     ]
    },
    {
     "name": "stderr",
     "output_type": "stream",
     "text": [
      " 33%|███▎      | 16350/50000 [01:47<03:24, 164.80it/s]"
     ]
    },
    {
     "name": "stdout",
     "output_type": "stream",
     "text": [
      "flower_32.64%.png\n",
      "flower_32.66%.png\n",
      "flower_32.68%.png\n",
      "flower_32.70%.png\n"
     ]
    },
    {
     "name": "stderr",
     "output_type": "stream",
     "text": [
      " 33%|███▎      | 16390/50000 [01:47<03:16, 170.82it/s]"
     ]
    },
    {
     "name": "stdout",
     "output_type": "stream",
     "text": [
      "flower_32.72%.png\n",
      "flower_32.74%.png\n",
      "flower_32.76%.png\n",
      "flower_32.78%.png\n"
     ]
    },
    {
     "name": "stderr",
     "output_type": "stream",
     "text": [
      "\r",
      " 33%|███▎      | 16410/50000 [01:47<03:21, 166.87it/s]"
     ]
    },
    {
     "name": "stdout",
     "output_type": "stream",
     "text": [
      "flower_32.80%.png\n",
      "flower_32.82%.png\n",
      "flower_32.84%.png\n",
      "flower_32.86%.png\n"
     ]
    },
    {
     "name": "stderr",
     "output_type": "stream",
     "text": [
      " 33%|███▎      | 16470/50000 [01:48<03:25, 162.80it/s]"
     ]
    },
    {
     "name": "stdout",
     "output_type": "stream",
     "text": [
      "flower_32.88%.png\n",
      "flower_32.90%.png\n",
      "flower_32.92%.png\n",
      "flower_32.94%.png\n"
     ]
    },
    {
     "name": "stderr",
     "output_type": "stream",
     "text": [
      " 33%|███▎      | 16510/50000 [01:48<03:25, 162.78it/s]"
     ]
    },
    {
     "name": "stdout",
     "output_type": "stream",
     "text": [
      "flower_32.96%.png\n",
      "flower_32.98%.png\n",
      "flower_33.00%.png\n",
      "flower_33.02%.png\n"
     ]
    },
    {
     "name": "stderr",
     "output_type": "stream",
     "text": [
      " 33%|███▎      | 16550/50000 [01:48<03:24, 163.76it/s]"
     ]
    },
    {
     "name": "stdout",
     "output_type": "stream",
     "text": [
      "flower_33.04%.png\n",
      "flower_33.06%.png\n",
      "flower_33.08%.png\n",
      "flower_33.10%.png\n"
     ]
    },
    {
     "name": "stderr",
     "output_type": "stream",
     "text": [
      " 33%|███▎      | 16590/50000 [01:48<03:23, 164.02it/s]"
     ]
    },
    {
     "name": "stdout",
     "output_type": "stream",
     "text": [
      "flower_33.12%.png\n",
      "flower_33.14%.png\n",
      "flower_33.16%.png\n",
      "flower_33.18%.png\n"
     ]
    },
    {
     "name": "stderr",
     "output_type": "stream",
     "text": [
      " 33%|███▎      | 16630/50000 [01:49<03:20, 166.42it/s]"
     ]
    },
    {
     "name": "stdout",
     "output_type": "stream",
     "text": [
      "flower_33.20%.png\n",
      "flower_33.22%.png\n",
      "flower_33.24%.png\n",
      "flower_33.26%.png\n"
     ]
    },
    {
     "name": "stderr",
     "output_type": "stream",
     "text": [
      " 33%|███▎      | 16670/50000 [01:49<03:20, 166.40it/s]"
     ]
    },
    {
     "name": "stdout",
     "output_type": "stream",
     "text": [
      "flower_33.28%.png\n",
      "flower_33.30%.png\n",
      "flower_33.32%.png\n",
      "flower_33.34%.png\n"
     ]
    },
    {
     "name": "stderr",
     "output_type": "stream",
     "text": [
      " 33%|███▎      | 16710/50000 [01:49<03:23, 163.37it/s]"
     ]
    },
    {
     "name": "stdout",
     "output_type": "stream",
     "text": [
      "flower_33.36%.png\n",
      "flower_33.38%.png\n",
      "flower_33.40%.png\n",
      "flower_33.42%.png\n"
     ]
    },
    {
     "name": "stderr",
     "output_type": "stream",
     "text": [
      " 34%|███▎      | 16750/50000 [01:49<03:24, 162.64it/s]"
     ]
    },
    {
     "name": "stdout",
     "output_type": "stream",
     "text": [
      "flower_33.44%.png\n",
      "flower_33.46%.png\n",
      "flower_33.48%.png\n",
      "flower_33.50%.png\n"
     ]
    },
    {
     "name": "stderr",
     "output_type": "stream",
     "text": [
      " 34%|███▎      | 16790/50000 [01:50<03:20, 166.00it/s]"
     ]
    },
    {
     "name": "stdout",
     "output_type": "stream",
     "text": [
      "flower_33.52%.png\n",
      "flower_33.54%.png\n",
      "flower_33.56%.png\n",
      "flower_33.58%.png\n"
     ]
    },
    {
     "name": "stderr",
     "output_type": "stream",
     "text": [
      " 34%|███▎      | 16830/50000 [01:50<03:24, 162.05it/s]"
     ]
    },
    {
     "name": "stdout",
     "output_type": "stream",
     "text": [
      "flower_33.60%.png\n",
      "flower_33.62%.png\n",
      "flower_33.64%.png\n",
      "flower_33.66%.png\n"
     ]
    },
    {
     "name": "stderr",
     "output_type": "stream",
     "text": [
      " 34%|███▎      | 16870/50000 [01:50<03:24, 162.39it/s]"
     ]
    },
    {
     "name": "stdout",
     "output_type": "stream",
     "text": [
      "flower_33.68%.png\n",
      "flower_33.70%.png\n",
      "flower_33.72%.png\n",
      "flower_33.74%.png\n"
     ]
    },
    {
     "name": "stderr",
     "output_type": "stream",
     "text": [
      " 34%|███▍      | 16910/50000 [01:50<03:20, 165.43it/s]"
     ]
    },
    {
     "name": "stdout",
     "output_type": "stream",
     "text": [
      "flower_33.76%.png\n",
      "flower_33.78%.png\n",
      "flower_33.80%.png\n",
      "flower_33.82%.png\n"
     ]
    },
    {
     "name": "stderr",
     "output_type": "stream",
     "text": [
      " 34%|███▍      | 16950/50000 [01:51<03:15, 169.06it/s]"
     ]
    },
    {
     "name": "stdout",
     "output_type": "stream",
     "text": [
      "flower_33.84%.png\n",
      "flower_33.86%.png\n",
      "flower_33.88%.png\n",
      "flower_33.90%.png\n"
     ]
    },
    {
     "name": "stderr",
     "output_type": "stream",
     "text": [
      " 34%|███▍      | 16990/50000 [01:51<03:23, 162.26it/s]"
     ]
    },
    {
     "name": "stdout",
     "output_type": "stream",
     "text": [
      "flower_33.92%.png\n",
      "flower_33.94%.png\n",
      "flower_33.96%.png\n",
      "flower_33.98%.png\n"
     ]
    },
    {
     "name": "stderr",
     "output_type": "stream",
     "text": [
      " 34%|███▍      | 17030/50000 [01:51<03:21, 163.22it/s]"
     ]
    },
    {
     "name": "stdout",
     "output_type": "stream",
     "text": [
      "flower_34.00%.png\n",
      "flower_34.02%.png\n",
      "flower_34.04%.png\n",
      "flower_34.06%.png\n"
     ]
    },
    {
     "name": "stderr",
     "output_type": "stream",
     "text": [
      " 34%|███▍      | 17070/50000 [01:51<03:22, 162.56it/s]"
     ]
    },
    {
     "name": "stdout",
     "output_type": "stream",
     "text": [
      "flower_34.08%.png\n",
      "flower_34.10%.png\n",
      "flower_34.12%.png\n",
      "flower_34.14%.png\n"
     ]
    },
    {
     "name": "stderr",
     "output_type": "stream",
     "text": [
      " 34%|███▍      | 17110/50000 [01:52<03:21, 162.96it/s]"
     ]
    },
    {
     "name": "stdout",
     "output_type": "stream",
     "text": [
      "flower_34.16%.png\n",
      "flower_34.18%.png\n",
      "flower_34.20%.png\n",
      "flower_34.22%.png\n"
     ]
    },
    {
     "name": "stderr",
     "output_type": "stream",
     "text": [
      " 34%|███▍      | 17150/50000 [01:52<03:23, 161.55it/s]"
     ]
    },
    {
     "name": "stdout",
     "output_type": "stream",
     "text": [
      "flower_34.24%.png\n",
      "flower_34.26%.png\n",
      "flower_34.28%.png\n",
      "flower_34.30%.png\n"
     ]
    },
    {
     "name": "stderr",
     "output_type": "stream",
     "text": [
      " 34%|███▍      | 17190/50000 [01:52<03:14, 168.74it/s]"
     ]
    },
    {
     "name": "stdout",
     "output_type": "stream",
     "text": [
      "flower_34.32%.png\n",
      "flower_34.34%.png\n",
      "flower_34.36%.png\n",
      "flower_34.38%.png\n"
     ]
    },
    {
     "name": "stderr",
     "output_type": "stream",
     "text": [
      " 34%|███▍      | 17230/50000 [01:52<03:16, 166.91it/s]"
     ]
    },
    {
     "name": "stdout",
     "output_type": "stream",
     "text": [
      "flower_34.40%.png\n",
      "flower_34.42%.png\n",
      "flower_34.44%.png\n",
      "flower_34.46%.png\n"
     ]
    },
    {
     "name": "stderr",
     "output_type": "stream",
     "text": [
      " 35%|███▍      | 17270/50000 [01:53<03:18, 165.25it/s]"
     ]
    },
    {
     "name": "stdout",
     "output_type": "stream",
     "text": [
      "flower_34.48%.png\n",
      "flower_34.50%.png\n",
      "flower_34.52%.png\n",
      "flower_34.54%.png\n"
     ]
    },
    {
     "name": "stderr",
     "output_type": "stream",
     "text": [
      " 35%|███▍      | 17310/50000 [01:53<03:18, 164.50it/s]"
     ]
    },
    {
     "name": "stdout",
     "output_type": "stream",
     "text": [
      "flower_34.56%.png\n",
      "flower_34.58%.png\n",
      "flower_34.60%.png\n",
      "flower_34.62%.png\n"
     ]
    },
    {
     "name": "stderr",
     "output_type": "stream",
     "text": [
      " 35%|███▍      | 17350/50000 [01:53<03:19, 164.06it/s]"
     ]
    },
    {
     "name": "stdout",
     "output_type": "stream",
     "text": [
      "flower_34.64%.png\n",
      "flower_34.66%.png\n",
      "flower_34.68%.png\n",
      "flower_34.70%.png\n"
     ]
    },
    {
     "name": "stderr",
     "output_type": "stream",
     "text": [
      " 35%|███▍      | 17390/50000 [01:53<03:18, 164.28it/s]"
     ]
    },
    {
     "name": "stdout",
     "output_type": "stream",
     "text": [
      "flower_34.72%.png\n",
      "flower_34.74%.png\n",
      "flower_34.76%.png\n",
      "flower_34.78%.png\n"
     ]
    },
    {
     "name": "stderr",
     "output_type": "stream",
     "text": [
      " 35%|███▍      | 17430/50000 [01:54<03:16, 165.70it/s]"
     ]
    },
    {
     "name": "stdout",
     "output_type": "stream",
     "text": [
      "flower_34.80%.png\n",
      "flower_34.82%.png\n",
      "flower_34.84%.png\n",
      "flower_34.86%.png\n"
     ]
    },
    {
     "name": "stderr",
     "output_type": "stream",
     "text": [
      " 35%|███▍      | 17467/50000 [01:54<03:18, 163.56it/s]"
     ]
    },
    {
     "name": "stdout",
     "output_type": "stream",
     "text": [
      "flower_34.88%.png\n",
      "flower_34.90%.png\n",
      "flower_34.92%.png\n"
     ]
    },
    {
     "name": "stderr",
     "output_type": "stream",
     "text": [
      " 35%|███▌      | 17500/50000 [01:54<03:29, 154.83it/s]"
     ]
    },
    {
     "name": "stdout",
     "output_type": "stream",
     "text": [
      "flower_34.94%.png\n",
      "flower_34.96%.png\n",
      "flower_34.98%.png\n",
      "flower_35.00%.png\n"
     ]
    },
    {
     "name": "stderr",
     "output_type": "stream",
     "text": [
      " 35%|███▌      | 17540/50000 [01:54<03:23, 159.79it/s]"
     ]
    },
    {
     "name": "stdout",
     "output_type": "stream",
     "text": [
      "flower_35.02%.png\n",
      "flower_35.04%.png\n",
      "flower_35.06%.png\n",
      "flower_35.08%.png\n"
     ]
    },
    {
     "name": "stderr",
     "output_type": "stream",
     "text": [
      " 35%|███▌      | 17580/50000 [01:55<03:20, 161.88it/s]"
     ]
    },
    {
     "name": "stdout",
     "output_type": "stream",
     "text": [
      "flower_35.10%.png\n",
      "flower_35.12%.png\n",
      "flower_35.14%.png\n",
      "flower_35.16%.png\n"
     ]
    },
    {
     "name": "stderr",
     "output_type": "stream",
     "text": [
      "\r",
      " 35%|███▌      | 17600/50000 [01:55<03:22, 160.06it/s]"
     ]
    },
    {
     "name": "stdout",
     "output_type": "stream",
     "text": [
      "flower_35.18%.png\n",
      "flower_35.20%.png\n"
     ]
    },
    {
     "name": "stderr",
     "output_type": "stream",
     "text": [
      " 35%|███▌      | 17630/50000 [01:56<14:07, 38.19it/s] "
     ]
    },
    {
     "name": "stdout",
     "output_type": "stream",
     "text": [
      "flower_35.22%.png\n",
      "flower_35.24%.png\n",
      "flower_35.26%.png\n",
      "flower_35.28%.png\n"
     ]
    },
    {
     "name": "stderr",
     "output_type": "stream",
     "text": [
      " 35%|███▌      | 17670/50000 [01:57<08:02, 67.00it/s]"
     ]
    },
    {
     "name": "stdout",
     "output_type": "stream",
     "text": [
      "flower_35.30%.png\n",
      "flower_35.32%.png\n",
      "flower_35.34%.png\n",
      "flower_35.36%.png\n"
     ]
    },
    {
     "name": "stderr",
     "output_type": "stream",
     "text": [
      " 35%|███▌      | 17710/50000 [01:57<05:30, 97.62it/s]"
     ]
    },
    {
     "name": "stdout",
     "output_type": "stream",
     "text": [
      "flower_35.38%.png\n",
      "flower_35.40%.png\n",
      "flower_35.42%.png\n",
      "flower_35.44%.png\n"
     ]
    },
    {
     "name": "stderr",
     "output_type": "stream",
     "text": [
      " 36%|███▌      | 17750/50000 [01:57<04:20, 123.80it/s]"
     ]
    },
    {
     "name": "stdout",
     "output_type": "stream",
     "text": [
      "flower_35.46%.png\n",
      "flower_35.48%.png\n",
      "flower_35.50%.png\n",
      "flower_35.52%.png\n"
     ]
    },
    {
     "name": "stderr",
     "output_type": "stream",
     "text": [
      " 36%|███▌      | 17790/50000 [01:57<03:47, 141.50it/s]"
     ]
    },
    {
     "name": "stdout",
     "output_type": "stream",
     "text": [
      "flower_35.54%.png\n",
      "flower_35.56%.png\n",
      "flower_35.58%.png\n",
      "flower_35.60%.png\n"
     ]
    },
    {
     "name": "stderr",
     "output_type": "stream",
     "text": [
      " 36%|███▌      | 17830/50000 [01:58<03:26, 155.69it/s]"
     ]
    },
    {
     "name": "stdout",
     "output_type": "stream",
     "text": [
      "flower_35.62%.png\n",
      "flower_35.64%.png\n",
      "flower_35.66%.png\n",
      "flower_35.68%.png\n"
     ]
    },
    {
     "name": "stderr",
     "output_type": "stream",
     "text": [
      " 36%|███▌      | 17870/50000 [01:58<03:26, 155.83it/s]"
     ]
    },
    {
     "name": "stdout",
     "output_type": "stream",
     "text": [
      "flower_35.70%.png\n",
      "flower_35.72%.png\n",
      "flower_35.74%.png\n",
      "flower_35.76%.png\n"
     ]
    },
    {
     "name": "stderr",
     "output_type": "stream",
     "text": [
      " 36%|███▌      | 17910/50000 [01:58<03:16, 163.65it/s]"
     ]
    },
    {
     "name": "stdout",
     "output_type": "stream",
     "text": [
      "flower_35.78%.png\n",
      "flower_35.80%.png\n",
      "flower_35.82%.png\n",
      "flower_35.84%.png\n"
     ]
    },
    {
     "name": "stderr",
     "output_type": "stream",
     "text": [
      " 36%|███▌      | 17950/50000 [01:58<03:11, 167.50it/s]"
     ]
    },
    {
     "name": "stdout",
     "output_type": "stream",
     "text": [
      "flower_35.86%.png\n",
      "flower_35.88%.png\n",
      "flower_35.90%.png\n",
      "flower_35.92%.png\n"
     ]
    },
    {
     "name": "stderr",
     "output_type": "stream",
     "text": [
      " 36%|███▌      | 17990/50000 [01:59<03:17, 162.47it/s]"
     ]
    },
    {
     "name": "stdout",
     "output_type": "stream",
     "text": [
      "flower_35.94%.png\n",
      "flower_35.96%.png\n",
      "flower_35.98%.png\n",
      "flower_36.00%.png\n"
     ]
    },
    {
     "name": "stderr",
     "output_type": "stream",
     "text": [
      " 36%|███▌      | 18030/50000 [01:59<03:21, 158.71it/s]"
     ]
    },
    {
     "name": "stdout",
     "output_type": "stream",
     "text": [
      "flower_36.02%.png\n",
      "flower_36.04%.png\n",
      "flower_36.06%.png\n",
      "flower_36.08%.png\n"
     ]
    },
    {
     "name": "stderr",
     "output_type": "stream",
     "text": [
      " 36%|███▌      | 18070/50000 [01:59<03:22, 157.39it/s]"
     ]
    },
    {
     "name": "stdout",
     "output_type": "stream",
     "text": [
      "flower_36.10%.png\n",
      "flower_36.12%.png\n",
      "flower_36.14%.png\n",
      "flower_36.16%.png\n"
     ]
    },
    {
     "name": "stderr",
     "output_type": "stream",
     "text": [
      " 36%|███▌      | 18110/50000 [01:59<03:21, 158.40it/s]"
     ]
    },
    {
     "name": "stdout",
     "output_type": "stream",
     "text": [
      "flower_36.18%.png\n",
      "flower_36.20%.png\n",
      "flower_36.22%.png\n",
      "flower_36.24%.png\n"
     ]
    },
    {
     "name": "stderr",
     "output_type": "stream",
     "text": [
      " 36%|███▋      | 18150/50000 [02:00<03:24, 155.73it/s]"
     ]
    },
    {
     "name": "stdout",
     "output_type": "stream",
     "text": [
      "flower_36.26%.png\n",
      "flower_36.28%.png\n",
      "flower_36.30%.png\n",
      "flower_36.32%.png\n"
     ]
    },
    {
     "name": "stderr",
     "output_type": "stream",
     "text": [
      " 36%|███▋      | 18190/50000 [02:00<03:25, 154.55it/s]"
     ]
    },
    {
     "name": "stdout",
     "output_type": "stream",
     "text": [
      "flower_36.34%.png\n",
      "flower_36.36%.png\n",
      "flower_36.38%.png\n",
      "flower_36.40%.png\n"
     ]
    },
    {
     "name": "stderr",
     "output_type": "stream",
     "text": [
      " 36%|███▋      | 18230/50000 [02:00<03:22, 156.64it/s]"
     ]
    },
    {
     "name": "stdout",
     "output_type": "stream",
     "text": [
      "flower_36.42%.png\n",
      "flower_36.44%.png\n",
      "flower_36.46%.png\n",
      "flower_36.48%.png\n"
     ]
    },
    {
     "name": "stderr",
     "output_type": "stream",
     "text": [
      " 37%|███▋      | 18270/50000 [02:00<03:20, 158.54it/s]"
     ]
    },
    {
     "name": "stdout",
     "output_type": "stream",
     "text": [
      "flower_36.50%.png\n",
      "flower_36.52%.png\n",
      "flower_36.54%.png\n",
      "flower_36.56%.png\n"
     ]
    },
    {
     "name": "stderr",
     "output_type": "stream",
     "text": [
      " 37%|███▋      | 18310/50000 [02:01<03:08, 168.41it/s]"
     ]
    },
    {
     "name": "stdout",
     "output_type": "stream",
     "text": [
      "flower_36.58%.png\n",
      "flower_36.60%.png\n",
      "flower_36.62%.png\n",
      "flower_36.64%.png\n"
     ]
    },
    {
     "name": "stderr",
     "output_type": "stream",
     "text": [
      " 37%|███▋      | 18350/50000 [02:01<03:09, 167.11it/s]"
     ]
    },
    {
     "name": "stdout",
     "output_type": "stream",
     "text": [
      "flower_36.66%.png\n",
      "flower_36.68%.png\n",
      "flower_36.70%.png\n",
      "flower_36.72%.png\n"
     ]
    },
    {
     "name": "stderr",
     "output_type": "stream",
     "text": [
      " 37%|███▋      | 18390/50000 [02:01<03:08, 167.37it/s]"
     ]
    },
    {
     "name": "stdout",
     "output_type": "stream",
     "text": [
      "flower_36.74%.png\n",
      "flower_36.76%.png\n",
      "flower_36.78%.png\n",
      "flower_36.80%.png\n"
     ]
    },
    {
     "name": "stderr",
     "output_type": "stream",
     "text": [
      " 37%|███▋      | 18430/50000 [02:01<03:14, 162.56it/s]"
     ]
    },
    {
     "name": "stdout",
     "output_type": "stream",
     "text": [
      "flower_36.82%.png\n",
      "flower_36.84%.png\n",
      "flower_36.86%.png\n",
      "flower_36.88%.png\n"
     ]
    },
    {
     "name": "stderr",
     "output_type": "stream",
     "text": [
      " 37%|███▋      | 18470/50000 [02:02<03:06, 169.33it/s]"
     ]
    },
    {
     "name": "stdout",
     "output_type": "stream",
     "text": [
      "flower_36.90%.png\n",
      "flower_36.92%.png\n",
      "flower_36.94%.png\n",
      "flower_36.96%.png\n"
     ]
    },
    {
     "name": "stderr",
     "output_type": "stream",
     "text": [
      " 37%|███▋      | 18510/50000 [02:02<03:08, 167.30it/s]"
     ]
    },
    {
     "name": "stdout",
     "output_type": "stream",
     "text": [
      "flower_36.98%.png\n",
      "flower_37.00%.png\n",
      "flower_37.02%.png\n",
      "flower_37.04%.png\n"
     ]
    },
    {
     "name": "stderr",
     "output_type": "stream",
     "text": [
      " 37%|███▋      | 18550/50000 [02:02<03:06, 168.39it/s]"
     ]
    },
    {
     "name": "stdout",
     "output_type": "stream",
     "text": [
      "flower_37.06%.png\n",
      "flower_37.08%.png\n",
      "flower_37.10%.png\n",
      "flower_37.12%.png\n"
     ]
    },
    {
     "name": "stderr",
     "output_type": "stream",
     "text": [
      " 37%|███▋      | 18590/50000 [02:02<02:59, 174.56it/s]"
     ]
    },
    {
     "name": "stdout",
     "output_type": "stream",
     "text": [
      "flower_37.14%.png\n",
      "flower_37.16%.png\n",
      "flower_37.18%.png\n",
      "flower_37.20%.png\n"
     ]
    },
    {
     "name": "stderr",
     "output_type": "stream",
     "text": [
      " 37%|███▋      | 18630/50000 [02:03<03:01, 172.81it/s]"
     ]
    },
    {
     "name": "stdout",
     "output_type": "stream",
     "text": [
      "flower_37.22%.png\n",
      "flower_37.24%.png\n",
      "flower_37.26%.png\n",
      "flower_37.28%.png\n"
     ]
    },
    {
     "name": "stderr",
     "output_type": "stream",
     "text": [
      " 37%|███▋      | 18670/50000 [02:03<03:00, 173.81it/s]"
     ]
    },
    {
     "name": "stdout",
     "output_type": "stream",
     "text": [
      "flower_37.30%.png\n",
      "flower_37.32%.png\n",
      "flower_37.34%.png\n",
      "flower_37.36%.png\n"
     ]
    },
    {
     "name": "stderr",
     "output_type": "stream",
     "text": [
      " 37%|███▋      | 18710/50000 [02:03<03:03, 170.68it/s]"
     ]
    },
    {
     "name": "stdout",
     "output_type": "stream",
     "text": [
      "flower_37.38%.png\n",
      "flower_37.40%.png\n",
      "flower_37.42%.png\n",
      "flower_37.44%.png\n"
     ]
    },
    {
     "name": "stderr",
     "output_type": "stream",
     "text": [
      " 38%|███▊      | 18750/50000 [02:03<03:05, 168.58it/s]"
     ]
    },
    {
     "name": "stdout",
     "output_type": "stream",
     "text": [
      "flower_37.46%.png\n",
      "flower_37.48%.png\n",
      "flower_37.50%.png\n",
      "flower_37.52%.png\n"
     ]
    },
    {
     "name": "stderr",
     "output_type": "stream",
     "text": [
      " 38%|███▊      | 18790/50000 [02:03<03:01, 172.21it/s]"
     ]
    },
    {
     "name": "stdout",
     "output_type": "stream",
     "text": [
      "flower_37.54%.png\n",
      "flower_37.56%.png\n",
      "flower_37.58%.png\n",
      "flower_37.60%.png\n"
     ]
    },
    {
     "name": "stderr",
     "output_type": "stream",
     "text": [
      " 38%|███▊      | 18830/50000 [02:04<03:05, 168.48it/s]"
     ]
    },
    {
     "name": "stdout",
     "output_type": "stream",
     "text": [
      "flower_37.62%.png\n",
      "flower_37.64%.png\n",
      "flower_37.66%.png\n",
      "flower_37.68%.png\n"
     ]
    },
    {
     "name": "stderr",
     "output_type": "stream",
     "text": [
      " 38%|███▊      | 18870/50000 [02:04<03:05, 167.56it/s]"
     ]
    },
    {
     "name": "stdout",
     "output_type": "stream",
     "text": [
      "flower_37.70%.png\n",
      "flower_37.72%.png\n",
      "flower_37.74%.png\n",
      "flower_37.76%.png\n"
     ]
    },
    {
     "name": "stderr",
     "output_type": "stream",
     "text": [
      " 38%|███▊      | 18910/50000 [02:04<03:05, 167.43it/s]"
     ]
    },
    {
     "name": "stdout",
     "output_type": "stream",
     "text": [
      "flower_37.78%.png\n",
      "flower_37.80%.png\n",
      "flower_37.82%.png\n",
      "flower_37.84%.png\n"
     ]
    },
    {
     "name": "stderr",
     "output_type": "stream",
     "text": [
      " 38%|███▊      | 18950/50000 [02:04<03:07, 166.00it/s]"
     ]
    },
    {
     "name": "stdout",
     "output_type": "stream",
     "text": [
      "flower_37.86%.png\n",
      "flower_37.88%.png\n",
      "flower_37.90%.png\n",
      "flower_37.92%.png\n"
     ]
    },
    {
     "name": "stderr",
     "output_type": "stream",
     "text": [
      " 38%|███▊      | 18990/50000 [02:05<03:08, 164.59it/s]"
     ]
    },
    {
     "name": "stdout",
     "output_type": "stream",
     "text": [
      "flower_37.94%.png\n",
      "flower_37.96%.png\n",
      "flower_37.98%.png\n",
      "flower_38.00%.png\n"
     ]
    },
    {
     "name": "stderr",
     "output_type": "stream",
     "text": [
      " 38%|███▊      | 19030/50000 [02:05<03:03, 169.06it/s]"
     ]
    },
    {
     "name": "stdout",
     "output_type": "stream",
     "text": [
      "flower_38.02%.png\n",
      "flower_38.04%.png\n",
      "flower_38.06%.png\n",
      "flower_38.08%.png\n"
     ]
    },
    {
     "name": "stderr",
     "output_type": "stream",
     "text": [
      " 38%|███▊      | 19070/50000 [02:05<03:02, 169.43it/s]"
     ]
    },
    {
     "name": "stdout",
     "output_type": "stream",
     "text": [
      "flower_38.10%.png\n",
      "flower_38.12%.png\n",
      "flower_38.14%.png\n",
      "flower_38.16%.png\n"
     ]
    },
    {
     "name": "stderr",
     "output_type": "stream",
     "text": [
      " 38%|███▊      | 19110/50000 [02:05<02:59, 172.20it/s]"
     ]
    },
    {
     "name": "stdout",
     "output_type": "stream",
     "text": [
      "flower_38.18%.png\n",
      "flower_38.20%.png\n",
      "flower_38.22%.png\n",
      "flower_38.24%.png\n"
     ]
    },
    {
     "name": "stderr",
     "output_type": "stream",
     "text": [
      " 38%|███▊      | 19150/50000 [02:06<03:03, 168.00it/s]"
     ]
    },
    {
     "name": "stdout",
     "output_type": "stream",
     "text": [
      "flower_38.26%.png\n",
      "flower_38.28%.png\n",
      "flower_38.30%.png\n",
      "flower_38.32%.png\n"
     ]
    },
    {
     "name": "stderr",
     "output_type": "stream",
     "text": [
      " 38%|███▊      | 19190/50000 [02:06<03:01, 169.75it/s]"
     ]
    },
    {
     "name": "stdout",
     "output_type": "stream",
     "text": [
      "flower_38.34%.png\n",
      "flower_38.36%.png\n",
      "flower_38.38%.png\n",
      "flower_38.40%.png\n"
     ]
    },
    {
     "name": "stderr",
     "output_type": "stream",
     "text": [
      " 38%|███▊      | 19230/50000 [02:06<03:02, 168.58it/s]"
     ]
    },
    {
     "name": "stdout",
     "output_type": "stream",
     "text": [
      "flower_38.42%.png\n",
      "flower_38.44%.png\n",
      "flower_38.46%.png\n",
      "flower_38.48%.png\n"
     ]
    },
    {
     "name": "stderr",
     "output_type": "stream",
     "text": [
      " 39%|███▊      | 19270/50000 [02:06<02:57, 172.66it/s]"
     ]
    },
    {
     "name": "stdout",
     "output_type": "stream",
     "text": [
      "flower_38.50%.png\n",
      "flower_38.52%.png\n",
      "flower_38.54%.png\n",
      "flower_38.56%.png\n"
     ]
    },
    {
     "name": "stderr",
     "output_type": "stream",
     "text": [
      " 39%|███▊      | 19310/50000 [02:07<03:02, 168.08it/s]"
     ]
    },
    {
     "name": "stdout",
     "output_type": "stream",
     "text": [
      "flower_38.58%.png\n",
      "flower_38.60%.png\n",
      "flower_38.62%.png\n",
      "flower_38.64%.png\n"
     ]
    },
    {
     "name": "stderr",
     "output_type": "stream",
     "text": [
      " 39%|███▊      | 19350/50000 [02:07<02:59, 170.89it/s]"
     ]
    },
    {
     "name": "stdout",
     "output_type": "stream",
     "text": [
      "flower_38.66%.png\n",
      "flower_38.68%.png\n",
      "flower_38.70%.png\n",
      "flower_38.72%.png\n"
     ]
    },
    {
     "name": "stderr",
     "output_type": "stream",
     "text": [
      " 39%|███▉      | 19390/50000 [02:07<03:05, 164.91it/s]"
     ]
    },
    {
     "name": "stdout",
     "output_type": "stream",
     "text": [
      "flower_38.74%.png\n",
      "flower_38.76%.png\n",
      "flower_38.78%.png\n",
      "flower_38.80%.png\n"
     ]
    },
    {
     "name": "stderr",
     "output_type": "stream",
     "text": [
      " 39%|███▉      | 19430/50000 [02:07<03:02, 167.51it/s]"
     ]
    },
    {
     "name": "stdout",
     "output_type": "stream",
     "text": [
      "flower_38.82%.png\n",
      "flower_38.84%.png\n",
      "flower_38.86%.png\n",
      "flower_38.88%.png\n"
     ]
    },
    {
     "name": "stderr",
     "output_type": "stream",
     "text": [
      " 39%|███▉      | 19470/50000 [02:07<03:01, 168.47it/s]"
     ]
    },
    {
     "name": "stdout",
     "output_type": "stream",
     "text": [
      "flower_38.90%.png\n",
      "flower_38.92%.png\n",
      "flower_38.94%.png\n",
      "flower_38.96%.png\n"
     ]
    },
    {
     "name": "stderr",
     "output_type": "stream",
     "text": [
      " 39%|███▉      | 19510/50000 [02:08<02:55, 173.88it/s]"
     ]
    },
    {
     "name": "stdout",
     "output_type": "stream",
     "text": [
      "flower_38.98%.png\n",
      "flower_39.00%.png\n",
      "flower_39.02%.png\n",
      "flower_39.04%.png\n"
     ]
    },
    {
     "name": "stderr",
     "output_type": "stream",
     "text": [
      " 39%|███▉      | 19550/50000 [02:08<02:57, 171.41it/s]"
     ]
    },
    {
     "name": "stdout",
     "output_type": "stream",
     "text": [
      "flower_39.06%.png\n",
      "flower_39.08%.png\n",
      "flower_39.10%.png\n",
      "flower_39.12%.png\n"
     ]
    },
    {
     "name": "stderr",
     "output_type": "stream",
     "text": [
      " 39%|███▉      | 19590/50000 [02:08<02:59, 169.31it/s]"
     ]
    },
    {
     "name": "stdout",
     "output_type": "stream",
     "text": [
      "flower_39.14%.png\n",
      "flower_39.16%.png\n",
      "flower_39.18%.png\n"
     ]
    },
    {
     "name": "stderr",
     "output_type": "stream",
     "text": [
      "\r",
      " 39%|███▉      | 19607/50000 [02:08<04:39, 108.57it/s]"
     ]
    },
    {
     "name": "stdout",
     "output_type": "stream",
     "text": [
      "flower_39.20%.png\n",
      "flower_39.22%.png\n"
     ]
    },
    {
     "name": "stderr",
     "output_type": "stream",
     "text": [
      " 39%|███▉      | 19640/50000 [02:09<05:24, 93.45it/s] "
     ]
    },
    {
     "name": "stdout",
     "output_type": "stream",
     "text": [
      "flower_39.24%.png\n",
      "flower_39.26%.png\n",
      "flower_39.28%.png\n",
      "flower_39.30%.png\n"
     ]
    },
    {
     "name": "stderr",
     "output_type": "stream",
     "text": [
      " 39%|███▉      | 19680/50000 [02:09<04:06, 122.80it/s]"
     ]
    },
    {
     "name": "stdout",
     "output_type": "stream",
     "text": [
      "flower_39.32%.png\n",
      "flower_39.34%.png\n",
      "flower_39.36%.png\n",
      "flower_39.38%.png\n"
     ]
    },
    {
     "name": "stderr",
     "output_type": "stream",
     "text": [
      " 39%|███▉      | 19720/50000 [02:09<03:36, 140.02it/s]"
     ]
    },
    {
     "name": "stdout",
     "output_type": "stream",
     "text": [
      "flower_39.40%.png\n",
      "flower_39.42%.png\n",
      "flower_39.44%.png\n",
      "flower_39.46%.png\n"
     ]
    },
    {
     "name": "stderr",
     "output_type": "stream",
     "text": [
      " 40%|███▉      | 19760/50000 [02:10<03:21, 150.06it/s]"
     ]
    },
    {
     "name": "stdout",
     "output_type": "stream",
     "text": [
      "flower_39.48%.png\n",
      "flower_39.50%.png\n",
      "flower_39.52%.png\n",
      "flower_39.54%.png\n"
     ]
    },
    {
     "name": "stderr",
     "output_type": "stream",
     "text": [
      " 40%|███▉      | 19800/50000 [02:10<03:18, 151.84it/s]"
     ]
    },
    {
     "name": "stdout",
     "output_type": "stream",
     "text": [
      "flower_39.56%.png\n",
      "flower_39.58%.png\n",
      "flower_39.60%.png\n",
      "flower_39.62%.png\n"
     ]
    },
    {
     "name": "stderr",
     "output_type": "stream",
     "text": [
      " 40%|███▉      | 19840/50000 [02:10<03:17, 152.71it/s]"
     ]
    },
    {
     "name": "stdout",
     "output_type": "stream",
     "text": [
      "flower_39.64%.png\n",
      "flower_39.66%.png\n",
      "flower_39.68%.png\n",
      "flower_39.70%.png\n"
     ]
    },
    {
     "name": "stderr",
     "output_type": "stream",
     "text": [
      " 40%|███▉      | 19880/50000 [02:10<03:14, 154.66it/s]"
     ]
    },
    {
     "name": "stdout",
     "output_type": "stream",
     "text": [
      "flower_39.72%.png\n",
      "flower_39.74%.png\n",
      "flower_39.76%.png\n",
      "flower_39.78%.png\n"
     ]
    },
    {
     "name": "stderr",
     "output_type": "stream",
     "text": [
      " 40%|███▉      | 19920/50000 [02:11<03:14, 154.61it/s]"
     ]
    },
    {
     "name": "stdout",
     "output_type": "stream",
     "text": [
      "flower_39.80%.png\n",
      "flower_39.82%.png\n",
      "flower_39.84%.png\n",
      "flower_39.86%.png\n"
     ]
    },
    {
     "name": "stderr",
     "output_type": "stream",
     "text": [
      " 40%|███▉      | 19960/50000 [02:11<03:14, 154.64it/s]"
     ]
    },
    {
     "name": "stdout",
     "output_type": "stream",
     "text": [
      "flower_39.88%.png\n",
      "flower_39.90%.png\n",
      "flower_39.92%.png\n",
      "flower_39.94%.png\n"
     ]
    },
    {
     "name": "stderr",
     "output_type": "stream",
     "text": [
      " 40%|████      | 20000/50000 [02:11<03:11, 156.49it/s]"
     ]
    },
    {
     "name": "stdout",
     "output_type": "stream",
     "text": [
      "flower_39.96%.png\n",
      "flower_39.98%.png\n",
      "flower_40.00%.png\n",
      "flower_40.02%.png\n"
     ]
    },
    {
     "name": "stderr",
     "output_type": "stream",
     "text": [
      " 40%|████      | 20040/50000 [02:12<03:12, 155.63it/s]"
     ]
    },
    {
     "name": "stdout",
     "output_type": "stream",
     "text": [
      "flower_40.04%.png\n",
      "flower_40.06%.png\n",
      "flower_40.08%.png\n",
      "flower_40.10%.png\n"
     ]
    },
    {
     "name": "stderr",
     "output_type": "stream",
     "text": [
      " 40%|████      | 20080/50000 [02:12<03:00, 165.45it/s]"
     ]
    },
    {
     "name": "stdout",
     "output_type": "stream",
     "text": [
      "flower_40.12%.png\n",
      "flower_40.14%.png\n",
      "flower_40.16%.png\n",
      "flower_40.18%.png\n"
     ]
    },
    {
     "name": "stderr",
     "output_type": "stream",
     "text": [
      " 40%|████      | 20120/50000 [02:12<03:04, 162.18it/s]"
     ]
    },
    {
     "name": "stdout",
     "output_type": "stream",
     "text": [
      "flower_40.20%.png\n",
      "flower_40.22%.png\n",
      "flower_40.24%.png\n",
      "flower_40.26%.png\n"
     ]
    },
    {
     "name": "stderr",
     "output_type": "stream",
     "text": [
      " 40%|████      | 20160/50000 [02:12<03:00, 165.02it/s]"
     ]
    },
    {
     "name": "stdout",
     "output_type": "stream",
     "text": [
      "flower_40.28%.png\n",
      "flower_40.30%.png\n",
      "flower_40.32%.png\n",
      "flower_40.34%.png\n"
     ]
    },
    {
     "name": "stderr",
     "output_type": "stream",
     "text": [
      " 40%|████      | 20200/50000 [02:12<03:01, 164.21it/s]"
     ]
    },
    {
     "name": "stdout",
     "output_type": "stream",
     "text": [
      "flower_40.36%.png\n",
      "flower_40.38%.png\n",
      "flower_40.40%.png\n",
      "flower_40.42%.png\n"
     ]
    },
    {
     "name": "stderr",
     "output_type": "stream",
     "text": [
      " 40%|████      | 20240/50000 [02:13<03:01, 163.89it/s]"
     ]
    },
    {
     "name": "stdout",
     "output_type": "stream",
     "text": [
      "flower_40.44%.png\n",
      "flower_40.46%.png\n",
      "flower_40.48%.png\n",
      "flower_40.50%.png\n"
     ]
    },
    {
     "name": "stderr",
     "output_type": "stream",
     "text": [
      " 41%|████      | 20280/50000 [02:13<03:03, 161.87it/s]"
     ]
    },
    {
     "name": "stdout",
     "output_type": "stream",
     "text": [
      "flower_40.52%.png\n",
      "flower_40.54%.png\n",
      "flower_40.56%.png\n",
      "flower_40.58%.png\n"
     ]
    },
    {
     "name": "stderr",
     "output_type": "stream",
     "text": [
      " 41%|████      | 20320/50000 [02:13<02:56, 168.44it/s]"
     ]
    },
    {
     "name": "stdout",
     "output_type": "stream",
     "text": [
      "flower_40.60%.png\n",
      "flower_40.62%.png\n",
      "flower_40.64%.png\n",
      "flower_40.66%.png\n"
     ]
    },
    {
     "name": "stderr",
     "output_type": "stream",
     "text": [
      " 41%|████      | 20360/50000 [02:13<03:00, 164.08it/s]"
     ]
    },
    {
     "name": "stdout",
     "output_type": "stream",
     "text": [
      "flower_40.68%.png\n",
      "flower_40.70%.png\n",
      "flower_40.72%.png\n",
      "flower_40.74%.png\n"
     ]
    },
    {
     "name": "stderr",
     "output_type": "stream",
     "text": [
      " 41%|████      | 20399/50000 [02:14<03:05, 159.15it/s]"
     ]
    },
    {
     "name": "stdout",
     "output_type": "stream",
     "text": [
      "flower_40.76%.png\n",
      "flower_40.78%.png\n",
      "flower_40.80%.png\n"
     ]
    },
    {
     "name": "stderr",
     "output_type": "stream",
     "text": [
      "\r",
      " 41%|████      | 20415/50000 [02:14<04:18, 114.50it/s]"
     ]
    },
    {
     "name": "stdout",
     "output_type": "stream",
     "text": [
      "flower_40.82%.png\n",
      "flower_40.84%.png\n"
     ]
    },
    {
     "name": "stderr",
     "output_type": "stream",
     "text": [
      " 41%|████      | 20441/50000 [02:14<05:44, 85.72it/s] "
     ]
    },
    {
     "name": "stdout",
     "output_type": "stream",
     "text": [
      "flower_40.86%.png\n",
      "flower_40.88%.png\n",
      "flower_40.90%.png\n"
     ]
    },
    {
     "name": "stderr",
     "output_type": "stream",
     "text": [
      " 41%|████      | 20470/50000 [02:15<05:16, 93.22it/s]"
     ]
    },
    {
     "name": "stdout",
     "output_type": "stream",
     "text": [
      "flower_40.92%.png\n",
      "flower_40.94%.png\n",
      "flower_40.96%.png\n"
     ]
    },
    {
     "name": "stderr",
     "output_type": "stream",
     "text": [
      " 41%|████      | 20503/50000 [02:15<05:27, 90.07it/s]"
     ]
    },
    {
     "name": "stdout",
     "output_type": "stream",
     "text": [
      "flower_40.98%.png\n",
      "flower_41.00%.png\n",
      "flower_41.02%.png\n"
     ]
    },
    {
     "name": "stderr",
     "output_type": "stream",
     "text": [
      " 41%|████      | 20537/50000 [02:15<05:31, 88.97it/s]"
     ]
    },
    {
     "name": "stdout",
     "output_type": "stream",
     "text": [
      "flower_41.04%.png\n",
      "flower_41.06%.png\n"
     ]
    },
    {
     "name": "stderr",
     "output_type": "stream",
     "text": [
      " 41%|████      | 20560/50000 [02:16<05:02, 97.38it/s]"
     ]
    },
    {
     "name": "stdout",
     "output_type": "stream",
     "text": [
      "flower_41.08%.png\n",
      "flower_41.10%.png\n",
      "flower_41.12%.png\n",
      "flower_41.14%.png\n"
     ]
    },
    {
     "name": "stderr",
     "output_type": "stream",
     "text": [
      " 41%|████      | 20600/50000 [02:16<03:48, 128.91it/s]"
     ]
    },
    {
     "name": "stdout",
     "output_type": "stream",
     "text": [
      "flower_41.16%.png\n",
      "flower_41.18%.png\n",
      "flower_41.20%.png\n"
     ]
    },
    {
     "name": "stderr",
     "output_type": "stream",
     "text": [
      "\r",
      " 41%|████      | 20619/50000 [02:16<03:43, 131.28it/s]"
     ]
    },
    {
     "name": "stdout",
     "output_type": "stream",
     "text": [
      "flower_41.22%.png\n",
      "flower_41.24%.png\n"
     ]
    },
    {
     "name": "stderr",
     "output_type": "stream",
     "text": [
      " 41%|████▏     | 20645/50000 [02:16<04:16, 114.62it/s]"
     ]
    },
    {
     "name": "stdout",
     "output_type": "stream",
     "text": [
      "flower_41.26%.png\n",
      "flower_41.28%.png\n",
      "flower_41.30%.png\n"
     ]
    },
    {
     "name": "stderr",
     "output_type": "stream",
     "text": [
      " 41%|████▏     | 20680/50000 [02:16<03:33, 137.22it/s]"
     ]
    },
    {
     "name": "stdout",
     "output_type": "stream",
     "text": [
      "flower_41.32%.png\n",
      "flower_41.34%.png\n",
      "flower_41.36%.png\n",
      "flower_41.38%.png\n"
     ]
    },
    {
     "name": "stderr",
     "output_type": "stream",
     "text": [
      " 41%|████▏     | 20720/50000 [02:17<03:12, 151.90it/s]"
     ]
    },
    {
     "name": "stdout",
     "output_type": "stream",
     "text": [
      "flower_41.40%.png\n",
      "flower_41.42%.png\n",
      "flower_41.44%.png\n",
      "flower_41.46%.png\n"
     ]
    },
    {
     "name": "stderr",
     "output_type": "stream",
     "text": [
      " 42%|████▏     | 20760/50000 [02:17<03:06, 157.19it/s]"
     ]
    },
    {
     "name": "stdout",
     "output_type": "stream",
     "text": [
      "flower_41.48%.png\n",
      "flower_41.50%.png\n",
      "flower_41.52%.png\n",
      "flower_41.54%.png\n"
     ]
    },
    {
     "name": "stderr",
     "output_type": "stream",
     "text": [
      " 42%|████▏     | 20800/50000 [02:17<02:57, 164.29it/s]"
     ]
    },
    {
     "name": "stdout",
     "output_type": "stream",
     "text": [
      "flower_41.56%.png\n",
      "flower_41.58%.png\n",
      "flower_41.60%.png\n",
      "flower_41.62%.png\n"
     ]
    },
    {
     "name": "stderr",
     "output_type": "stream",
     "text": [
      " 42%|████▏     | 20836/50000 [02:18<03:48, 127.40it/s]"
     ]
    },
    {
     "name": "stdout",
     "output_type": "stream",
     "text": [
      "flower_41.64%.png\n",
      "flower_41.66%.png\n"
     ]
    },
    {
     "name": "stderr",
     "output_type": "stream",
     "text": [
      "\r",
      " 42%|████▏     | 20850/50000 [02:18<04:25, 109.83it/s]"
     ]
    },
    {
     "name": "stdout",
     "output_type": "stream",
     "text": [
      "flower_41.68%.png\n",
      "flower_41.70%.png\n"
     ]
    },
    {
     "name": "stderr",
     "output_type": "stream",
     "text": [
      " 42%|████▏     | 20879/50000 [02:18<05:45, 84.18it/s] "
     ]
    },
    {
     "name": "stdout",
     "output_type": "stream",
     "text": [
      "flower_41.72%.png\n",
      "flower_41.74%.png\n"
     ]
    },
    {
     "name": "stderr",
     "output_type": "stream",
     "text": [
      " 42%|████▏     | 20899/50000 [02:18<05:58, 81.07it/s]"
     ]
    },
    {
     "name": "stdout",
     "output_type": "stream",
     "text": [
      "flower_41.76%.png\n",
      "flower_41.78%.png\n",
      "flower_41.80%.png\n"
     ]
    },
    {
     "name": "stderr",
     "output_type": "stream",
     "text": [
      " 42%|████▏     | 20917/50000 [02:19<06:06, 79.32it/s]"
     ]
    },
    {
     "name": "stdout",
     "output_type": "stream",
     "text": [
      "flower_41.82%.png\n",
      "flower_41.84%.png\n"
     ]
    },
    {
     "name": "stderr",
     "output_type": "stream",
     "text": [
      " 42%|████▏     | 20960/50000 [02:19<04:36, 105.08it/s]"
     ]
    },
    {
     "name": "stdout",
     "output_type": "stream",
     "text": [
      "flower_41.86%.png\n",
      "flower_41.88%.png\n",
      "flower_41.90%.png\n",
      "flower_41.92%.png\n"
     ]
    },
    {
     "name": "stderr",
     "output_type": "stream",
     "text": [
      " 42%|████▏     | 20993/50000 [02:19<03:48, 127.08it/s]"
     ]
    },
    {
     "name": "stdout",
     "output_type": "stream",
     "text": [
      "flower_41.94%.png\n",
      "flower_41.96%.png\n",
      "flower_41.98%.png\n",
      "flower_42.00%.png\n"
     ]
    },
    {
     "name": "stderr",
     "output_type": "stream",
     "text": [
      " 42%|████▏     | 21030/50000 [02:20<03:14, 148.77it/s]"
     ]
    },
    {
     "name": "stdout",
     "output_type": "stream",
     "text": [
      "flower_42.02%.png\n",
      "flower_42.04%.png\n",
      "flower_42.06%.png\n",
      "flower_42.08%.png\n"
     ]
    },
    {
     "name": "stderr",
     "output_type": "stream",
     "text": [
      " 42%|████▏     | 21070/50000 [02:20<03:05, 156.25it/s]"
     ]
    },
    {
     "name": "stdout",
     "output_type": "stream",
     "text": [
      "flower_42.10%.png\n",
      "flower_42.12%.png\n",
      "flower_42.14%.png\n",
      "flower_42.16%.png\n"
     ]
    },
    {
     "name": "stderr",
     "output_type": "stream",
     "text": [
      " 42%|████▏     | 21110/50000 [02:20<02:59, 160.90it/s]"
     ]
    },
    {
     "name": "stdout",
     "output_type": "stream",
     "text": [
      "flower_42.18%.png\n",
      "flower_42.20%.png\n",
      "flower_42.22%.png\n",
      "flower_42.24%.png\n"
     ]
    },
    {
     "name": "stderr",
     "output_type": "stream",
     "text": [
      " 42%|████▏     | 21150/50000 [02:20<02:54, 164.94it/s]"
     ]
    },
    {
     "name": "stdout",
     "output_type": "stream",
     "text": [
      "flower_42.26%.png\n",
      "flower_42.28%.png\n",
      "flower_42.30%.png\n",
      "flower_42.32%.png\n"
     ]
    },
    {
     "name": "stderr",
     "output_type": "stream",
     "text": [
      " 42%|████▏     | 21190/50000 [02:20<02:54, 165.43it/s]"
     ]
    },
    {
     "name": "stdout",
     "output_type": "stream",
     "text": [
      "flower_42.34%.png\n",
      "flower_42.36%.png\n",
      "flower_42.38%.png\n",
      "flower_42.40%.png\n"
     ]
    },
    {
     "name": "stderr",
     "output_type": "stream",
     "text": [
      " 42%|████▏     | 21230/50000 [02:21<02:48, 170.80it/s]"
     ]
    },
    {
     "name": "stdout",
     "output_type": "stream",
     "text": [
      "flower_42.42%.png\n",
      "flower_42.44%.png\n",
      "flower_42.46%.png\n",
      "flower_42.48%.png\n"
     ]
    },
    {
     "name": "stderr",
     "output_type": "stream",
     "text": [
      " 43%|████▎     | 21270/50000 [02:21<02:51, 167.33it/s]"
     ]
    },
    {
     "name": "stdout",
     "output_type": "stream",
     "text": [
      "flower_42.50%.png\n",
      "flower_42.52%.png\n",
      "flower_42.54%.png\n",
      "flower_42.56%.png\n"
     ]
    },
    {
     "name": "stderr",
     "output_type": "stream",
     "text": [
      " 43%|████▎     | 21307/50000 [02:21<03:30, 136.48it/s]"
     ]
    },
    {
     "name": "stdout",
     "output_type": "stream",
     "text": [
      "flower_42.58%.png\n",
      "flower_42.60%.png\n"
     ]
    },
    {
     "name": "stderr",
     "output_type": "stream",
     "text": [
      "\r",
      " 43%|████▎     | 21322/50000 [02:21<03:55, 121.77it/s]"
     ]
    },
    {
     "name": "stdout",
     "output_type": "stream",
     "text": [
      "flower_42.62%.png\n",
      "flower_42.64%.png\n",
      "flower_42.66%.png\n"
     ]
    },
    {
     "name": "stderr",
     "output_type": "stream",
     "text": [
      " 43%|████▎     | 21349/50000 [02:22<05:16, 90.66it/s] "
     ]
    },
    {
     "name": "stdout",
     "output_type": "stream",
     "text": [
      "flower_42.68%.png\n",
      "flower_42.70%.png\n"
     ]
    },
    {
     "name": "stderr",
     "output_type": "stream",
     "text": [
      " 43%|████▎     | 21370/50000 [02:22<05:52, 81.20it/s]"
     ]
    },
    {
     "name": "stdout",
     "output_type": "stream",
     "text": [
      "flower_42.72%.png\n",
      "flower_42.74%.png\n",
      "flower_42.76%.png\n"
     ]
    },
    {
     "name": "stderr",
     "output_type": "stream",
     "text": [
      " 43%|████▎     | 21410/50000 [02:22<03:56, 121.00it/s]"
     ]
    },
    {
     "name": "stdout",
     "output_type": "stream",
     "text": [
      "flower_42.78%.png\n",
      "flower_42.80%.png\n",
      "flower_42.82%.png\n",
      "flower_42.84%.png\n"
     ]
    },
    {
     "name": "stderr",
     "output_type": "stream",
     "text": [
      " 43%|████▎     | 21445/50000 [02:23<03:36, 131.90it/s]"
     ]
    },
    {
     "name": "stdout",
     "output_type": "stream",
     "text": [
      "flower_42.86%.png\n",
      "flower_42.88%.png\n",
      "flower_42.90%.png\n"
     ]
    },
    {
     "name": "stderr",
     "output_type": "stream",
     "text": [
      "\r",
      " 43%|████▎     | 21460/50000 [02:23<03:31, 134.78it/s]"
     ]
    },
    {
     "name": "stdout",
     "output_type": "stream",
     "text": [
      "flower_42.92%.png\n"
     ]
    },
    {
     "name": "stderr",
     "output_type": "stream",
     "text": [
      " 43%|████▎     | 21493/50000 [02:23<04:07, 114.98it/s]"
     ]
    },
    {
     "name": "stdout",
     "output_type": "stream",
     "text": [
      "flower_42.94%.png\n",
      "flower_42.96%.png\n",
      "flower_42.98%.png\n",
      "flower_43.00%.png\n"
     ]
    },
    {
     "name": "stderr",
     "output_type": "stream",
     "text": [
      " 43%|████▎     | 21530/50000 [02:23<03:29, 135.60it/s]"
     ]
    },
    {
     "name": "stdout",
     "output_type": "stream",
     "text": [
      "flower_43.02%.png\n",
      "flower_43.04%.png\n",
      "flower_43.06%.png\n",
      "flower_43.08%.png\n"
     ]
    },
    {
     "name": "stderr",
     "output_type": "stream",
     "text": [
      " 43%|████▎     | 21570/50000 [02:23<03:08, 150.64it/s]"
     ]
    },
    {
     "name": "stdout",
     "output_type": "stream",
     "text": [
      "flower_43.10%.png\n",
      "flower_43.12%.png\n",
      "flower_43.14%.png\n"
     ]
    },
    {
     "name": "stderr",
     "output_type": "stream",
     "text": [
      "\r",
      " 43%|████▎     | 21586/50000 [02:24<03:37, 130.52it/s]"
     ]
    },
    {
     "name": "stdout",
     "output_type": "stream",
     "text": [
      "flower_43.16%.png\n",
      "flower_43.18%.png\n"
     ]
    },
    {
     "name": "stderr",
     "output_type": "stream",
     "text": [
      " 43%|████▎     | 21620/50000 [02:24<05:21, 88.41it/s] "
     ]
    },
    {
     "name": "stdout",
     "output_type": "stream",
     "text": [
      "flower_43.20%.png\n",
      "flower_43.22%.png\n",
      "flower_43.24%.png\n"
     ]
    },
    {
     "name": "stderr",
     "output_type": "stream",
     "text": [
      " 43%|████▎     | 21650/50000 [02:25<05:10, 91.22it/s]"
     ]
    },
    {
     "name": "stdout",
     "output_type": "stream",
     "text": [
      "flower_43.26%.png\n",
      "flower_43.28%.png\n",
      "flower_43.30%.png\n"
     ]
    },
    {
     "name": "stderr",
     "output_type": "stream",
     "text": [
      " 43%|████▎     | 21680/50000 [02:25<04:58, 94.99it/s]"
     ]
    },
    {
     "name": "stdout",
     "output_type": "stream",
     "text": [
      "flower_43.32%.png\n",
      "flower_43.34%.png\n",
      "flower_43.36%.png\n"
     ]
    },
    {
     "name": "stderr",
     "output_type": "stream",
     "text": [
      " 43%|████▎     | 21710/50000 [02:25<05:09, 91.30it/s]"
     ]
    },
    {
     "name": "stdout",
     "output_type": "stream",
     "text": [
      "flower_43.38%.png\n",
      "flower_43.40%.png\n",
      "flower_43.42%.png\n",
      "flower_43.44%.png\n"
     ]
    },
    {
     "name": "stderr",
     "output_type": "stream",
     "text": [
      " 44%|████▎     | 21750/50000 [02:26<03:53, 120.86it/s]"
     ]
    },
    {
     "name": "stdout",
     "output_type": "stream",
     "text": [
      "flower_43.46%.png\n",
      "flower_43.48%.png\n",
      "flower_43.50%.png\n"
     ]
    },
    {
     "name": "stderr",
     "output_type": "stream",
     "text": [
      " 44%|████▎     | 21781/50000 [02:26<04:17, 109.69it/s]"
     ]
    },
    {
     "name": "stdout",
     "output_type": "stream",
     "text": [
      "flower_43.52%.png\n",
      "flower_43.54%.png\n",
      "flower_43.56%.png\n"
     ]
    },
    {
     "name": "stderr",
     "output_type": "stream",
     "text": [
      " 44%|████▎     | 21820/50000 [02:26<03:36, 130.13it/s]"
     ]
    },
    {
     "name": "stdout",
     "output_type": "stream",
     "text": [
      "flower_43.58%.png\n",
      "flower_43.60%.png\n",
      "flower_43.62%.png\n",
      "flower_43.64%.png\n"
     ]
    },
    {
     "name": "stderr",
     "output_type": "stream",
     "text": [
      " 44%|████▎     | 21849/50000 [02:26<03:48, 123.03it/s]"
     ]
    },
    {
     "name": "stdout",
     "output_type": "stream",
     "text": [
      "flower_43.66%.png\n",
      "flower_43.68%.png\n"
     ]
    },
    {
     "name": "stderr",
     "output_type": "stream",
     "text": [
      " 44%|████▍     | 21880/50000 [02:27<03:34, 130.99it/s]"
     ]
    },
    {
     "name": "stdout",
     "output_type": "stream",
     "text": [
      "flower_43.70%.png\n",
      "flower_43.72%.png\n",
      "flower_43.74%.png\n",
      "flower_43.76%.png\n"
     ]
    },
    {
     "name": "stderr",
     "output_type": "stream",
     "text": [
      " 44%|████▍     | 21920/50000 [02:27<03:08, 148.60it/s]"
     ]
    },
    {
     "name": "stdout",
     "output_type": "stream",
     "text": [
      "flower_43.78%.png\n",
      "flower_43.80%.png\n",
      "flower_43.82%.png\n",
      "flower_43.84%.png\n"
     ]
    },
    {
     "name": "stderr",
     "output_type": "stream",
     "text": [
      "\r",
      " 44%|████▍     | 21940/50000 [02:27<03:02, 153.77it/s]"
     ]
    },
    {
     "name": "stdout",
     "output_type": "stream",
     "text": [
      "flower_43.86%.png\n",
      "flower_43.88%.png\n",
      "flower_43.90%.png\n"
     ]
    },
    {
     "name": "stderr",
     "output_type": "stream",
     "text": [
      " 44%|████▍     | 21970/50000 [02:27<04:21, 107.14it/s]"
     ]
    },
    {
     "name": "stdout",
     "output_type": "stream",
     "text": [
      "flower_43.92%.png\n",
      "flower_43.94%.png\n",
      "flower_43.96%.png\n",
      "flower_43.98%.png\n"
     ]
    },
    {
     "name": "stderr",
     "output_type": "stream",
     "text": [
      " 44%|████▍     | 22020/50000 [02:30<15:17, 30.50it/s] "
     ]
    },
    {
     "name": "stdout",
     "output_type": "stream",
     "text": [
      "flower_44.00%.png\n",
      "flower_44.02%.png\n",
      "flower_44.04%.png\n",
      "flower_44.06%.png\n"
     ]
    },
    {
     "name": "stderr",
     "output_type": "stream",
     "text": [
      " 44%|████▍     | 22060/50000 [02:30<08:13, 56.63it/s]"
     ]
    },
    {
     "name": "stdout",
     "output_type": "stream",
     "text": [
      "flower_44.08%.png\n",
      "flower_44.10%.png\n",
      "flower_44.12%.png\n",
      "flower_44.14%.png\n"
     ]
    },
    {
     "name": "stderr",
     "output_type": "stream",
     "text": [
      " 44%|████▍     | 22100/50000 [02:30<05:14, 88.83it/s]"
     ]
    },
    {
     "name": "stdout",
     "output_type": "stream",
     "text": [
      "flower_44.16%.png\n",
      "flower_44.18%.png\n",
      "flower_44.20%.png\n",
      "flower_44.22%.png\n"
     ]
    },
    {
     "name": "stderr",
     "output_type": "stream",
     "text": [
      " 44%|████▍     | 22140/50000 [02:30<03:54, 118.96it/s]"
     ]
    },
    {
     "name": "stdout",
     "output_type": "stream",
     "text": [
      "flower_44.24%.png\n",
      "flower_44.26%.png\n",
      "flower_44.28%.png\n",
      "flower_44.30%.png\n"
     ]
    },
    {
     "name": "stderr",
     "output_type": "stream",
     "text": [
      " 44%|████▍     | 22185/50000 [02:31<02:56, 157.77it/s]"
     ]
    },
    {
     "name": "stdout",
     "output_type": "stream",
     "text": [
      "flower_44.32%.png\n",
      "flower_44.34%.png\n",
      "flower_44.36%.png\n",
      "flower_44.38%.png\n"
     ]
    },
    {
     "name": "stderr",
     "output_type": "stream",
     "text": [
      " 44%|████▍     | 22224/50000 [02:31<02:50, 162.82it/s]"
     ]
    },
    {
     "name": "stdout",
     "output_type": "stream",
     "text": [
      "flower_44.40%.png\n",
      "flower_44.42%.png\n",
      "flower_44.44%.png\n",
      "flower_44.46%.png\n"
     ]
    },
    {
     "name": "stderr",
     "output_type": "stream",
     "text": [
      " 45%|████▍     | 22263/50000 [02:31<02:46, 166.65it/s]"
     ]
    },
    {
     "name": "stdout",
     "output_type": "stream",
     "text": [
      "flower_44.48%.png\n",
      "flower_44.50%.png\n",
      "flower_44.52%.png\n",
      "flower_44.54%.png\n"
     ]
    },
    {
     "name": "stderr",
     "output_type": "stream",
     "text": [
      " 45%|████▍     | 22300/50000 [02:31<02:47, 164.97it/s]"
     ]
    },
    {
     "name": "stdout",
     "output_type": "stream",
     "text": [
      "flower_44.56%.png\n",
      "flower_44.58%.png\n",
      "flower_44.60%.png\n",
      "flower_44.62%.png\n"
     ]
    },
    {
     "name": "stderr",
     "output_type": "stream",
     "text": [
      " 45%|████▍     | 22340/50000 [02:31<02:48, 163.96it/s]"
     ]
    },
    {
     "name": "stdout",
     "output_type": "stream",
     "text": [
      "flower_44.64%.png\n",
      "flower_44.66%.png\n",
      "flower_44.68%.png\n",
      "flower_44.70%.png\n"
     ]
    },
    {
     "name": "stderr",
     "output_type": "stream",
     "text": [
      " 45%|████▍     | 22381/50000 [02:32<02:34, 179.28it/s]"
     ]
    },
    {
     "name": "stdout",
     "output_type": "stream",
     "text": [
      "flower_44.72%.png\n",
      "flower_44.74%.png\n",
      "flower_44.76%.png\n",
      "flower_44.78%.png\n"
     ]
    },
    {
     "name": "stderr",
     "output_type": "stream",
     "text": [
      " 45%|████▍     | 22420/50000 [02:32<02:43, 168.27it/s]"
     ]
    },
    {
     "name": "stdout",
     "output_type": "stream",
     "text": [
      "flower_44.80%.png\n",
      "flower_44.82%.png\n",
      "flower_44.84%.png\n",
      "flower_44.86%.png\n"
     ]
    },
    {
     "name": "stderr",
     "output_type": "stream",
     "text": [
      " 45%|████▍     | 22460/50000 [02:32<02:40, 171.98it/s]"
     ]
    },
    {
     "name": "stdout",
     "output_type": "stream",
     "text": [
      "flower_44.88%.png\n",
      "flower_44.90%.png\n",
      "flower_44.92%.png\n",
      "flower_44.94%.png\n"
     ]
    },
    {
     "name": "stderr",
     "output_type": "stream",
     "text": [
      " 45%|████▌     | 22500/50000 [02:32<02:48, 162.86it/s]"
     ]
    },
    {
     "name": "stdout",
     "output_type": "stream",
     "text": [
      "flower_44.96%.png\n",
      "flower_44.98%.png\n",
      "flower_45.00%.png\n",
      "flower_45.02%.png\n"
     ]
    },
    {
     "name": "stderr",
     "output_type": "stream",
     "text": [
      " 45%|████▌     | 22540/50000 [02:33<02:45, 166.27it/s]"
     ]
    },
    {
     "name": "stdout",
     "output_type": "stream",
     "text": [
      "flower_45.04%.png\n",
      "flower_45.06%.png\n",
      "flower_45.08%.png\n",
      "flower_45.10%.png\n"
     ]
    },
    {
     "name": "stderr",
     "output_type": "stream",
     "text": [
      " 45%|████▌     | 22580/50000 [02:33<02:47, 163.45it/s]"
     ]
    },
    {
     "name": "stdout",
     "output_type": "stream",
     "text": [
      "flower_45.12%.png\n",
      "flower_45.14%.png\n",
      "flower_45.16%.png\n",
      "flower_45.18%.png\n"
     ]
    },
    {
     "name": "stderr",
     "output_type": "stream",
     "text": [
      " 45%|████▌     | 22620/50000 [02:33<02:49, 161.10it/s]"
     ]
    },
    {
     "name": "stdout",
     "output_type": "stream",
     "text": [
      "flower_45.20%.png\n",
      "flower_45.22%.png\n",
      "flower_45.24%.png\n",
      "flower_45.26%.png\n"
     ]
    },
    {
     "name": "stderr",
     "output_type": "stream",
     "text": [
      " 45%|████▌     | 22660/50000 [02:33<02:54, 156.83it/s]"
     ]
    },
    {
     "name": "stdout",
     "output_type": "stream",
     "text": [
      "flower_45.28%.png\n",
      "flower_45.30%.png\n",
      "flower_45.32%.png\n",
      "flower_45.34%.png\n"
     ]
    },
    {
     "name": "stderr",
     "output_type": "stream",
     "text": [
      " 45%|████▌     | 22700/50000 [02:34<02:45, 164.46it/s]"
     ]
    },
    {
     "name": "stdout",
     "output_type": "stream",
     "text": [
      "flower_45.36%.png\n",
      "flower_45.38%.png\n",
      "flower_45.40%.png\n",
      "flower_45.42%.png\n"
     ]
    },
    {
     "name": "stderr",
     "output_type": "stream",
     "text": [
      " 45%|████▌     | 22740/50000 [02:34<02:47, 162.62it/s]"
     ]
    },
    {
     "name": "stdout",
     "output_type": "stream",
     "text": [
      "flower_45.44%.png\n",
      "flower_45.46%.png\n",
      "flower_45.48%.png\n"
     ]
    },
    {
     "name": "stderr",
     "output_type": "stream",
     "text": [
      "\r",
      " 46%|████▌     | 22757/50000 [02:35<06:50, 66.38it/s] "
     ]
    },
    {
     "name": "stdout",
     "output_type": "stream",
     "text": [
      "flower_45.50%.png\n",
      "flower_45.52%.png\n"
     ]
    },
    {
     "name": "stderr",
     "output_type": "stream",
     "text": [
      " 46%|████▌     | 22790/50000 [02:35<06:18, 71.91it/s]"
     ]
    },
    {
     "name": "stdout",
     "output_type": "stream",
     "text": [
      "flower_45.54%.png\n",
      "flower_45.56%.png\n",
      "flower_45.58%.png\n",
      "flower_45.60%.png\n"
     ]
    },
    {
     "name": "stderr",
     "output_type": "stream",
     "text": [
      " 46%|████▌     | 22830/50000 [02:35<04:23, 103.13it/s]"
     ]
    },
    {
     "name": "stdout",
     "output_type": "stream",
     "text": [
      "flower_45.62%.png\n",
      "flower_45.64%.png\n",
      "flower_45.66%.png\n",
      "flower_45.68%.png\n"
     ]
    },
    {
     "name": "stderr",
     "output_type": "stream",
     "text": [
      " 46%|████▌     | 22870/50000 [02:36<03:35, 126.01it/s]"
     ]
    },
    {
     "name": "stdout",
     "output_type": "stream",
     "text": [
      "flower_45.70%.png\n",
      "flower_45.72%.png\n",
      "flower_45.74%.png\n",
      "flower_45.76%.png\n"
     ]
    },
    {
     "name": "stderr",
     "output_type": "stream",
     "text": [
      " 46%|████▌     | 22910/50000 [02:36<03:02, 148.08it/s]"
     ]
    },
    {
     "name": "stdout",
     "output_type": "stream",
     "text": [
      "flower_45.78%.png\n",
      "flower_45.80%.png\n",
      "flower_45.82%.png\n",
      "flower_45.84%.png\n"
     ]
    },
    {
     "name": "stderr",
     "output_type": "stream",
     "text": [
      " 46%|████▌     | 22950/50000 [02:36<02:58, 151.25it/s]"
     ]
    },
    {
     "name": "stdout",
     "output_type": "stream",
     "text": [
      "flower_45.86%.png\n",
      "flower_45.88%.png\n",
      "flower_45.90%.png\n",
      "flower_45.92%.png\n"
     ]
    },
    {
     "name": "stderr",
     "output_type": "stream",
     "text": [
      " 46%|████▌     | 22990/50000 [02:36<02:52, 156.33it/s]"
     ]
    },
    {
     "name": "stdout",
     "output_type": "stream",
     "text": [
      "flower_45.94%.png\n",
      "flower_45.96%.png\n",
      "flower_45.98%.png\n",
      "flower_46.00%.png\n"
     ]
    },
    {
     "name": "stderr",
     "output_type": "stream",
     "text": [
      " 46%|████▌     | 23030/50000 [02:37<02:54, 154.84it/s]"
     ]
    },
    {
     "name": "stdout",
     "output_type": "stream",
     "text": [
      "flower_46.02%.png\n",
      "flower_46.04%.png\n",
      "flower_46.06%.png\n",
      "flower_46.08%.png\n"
     ]
    },
    {
     "name": "stderr",
     "output_type": "stream",
     "text": [
      " 46%|████▌     | 23070/50000 [02:37<02:55, 153.18it/s]"
     ]
    },
    {
     "name": "stdout",
     "output_type": "stream",
     "text": [
      "flower_46.10%.png\n",
      "flower_46.12%.png\n",
      "flower_46.14%.png\n",
      "flower_46.16%.png\n"
     ]
    },
    {
     "name": "stderr",
     "output_type": "stream",
     "text": [
      " 46%|████▌     | 23110/50000 [02:37<02:52, 156.17it/s]"
     ]
    },
    {
     "name": "stdout",
     "output_type": "stream",
     "text": [
      "flower_46.18%.png\n",
      "flower_46.20%.png\n",
      "flower_46.22%.png\n",
      "flower_46.24%.png\n"
     ]
    },
    {
     "name": "stderr",
     "output_type": "stream",
     "text": [
      " 46%|████▋     | 23150/50000 [02:37<02:52, 155.67it/s]"
     ]
    },
    {
     "name": "stdout",
     "output_type": "stream",
     "text": [
      "flower_46.26%.png\n",
      "flower_46.28%.png\n",
      "flower_46.30%.png\n",
      "flower_46.32%.png\n"
     ]
    },
    {
     "name": "stderr",
     "output_type": "stream",
     "text": [
      " 46%|████▋     | 23190/50000 [02:38<02:45, 161.68it/s]"
     ]
    },
    {
     "name": "stdout",
     "output_type": "stream",
     "text": [
      "flower_46.34%.png\n",
      "flower_46.36%.png\n",
      "flower_46.38%.png\n",
      "flower_46.40%.png\n"
     ]
    },
    {
     "name": "stderr",
     "output_type": "stream",
     "text": [
      " 46%|████▋     | 23230/50000 [02:38<02:51, 156.23it/s]"
     ]
    },
    {
     "name": "stdout",
     "output_type": "stream",
     "text": [
      "flower_46.42%.png\n",
      "flower_46.44%.png\n",
      "flower_46.46%.png\n",
      "flower_46.48%.png\n"
     ]
    },
    {
     "name": "stderr",
     "output_type": "stream",
     "text": [
      " 47%|████▋     | 23270/50000 [02:38<02:52, 155.39it/s]"
     ]
    },
    {
     "name": "stdout",
     "output_type": "stream",
     "text": [
      "flower_46.50%.png\n",
      "flower_46.52%.png\n",
      "flower_46.54%.png\n",
      "flower_46.56%.png\n"
     ]
    },
    {
     "name": "stderr",
     "output_type": "stream",
     "text": [
      " 47%|████▋     | 23305/50000 [02:38<03:16, 135.75it/s]"
     ]
    },
    {
     "name": "stdout",
     "output_type": "stream",
     "text": [
      "flower_46.58%.png\n",
      "flower_46.60%.png\n",
      "flower_46.62%.png\n"
     ]
    },
    {
     "name": "stderr",
     "output_type": "stream",
     "text": [
      " 47%|████▋     | 23340/50000 [02:39<03:14, 137.01it/s]"
     ]
    },
    {
     "name": "stdout",
     "output_type": "stream",
     "text": [
      "flower_46.64%.png\n",
      "flower_46.66%.png\n",
      "flower_46.68%.png\n",
      "flower_46.70%.png\n"
     ]
    },
    {
     "name": "stderr",
     "output_type": "stream",
     "text": [
      " 47%|████▋     | 23380/50000 [02:39<02:58, 149.08it/s]"
     ]
    },
    {
     "name": "stdout",
     "output_type": "stream",
     "text": [
      "flower_46.72%.png\n",
      "flower_46.74%.png\n",
      "flower_46.76%.png\n",
      "flower_46.78%.png\n"
     ]
    },
    {
     "name": "stderr",
     "output_type": "stream",
     "text": [
      " 47%|████▋     | 23420/50000 [02:39<02:44, 161.91it/s]"
     ]
    },
    {
     "name": "stdout",
     "output_type": "stream",
     "text": [
      "flower_46.80%.png\n",
      "flower_46.82%.png\n",
      "flower_46.84%.png\n",
      "flower_46.86%.png\n"
     ]
    },
    {
     "name": "stderr",
     "output_type": "stream",
     "text": [
      " 47%|████▋     | 23453/50000 [02:39<03:13, 137.22it/s]"
     ]
    },
    {
     "name": "stdout",
     "output_type": "stream",
     "text": [
      "flower_46.88%.png\n",
      "flower_46.90%.png\n"
     ]
    },
    {
     "name": "stderr",
     "output_type": "stream",
     "text": [
      " 47%|████▋     | 23480/50000 [02:40<04:22, 101.14it/s]"
     ]
    },
    {
     "name": "stdout",
     "output_type": "stream",
     "text": [
      "flower_46.92%.png\n",
      "flower_46.94%.png\n",
      "flower_46.96%.png\n"
     ]
    },
    {
     "name": "stderr",
     "output_type": "stream",
     "text": [
      " 47%|████▋     | 23520/50000 [02:40<03:20, 132.02it/s]"
     ]
    },
    {
     "name": "stdout",
     "output_type": "stream",
     "text": [
      "flower_46.98%.png\n",
      "flower_47.00%.png\n",
      "flower_47.02%.png\n",
      "flower_47.04%.png\n"
     ]
    },
    {
     "name": "stderr",
     "output_type": "stream",
     "text": [
      " 47%|████▋     | 23560/50000 [02:40<02:57, 148.82it/s]"
     ]
    },
    {
     "name": "stdout",
     "output_type": "stream",
     "text": [
      "flower_47.06%.png\n",
      "flower_47.08%.png\n",
      "flower_47.10%.png\n",
      "flower_47.12%.png\n"
     ]
    },
    {
     "name": "stderr",
     "output_type": "stream",
     "text": [
      " 47%|████▋     | 23598/50000 [02:41<03:25, 128.29it/s]"
     ]
    },
    {
     "name": "stdout",
     "output_type": "stream",
     "text": [
      "flower_47.14%.png\n",
      "flower_47.16%.png\n",
      "flower_47.18%.png\n",
      "flower_47.20%.png\n"
     ]
    },
    {
     "name": "stderr",
     "output_type": "stream",
     "text": [
      " 47%|████▋     | 23628/50000 [02:41<03:30, 125.47it/s]"
     ]
    },
    {
     "name": "stdout",
     "output_type": "stream",
     "text": [
      "flower_47.22%.png\n",
      "flower_47.24%.png\n",
      "flower_47.26%.png\n"
     ]
    },
    {
     "name": "stderr",
     "output_type": "stream",
     "text": [
      " 47%|████▋     | 23660/50000 [02:41<04:05, 107.42it/s]"
     ]
    },
    {
     "name": "stdout",
     "output_type": "stream",
     "text": [
      "flower_47.28%.png\n",
      "flower_47.30%.png\n",
      "flower_47.32%.png\n",
      "flower_47.34%.png\n"
     ]
    },
    {
     "name": "stderr",
     "output_type": "stream",
     "text": [
      " 47%|████▋     | 23694/50000 [02:42<04:05, 107.22it/s]"
     ]
    },
    {
     "name": "stdout",
     "output_type": "stream",
     "text": [
      "flower_47.36%.png\n",
      "flower_47.38%.png\n"
     ]
    },
    {
     "name": "stderr",
     "output_type": "stream",
     "text": [
      " 47%|████▋     | 23730/50000 [02:42<03:20, 131.33it/s]"
     ]
    },
    {
     "name": "stdout",
     "output_type": "stream",
     "text": [
      "flower_47.40%.png\n",
      "flower_47.42%.png\n",
      "flower_47.44%.png\n",
      "flower_47.46%.png\n"
     ]
    },
    {
     "name": "stderr",
     "output_type": "stream",
     "text": [
      " 48%|████▊     | 23770/50000 [02:42<02:51, 153.28it/s]"
     ]
    },
    {
     "name": "stdout",
     "output_type": "stream",
     "text": [
      "flower_47.48%.png\n",
      "flower_47.50%.png\n",
      "flower_47.52%.png\n",
      "flower_47.54%.png\n"
     ]
    },
    {
     "name": "stderr",
     "output_type": "stream",
     "text": [
      " 48%|████▊     | 23810/50000 [02:42<02:43, 160.08it/s]"
     ]
    },
    {
     "name": "stdout",
     "output_type": "stream",
     "text": [
      "flower_47.56%.png\n",
      "flower_47.58%.png\n",
      "flower_47.60%.png\n",
      "flower_47.62%.png\n"
     ]
    },
    {
     "name": "stderr",
     "output_type": "stream",
     "text": [
      " 48%|████▊     | 23850/50000 [02:42<02:41, 161.66it/s]"
     ]
    },
    {
     "name": "stdout",
     "output_type": "stream",
     "text": [
      "flower_47.64%.png\n",
      "flower_47.66%.png\n",
      "flower_47.68%.png\n",
      "flower_47.70%.png\n"
     ]
    },
    {
     "name": "stderr",
     "output_type": "stream",
     "text": [
      "\r",
      " 48%|████▊     | 23867/50000 [02:43<03:40, 118.58it/s]"
     ]
    },
    {
     "name": "stdout",
     "output_type": "stream",
     "text": [
      "flower_47.72%.png\n",
      "flower_47.74%.png\n"
     ]
    },
    {
     "name": "stderr",
     "output_type": "stream",
     "text": [
      " 48%|████▊     | 23905/50000 [02:43<03:07, 138.89it/s]"
     ]
    },
    {
     "name": "stdout",
     "output_type": "stream",
     "text": [
      "flower_47.76%.png\n",
      "flower_47.78%.png\n",
      "flower_47.80%.png\n",
      "flower_47.82%.png\n"
     ]
    },
    {
     "name": "stderr",
     "output_type": "stream",
     "text": [
      " 48%|████▊     | 23934/50000 [02:43<04:33, 95.35it/s] "
     ]
    },
    {
     "name": "stdout",
     "output_type": "stream",
     "text": [
      "flower_47.84%.png\n",
      "flower_47.86%.png\n"
     ]
    },
    {
     "name": "stderr",
     "output_type": "stream",
     "text": [
      " 48%|████▊     | 23960/50000 [02:44<05:02, 86.05it/s]"
     ]
    },
    {
     "name": "stdout",
     "output_type": "stream",
     "text": [
      "flower_47.88%.png\n",
      "flower_47.90%.png\n",
      "flower_47.92%.png\n"
     ]
    },
    {
     "name": "stderr",
     "output_type": "stream",
     "text": [
      " 48%|████▊     | 24000/50000 [02:44<03:39, 118.65it/s]"
     ]
    },
    {
     "name": "stdout",
     "output_type": "stream",
     "text": [
      "flower_47.94%.png\n",
      "flower_47.96%.png\n",
      "flower_47.98%.png\n",
      "flower_48.00%.png\n"
     ]
    },
    {
     "name": "stderr",
     "output_type": "stream",
     "text": [
      "\r",
      " 48%|████▊     | 24014/50000 [02:44<05:45, 75.15it/s] "
     ]
    },
    {
     "name": "stdout",
     "output_type": "stream",
     "text": [
      "flower_48.02%.png\n",
      "flower_48.04%.png\n"
     ]
    },
    {
     "name": "stderr",
     "output_type": "stream",
     "text": [
      " 48%|████▊     | 24050/50000 [02:45<04:10, 103.48it/s]"
     ]
    },
    {
     "name": "stdout",
     "output_type": "stream",
     "text": [
      "flower_48.06%.png\n",
      "flower_48.08%.png\n",
      "flower_48.10%.png\n",
      "flower_48.12%.png\n"
     ]
    },
    {
     "name": "stderr",
     "output_type": "stream",
     "text": [
      " 48%|████▊     | 24090/50000 [02:45<03:19, 130.15it/s]"
     ]
    },
    {
     "name": "stdout",
     "output_type": "stream",
     "text": [
      "flower_48.14%.png\n",
      "flower_48.16%.png\n",
      "flower_48.18%.png\n",
      "flower_48.20%.png\n"
     ]
    },
    {
     "name": "stderr",
     "output_type": "stream",
     "text": [
      " 48%|████▊     | 24130/50000 [02:45<02:53, 149.28it/s]"
     ]
    },
    {
     "name": "stdout",
     "output_type": "stream",
     "text": [
      "flower_48.22%.png\n",
      "flower_48.24%.png\n",
      "flower_48.26%.png\n",
      "flower_48.28%.png\n"
     ]
    },
    {
     "name": "stderr",
     "output_type": "stream",
     "text": [
      " 48%|████▊     | 24170/50000 [02:45<02:44, 157.30it/s]"
     ]
    },
    {
     "name": "stdout",
     "output_type": "stream",
     "text": [
      "flower_48.30%.png\n",
      "flower_48.32%.png\n",
      "flower_48.34%.png\n",
      "flower_48.36%.png\n"
     ]
    },
    {
     "name": "stderr",
     "output_type": "stream",
     "text": [
      " 48%|████▊     | 24210/50000 [02:46<02:39, 161.54it/s]"
     ]
    },
    {
     "name": "stdout",
     "output_type": "stream",
     "text": [
      "flower_48.38%.png\n",
      "flower_48.40%.png\n",
      "flower_48.42%.png\n",
      "flower_48.44%.png\n"
     ]
    },
    {
     "name": "stderr",
     "output_type": "stream",
     "text": [
      " 48%|████▊     | 24250/50000 [02:46<02:37, 163.39it/s]"
     ]
    },
    {
     "name": "stdout",
     "output_type": "stream",
     "text": [
      "flower_48.46%.png\n",
      "flower_48.48%.png\n",
      "flower_48.50%.png\n",
      "flower_48.52%.png\n"
     ]
    },
    {
     "name": "stderr",
     "output_type": "stream",
     "text": [
      " 49%|████▊     | 24290/50000 [02:46<02:35, 164.85it/s]"
     ]
    },
    {
     "name": "stdout",
     "output_type": "stream",
     "text": [
      "flower_48.54%.png\n",
      "flower_48.56%.png\n",
      "flower_48.58%.png\n",
      "flower_48.60%.png\n"
     ]
    },
    {
     "name": "stderr",
     "output_type": "stream",
     "text": [
      " 49%|████▊     | 24330/50000 [02:46<02:34, 166.35it/s]"
     ]
    },
    {
     "name": "stdout",
     "output_type": "stream",
     "text": [
      "flower_48.62%.png\n",
      "flower_48.64%.png\n",
      "flower_48.66%.png\n",
      "flower_48.68%.png\n"
     ]
    },
    {
     "name": "stderr",
     "output_type": "stream",
     "text": [
      " 49%|████▊     | 24370/50000 [02:47<02:32, 168.15it/s]"
     ]
    },
    {
     "name": "stdout",
     "output_type": "stream",
     "text": [
      "flower_48.70%.png\n",
      "flower_48.72%.png\n",
      "flower_48.74%.png\n",
      "flower_48.76%.png\n"
     ]
    },
    {
     "name": "stderr",
     "output_type": "stream",
     "text": [
      " 49%|████▉     | 24410/50000 [02:47<02:34, 165.21it/s]"
     ]
    },
    {
     "name": "stdout",
     "output_type": "stream",
     "text": [
      "flower_48.78%.png\n",
      "flower_48.80%.png\n",
      "flower_48.82%.png\n",
      "flower_48.84%.png\n"
     ]
    },
    {
     "name": "stderr",
     "output_type": "stream",
     "text": [
      " 49%|████▉     | 24450/50000 [02:47<02:31, 169.03it/s]"
     ]
    },
    {
     "name": "stdout",
     "output_type": "stream",
     "text": [
      "flower_48.86%.png\n",
      "flower_48.88%.png\n",
      "flower_48.90%.png\n",
      "flower_48.92%.png\n"
     ]
    },
    {
     "name": "stderr",
     "output_type": "stream",
     "text": [
      " 49%|████▉     | 24490/50000 [02:47<02:34, 165.41it/s]"
     ]
    },
    {
     "name": "stdout",
     "output_type": "stream",
     "text": [
      "flower_48.94%.png\n",
      "flower_48.96%.png\n",
      "flower_48.98%.png\n",
      "flower_49.00%.png\n"
     ]
    },
    {
     "name": "stderr",
     "output_type": "stream",
     "text": [
      " 49%|████▉     | 24530/50000 [02:47<02:34, 165.31it/s]"
     ]
    },
    {
     "name": "stdout",
     "output_type": "stream",
     "text": [
      "flower_49.02%.png\n",
      "flower_49.04%.png\n",
      "flower_49.06%.png\n",
      "flower_49.08%.png\n"
     ]
    },
    {
     "name": "stderr",
     "output_type": "stream",
     "text": [
      " 49%|████▉     | 24570/50000 [02:48<02:33, 165.52it/s]"
     ]
    },
    {
     "name": "stdout",
     "output_type": "stream",
     "text": [
      "flower_49.10%.png\n",
      "flower_49.12%.png\n",
      "flower_49.14%.png\n",
      "flower_49.16%.png\n"
     ]
    },
    {
     "name": "stderr",
     "output_type": "stream",
     "text": [
      " 49%|████▉     | 24610/50000 [02:48<02:28, 170.68it/s]"
     ]
    },
    {
     "name": "stdout",
     "output_type": "stream",
     "text": [
      "flower_49.18%.png\n",
      "flower_49.20%.png\n",
      "flower_49.22%.png\n",
      "flower_49.24%.png\n"
     ]
    },
    {
     "name": "stderr",
     "output_type": "stream",
     "text": [
      " 49%|████▉     | 24650/50000 [02:48<02:35, 163.01it/s]"
     ]
    },
    {
     "name": "stdout",
     "output_type": "stream",
     "text": [
      "flower_49.26%.png\n",
      "flower_49.28%.png\n",
      "flower_49.30%.png\n",
      "flower_49.32%.png\n"
     ]
    },
    {
     "name": "stderr",
     "output_type": "stream",
     "text": [
      " 49%|████▉     | 24690/50000 [02:48<02:33, 164.49it/s]"
     ]
    },
    {
     "name": "stdout",
     "output_type": "stream",
     "text": [
      "flower_49.34%.png\n",
      "flower_49.36%.png\n",
      "flower_49.38%.png\n",
      "flower_49.40%.png\n"
     ]
    },
    {
     "name": "stderr",
     "output_type": "stream",
     "text": [
      " 49%|████▉     | 24730/50000 [02:49<02:38, 159.85it/s]"
     ]
    },
    {
     "name": "stdout",
     "output_type": "stream",
     "text": [
      "flower_49.42%.png\n",
      "flower_49.44%.png\n",
      "flower_49.46%.png\n",
      "flower_49.48%.png\n"
     ]
    },
    {
     "name": "stderr",
     "output_type": "stream",
     "text": [
      " 50%|████▉     | 24770/50000 [02:49<02:40, 157.43it/s]"
     ]
    },
    {
     "name": "stdout",
     "output_type": "stream",
     "text": [
      "flower_49.50%.png\n",
      "flower_49.52%.png\n",
      "flower_49.54%.png\n",
      "flower_49.56%.png\n"
     ]
    },
    {
     "name": "stderr",
     "output_type": "stream",
     "text": [
      " 50%|████▉     | 24810/50000 [02:49<02:39, 157.67it/s]"
     ]
    },
    {
     "name": "stdout",
     "output_type": "stream",
     "text": [
      "flower_49.58%.png\n",
      "flower_49.60%.png\n",
      "flower_49.62%.png\n",
      "flower_49.64%.png\n"
     ]
    },
    {
     "name": "stderr",
     "output_type": "stream",
     "text": [
      " 50%|████▉     | 24850/50000 [02:49<02:36, 160.37it/s]"
     ]
    },
    {
     "name": "stdout",
     "output_type": "stream",
     "text": [
      "flower_49.66%.png\n",
      "flower_49.68%.png\n",
      "flower_49.70%.png\n",
      "flower_49.72%.png\n"
     ]
    },
    {
     "name": "stderr",
     "output_type": "stream",
     "text": [
      " 50%|████▉     | 24890/50000 [02:50<02:38, 158.39it/s]"
     ]
    },
    {
     "name": "stdout",
     "output_type": "stream",
     "text": [
      "flower_49.74%.png\n",
      "flower_49.76%.png\n",
      "flower_49.78%.png\n",
      "flower_49.80%.png\n"
     ]
    },
    {
     "name": "stderr",
     "output_type": "stream",
     "text": [
      " 50%|████▉     | 24930/50000 [02:50<02:33, 162.92it/s]"
     ]
    },
    {
     "name": "stdout",
     "output_type": "stream",
     "text": [
      "flower_49.82%.png\n",
      "flower_49.84%.png\n",
      "flower_49.86%.png\n",
      "flower_49.88%.png\n"
     ]
    },
    {
     "name": "stderr",
     "output_type": "stream",
     "text": [
      " 50%|████▉     | 24970/50000 [02:50<02:35, 161.09it/s]"
     ]
    },
    {
     "name": "stdout",
     "output_type": "stream",
     "text": [
      "flower_49.90%.png\n",
      "flower_49.92%.png\n",
      "flower_49.94%.png\n",
      "flower_49.96%.png\n"
     ]
    },
    {
     "name": "stderr",
     "output_type": "stream",
     "text": [
      " 50%|█████     | 25010/50000 [02:50<02:33, 163.20it/s]"
     ]
    },
    {
     "name": "stdout",
     "output_type": "stream",
     "text": [
      "flower_49.98%.png\n",
      "flower_50.00%.png\n",
      "flower_50.02%.png\n",
      "flower_50.04%.png\n"
     ]
    },
    {
     "name": "stderr",
     "output_type": "stream",
     "text": [
      " 50%|█████     | 25050/50000 [02:51<02:34, 161.72it/s]"
     ]
    },
    {
     "name": "stdout",
     "output_type": "stream",
     "text": [
      "flower_50.06%.png\n",
      "flower_50.08%.png\n",
      "flower_50.10%.png\n",
      "flower_50.12%.png\n"
     ]
    },
    {
     "name": "stderr",
     "output_type": "stream",
     "text": [
      " 50%|█████     | 25087/50000 [02:51<02:44, 151.31it/s]"
     ]
    },
    {
     "name": "stdout",
     "output_type": "stream",
     "text": [
      "flower_50.14%.png\n",
      "flower_50.16%.png\n"
     ]
    },
    {
     "name": "stderr",
     "output_type": "stream",
     "text": [
      "\r",
      " 50%|█████     | 25103/50000 [02:51<03:46, 109.73it/s]"
     ]
    },
    {
     "name": "stdout",
     "output_type": "stream",
     "text": [
      "flower_50.18%.png\n",
      "flower_50.20%.png\n",
      "flower_50.22%.png\n"
     ]
    },
    {
     "name": "stderr",
     "output_type": "stream",
     "text": [
      " 50%|█████     | 25140/50000 [02:51<03:09, 131.15it/s]"
     ]
    },
    {
     "name": "stdout",
     "output_type": "stream",
     "text": [
      "flower_50.24%.png\n",
      "flower_50.26%.png\n",
      "flower_50.28%.png\n",
      "flower_50.30%.png\n"
     ]
    },
    {
     "name": "stderr",
     "output_type": "stream",
     "text": [
      " 50%|█████     | 25168/50000 [02:52<05:05, 81.22it/s] "
     ]
    },
    {
     "name": "stdout",
     "output_type": "stream",
     "text": [
      "flower_50.32%.png\n"
     ]
    },
    {
     "name": "stderr",
     "output_type": "stream",
     "text": [
      " 50%|█████     | 25200/50000 [02:52<03:52, 106.48it/s]"
     ]
    },
    {
     "name": "stdout",
     "output_type": "stream",
     "text": [
      "flower_50.34%.png\n",
      "flower_50.36%.png\n",
      "flower_50.38%.png\n",
      "flower_50.40%.png\n"
     ]
    },
    {
     "name": "stderr",
     "output_type": "stream",
     "text": [
      " 50%|█████     | 25240/50000 [02:52<03:08, 131.39it/s]"
     ]
    },
    {
     "name": "stdout",
     "output_type": "stream",
     "text": [
      "flower_50.42%.png\n",
      "flower_50.44%.png\n",
      "flower_50.46%.png\n",
      "flower_50.48%.png\n"
     ]
    },
    {
     "name": "stderr",
     "output_type": "stream",
     "text": [
      "\r",
      " 51%|█████     | 25255/50000 [02:53<04:57, 83.11it/s] "
     ]
    },
    {
     "name": "stdout",
     "output_type": "stream",
     "text": [
      "flower_50.50%.png\n"
     ]
    },
    {
     "name": "stderr",
     "output_type": "stream",
     "text": [
      "\r",
      " 51%|█████     | 25267/50000 [02:53<05:48, 70.89it/s]"
     ]
    },
    {
     "name": "stdout",
     "output_type": "stream",
     "text": [
      "flower_50.52%.png\n",
      "flower_50.54%.png\n"
     ]
    },
    {
     "name": "stderr",
     "output_type": "stream",
     "text": [
      " 51%|█████     | 25300/50000 [02:53<04:14, 97.17it/s]"
     ]
    },
    {
     "name": "stdout",
     "output_type": "stream",
     "text": [
      "flower_50.56%.png\n",
      "flower_50.58%.png\n",
      "flower_50.60%.png\n"
     ]
    },
    {
     "name": "stderr",
     "output_type": "stream",
     "text": [
      " 51%|█████     | 25328/50000 [02:54<03:55, 104.86it/s]"
     ]
    },
    {
     "name": "stdout",
     "output_type": "stream",
     "text": [
      "flower_50.62%.png\n",
      "flower_50.64%.png\n",
      "flower_50.66%.png\n"
     ]
    },
    {
     "name": "stderr",
     "output_type": "stream",
     "text": [
      " 51%|█████     | 25360/50000 [02:54<03:41, 111.36it/s]"
     ]
    },
    {
     "name": "stdout",
     "output_type": "stream",
     "text": [
      "flower_50.68%.png\n",
      "flower_50.70%.png\n",
      "flower_50.72%.png\n",
      "flower_50.74%.png\n"
     ]
    },
    {
     "name": "stderr",
     "output_type": "stream",
     "text": [
      " 51%|█████     | 25400/50000 [02:54<03:07, 131.40it/s]"
     ]
    },
    {
     "name": "stdout",
     "output_type": "stream",
     "text": [
      "flower_50.76%.png\n",
      "flower_50.78%.png\n",
      "flower_50.80%.png\n",
      "flower_50.82%.png\n"
     ]
    },
    {
     "name": "stderr",
     "output_type": "stream",
     "text": [
      "\r",
      " 51%|█████     | 25418/50000 [02:54<02:52, 142.13it/s]"
     ]
    },
    {
     "name": "stdout",
     "output_type": "stream",
     "text": [
      "flower_50.84%.png\n"
     ]
    },
    {
     "name": "stderr",
     "output_type": "stream",
     "text": [
      " 51%|█████     | 25450/50000 [02:55<04:04, 100.51it/s]"
     ]
    },
    {
     "name": "stdout",
     "output_type": "stream",
     "text": [
      "flower_50.86%.png\n",
      "flower_50.88%.png\n",
      "flower_50.90%.png\n"
     ]
    },
    {
     "name": "stderr",
     "output_type": "stream",
     "text": [
      "\r",
      " 51%|█████     | 25470/50000 [02:55<03:27, 117.97it/s]"
     ]
    },
    {
     "name": "stdout",
     "output_type": "stream",
     "text": [
      "flower_50.92%.png\n",
      "flower_50.94%.png\n",
      "flower_50.96%.png\n"
     ]
    },
    {
     "name": "stderr",
     "output_type": "stream",
     "text": [
      " 51%|█████     | 25509/50000 [02:55<04:38, 87.84it/s] "
     ]
    },
    {
     "name": "stdout",
     "output_type": "stream",
     "text": [
      "flower_50.98%.png\n",
      "flower_51.00%.png\n",
      "flower_51.02%.png\n"
     ]
    },
    {
     "name": "stderr",
     "output_type": "stream",
     "text": [
      " 51%|█████     | 25540/50000 [02:56<03:39, 111.49it/s]"
     ]
    },
    {
     "name": "stdout",
     "output_type": "stream",
     "text": [
      "flower_51.04%.png\n",
      "flower_51.06%.png\n",
      "flower_51.08%.png\n"
     ]
    },
    {
     "name": "stderr",
     "output_type": "stream",
     "text": [
      "\r",
      " 51%|█████     | 25553/50000 [02:56<04:35, 88.85it/s] "
     ]
    },
    {
     "name": "stdout",
     "output_type": "stream",
     "text": [
      "flower_51.10%.png\n"
     ]
    },
    {
     "name": "stderr",
     "output_type": "stream",
     "text": [
      " 51%|█████     | 25576/50000 [02:56<04:42, 86.37it/s]"
     ]
    },
    {
     "name": "stdout",
     "output_type": "stream",
     "text": [
      "flower_51.12%.png\n",
      "flower_51.14%.png\n"
     ]
    },
    {
     "name": "stderr",
     "output_type": "stream",
     "text": [
      "\r",
      " 51%|█████     | 25586/50000 [02:56<07:22, 55.15it/s]"
     ]
    },
    {
     "name": "stdout",
     "output_type": "stream",
     "text": [
      "flower_51.16%.png\n"
     ]
    },
    {
     "name": "stderr",
     "output_type": "stream",
     "text": [
      " 51%|█████     | 25620/50000 [02:57<04:33, 89.27it/s]"
     ]
    },
    {
     "name": "stdout",
     "output_type": "stream",
     "text": [
      "flower_51.18%.png\n",
      "flower_51.20%.png\n",
      "flower_51.22%.png\n",
      "flower_51.24%.png\n"
     ]
    },
    {
     "name": "stderr",
     "output_type": "stream",
     "text": [
      "\r",
      " 51%|█████▏    | 25640/50000 [02:57<03:47, 107.20it/s]"
     ]
    },
    {
     "name": "stdout",
     "output_type": "stream",
     "text": [
      "flower_51.26%.png\n",
      "flower_51.28%.png\n"
     ]
    },
    {
     "name": "stderr",
     "output_type": "stream",
     "text": [
      " 51%|█████▏    | 25670/50000 [02:57<03:52, 104.58it/s]"
     ]
    },
    {
     "name": "stdout",
     "output_type": "stream",
     "text": [
      "flower_51.30%.png\n",
      "flower_51.32%.png\n",
      "flower_51.34%.png\n",
      "flower_51.36%.png\n"
     ]
    },
    {
     "name": "stderr",
     "output_type": "stream",
     "text": [
      " 51%|█████▏    | 25710/50000 [02:57<03:04, 131.99it/s]"
     ]
    },
    {
     "name": "stdout",
     "output_type": "stream",
     "text": [
      "flower_51.38%.png\n",
      "flower_51.40%.png\n",
      "flower_51.42%.png\n",
      "flower_51.44%.png\n"
     ]
    },
    {
     "name": "stderr",
     "output_type": "stream",
     "text": [
      " 52%|█████▏    | 25750/50000 [02:58<02:45, 146.26it/s]"
     ]
    },
    {
     "name": "stdout",
     "output_type": "stream",
     "text": [
      "flower_51.46%.png\n",
      "flower_51.48%.png\n",
      "flower_51.50%.png\n",
      "flower_51.52%.png\n"
     ]
    },
    {
     "name": "stderr",
     "output_type": "stream",
     "text": [
      " 52%|█████▏    | 25790/50000 [02:58<02:35, 155.47it/s]"
     ]
    },
    {
     "name": "stdout",
     "output_type": "stream",
     "text": [
      "flower_51.54%.png\n",
      "flower_51.56%.png\n",
      "flower_51.58%.png\n",
      "flower_51.60%.png\n"
     ]
    },
    {
     "name": "stderr",
     "output_type": "stream",
     "text": [
      " 52%|█████▏    | 25830/50000 [02:58<02:28, 162.68it/s]"
     ]
    },
    {
     "name": "stdout",
     "output_type": "stream",
     "text": [
      "flower_51.62%.png\n",
      "flower_51.64%.png\n",
      "flower_51.66%.png\n",
      "flower_51.68%.png\n"
     ]
    },
    {
     "name": "stderr",
     "output_type": "stream",
     "text": [
      " 52%|█████▏    | 25870/50000 [02:58<02:32, 158.44it/s]"
     ]
    },
    {
     "name": "stdout",
     "output_type": "stream",
     "text": [
      "flower_51.70%.png\n",
      "flower_51.72%.png\n",
      "flower_51.74%.png\n",
      "flower_51.76%.png\n"
     ]
    },
    {
     "name": "stderr",
     "output_type": "stream",
     "text": [
      " 52%|█████▏    | 25910/50000 [02:59<02:23, 168.36it/s]"
     ]
    },
    {
     "name": "stdout",
     "output_type": "stream",
     "text": [
      "flower_51.78%.png\n",
      "flower_51.80%.png\n",
      "flower_51.82%.png\n",
      "flower_51.84%.png\n"
     ]
    },
    {
     "name": "stderr",
     "output_type": "stream",
     "text": [
      " 52%|█████▏    | 25950/50000 [02:59<02:28, 162.45it/s]"
     ]
    },
    {
     "name": "stdout",
     "output_type": "stream",
     "text": [
      "flower_51.86%.png\n",
      "flower_51.88%.png\n",
      "flower_51.90%.png\n",
      "flower_51.92%.png\n"
     ]
    },
    {
     "name": "stderr",
     "output_type": "stream",
     "text": [
      " 52%|█████▏    | 25990/50000 [02:59<02:28, 161.81it/s]"
     ]
    },
    {
     "name": "stdout",
     "output_type": "stream",
     "text": [
      "flower_51.94%.png\n",
      "flower_51.96%.png\n",
      "flower_51.98%.png\n",
      "flower_52.00%.png\n"
     ]
    },
    {
     "name": "stderr",
     "output_type": "stream",
     "text": [
      " 52%|█████▏    | 26030/50000 [02:59<02:28, 161.68it/s]"
     ]
    },
    {
     "name": "stdout",
     "output_type": "stream",
     "text": [
      "flower_52.02%.png\n",
      "flower_52.04%.png\n",
      "flower_52.06%.png\n",
      "flower_52.08%.png\n"
     ]
    },
    {
     "name": "stderr",
     "output_type": "stream",
     "text": [
      " 52%|█████▏    | 26070/50000 [03:00<02:26, 163.22it/s]"
     ]
    },
    {
     "name": "stdout",
     "output_type": "stream",
     "text": [
      "flower_52.10%.png\n",
      "flower_52.12%.png\n",
      "flower_52.14%.png\n",
      "flower_52.16%.png\n"
     ]
    },
    {
     "name": "stderr",
     "output_type": "stream",
     "text": [
      " 52%|█████▏    | 26110/50000 [03:00<02:22, 167.22it/s]"
     ]
    },
    {
     "name": "stdout",
     "output_type": "stream",
     "text": [
      "flower_52.18%.png\n",
      "flower_52.20%.png\n",
      "flower_52.22%.png\n",
      "flower_52.24%.png\n"
     ]
    },
    {
     "name": "stderr",
     "output_type": "stream",
     "text": [
      " 52%|█████▏    | 26150/50000 [03:00<02:23, 166.77it/s]"
     ]
    },
    {
     "name": "stdout",
     "output_type": "stream",
     "text": [
      "flower_52.26%.png\n",
      "flower_52.28%.png\n",
      "flower_52.30%.png\n",
      "flower_52.32%.png\n"
     ]
    },
    {
     "name": "stderr",
     "output_type": "stream",
     "text": [
      " 52%|█████▏    | 26190/50000 [03:00<02:23, 165.49it/s]"
     ]
    },
    {
     "name": "stdout",
     "output_type": "stream",
     "text": [
      "flower_52.34%.png\n",
      "flower_52.36%.png\n",
      "flower_52.38%.png\n",
      "flower_52.40%.png\n"
     ]
    },
    {
     "name": "stderr",
     "output_type": "stream",
     "text": [
      " 52%|█████▏    | 26230/50000 [03:00<02:26, 162.00it/s]"
     ]
    },
    {
     "name": "stdout",
     "output_type": "stream",
     "text": [
      "flower_52.42%.png\n",
      "flower_52.44%.png\n",
      "flower_52.46%.png\n",
      "flower_52.48%.png\n"
     ]
    },
    {
     "name": "stderr",
     "output_type": "stream",
     "text": [
      " 53%|█████▎    | 26270/50000 [03:01<02:25, 163.17it/s]"
     ]
    },
    {
     "name": "stdout",
     "output_type": "stream",
     "text": [
      "flower_52.50%.png\n",
      "flower_52.52%.png\n",
      "flower_52.54%.png\n",
      "flower_52.56%.png\n"
     ]
    },
    {
     "name": "stderr",
     "output_type": "stream",
     "text": [
      " 53%|█████▎    | 26310/50000 [03:01<02:23, 164.91it/s]"
     ]
    },
    {
     "name": "stdout",
     "output_type": "stream",
     "text": [
      "flower_52.58%.png\n",
      "flower_52.60%.png\n",
      "flower_52.62%.png\n",
      "flower_52.64%.png\n"
     ]
    },
    {
     "name": "stderr",
     "output_type": "stream",
     "text": [
      " 53%|█████▎    | 26364/50000 [03:01<02:23, 164.61it/s]"
     ]
    },
    {
     "name": "stdout",
     "output_type": "stream",
     "text": [
      "flower_52.66%.png\n",
      "flower_52.68%.png\n",
      "flower_52.70%.png\n",
      "flower_52.72%.png\n"
     ]
    },
    {
     "name": "stderr",
     "output_type": "stream",
     "text": [
      " 53%|█████▎    | 26400/50000 [03:02<02:30, 156.86it/s]"
     ]
    },
    {
     "name": "stdout",
     "output_type": "stream",
     "text": [
      "flower_52.74%.png\n",
      "flower_52.76%.png\n",
      "flower_52.78%.png\n",
      "flower_52.80%.png\n"
     ]
    },
    {
     "name": "stderr",
     "output_type": "stream",
     "text": [
      " 53%|█████▎    | 26440/50000 [03:02<02:24, 162.73it/s]"
     ]
    },
    {
     "name": "stdout",
     "output_type": "stream",
     "text": [
      "flower_52.82%.png\n",
      "flower_52.84%.png\n",
      "flower_52.86%.png\n",
      "flower_52.88%.png\n"
     ]
    },
    {
     "name": "stderr",
     "output_type": "stream",
     "text": [
      "\r",
      " 53%|█████▎    | 26460/50000 [03:02<02:24, 162.60it/s]"
     ]
    },
    {
     "name": "stdout",
     "output_type": "stream",
     "text": [
      "flower_52.90%.png\n",
      "flower_52.92%.png\n",
      "flower_52.94%.png\n",
      "flower_52.96%.png\n"
     ]
    },
    {
     "name": "stderr",
     "output_type": "stream",
     "text": [
      " 53%|█████▎    | 26520/50000 [03:02<02:25, 161.09it/s]"
     ]
    },
    {
     "name": "stdout",
     "output_type": "stream",
     "text": [
      "flower_52.98%.png\n",
      "flower_53.00%.png\n",
      "flower_53.02%.png\n",
      "flower_53.04%.png\n"
     ]
    },
    {
     "name": "stderr",
     "output_type": "stream",
     "text": [
      "\r",
      " 53%|█████▎    | 26540/50000 [03:02<02:28, 158.39it/s]"
     ]
    },
    {
     "name": "stdout",
     "output_type": "stream",
     "text": [
      "flower_53.06%.png\n",
      "flower_53.08%.png\n",
      "flower_53.10%.png\n",
      "flower_53.12%.png\n"
     ]
    },
    {
     "name": "stderr",
     "output_type": "stream",
     "text": [
      " 53%|█████▎    | 26594/50000 [03:03<02:29, 156.79it/s]"
     ]
    },
    {
     "name": "stdout",
     "output_type": "stream",
     "text": [
      "flower_53.14%.png\n",
      "flower_53.16%.png\n",
      "flower_53.18%.png\n"
     ]
    },
    {
     "name": "stderr",
     "output_type": "stream",
     "text": [
      "\r",
      " 53%|█████▎    | 26610/50000 [03:03<02:32, 153.17it/s]"
     ]
    },
    {
     "name": "stdout",
     "output_type": "stream",
     "text": [
      "flower_53.20%.png\n",
      "flower_53.22%.png\n",
      "flower_53.24%.png\n",
      "flower_53.26%.png\n"
     ]
    },
    {
     "name": "stderr",
     "output_type": "stream",
     "text": [
      " 53%|█████▎    | 26650/50000 [03:03<02:28, 156.82it/s]"
     ]
    },
    {
     "name": "stdout",
     "output_type": "stream",
     "text": [
      "flower_53.28%.png\n",
      "flower_53.30%.png\n",
      "flower_53.32%.png\n",
      "flower_53.34%.png\n"
     ]
    },
    {
     "name": "stderr",
     "output_type": "stream",
     "text": [
      " 53%|█████▎    | 26710/50000 [03:03<02:23, 162.32it/s]"
     ]
    },
    {
     "name": "stdout",
     "output_type": "stream",
     "text": [
      "flower_53.36%.png\n",
      "flower_53.38%.png\n",
      "flower_53.40%.png\n",
      "flower_53.42%.png\n"
     ]
    },
    {
     "name": "stderr",
     "output_type": "stream",
     "text": [
      " 54%|█████▎    | 26750/50000 [03:04<02:24, 160.85it/s]"
     ]
    },
    {
     "name": "stdout",
     "output_type": "stream",
     "text": [
      "flower_53.44%.png\n",
      "flower_53.46%.png\n",
      "flower_53.48%.png\n",
      "flower_53.50%.png\n"
     ]
    },
    {
     "name": "stderr",
     "output_type": "stream",
     "text": [
      " 54%|█████▎    | 26790/50000 [03:04<02:21, 164.20it/s]"
     ]
    },
    {
     "name": "stdout",
     "output_type": "stream",
     "text": [
      "flower_53.52%.png\n",
      "flower_53.54%.png\n",
      "flower_53.56%.png\n",
      "flower_53.58%.png\n"
     ]
    },
    {
     "name": "stderr",
     "output_type": "stream",
     "text": [
      "\r",
      " 54%|█████▎    | 26810/50000 [03:04<02:25, 158.95it/s]"
     ]
    },
    {
     "name": "stdout",
     "output_type": "stream",
     "text": [
      "flower_53.60%.png\n",
      "flower_53.62%.png\n",
      "flower_53.64%.png\n",
      "flower_53.66%.png\n"
     ]
    },
    {
     "name": "stderr",
     "output_type": "stream",
     "text": [
      " 54%|█████▎    | 26870/50000 [03:04<02:17, 168.11it/s]"
     ]
    },
    {
     "name": "stdout",
     "output_type": "stream",
     "text": [
      "flower_53.68%.png\n",
      "flower_53.70%.png\n",
      "flower_53.72%.png\n",
      "flower_53.74%.png\n"
     ]
    },
    {
     "name": "stderr",
     "output_type": "stream",
     "text": [
      " 54%|█████▍    | 26910/50000 [03:05<02:21, 162.80it/s]"
     ]
    },
    {
     "name": "stdout",
     "output_type": "stream",
     "text": [
      "flower_53.76%.png\n",
      "flower_53.78%.png\n",
      "flower_53.80%.png\n",
      "flower_53.82%.png\n"
     ]
    },
    {
     "name": "stderr",
     "output_type": "stream",
     "text": [
      " 54%|█████▍    | 26950/50000 [03:05<02:23, 160.64it/s]"
     ]
    },
    {
     "name": "stdout",
     "output_type": "stream",
     "text": [
      "flower_53.84%.png\n",
      "flower_53.86%.png\n",
      "flower_53.88%.png\n",
      "flower_53.90%.png\n"
     ]
    },
    {
     "name": "stderr",
     "output_type": "stream",
     "text": [
      " 54%|█████▍    | 26990/50000 [03:05<02:21, 162.27it/s]"
     ]
    },
    {
     "name": "stdout",
     "output_type": "stream",
     "text": [
      "flower_53.92%.png\n",
      "flower_53.94%.png\n",
      "flower_53.96%.png\n",
      "flower_53.98%.png\n"
     ]
    },
    {
     "name": "stderr",
     "output_type": "stream",
     "text": [
      " 54%|█████▍    | 27030/50000 [03:05<02:24, 158.58it/s]"
     ]
    },
    {
     "name": "stdout",
     "output_type": "stream",
     "text": [
      "flower_54.00%.png\n",
      "flower_54.02%.png\n",
      "flower_54.04%.png\n",
      "flower_54.06%.png\n"
     ]
    },
    {
     "name": "stderr",
     "output_type": "stream",
     "text": [
      " 54%|█████▍    | 27070/50000 [03:06<02:19, 164.52it/s]"
     ]
    },
    {
     "name": "stdout",
     "output_type": "stream",
     "text": [
      "flower_54.08%.png\n",
      "flower_54.10%.png\n",
      "flower_54.12%.png\n",
      "flower_54.14%.png\n"
     ]
    },
    {
     "name": "stderr",
     "output_type": "stream",
     "text": [
      " 54%|█████▍    | 27110/50000 [03:06<02:20, 163.07it/s]"
     ]
    },
    {
     "name": "stdout",
     "output_type": "stream",
     "text": [
      "flower_54.16%.png\n",
      "flower_54.18%.png\n",
      "flower_54.20%.png\n",
      "flower_54.22%.png\n"
     ]
    },
    {
     "name": "stderr",
     "output_type": "stream",
     "text": [
      " 54%|█████▍    | 27150/50000 [03:06<02:17, 165.98it/s]"
     ]
    },
    {
     "name": "stdout",
     "output_type": "stream",
     "text": [
      "flower_54.24%.png\n",
      "flower_54.26%.png\n",
      "flower_54.28%.png\n",
      "flower_54.30%.png\n"
     ]
    },
    {
     "name": "stderr",
     "output_type": "stream",
     "text": [
      " 54%|█████▍    | 27190/50000 [03:06<02:17, 165.89it/s]"
     ]
    },
    {
     "name": "stdout",
     "output_type": "stream",
     "text": [
      "flower_54.32%.png\n",
      "flower_54.34%.png\n",
      "flower_54.36%.png\n",
      "flower_54.38%.png\n"
     ]
    },
    {
     "name": "stderr",
     "output_type": "stream",
     "text": [
      " 54%|█████▍    | 27230/50000 [03:07<02:14, 168.73it/s]"
     ]
    },
    {
     "name": "stdout",
     "output_type": "stream",
     "text": [
      "flower_54.40%.png\n",
      "flower_54.42%.png\n",
      "flower_54.44%.png\n",
      "flower_54.46%.png\n"
     ]
    },
    {
     "name": "stderr",
     "output_type": "stream",
     "text": [
      " 55%|█████▍    | 27270/50000 [03:07<02:17, 165.89it/s]"
     ]
    },
    {
     "name": "stdout",
     "output_type": "stream",
     "text": [
      "flower_54.48%.png\n",
      "flower_54.50%.png\n",
      "flower_54.52%.png\n",
      "flower_54.54%.png\n"
     ]
    },
    {
     "name": "stderr",
     "output_type": "stream",
     "text": [
      "\r",
      " 55%|█████▍    | 27290/50000 [03:07<02:19, 162.76it/s]"
     ]
    },
    {
     "name": "stdout",
     "output_type": "stream",
     "text": [
      "flower_54.56%.png\n",
      "flower_54.58%.png\n",
      "flower_54.60%.png\n",
      "flower_54.62%.png\n"
     ]
    },
    {
     "name": "stderr",
     "output_type": "stream",
     "text": [
      " 55%|█████▍    | 27350/50000 [03:07<02:18, 163.46it/s]"
     ]
    },
    {
     "name": "stdout",
     "output_type": "stream",
     "text": [
      "flower_54.64%.png\n",
      "flower_54.66%.png\n",
      "flower_54.68%.png\n",
      "flower_54.70%.png\n"
     ]
    },
    {
     "name": "stderr",
     "output_type": "stream",
     "text": [
      "\r",
      " 55%|█████▍    | 27370/50000 [03:08<02:21, 159.46it/s]"
     ]
    },
    {
     "name": "stdout",
     "output_type": "stream",
     "text": [
      "flower_54.72%.png\n",
      "flower_54.74%.png\n",
      "flower_54.76%.png\n",
      "flower_54.78%.png\n"
     ]
    },
    {
     "name": "stderr",
     "output_type": "stream",
     "text": [
      " 55%|█████▍    | 27430/50000 [03:08<02:23, 157.61it/s]"
     ]
    },
    {
     "name": "stdout",
     "output_type": "stream",
     "text": [
      "flower_54.80%.png\n",
      "flower_54.82%.png\n",
      "flower_54.84%.png\n",
      "flower_54.86%.png\n"
     ]
    },
    {
     "name": "stderr",
     "output_type": "stream",
     "text": [
      " 55%|█████▍    | 27460/50000 [03:11<14:02, 26.75it/s] "
     ]
    },
    {
     "name": "stdout",
     "output_type": "stream",
     "text": [
      "flower_54.88%.png\n",
      "flower_54.90%.png\n",
      "flower_54.92%.png\n",
      "flower_54.94%.png\n"
     ]
    },
    {
     "name": "stderr",
     "output_type": "stream",
     "text": [
      " 55%|█████▌    | 27500/50000 [03:11<07:39, 48.92it/s]"
     ]
    },
    {
     "name": "stdout",
     "output_type": "stream",
     "text": [
      "flower_54.96%.png\n",
      "flower_54.98%.png\n",
      "flower_55.00%.png\n"
     ]
    },
    {
     "name": "stderr",
     "output_type": "stream",
     "text": [
      "\r",
      " 55%|█████▌    | 27514/50000 [03:11<06:35, 56.83it/s]"
     ]
    },
    {
     "name": "stdout",
     "output_type": "stream",
     "text": [
      "flower_55.02%.png\n",
      "flower_55.04%.png\n"
     ]
    },
    {
     "name": "stderr",
     "output_type": "stream",
     "text": [
      " 55%|█████▌    | 27540/50000 [03:11<06:05, 61.38it/s]"
     ]
    },
    {
     "name": "stdout",
     "output_type": "stream",
     "text": [
      "flower_55.06%.png\n",
      "flower_55.08%.png\n"
     ]
    },
    {
     "name": "stderr",
     "output_type": "stream",
     "text": [
      "\r",
      " 55%|█████▌    | 27550/50000 [03:12<05:38, 66.40it/s]"
     ]
    },
    {
     "name": "stdout",
     "output_type": "stream",
     "text": [
      "flower_55.10%.png\n"
     ]
    },
    {
     "name": "stderr",
     "output_type": "stream",
     "text": [
      " 55%|█████▌    | 27573/50000 [03:12<05:37, 66.46it/s]"
     ]
    },
    {
     "name": "stdout",
     "output_type": "stream",
     "text": [
      "flower_55.12%.png\n",
      "flower_55.14%.png\n"
     ]
    },
    {
     "name": "stderr",
     "output_type": "stream",
     "text": [
      " 55%|█████▌    | 27593/50000 [03:12<04:50, 77.17it/s]"
     ]
    },
    {
     "name": "stdout",
     "output_type": "stream",
     "text": [
      "flower_55.16%.png\n",
      "flower_55.18%.png\n"
     ]
    },
    {
     "name": "stderr",
     "output_type": "stream",
     "text": [
      " 55%|█████▌    | 27620/50000 [03:12<03:44, 99.84it/s]"
     ]
    },
    {
     "name": "stdout",
     "output_type": "stream",
     "text": [
      "flower_55.20%.png\n",
      "flower_55.22%.png\n",
      "flower_55.24%.png\n",
      "flower_55.26%.png\n"
     ]
    },
    {
     "name": "stderr",
     "output_type": "stream",
     "text": [
      " 55%|█████▌    | 27670/50000 [03:13<02:50, 130.71it/s]"
     ]
    },
    {
     "name": "stdout",
     "output_type": "stream",
     "text": [
      "flower_55.28%.png\n",
      "flower_55.30%.png\n",
      "flower_55.32%.png\n",
      "flower_55.34%.png\n"
     ]
    },
    {
     "name": "stderr",
     "output_type": "stream",
     "text": [
      "\r",
      " 55%|█████▌    | 27690/50000 [03:13<02:38, 141.07it/s]"
     ]
    },
    {
     "name": "stdout",
     "output_type": "stream",
     "text": [
      "flower_55.36%.png\n",
      "flower_55.38%.png\n",
      "flower_55.40%.png\n"
     ]
    },
    {
     "name": "stderr",
     "output_type": "stream",
     "text": [
      "\r",
      " 55%|█████▌    | 27708/50000 [03:13<02:41, 138.03it/s]"
     ]
    },
    {
     "name": "stdout",
     "output_type": "stream",
     "text": [
      "flower_55.42%.png\n"
     ]
    },
    {
     "name": "stderr",
     "output_type": "stream",
     "text": [
      " 55%|█████▌    | 27740/50000 [03:13<03:50, 96.48it/s] "
     ]
    },
    {
     "name": "stdout",
     "output_type": "stream",
     "text": [
      "flower_55.44%.png\n",
      "flower_55.46%.png\n",
      "flower_55.48%.png\n",
      "flower_55.50%.png\n"
     ]
    },
    {
     "name": "stderr",
     "output_type": "stream",
     "text": [
      " 56%|█████▌    | 27780/50000 [03:14<02:59, 123.47it/s]"
     ]
    },
    {
     "name": "stdout",
     "output_type": "stream",
     "text": [
      "flower_55.52%.png\n",
      "flower_55.54%.png\n",
      "flower_55.56%.png\n",
      "flower_55.58%.png\n"
     ]
    },
    {
     "name": "stderr",
     "output_type": "stream",
     "text": [
      " 56%|█████▌    | 27820/50000 [03:14<02:39, 139.02it/s]"
     ]
    },
    {
     "name": "stdout",
     "output_type": "stream",
     "text": [
      "flower_55.60%.png\n",
      "flower_55.62%.png\n",
      "flower_55.64%.png\n",
      "flower_55.66%.png\n"
     ]
    },
    {
     "name": "stderr",
     "output_type": "stream",
     "text": [
      " 56%|█████▌    | 27860/50000 [03:14<02:26, 151.58it/s]"
     ]
    },
    {
     "name": "stdout",
     "output_type": "stream",
     "text": [
      "flower_55.68%.png\n",
      "flower_55.70%.png\n",
      "flower_55.72%.png\n",
      "flower_55.74%.png\n"
     ]
    },
    {
     "name": "stderr",
     "output_type": "stream",
     "text": [
      " 56%|█████▌    | 27900/50000 [03:14<02:19, 158.34it/s]"
     ]
    },
    {
     "name": "stdout",
     "output_type": "stream",
     "text": [
      "flower_55.76%.png\n",
      "flower_55.78%.png\n",
      "flower_55.80%.png\n",
      "flower_55.82%.png\n"
     ]
    },
    {
     "name": "stderr",
     "output_type": "stream",
     "text": [
      " 56%|█████▌    | 27940/50000 [03:15<02:19, 157.91it/s]"
     ]
    },
    {
     "name": "stdout",
     "output_type": "stream",
     "text": [
      "flower_55.84%.png\n",
      "flower_55.86%.png\n",
      "flower_55.88%.png\n",
      "flower_55.90%.png\n"
     ]
    },
    {
     "name": "stderr",
     "output_type": "stream",
     "text": [
      " 56%|█████▌    | 27980/50000 [03:15<02:16, 160.91it/s]"
     ]
    },
    {
     "name": "stdout",
     "output_type": "stream",
     "text": [
      "flower_55.92%.png\n",
      "flower_55.94%.png\n",
      "flower_55.96%.png\n",
      "flower_55.98%.png\n"
     ]
    },
    {
     "name": "stderr",
     "output_type": "stream",
     "text": [
      " 56%|█████▌    | 28020/50000 [03:15<02:12, 166.04it/s]"
     ]
    },
    {
     "name": "stdout",
     "output_type": "stream",
     "text": [
      "flower_56.00%.png\n",
      "flower_56.02%.png\n",
      "flower_56.04%.png\n",
      "flower_56.06%.png\n"
     ]
    },
    {
     "name": "stderr",
     "output_type": "stream",
     "text": [
      " 56%|█████▌    | 28060/50000 [03:15<02:18, 158.39it/s]"
     ]
    },
    {
     "name": "stdout",
     "output_type": "stream",
     "text": [
      "flower_56.08%.png\n",
      "flower_56.10%.png\n",
      "flower_56.12%.png\n",
      "flower_56.14%.png\n"
     ]
    },
    {
     "name": "stderr",
     "output_type": "stream",
     "text": [
      " 56%|█████▌    | 28100/50000 [03:16<02:12, 165.67it/s]"
     ]
    },
    {
     "name": "stdout",
     "output_type": "stream",
     "text": [
      "flower_56.16%.png\n",
      "flower_56.18%.png\n",
      "flower_56.20%.png\n",
      "flower_56.22%.png\n"
     ]
    },
    {
     "name": "stderr",
     "output_type": "stream",
     "text": [
      " 56%|█████▋    | 28140/50000 [03:16<02:16, 160.42it/s]"
     ]
    },
    {
     "name": "stdout",
     "output_type": "stream",
     "text": [
      "flower_56.24%.png\n",
      "flower_56.26%.png\n",
      "flower_56.28%.png\n",
      "flower_56.30%.png\n"
     ]
    },
    {
     "name": "stderr",
     "output_type": "stream",
     "text": [
      " 56%|█████▋    | 28180/50000 [03:16<02:16, 159.45it/s]"
     ]
    },
    {
     "name": "stdout",
     "output_type": "stream",
     "text": [
      "flower_56.32%.png\n",
      "flower_56.34%.png\n",
      "flower_56.36%.png\n",
      "flower_56.38%.png\n"
     ]
    },
    {
     "name": "stderr",
     "output_type": "stream",
     "text": [
      " 56%|█████▋    | 28220/50000 [03:16<02:16, 159.76it/s]"
     ]
    },
    {
     "name": "stdout",
     "output_type": "stream",
     "text": [
      "flower_56.40%.png\n",
      "flower_56.42%.png\n",
      "flower_56.44%.png\n",
      "flower_56.46%.png\n"
     ]
    },
    {
     "name": "stderr",
     "output_type": "stream",
     "text": [
      " 57%|█████▋    | 28260/50000 [03:17<02:17, 158.02it/s]"
     ]
    },
    {
     "name": "stdout",
     "output_type": "stream",
     "text": [
      "flower_56.48%.png\n",
      "flower_56.50%.png\n",
      "flower_56.52%.png\n",
      "flower_56.54%.png\n"
     ]
    },
    {
     "name": "stderr",
     "output_type": "stream",
     "text": [
      " 57%|█████▋    | 28300/50000 [03:17<02:16, 158.77it/s]"
     ]
    },
    {
     "name": "stdout",
     "output_type": "stream",
     "text": [
      "flower_56.56%.png\n",
      "flower_56.58%.png\n",
      "flower_56.60%.png\n",
      "flower_56.62%.png\n"
     ]
    },
    {
     "name": "stderr",
     "output_type": "stream",
     "text": [
      " 57%|█████▋    | 28339/50000 [03:17<02:09, 166.79it/s]"
     ]
    },
    {
     "name": "stdout",
     "output_type": "stream",
     "text": [
      "flower_56.64%.png\n",
      "flower_56.66%.png\n",
      "flower_56.68%.png\n"
     ]
    },
    {
     "name": "stderr",
     "output_type": "stream",
     "text": [
      " 57%|█████▋    | 28373/50000 [03:17<02:15, 159.86it/s]"
     ]
    },
    {
     "name": "stdout",
     "output_type": "stream",
     "text": [
      "flower_56.70%.png\n",
      "flower_56.72%.png\n",
      "flower_56.74%.png\n",
      "flower_56.76%.png\n"
     ]
    },
    {
     "name": "stderr",
     "output_type": "stream",
     "text": [
      " 57%|█████▋    | 28410/50000 [03:18<02:10, 166.03it/s]"
     ]
    },
    {
     "name": "stdout",
     "output_type": "stream",
     "text": [
      "flower_56.78%.png\n",
      "flower_56.80%.png\n",
      "flower_56.82%.png\n",
      "flower_56.84%.png\n"
     ]
    },
    {
     "name": "stderr",
     "output_type": "stream",
     "text": [
      " 57%|█████▋    | 28450/50000 [03:18<02:09, 166.23it/s]"
     ]
    },
    {
     "name": "stdout",
     "output_type": "stream",
     "text": [
      "flower_56.86%.png\n",
      "flower_56.88%.png\n",
      "flower_56.90%.png\n",
      "flower_56.92%.png\n"
     ]
    },
    {
     "name": "stderr",
     "output_type": "stream",
     "text": [
      " 57%|█████▋    | 28490/50000 [03:18<02:13, 160.65it/s]"
     ]
    },
    {
     "name": "stdout",
     "output_type": "stream",
     "text": [
      "flower_56.94%.png\n",
      "flower_56.96%.png\n",
      "flower_56.98%.png\n",
      "flower_57.00%.png\n"
     ]
    },
    {
     "name": "stderr",
     "output_type": "stream",
     "text": [
      " 57%|█████▋    | 28530/50000 [03:18<02:13, 161.31it/s]"
     ]
    },
    {
     "name": "stdout",
     "output_type": "stream",
     "text": [
      "flower_57.02%.png\n",
      "flower_57.04%.png\n",
      "flower_57.06%.png\n",
      "flower_57.08%.png\n"
     ]
    },
    {
     "name": "stderr",
     "output_type": "stream",
     "text": [
      " 57%|█████▋    | 28570/50000 [03:19<02:09, 165.88it/s]"
     ]
    },
    {
     "name": "stdout",
     "output_type": "stream",
     "text": [
      "flower_57.10%.png\n",
      "flower_57.12%.png\n",
      "flower_57.14%.png\n",
      "flower_57.16%.png\n"
     ]
    },
    {
     "name": "stderr",
     "output_type": "stream",
     "text": [
      " 57%|█████▋    | 28610/50000 [03:19<02:13, 160.75it/s]"
     ]
    },
    {
     "name": "stdout",
     "output_type": "stream",
     "text": [
      "flower_57.18%.png\n",
      "flower_57.20%.png\n",
      "flower_57.22%.png\n",
      "flower_57.24%.png\n"
     ]
    },
    {
     "name": "stderr",
     "output_type": "stream",
     "text": [
      " 57%|█████▋    | 28650/50000 [03:19<02:11, 162.56it/s]"
     ]
    },
    {
     "name": "stdout",
     "output_type": "stream",
     "text": [
      "flower_57.26%.png\n",
      "flower_57.28%.png\n",
      "flower_57.30%.png\n",
      "flower_57.32%.png\n"
     ]
    },
    {
     "name": "stderr",
     "output_type": "stream",
     "text": [
      " 57%|█████▋    | 28690/50000 [03:19<02:08, 165.67it/s]"
     ]
    },
    {
     "name": "stdout",
     "output_type": "stream",
     "text": [
      "flower_57.34%.png\n",
      "flower_57.36%.png\n",
      "flower_57.38%.png\n",
      "flower_57.40%.png\n"
     ]
    },
    {
     "name": "stderr",
     "output_type": "stream",
     "text": [
      " 57%|█████▋    | 28730/50000 [03:20<02:04, 170.82it/s]"
     ]
    },
    {
     "name": "stdout",
     "output_type": "stream",
     "text": [
      "flower_57.42%.png\n",
      "flower_57.44%.png\n",
      "flower_57.46%.png\n",
      "flower_57.48%.png\n"
     ]
    },
    {
     "name": "stderr",
     "output_type": "stream",
     "text": [
      " 58%|█████▊    | 28770/50000 [03:20<02:12, 159.81it/s]"
     ]
    },
    {
     "name": "stdout",
     "output_type": "stream",
     "text": [
      "flower_57.50%.png\n",
      "flower_57.52%.png\n",
      "flower_57.54%.png\n",
      "flower_57.56%.png\n"
     ]
    },
    {
     "name": "stderr",
     "output_type": "stream",
     "text": [
      " 58%|█████▊    | 28810/50000 [03:20<02:14, 157.32it/s]"
     ]
    },
    {
     "name": "stdout",
     "output_type": "stream",
     "text": [
      "flower_57.58%.png\n",
      "flower_57.60%.png\n",
      "flower_57.62%.png\n",
      "flower_57.64%.png\n"
     ]
    },
    {
     "name": "stderr",
     "output_type": "stream",
     "text": [
      " 58%|█████▊    | 28850/50000 [03:20<02:10, 162.60it/s]"
     ]
    },
    {
     "name": "stdout",
     "output_type": "stream",
     "text": [
      "flower_57.66%.png\n",
      "flower_57.68%.png\n",
      "flower_57.70%.png\n",
      "flower_57.72%.png\n"
     ]
    },
    {
     "name": "stderr",
     "output_type": "stream",
     "text": [
      " 58%|█████▊    | 28890/50000 [03:21<02:07, 166.18it/s]"
     ]
    },
    {
     "name": "stdout",
     "output_type": "stream",
     "text": [
      "flower_57.74%.png\n",
      "flower_57.76%.png\n",
      "flower_57.78%.png\n",
      "flower_57.80%.png\n"
     ]
    },
    {
     "name": "stderr",
     "output_type": "stream",
     "text": [
      " 58%|█████▊    | 28930/50000 [03:21<02:09, 162.70it/s]"
     ]
    },
    {
     "name": "stdout",
     "output_type": "stream",
     "text": [
      "flower_57.82%.png\n",
      "flower_57.84%.png\n",
      "flower_57.86%.png\n",
      "flower_57.88%.png\n"
     ]
    },
    {
     "name": "stderr",
     "output_type": "stream",
     "text": [
      " 58%|█████▊    | 28970/50000 [03:21<02:11, 160.10it/s]"
     ]
    },
    {
     "name": "stdout",
     "output_type": "stream",
     "text": [
      "flower_57.90%.png\n",
      "flower_57.92%.png\n",
      "flower_57.94%.png\n",
      "flower_57.96%.png\n"
     ]
    },
    {
     "name": "stderr",
     "output_type": "stream",
     "text": [
      " 58%|█████▊    | 29010/50000 [03:21<02:15, 155.06it/s]"
     ]
    },
    {
     "name": "stdout",
     "output_type": "stream",
     "text": [
      "flower_57.98%.png\n",
      "flower_58.00%.png\n",
      "flower_58.02%.png\n",
      "flower_58.04%.png\n"
     ]
    },
    {
     "name": "stderr",
     "output_type": "stream",
     "text": [
      " 58%|█████▊    | 29050/50000 [03:22<02:13, 156.73it/s]"
     ]
    },
    {
     "name": "stdout",
     "output_type": "stream",
     "text": [
      "flower_58.06%.png\n",
      "flower_58.08%.png\n",
      "flower_58.10%.png\n",
      "flower_58.12%.png\n"
     ]
    },
    {
     "name": "stderr",
     "output_type": "stream",
     "text": [
      " 58%|█████▊    | 29090/50000 [03:22<02:13, 156.10it/s]"
     ]
    },
    {
     "name": "stdout",
     "output_type": "stream",
     "text": [
      "flower_58.14%.png\n",
      "flower_58.16%.png\n",
      "flower_58.18%.png\n",
      "flower_58.20%.png\n"
     ]
    },
    {
     "name": "stderr",
     "output_type": "stream",
     "text": [
      " 58%|█████▊    | 29130/50000 [03:22<02:09, 161.49it/s]"
     ]
    },
    {
     "name": "stdout",
     "output_type": "stream",
     "text": [
      "flower_58.22%.png\n",
      "flower_58.24%.png\n",
      "flower_58.26%.png\n",
      "flower_58.28%.png\n"
     ]
    },
    {
     "name": "stderr",
     "output_type": "stream",
     "text": [
      " 58%|█████▊    | 29170/50000 [03:22<02:05, 166.64it/s]"
     ]
    },
    {
     "name": "stdout",
     "output_type": "stream",
     "text": [
      "flower_58.30%.png\n",
      "flower_58.32%.png\n",
      "flower_58.34%.png\n",
      "flower_58.36%.png\n"
     ]
    },
    {
     "name": "stderr",
     "output_type": "stream",
     "text": [
      " 58%|█████▊    | 29210/50000 [03:23<02:03, 168.04it/s]"
     ]
    },
    {
     "name": "stdout",
     "output_type": "stream",
     "text": [
      "flower_58.38%.png\n",
      "flower_58.40%.png\n",
      "flower_58.42%.png\n",
      "flower_58.44%.png\n"
     ]
    },
    {
     "name": "stderr",
     "output_type": "stream",
     "text": [
      " 58%|█████▊    | 29250/50000 [03:23<02:08, 162.08it/s]"
     ]
    },
    {
     "name": "stdout",
     "output_type": "stream",
     "text": [
      "flower_58.46%.png\n",
      "flower_58.48%.png\n",
      "flower_58.50%.png\n",
      "flower_58.52%.png\n"
     ]
    },
    {
     "name": "stderr",
     "output_type": "stream",
     "text": [
      " 59%|█████▊    | 29290/50000 [03:23<02:05, 165.65it/s]"
     ]
    },
    {
     "name": "stdout",
     "output_type": "stream",
     "text": [
      "flower_58.54%.png\n",
      "flower_58.56%.png\n",
      "flower_58.58%.png\n",
      "flower_58.60%.png\n"
     ]
    },
    {
     "name": "stderr",
     "output_type": "stream",
     "text": [
      " 59%|█████▊    | 29330/50000 [03:23<02:06, 163.63it/s]"
     ]
    },
    {
     "name": "stdout",
     "output_type": "stream",
     "text": [
      "flower_58.62%.png\n",
      "flower_58.64%.png\n",
      "flower_58.66%.png\n",
      "flower_58.68%.png\n"
     ]
    },
    {
     "name": "stderr",
     "output_type": "stream",
     "text": [
      " 59%|█████▊    | 29370/50000 [03:24<02:07, 161.49it/s]"
     ]
    },
    {
     "name": "stdout",
     "output_type": "stream",
     "text": [
      "flower_58.70%.png\n",
      "flower_58.72%.png\n",
      "flower_58.74%.png\n",
      "flower_58.76%.png\n"
     ]
    },
    {
     "name": "stderr",
     "output_type": "stream",
     "text": [
      " 59%|█████▉    | 29410/50000 [03:24<02:08, 159.78it/s]"
     ]
    },
    {
     "name": "stdout",
     "output_type": "stream",
     "text": [
      "flower_58.78%.png\n",
      "flower_58.80%.png\n",
      "flower_58.82%.png\n",
      "flower_58.84%.png\n"
     ]
    },
    {
     "name": "stderr",
     "output_type": "stream",
     "text": [
      " 59%|█████▉    | 29450/50000 [03:24<02:05, 163.79it/s]"
     ]
    },
    {
     "name": "stdout",
     "output_type": "stream",
     "text": [
      "flower_58.86%.png\n",
      "flower_58.88%.png\n",
      "flower_58.90%.png\n",
      "flower_58.92%.png\n"
     ]
    },
    {
     "name": "stderr",
     "output_type": "stream",
     "text": [
      " 59%|█████▉    | 29490/50000 [03:24<02:06, 161.68it/s]"
     ]
    },
    {
     "name": "stdout",
     "output_type": "stream",
     "text": [
      "flower_58.94%.png\n",
      "flower_58.96%.png\n",
      "flower_58.98%.png\n",
      "flower_59.00%.png\n"
     ]
    },
    {
     "name": "stderr",
     "output_type": "stream",
     "text": [
      " 59%|█████▉    | 29530/50000 [03:25<02:04, 164.00it/s]"
     ]
    },
    {
     "name": "stdout",
     "output_type": "stream",
     "text": [
      "flower_59.02%.png\n",
      "flower_59.04%.png\n",
      "flower_59.06%.png\n",
      "flower_59.08%.png\n"
     ]
    },
    {
     "name": "stderr",
     "output_type": "stream",
     "text": [
      " 59%|█████▉    | 29570/50000 [03:25<02:05, 162.74it/s]"
     ]
    },
    {
     "name": "stdout",
     "output_type": "stream",
     "text": [
      "flower_59.10%.png\n",
      "flower_59.12%.png\n",
      "flower_59.14%.png\n",
      "flower_59.16%.png\n"
     ]
    },
    {
     "name": "stderr",
     "output_type": "stream",
     "text": [
      " 59%|█████▉    | 29610/50000 [03:25<02:06, 161.80it/s]"
     ]
    },
    {
     "name": "stdout",
     "output_type": "stream",
     "text": [
      "flower_59.18%.png\n",
      "flower_59.20%.png\n",
      "flower_59.22%.png\n",
      "flower_59.24%.png\n"
     ]
    },
    {
     "name": "stderr",
     "output_type": "stream",
     "text": [
      " 59%|█████▉    | 29650/50000 [03:25<02:08, 157.98it/s]"
     ]
    },
    {
     "name": "stdout",
     "output_type": "stream",
     "text": [
      "flower_59.26%.png\n",
      "flower_59.28%.png\n",
      "flower_59.30%.png\n",
      "flower_59.32%.png\n"
     ]
    },
    {
     "name": "stderr",
     "output_type": "stream",
     "text": [
      " 59%|█████▉    | 29690/50000 [03:25<02:04, 162.60it/s]"
     ]
    },
    {
     "name": "stdout",
     "output_type": "stream",
     "text": [
      "flower_59.34%.png\n",
      "flower_59.36%.png\n",
      "flower_59.38%.png\n",
      "flower_59.40%.png\n"
     ]
    },
    {
     "name": "stderr",
     "output_type": "stream",
     "text": [
      " 59%|█████▉    | 29730/50000 [03:26<02:08, 158.06it/s]"
     ]
    },
    {
     "name": "stdout",
     "output_type": "stream",
     "text": [
      "flower_59.42%.png\n",
      "flower_59.44%.png\n",
      "flower_59.46%.png\n",
      "flower_59.48%.png\n"
     ]
    },
    {
     "name": "stderr",
     "output_type": "stream",
     "text": [
      " 60%|█████▉    | 29770/50000 [03:26<02:09, 155.78it/s]"
     ]
    },
    {
     "name": "stdout",
     "output_type": "stream",
     "text": [
      "flower_59.50%.png\n",
      "flower_59.52%.png\n",
      "flower_59.54%.png\n",
      "flower_59.56%.png\n"
     ]
    },
    {
     "name": "stderr",
     "output_type": "stream",
     "text": [
      " 60%|█████▉    | 29810/50000 [03:26<01:59, 168.67it/s]"
     ]
    },
    {
     "name": "stdout",
     "output_type": "stream",
     "text": [
      "flower_59.58%.png\n",
      "flower_59.60%.png\n",
      "flower_59.62%.png\n",
      "flower_59.64%.png\n"
     ]
    },
    {
     "name": "stderr",
     "output_type": "stream",
     "text": [
      " 60%|█████▉    | 29850/50000 [03:27<02:06, 158.86it/s]"
     ]
    },
    {
     "name": "stdout",
     "output_type": "stream",
     "text": [
      "flower_59.66%.png\n",
      "flower_59.68%.png\n",
      "flower_59.70%.png\n",
      "flower_59.72%.png\n"
     ]
    },
    {
     "name": "stderr",
     "output_type": "stream",
     "text": [
      " 60%|█████▉    | 29890/50000 [03:27<02:05, 160.37it/s]"
     ]
    },
    {
     "name": "stdout",
     "output_type": "stream",
     "text": [
      "flower_59.74%.png\n",
      "flower_59.76%.png\n",
      "flower_59.78%.png\n",
      "flower_59.80%.png\n"
     ]
    },
    {
     "name": "stderr",
     "output_type": "stream",
     "text": [
      " 60%|█████▉    | 29930/50000 [03:27<02:03, 162.09it/s]"
     ]
    },
    {
     "name": "stdout",
     "output_type": "stream",
     "text": [
      "flower_59.82%.png\n",
      "flower_59.84%.png\n",
      "flower_59.86%.png\n",
      "flower_59.88%.png\n"
     ]
    },
    {
     "name": "stderr",
     "output_type": "stream",
     "text": [
      " 60%|█████▉    | 29970/50000 [03:27<02:04, 161.31it/s]"
     ]
    },
    {
     "name": "stdout",
     "output_type": "stream",
     "text": [
      "flower_59.90%.png\n",
      "flower_59.92%.png\n",
      "flower_59.94%.png\n",
      "flower_59.96%.png\n"
     ]
    },
    {
     "name": "stderr",
     "output_type": "stream",
     "text": [
      " 60%|██████    | 30010/50000 [03:27<02:01, 164.54it/s]"
     ]
    },
    {
     "name": "stdout",
     "output_type": "stream",
     "text": [
      "flower_59.98%.png\n",
      "flower_60.00%.png\n",
      "flower_60.02%.png\n",
      "flower_60.04%.png\n"
     ]
    },
    {
     "name": "stderr",
     "output_type": "stream",
     "text": [
      " 60%|██████    | 30050/50000 [03:28<01:58, 168.32it/s]"
     ]
    },
    {
     "name": "stdout",
     "output_type": "stream",
     "text": [
      "flower_60.06%.png\n",
      "flower_60.08%.png\n",
      "flower_60.10%.png\n",
      "flower_60.12%.png\n"
     ]
    },
    {
     "name": "stderr",
     "output_type": "stream",
     "text": [
      " 60%|██████    | 30090/50000 [03:28<02:01, 163.32it/s]"
     ]
    },
    {
     "name": "stdout",
     "output_type": "stream",
     "text": [
      "flower_60.14%.png\n",
      "flower_60.16%.png\n",
      "flower_60.18%.png\n",
      "flower_60.20%.png\n"
     ]
    },
    {
     "name": "stderr",
     "output_type": "stream",
     "text": [
      " 60%|██████    | 30130/50000 [03:28<01:59, 165.93it/s]"
     ]
    },
    {
     "name": "stdout",
     "output_type": "stream",
     "text": [
      "flower_60.22%.png\n",
      "flower_60.24%.png\n",
      "flower_60.26%.png\n",
      "flower_60.28%.png\n"
     ]
    },
    {
     "name": "stderr",
     "output_type": "stream",
     "text": [
      " 60%|██████    | 30170/50000 [03:28<02:01, 163.35it/s]"
     ]
    },
    {
     "name": "stdout",
     "output_type": "stream",
     "text": [
      "flower_60.30%.png\n",
      "flower_60.32%.png\n",
      "flower_60.34%.png\n",
      "flower_60.36%.png\n"
     ]
    },
    {
     "name": "stderr",
     "output_type": "stream",
     "text": [
      " 60%|██████    | 30210/50000 [03:29<02:04, 159.48it/s]"
     ]
    },
    {
     "name": "stdout",
     "output_type": "stream",
     "text": [
      "flower_60.38%.png\n",
      "flower_60.40%.png\n",
      "flower_60.42%.png\n",
      "flower_60.44%.png\n"
     ]
    },
    {
     "name": "stderr",
     "output_type": "stream",
     "text": [
      " 60%|██████    | 30250/50000 [03:29<02:02, 161.52it/s]"
     ]
    },
    {
     "name": "stdout",
     "output_type": "stream",
     "text": [
      "flower_60.46%.png\n",
      "flower_60.48%.png\n",
      "flower_60.50%.png\n",
      "flower_60.52%.png\n"
     ]
    },
    {
     "name": "stderr",
     "output_type": "stream",
     "text": [
      " 61%|██████    | 30290/50000 [03:29<01:57, 167.62it/s]"
     ]
    },
    {
     "name": "stdout",
     "output_type": "stream",
     "text": [
      "flower_60.54%.png\n",
      "flower_60.56%.png\n",
      "flower_60.58%.png\n",
      "flower_60.60%.png\n"
     ]
    },
    {
     "name": "stderr",
     "output_type": "stream",
     "text": [
      " 61%|██████    | 30330/50000 [03:29<02:00, 162.90it/s]"
     ]
    },
    {
     "name": "stdout",
     "output_type": "stream",
     "text": [
      "flower_60.62%.png\n",
      "flower_60.64%.png\n",
      "flower_60.66%.png\n",
      "flower_60.68%.png\n"
     ]
    },
    {
     "name": "stderr",
     "output_type": "stream",
     "text": [
      " 61%|██████    | 30370/50000 [03:30<02:03, 159.48it/s]"
     ]
    },
    {
     "name": "stdout",
     "output_type": "stream",
     "text": [
      "flower_60.70%.png\n",
      "flower_60.72%.png\n",
      "flower_60.74%.png\n",
      "flower_60.76%.png\n"
     ]
    },
    {
     "name": "stderr",
     "output_type": "stream",
     "text": [
      " 61%|██████    | 30410/50000 [03:30<02:01, 161.37it/s]"
     ]
    },
    {
     "name": "stdout",
     "output_type": "stream",
     "text": [
      "flower_60.78%.png\n",
      "flower_60.80%.png\n",
      "flower_60.82%.png\n",
      "flower_60.84%.png\n"
     ]
    },
    {
     "name": "stderr",
     "output_type": "stream",
     "text": [
      " 61%|██████    | 30450/50000 [03:30<01:58, 164.45it/s]"
     ]
    },
    {
     "name": "stdout",
     "output_type": "stream",
     "text": [
      "flower_60.86%.png\n",
      "flower_60.88%.png\n",
      "flower_60.90%.png\n",
      "flower_60.92%.png\n"
     ]
    },
    {
     "name": "stderr",
     "output_type": "stream",
     "text": [
      " 61%|██████    | 30490/50000 [03:30<01:58, 164.89it/s]"
     ]
    },
    {
     "name": "stdout",
     "output_type": "stream",
     "text": [
      "flower_60.94%.png\n",
      "flower_60.96%.png\n",
      "flower_60.98%.png\n",
      "flower_61.00%.png\n"
     ]
    },
    {
     "name": "stderr",
     "output_type": "stream",
     "text": [
      " 61%|██████    | 30530/50000 [03:31<01:55, 168.18it/s]"
     ]
    },
    {
     "name": "stdout",
     "output_type": "stream",
     "text": [
      "flower_61.02%.png\n",
      "flower_61.04%.png\n",
      "flower_61.06%.png\n",
      "flower_61.08%.png\n"
     ]
    },
    {
     "name": "stderr",
     "output_type": "stream",
     "text": [
      " 61%|██████    | 30570/50000 [03:31<01:58, 163.47it/s]"
     ]
    },
    {
     "name": "stdout",
     "output_type": "stream",
     "text": [
      "flower_61.10%.png\n",
      "flower_61.12%.png\n",
      "flower_61.14%.png\n",
      "flower_61.16%.png\n"
     ]
    },
    {
     "name": "stderr",
     "output_type": "stream",
     "text": [
      " 61%|██████    | 30610/50000 [03:31<01:58, 163.60it/s]"
     ]
    },
    {
     "name": "stdout",
     "output_type": "stream",
     "text": [
      "flower_61.18%.png\n",
      "flower_61.20%.png\n",
      "flower_61.22%.png\n",
      "flower_61.24%.png\n"
     ]
    },
    {
     "name": "stderr",
     "output_type": "stream",
     "text": [
      " 61%|██████▏   | 30650/50000 [03:31<01:57, 165.20it/s]"
     ]
    },
    {
     "name": "stdout",
     "output_type": "stream",
     "text": [
      "flower_61.26%.png\n",
      "flower_61.28%.png\n",
      "flower_61.30%.png\n",
      "flower_61.32%.png\n"
     ]
    },
    {
     "name": "stderr",
     "output_type": "stream",
     "text": [
      " 61%|██████▏   | 30690/50000 [03:32<01:59, 161.83it/s]"
     ]
    },
    {
     "name": "stdout",
     "output_type": "stream",
     "text": [
      "flower_61.34%.png\n",
      "flower_61.36%.png\n",
      "flower_61.38%.png\n",
      "flower_61.40%.png\n"
     ]
    },
    {
     "name": "stderr",
     "output_type": "stream",
     "text": [
      " 61%|██████▏   | 30730/50000 [03:32<01:57, 163.75it/s]"
     ]
    },
    {
     "name": "stdout",
     "output_type": "stream",
     "text": [
      "flower_61.42%.png\n",
      "flower_61.44%.png\n",
      "flower_61.46%.png\n",
      "flower_61.48%.png\n"
     ]
    },
    {
     "name": "stderr",
     "output_type": "stream",
     "text": [
      " 62%|██████▏   | 30770/50000 [03:32<01:59, 161.54it/s]"
     ]
    },
    {
     "name": "stdout",
     "output_type": "stream",
     "text": [
      "flower_61.50%.png\n",
      "flower_61.52%.png\n",
      "flower_61.54%.png\n",
      "flower_61.56%.png\n"
     ]
    },
    {
     "name": "stderr",
     "output_type": "stream",
     "text": [
      " 62%|██████▏   | 30810/50000 [03:32<01:57, 163.43it/s]"
     ]
    },
    {
     "name": "stdout",
     "output_type": "stream",
     "text": [
      "flower_61.58%.png\n",
      "flower_61.60%.png\n",
      "flower_61.62%.png\n",
      "flower_61.64%.png\n"
     ]
    },
    {
     "name": "stderr",
     "output_type": "stream",
     "text": [
      " 62%|██████▏   | 30850/50000 [03:33<01:57, 162.73it/s]"
     ]
    },
    {
     "name": "stdout",
     "output_type": "stream",
     "text": [
      "flower_61.66%.png\n",
      "flower_61.68%.png\n",
      "flower_61.70%.png\n",
      "flower_61.72%.png\n"
     ]
    },
    {
     "name": "stderr",
     "output_type": "stream",
     "text": [
      " 62%|██████▏   | 30890/50000 [03:33<01:56, 163.68it/s]"
     ]
    },
    {
     "name": "stdout",
     "output_type": "stream",
     "text": [
      "flower_61.74%.png\n",
      "flower_61.76%.png\n",
      "flower_61.78%.png\n",
      "flower_61.80%.png\n"
     ]
    },
    {
     "name": "stderr",
     "output_type": "stream",
     "text": [
      " 62%|██████▏   | 30930/50000 [03:33<01:54, 165.90it/s]"
     ]
    },
    {
     "name": "stdout",
     "output_type": "stream",
     "text": [
      "flower_61.82%.png\n",
      "flower_61.84%.png\n",
      "flower_61.86%.png\n",
      "flower_61.88%.png\n"
     ]
    },
    {
     "name": "stderr",
     "output_type": "stream",
     "text": [
      " 62%|██████▏   | 30970/50000 [03:33<01:50, 171.54it/s]"
     ]
    },
    {
     "name": "stdout",
     "output_type": "stream",
     "text": [
      "flower_61.90%.png\n",
      "flower_61.92%.png\n",
      "flower_61.94%.png\n",
      "flower_61.96%.png\n"
     ]
    },
    {
     "name": "stderr",
     "output_type": "stream",
     "text": [
      " 62%|██████▏   | 31010/50000 [03:34<01:55, 165.13it/s]"
     ]
    },
    {
     "name": "stdout",
     "output_type": "stream",
     "text": [
      "flower_61.98%.png\n",
      "flower_62.00%.png\n",
      "flower_62.02%.png\n",
      "flower_62.04%.png\n"
     ]
    },
    {
     "name": "stderr",
     "output_type": "stream",
     "text": [
      " 62%|██████▏   | 31050/50000 [03:34<01:55, 163.47it/s]"
     ]
    },
    {
     "name": "stdout",
     "output_type": "stream",
     "text": [
      "flower_62.06%.png\n",
      "flower_62.08%.png\n",
      "flower_62.10%.png\n",
      "flower_62.12%.png\n"
     ]
    },
    {
     "name": "stderr",
     "output_type": "stream",
     "text": [
      " 62%|██████▏   | 31090/50000 [03:34<01:55, 163.97it/s]"
     ]
    },
    {
     "name": "stdout",
     "output_type": "stream",
     "text": [
      "flower_62.14%.png\n",
      "flower_62.16%.png\n",
      "flower_62.18%.png\n",
      "flower_62.20%.png\n"
     ]
    },
    {
     "name": "stderr",
     "output_type": "stream",
     "text": [
      " 62%|██████▏   | 31130/50000 [03:34<01:54, 164.30it/s]"
     ]
    },
    {
     "name": "stdout",
     "output_type": "stream",
     "text": [
      "flower_62.22%.png\n",
      "flower_62.24%.png\n",
      "flower_62.26%.png\n",
      "flower_62.28%.png\n"
     ]
    },
    {
     "name": "stderr",
     "output_type": "stream",
     "text": [
      " 62%|██████▏   | 31170/50000 [03:35<01:54, 164.74it/s]"
     ]
    },
    {
     "name": "stdout",
     "output_type": "stream",
     "text": [
      "flower_62.30%.png\n",
      "flower_62.32%.png\n",
      "flower_62.34%.png\n",
      "flower_62.36%.png\n"
     ]
    },
    {
     "name": "stderr",
     "output_type": "stream",
     "text": [
      " 62%|██████▏   | 31210/50000 [03:35<01:54, 163.42it/s]"
     ]
    },
    {
     "name": "stdout",
     "output_type": "stream",
     "text": [
      "flower_62.38%.png\n",
      "flower_62.40%.png\n",
      "flower_62.42%.png\n",
      "flower_62.44%.png\n"
     ]
    },
    {
     "name": "stderr",
     "output_type": "stream",
     "text": [
      " 62%|██████▎   | 31250/50000 [03:35<01:49, 171.80it/s]"
     ]
    },
    {
     "name": "stdout",
     "output_type": "stream",
     "text": [
      "flower_62.46%.png\n",
      "flower_62.48%.png\n",
      "flower_62.50%.png\n",
      "flower_62.52%.png\n"
     ]
    },
    {
     "name": "stderr",
     "output_type": "stream",
     "text": [
      " 63%|██████▎   | 31290/50000 [03:35<01:52, 166.08it/s]"
     ]
    },
    {
     "name": "stdout",
     "output_type": "stream",
     "text": [
      "flower_62.54%.png\n",
      "flower_62.56%.png\n",
      "flower_62.58%.png\n",
      "flower_62.60%.png\n"
     ]
    },
    {
     "name": "stderr",
     "output_type": "stream",
     "text": [
      " 63%|██████▎   | 31330/50000 [03:36<01:55, 162.22it/s]"
     ]
    },
    {
     "name": "stdout",
     "output_type": "stream",
     "text": [
      "flower_62.62%.png\n",
      "flower_62.64%.png\n",
      "flower_62.66%.png\n",
      "flower_62.68%.png\n"
     ]
    },
    {
     "name": "stderr",
     "output_type": "stream",
     "text": [
      " 63%|██████▎   | 31370/50000 [03:36<01:57, 158.12it/s]"
     ]
    },
    {
     "name": "stdout",
     "output_type": "stream",
     "text": [
      "flower_62.70%.png\n",
      "flower_62.72%.png\n",
      "flower_62.74%.png\n",
      "flower_62.76%.png\n"
     ]
    },
    {
     "name": "stderr",
     "output_type": "stream",
     "text": [
      " 63%|██████▎   | 31410/50000 [03:36<01:58, 156.68it/s]"
     ]
    },
    {
     "name": "stdout",
     "output_type": "stream",
     "text": [
      "flower_62.78%.png\n",
      "flower_62.80%.png\n",
      "flower_62.82%.png\n",
      "flower_62.84%.png\n"
     ]
    },
    {
     "name": "stderr",
     "output_type": "stream",
     "text": [
      " 63%|██████▎   | 31450/50000 [03:36<01:56, 159.29it/s]"
     ]
    },
    {
     "name": "stdout",
     "output_type": "stream",
     "text": [
      "flower_62.86%.png\n",
      "flower_62.88%.png\n",
      "flower_62.90%.png\n",
      "flower_62.92%.png\n"
     ]
    },
    {
     "name": "stderr",
     "output_type": "stream",
     "text": [
      " 63%|██████▎   | 31490/50000 [03:37<01:52, 164.97it/s]"
     ]
    },
    {
     "name": "stdout",
     "output_type": "stream",
     "text": [
      "flower_62.94%.png\n",
      "flower_62.96%.png\n",
      "flower_62.98%.png\n",
      "flower_63.00%.png\n"
     ]
    },
    {
     "name": "stderr",
     "output_type": "stream",
     "text": [
      " 63%|██████▎   | 31527/50000 [03:37<01:54, 161.96it/s]"
     ]
    },
    {
     "name": "stdout",
     "output_type": "stream",
     "text": [
      "flower_63.02%.png\n",
      "flower_63.04%.png\n",
      "flower_63.06%.png\n",
      "flower_63.08%.png\n"
     ]
    },
    {
     "name": "stderr",
     "output_type": "stream",
     "text": [
      " 63%|██████▎   | 31580/50000 [03:37<01:57, 157.26it/s]"
     ]
    },
    {
     "name": "stdout",
     "output_type": "stream",
     "text": [
      "flower_63.10%.png\n",
      "flower_63.12%.png\n",
      "flower_63.14%.png\n",
      "flower_63.16%.png\n"
     ]
    },
    {
     "name": "stderr",
     "output_type": "stream",
     "text": [
      " 63%|██████▎   | 31620/50000 [03:37<01:54, 160.61it/s]"
     ]
    },
    {
     "name": "stdout",
     "output_type": "stream",
     "text": [
      "flower_63.18%.png\n",
      "flower_63.20%.png\n",
      "flower_63.22%.png\n",
      "flower_63.24%.png\n"
     ]
    },
    {
     "name": "stderr",
     "output_type": "stream",
     "text": [
      " 63%|██████▎   | 31660/50000 [03:38<01:50, 165.90it/s]"
     ]
    },
    {
     "name": "stdout",
     "output_type": "stream",
     "text": [
      "flower_63.26%.png\n",
      "flower_63.28%.png\n",
      "flower_63.30%.png\n",
      "flower_63.32%.png\n"
     ]
    },
    {
     "name": "stderr",
     "output_type": "stream",
     "text": [
      " 63%|██████▎   | 31697/50000 [03:38<01:51, 164.42it/s]"
     ]
    },
    {
     "name": "stdout",
     "output_type": "stream",
     "text": [
      "flower_63.34%.png\n",
      "flower_63.36%.png\n",
      "flower_63.38%.png\n",
      "flower_63.40%.png\n",
      "flower_63.42%.png\n"
     ]
    },
    {
     "name": "stderr",
     "output_type": "stream",
     "text": [
      " 63%|██████▎   | 31730/50000 [03:38<02:31, 120.30it/s]"
     ]
    },
    {
     "name": "stdout",
     "output_type": "stream",
     "text": [
      "flower_63.44%.png\n",
      "flower_63.46%.png\n",
      "flower_63.48%.png\n",
      "flower_63.50%.png\n"
     ]
    },
    {
     "name": "stderr",
     "output_type": "stream",
     "text": [
      " 64%|██████▎   | 31766/50000 [03:38<02:28, 123.08it/s]"
     ]
    },
    {
     "name": "stdout",
     "output_type": "stream",
     "text": [
      "flower_63.52%.png\n",
      "flower_63.54%.png\n"
     ]
    },
    {
     "name": "stderr",
     "output_type": "stream",
     "text": [
      " 64%|██████▎   | 31800/50000 [03:39<03:17, 91.97it/s] "
     ]
    },
    {
     "name": "stdout",
     "output_type": "stream",
     "text": [
      "flower_63.56%.png\n",
      "flower_63.58%.png\n",
      "flower_63.60%.png\n",
      "flower_63.62%.png\n"
     ]
    },
    {
     "name": "stderr",
     "output_type": "stream",
     "text": [
      " 64%|██████▎   | 31840/50000 [03:39<02:29, 121.87it/s]"
     ]
    },
    {
     "name": "stdout",
     "output_type": "stream",
     "text": [
      "flower_63.64%.png\n",
      "flower_63.66%.png\n",
      "flower_63.68%.png\n",
      "flower_63.70%.png\n"
     ]
    },
    {
     "name": "stderr",
     "output_type": "stream",
     "text": [
      " 64%|██████▍   | 31880/50000 [03:39<02:08, 141.24it/s]"
     ]
    },
    {
     "name": "stdout",
     "output_type": "stream",
     "text": [
      "flower_63.72%.png\n",
      "flower_63.74%.png\n",
      "flower_63.76%.png\n",
      "flower_63.78%.png\n"
     ]
    },
    {
     "name": "stderr",
     "output_type": "stream",
     "text": [
      " 64%|██████▍   | 31919/50000 [03:40<01:53, 159.22it/s]"
     ]
    },
    {
     "name": "stdout",
     "output_type": "stream",
     "text": [
      "flower_63.80%.png\n",
      "flower_63.82%.png\n",
      "flower_63.84%.png\n"
     ]
    },
    {
     "name": "stderr",
     "output_type": "stream",
     "text": [
      " 64%|██████▍   | 31950/50000 [03:40<02:43, 110.51it/s]"
     ]
    },
    {
     "name": "stdout",
     "output_type": "stream",
     "text": [
      "flower_63.86%.png\n",
      "flower_63.88%.png\n",
      "flower_63.90%.png\n",
      "flower_63.92%.png\n"
     ]
    },
    {
     "name": "stderr",
     "output_type": "stream",
     "text": [
      " 64%|██████▍   | 31986/50000 [03:40<02:23, 125.35it/s]"
     ]
    },
    {
     "name": "stdout",
     "output_type": "stream",
     "text": [
      "flower_63.94%.png\n",
      "flower_63.96%.png\n",
      "flower_63.98%.png\n"
     ]
    },
    {
     "name": "stderr",
     "output_type": "stream",
     "text": [
      " 64%|██████▍   | 32020/50000 [03:41<02:13, 134.28it/s]"
     ]
    },
    {
     "name": "stdout",
     "output_type": "stream",
     "text": [
      "flower_64.00%.png\n",
      "flower_64.02%.png\n",
      "flower_64.04%.png\n",
      "flower_64.06%.png\n"
     ]
    },
    {
     "name": "stderr",
     "output_type": "stream",
     "text": [
      " 64%|██████▍   | 32060/50000 [03:41<02:01, 147.12it/s]"
     ]
    },
    {
     "name": "stdout",
     "output_type": "stream",
     "text": [
      "flower_64.08%.png\n",
      "flower_64.10%.png\n",
      "flower_64.12%.png\n",
      "flower_64.14%.png\n"
     ]
    },
    {
     "name": "stderr",
     "output_type": "stream",
     "text": [
      " 64%|██████▍   | 32100/50000 [03:41<01:58, 150.60it/s]"
     ]
    },
    {
     "name": "stdout",
     "output_type": "stream",
     "text": [
      "flower_64.16%.png\n",
      "flower_64.18%.png\n",
      "flower_64.20%.png\n",
      "flower_64.22%.png\n"
     ]
    },
    {
     "name": "stderr",
     "output_type": "stream",
     "text": [
      " 64%|██████▍   | 32140/50000 [03:41<01:54, 155.65it/s]"
     ]
    },
    {
     "name": "stdout",
     "output_type": "stream",
     "text": [
      "flower_64.24%.png\n",
      "flower_64.26%.png\n",
      "flower_64.28%.png\n",
      "flower_64.30%.png\n"
     ]
    },
    {
     "name": "stderr",
     "output_type": "stream",
     "text": [
      " 64%|██████▍   | 32180/50000 [03:42<01:51, 159.84it/s]"
     ]
    },
    {
     "name": "stdout",
     "output_type": "stream",
     "text": [
      "flower_64.32%.png\n",
      "flower_64.34%.png\n",
      "flower_64.36%.png\n",
      "flower_64.38%.png\n"
     ]
    },
    {
     "name": "stderr",
     "output_type": "stream",
     "text": [
      " 64%|██████▍   | 32220/50000 [03:42<01:48, 163.39it/s]"
     ]
    },
    {
     "name": "stdout",
     "output_type": "stream",
     "text": [
      "flower_64.40%.png\n",
      "flower_64.42%.png\n",
      "flower_64.44%.png\n",
      "flower_64.46%.png\n"
     ]
    },
    {
     "name": "stderr",
     "output_type": "stream",
     "text": [
      " 65%|██████▍   | 32260/50000 [03:42<01:50, 160.36it/s]"
     ]
    },
    {
     "name": "stdout",
     "output_type": "stream",
     "text": [
      "flower_64.48%.png\n",
      "flower_64.50%.png\n",
      "flower_64.52%.png\n",
      "flower_64.54%.png\n"
     ]
    },
    {
     "name": "stderr",
     "output_type": "stream",
     "text": [
      " 65%|██████▍   | 32296/50000 [03:42<01:50, 159.61it/s]"
     ]
    },
    {
     "name": "stdout",
     "output_type": "stream",
     "text": [
      "flower_64.56%.png\n",
      "flower_64.58%.png\n",
      "flower_64.60%.png\n",
      "flower_64.62%.png\n"
     ]
    },
    {
     "name": "stderr",
     "output_type": "stream",
     "text": [
      " 65%|██████▍   | 32350/50000 [03:43<01:52, 156.89it/s]"
     ]
    },
    {
     "name": "stdout",
     "output_type": "stream",
     "text": [
      "flower_64.64%.png\n",
      "flower_64.66%.png\n",
      "flower_64.68%.png\n",
      "flower_64.70%.png\n"
     ]
    },
    {
     "name": "stderr",
     "output_type": "stream",
     "text": [
      " 65%|██████▍   | 32390/50000 [03:43<01:51, 158.01it/s]"
     ]
    },
    {
     "name": "stdout",
     "output_type": "stream",
     "text": [
      "flower_64.72%.png\n",
      "flower_64.74%.png\n",
      "flower_64.76%.png\n",
      "flower_64.78%.png\n"
     ]
    },
    {
     "name": "stderr",
     "output_type": "stream",
     "text": [
      " 65%|██████▍   | 32430/50000 [03:43<01:49, 160.24it/s]"
     ]
    },
    {
     "name": "stdout",
     "output_type": "stream",
     "text": [
      "flower_64.80%.png\n",
      "flower_64.82%.png\n",
      "flower_64.84%.png\n",
      "flower_64.86%.png\n"
     ]
    },
    {
     "name": "stderr",
     "output_type": "stream",
     "text": [
      " 65%|██████▍   | 32470/50000 [03:43<01:50, 158.24it/s]"
     ]
    },
    {
     "name": "stdout",
     "output_type": "stream",
     "text": [
      "flower_64.88%.png\n",
      "flower_64.90%.png\n",
      "flower_64.92%.png\n",
      "flower_64.94%.png\n"
     ]
    },
    {
     "name": "stderr",
     "output_type": "stream",
     "text": [
      " 65%|██████▌   | 32510/50000 [03:44<01:43, 168.22it/s]"
     ]
    },
    {
     "name": "stdout",
     "output_type": "stream",
     "text": [
      "flower_64.96%.png\n",
      "flower_64.98%.png\n",
      "flower_65.00%.png\n",
      "flower_65.02%.png\n"
     ]
    },
    {
     "name": "stderr",
     "output_type": "stream",
     "text": [
      "\r",
      " 65%|██████▌   | 32530/50000 [03:44<01:47, 161.92it/s]"
     ]
    },
    {
     "name": "stdout",
     "output_type": "stream",
     "text": [
      "flower_65.04%.png\n",
      "flower_65.06%.png\n",
      "flower_65.08%.png\n",
      "flower_65.10%.png\n"
     ]
    },
    {
     "name": "stderr",
     "output_type": "stream",
     "text": [
      " 65%|██████▌   | 32570/50000 [03:44<01:46, 163.66it/s]"
     ]
    },
    {
     "name": "stdout",
     "output_type": "stream",
     "text": [
      "flower_65.12%.png\n",
      "flower_65.14%.png\n",
      "flower_65.16%.png\n",
      "flower_65.18%.png\n"
     ]
    },
    {
     "name": "stderr",
     "output_type": "stream",
     "text": [
      " 65%|██████▌   | 32630/50000 [03:44<01:47, 161.15it/s]"
     ]
    },
    {
     "name": "stdout",
     "output_type": "stream",
     "text": [
      "flower_65.20%.png\n",
      "flower_65.22%.png\n",
      "flower_65.24%.png\n",
      "flower_65.26%.png\n"
     ]
    },
    {
     "name": "stderr",
     "output_type": "stream",
     "text": [
      "\r",
      " 65%|██████▌   | 32650/50000 [03:44<01:44, 165.55it/s]"
     ]
    },
    {
     "name": "stdout",
     "output_type": "stream",
     "text": [
      "flower_65.28%.png\n",
      "flower_65.30%.png\n",
      "flower_65.32%.png\n",
      "flower_65.34%.png\n"
     ]
    },
    {
     "name": "stderr",
     "output_type": "stream",
     "text": [
      " 65%|██████▌   | 32710/50000 [03:45<01:42, 168.44it/s]"
     ]
    },
    {
     "name": "stdout",
     "output_type": "stream",
     "text": [
      "flower_65.36%.png\n",
      "flower_65.38%.png\n",
      "flower_65.40%.png\n",
      "flower_65.42%.png\n"
     ]
    },
    {
     "name": "stderr",
     "output_type": "stream",
     "text": [
      " 66%|██████▌   | 32750/50000 [03:45<01:45, 163.97it/s]"
     ]
    },
    {
     "name": "stdout",
     "output_type": "stream",
     "text": [
      "flower_65.44%.png\n",
      "flower_65.46%.png\n",
      "flower_65.48%.png\n",
      "flower_65.50%.png\n"
     ]
    },
    {
     "name": "stderr",
     "output_type": "stream",
     "text": [
      "\r",
      " 66%|██████▌   | 32770/50000 [03:45<01:46, 162.21it/s]"
     ]
    },
    {
     "name": "stdout",
     "output_type": "stream",
     "text": [
      "flower_65.52%.png\n",
      "flower_65.54%.png\n",
      "flower_65.56%.png\n",
      "flower_65.58%.png\n"
     ]
    },
    {
     "name": "stderr",
     "output_type": "stream",
     "text": [
      " 66%|██████▌   | 32810/50000 [03:46<01:51, 153.69it/s]"
     ]
    },
    {
     "name": "stdout",
     "output_type": "stream",
     "text": [
      "flower_65.60%.png\n",
      "flower_65.62%.png\n",
      "flower_65.64%.png\n",
      "flower_65.66%.png\n"
     ]
    },
    {
     "name": "stderr",
     "output_type": "stream",
     "text": [
      " 66%|██████▌   | 32870/50000 [03:46<01:48, 158.00it/s]"
     ]
    },
    {
     "name": "stdout",
     "output_type": "stream",
     "text": [
      "flower_65.68%.png\n",
      "flower_65.70%.png\n",
      "flower_65.72%.png\n",
      "flower_65.74%.png\n"
     ]
    },
    {
     "name": "stderr",
     "output_type": "stream",
     "text": [
      " 66%|██████▌   | 32910/50000 [03:46<01:47, 159.19it/s]"
     ]
    },
    {
     "name": "stdout",
     "output_type": "stream",
     "text": [
      "flower_65.76%.png\n",
      "flower_65.78%.png\n",
      "flower_65.80%.png\n",
      "flower_65.82%.png\n"
     ]
    },
    {
     "name": "stderr",
     "output_type": "stream",
     "text": [
      "\r",
      " 66%|██████▌   | 32930/50000 [03:46<01:46, 159.68it/s]"
     ]
    },
    {
     "name": "stdout",
     "output_type": "stream",
     "text": [
      "flower_65.84%.png\n",
      "flower_65.86%.png\n",
      "flower_65.88%.png\n",
      "flower_65.90%.png\n"
     ]
    },
    {
     "name": "stderr",
     "output_type": "stream",
     "text": [
      " 66%|██████▌   | 32990/50000 [03:47<01:49, 155.29it/s]"
     ]
    },
    {
     "name": "stdout",
     "output_type": "stream",
     "text": [
      "flower_65.92%.png\n",
      "flower_65.94%.png\n",
      "flower_65.96%.png\n",
      "flower_65.98%.png\n"
     ]
    },
    {
     "name": "stderr",
     "output_type": "stream",
     "text": [
      "\r",
      " 66%|██████▌   | 33010/50000 [03:47<01:52, 151.10it/s]"
     ]
    },
    {
     "name": "stdout",
     "output_type": "stream",
     "text": [
      "flower_66.00%.png\n",
      "flower_66.02%.png\n",
      "flower_66.04%.png\n"
     ]
    },
    {
     "name": "stderr",
     "output_type": "stream",
     "text": [
      " 66%|██████▌   | 33050/50000 [03:47<01:46, 158.72it/s]"
     ]
    },
    {
     "name": "stdout",
     "output_type": "stream",
     "text": [
      "flower_66.06%.png\n",
      "flower_66.08%.png\n",
      "flower_66.10%.png\n",
      "flower_66.12%.png\n"
     ]
    },
    {
     "name": "stderr",
     "output_type": "stream",
     "text": [
      " 66%|██████▌   | 33090/50000 [03:47<01:46, 158.99it/s]"
     ]
    },
    {
     "name": "stdout",
     "output_type": "stream",
     "text": [
      "flower_66.14%.png\n",
      "flower_66.16%.png\n",
      "flower_66.18%.png\n",
      "flower_66.20%.png\n"
     ]
    },
    {
     "name": "stderr",
     "output_type": "stream",
     "text": [
      " 66%|██████▋   | 33130/50000 [03:48<01:40, 167.76it/s]"
     ]
    },
    {
     "name": "stdout",
     "output_type": "stream",
     "text": [
      "flower_66.22%.png\n",
      "flower_66.24%.png\n",
      "flower_66.26%.png\n",
      "flower_66.28%.png\n"
     ]
    },
    {
     "name": "stderr",
     "output_type": "stream",
     "text": [
      " 66%|██████▋   | 33170/50000 [03:48<01:44, 160.89it/s]"
     ]
    },
    {
     "name": "stdout",
     "output_type": "stream",
     "text": [
      "flower_66.30%.png\n",
      "flower_66.32%.png\n",
      "flower_66.34%.png\n",
      "flower_66.36%.png\n"
     ]
    },
    {
     "name": "stderr",
     "output_type": "stream",
     "text": [
      " 66%|██████▋   | 33210/50000 [03:48<01:43, 162.05it/s]"
     ]
    },
    {
     "name": "stdout",
     "output_type": "stream",
     "text": [
      "flower_66.38%.png\n",
      "flower_66.40%.png\n",
      "flower_66.42%.png\n",
      "flower_66.44%.png\n"
     ]
    },
    {
     "name": "stderr",
     "output_type": "stream",
     "text": [
      " 67%|██████▋   | 33253/50000 [03:48<01:34, 176.37it/s]"
     ]
    },
    {
     "name": "stdout",
     "output_type": "stream",
     "text": [
      "flower_66.46%.png\n",
      "flower_66.48%.png\n",
      "flower_66.50%.png\n",
      "flower_66.52%.png\n"
     ]
    },
    {
     "name": "stderr",
     "output_type": "stream",
     "text": [
      " 67%|██████▋   | 33290/50000 [03:48<01:41, 163.91it/s]"
     ]
    },
    {
     "name": "stdout",
     "output_type": "stream",
     "text": [
      "flower_66.54%.png\n",
      "flower_66.56%.png\n",
      "flower_66.58%.png\n",
      "flower_66.60%.png\n"
     ]
    },
    {
     "name": "stderr",
     "output_type": "stream",
     "text": [
      " 67%|██████▋   | 33330/50000 [03:49<01:43, 160.70it/s]"
     ]
    },
    {
     "name": "stdout",
     "output_type": "stream",
     "text": [
      "flower_66.62%.png\n",
      "flower_66.64%.png\n",
      "flower_66.66%.png\n",
      "flower_66.68%.png\n"
     ]
    },
    {
     "name": "stderr",
     "output_type": "stream",
     "text": [
      " 67%|██████▋   | 33370/50000 [03:49<01:43, 159.92it/s]"
     ]
    },
    {
     "name": "stdout",
     "output_type": "stream",
     "text": [
      "flower_66.70%.png\n",
      "flower_66.72%.png\n",
      "flower_66.74%.png\n",
      "flower_66.76%.png\n"
     ]
    },
    {
     "name": "stderr",
     "output_type": "stream",
     "text": [
      " 67%|██████▋   | 33410/50000 [03:49<01:41, 163.28it/s]"
     ]
    },
    {
     "name": "stdout",
     "output_type": "stream",
     "text": [
      "flower_66.78%.png\n",
      "flower_66.80%.png\n",
      "flower_66.82%.png\n",
      "flower_66.84%.png\n"
     ]
    },
    {
     "name": "stderr",
     "output_type": "stream",
     "text": [
      " 67%|██████▋   | 33450/50000 [03:49<01:40, 165.33it/s]"
     ]
    },
    {
     "name": "stdout",
     "output_type": "stream",
     "text": [
      "flower_66.86%.png\n",
      "flower_66.88%.png\n",
      "flower_66.90%.png\n",
      "flower_66.92%.png\n"
     ]
    },
    {
     "name": "stderr",
     "output_type": "stream",
     "text": [
      " 67%|██████▋   | 33490/50000 [03:50<01:38, 168.20it/s]"
     ]
    },
    {
     "name": "stdout",
     "output_type": "stream",
     "text": [
      "flower_66.94%.png\n",
      "flower_66.96%.png\n",
      "flower_66.98%.png\n",
      "flower_67.00%.png\n"
     ]
    },
    {
     "name": "stderr",
     "output_type": "stream",
     "text": [
      " 67%|██████▋   | 33530/50000 [03:50<01:46, 154.15it/s]"
     ]
    },
    {
     "name": "stdout",
     "output_type": "stream",
     "text": [
      "flower_67.02%.png\n",
      "flower_67.04%.png\n",
      "flower_67.06%.png\n"
     ]
    },
    {
     "name": "stderr",
     "output_type": "stream",
     "text": [
      " 67%|██████▋   | 33570/50000 [03:50<01:43, 159.26it/s]"
     ]
    },
    {
     "name": "stdout",
     "output_type": "stream",
     "text": [
      "flower_67.08%.png\n",
      "flower_67.10%.png\n",
      "flower_67.12%.png\n",
      "flower_67.14%.png\n",
      "flower_67.16%.png\n"
     ]
    },
    {
     "name": "stderr",
     "output_type": "stream",
     "text": [
      " 67%|██████▋   | 33600/50000 [03:51<02:41, 101.35it/s]"
     ]
    },
    {
     "name": "stdout",
     "output_type": "stream",
     "text": [
      "flower_67.18%.png\n",
      "flower_67.20%.png\n",
      "flower_67.22%.png\n"
     ]
    },
    {
     "name": "stderr",
     "output_type": "stream",
     "text": [
      " 67%|██████▋   | 33633/50000 [03:51<02:29, 109.43it/s]"
     ]
    },
    {
     "name": "stdout",
     "output_type": "stream",
     "text": [
      "flower_67.24%.png\n",
      "flower_67.26%.png\n",
      "flower_67.28%.png\n"
     ]
    },
    {
     "name": "stderr",
     "output_type": "stream",
     "text": [
      " 67%|██████▋   | 33670/50000 [03:51<02:09, 126.31it/s]"
     ]
    },
    {
     "name": "stdout",
     "output_type": "stream",
     "text": [
      "flower_67.30%.png\n",
      "flower_67.32%.png\n",
      "flower_67.34%.png\n",
      "flower_67.36%.png\n"
     ]
    },
    {
     "name": "stderr",
     "output_type": "stream",
     "text": [
      " 67%|██████▋   | 33710/50000 [03:51<01:52, 145.35it/s]"
     ]
    },
    {
     "name": "stdout",
     "output_type": "stream",
     "text": [
      "flower_67.38%.png\n",
      "flower_67.40%.png\n",
      "flower_67.42%.png\n",
      "flower_67.44%.png\n"
     ]
    },
    {
     "name": "stderr",
     "output_type": "stream",
     "text": [
      " 68%|██████▊   | 33750/50000 [03:52<01:49, 147.84it/s]"
     ]
    },
    {
     "name": "stdout",
     "output_type": "stream",
     "text": [
      "flower_67.46%.png\n",
      "flower_67.48%.png\n",
      "flower_67.50%.png\n",
      "flower_67.52%.png\n"
     ]
    },
    {
     "name": "stderr",
     "output_type": "stream",
     "text": [
      " 68%|██████▊   | 33790/50000 [03:52<01:46, 152.17it/s]"
     ]
    },
    {
     "name": "stdout",
     "output_type": "stream",
     "text": [
      "flower_67.54%.png\n",
      "flower_67.56%.png\n",
      "flower_67.58%.png\n",
      "flower_67.60%.png\n"
     ]
    },
    {
     "name": "stderr",
     "output_type": "stream",
     "text": [
      " 68%|██████▊   | 33830/50000 [03:52<01:43, 156.72it/s]"
     ]
    },
    {
     "name": "stdout",
     "output_type": "stream",
     "text": [
      "flower_67.62%.png\n",
      "flower_67.64%.png\n",
      "flower_67.66%.png\n",
      "flower_67.68%.png\n"
     ]
    },
    {
     "name": "stderr",
     "output_type": "stream",
     "text": [
      " 68%|██████▊   | 33870/50000 [03:52<01:42, 157.92it/s]"
     ]
    },
    {
     "name": "stdout",
     "output_type": "stream",
     "text": [
      "flower_67.70%.png\n",
      "flower_67.72%.png\n",
      "flower_67.74%.png\n",
      "flower_67.76%.png\n"
     ]
    },
    {
     "name": "stderr",
     "output_type": "stream",
     "text": [
      " 68%|██████▊   | 33910/50000 [03:53<01:42, 157.59it/s]"
     ]
    },
    {
     "name": "stdout",
     "output_type": "stream",
     "text": [
      "flower_67.78%.png\n",
      "flower_67.80%.png\n",
      "flower_67.82%.png\n",
      "flower_67.84%.png\n"
     ]
    },
    {
     "name": "stderr",
     "output_type": "stream",
     "text": [
      " 68%|██████▊   | 33950/50000 [03:53<01:40, 160.14it/s]"
     ]
    },
    {
     "name": "stdout",
     "output_type": "stream",
     "text": [
      "flower_67.86%.png\n",
      "flower_67.88%.png\n",
      "flower_67.90%.png\n",
      "flower_67.92%.png\n"
     ]
    },
    {
     "name": "stderr",
     "output_type": "stream",
     "text": [
      " 68%|██████▊   | 33990/50000 [03:53<01:40, 158.55it/s]"
     ]
    },
    {
     "name": "stdout",
     "output_type": "stream",
     "text": [
      "flower_67.94%.png\n",
      "flower_67.96%.png\n",
      "flower_67.98%.png\n",
      "flower_68.00%.png\n"
     ]
    },
    {
     "name": "stderr",
     "output_type": "stream",
     "text": [
      " 68%|██████▊   | 34030/50000 [03:53<01:43, 153.84it/s]"
     ]
    },
    {
     "name": "stdout",
     "output_type": "stream",
     "text": [
      "flower_68.02%.png\n",
      "flower_68.04%.png\n",
      "flower_68.06%.png\n",
      "flower_68.08%.png\n"
     ]
    },
    {
     "name": "stderr",
     "output_type": "stream",
     "text": [
      " 68%|██████▊   | 34070/50000 [03:54<01:43, 153.25it/s]"
     ]
    },
    {
     "name": "stdout",
     "output_type": "stream",
     "text": [
      "flower_68.10%.png\n",
      "flower_68.12%.png\n",
      "flower_68.14%.png\n",
      "flower_68.16%.png\n"
     ]
    },
    {
     "name": "stderr",
     "output_type": "stream",
     "text": [
      " 68%|██████▊   | 34110/50000 [03:54<01:40, 157.51it/s]"
     ]
    },
    {
     "name": "stdout",
     "output_type": "stream",
     "text": [
      "flower_68.18%.png\n",
      "flower_68.20%.png\n",
      "flower_68.22%.png\n",
      "flower_68.24%.png\n"
     ]
    },
    {
     "name": "stderr",
     "output_type": "stream",
     "text": [
      " 68%|██████▊   | 34150/50000 [03:54<01:41, 155.53it/s]"
     ]
    },
    {
     "name": "stdout",
     "output_type": "stream",
     "text": [
      "flower_68.26%.png\n",
      "flower_68.28%.png\n",
      "flower_68.30%.png\n",
      "flower_68.32%.png\n"
     ]
    },
    {
     "name": "stderr",
     "output_type": "stream",
     "text": [
      " 68%|██████▊   | 34190/50000 [03:55<01:42, 154.53it/s]"
     ]
    },
    {
     "name": "stdout",
     "output_type": "stream",
     "text": [
      "flower_68.34%.png\n",
      "flower_68.36%.png\n",
      "flower_68.38%.png\n"
     ]
    },
    {
     "name": "stderr",
     "output_type": "stream",
     "text": [
      " 68%|██████▊   | 34220/50000 [03:58<11:41, 22.49it/s] "
     ]
    },
    {
     "name": "stdout",
     "output_type": "stream",
     "text": [
      "flower_68.40%.png\n",
      "flower_68.42%.png\n",
      "flower_68.44%.png\n"
     ]
    },
    {
     "name": "stderr",
     "output_type": "stream",
     "text": [
      "\r",
      " 68%|██████▊   | 34240/50000 [03:58<08:23, 31.31it/s]"
     ]
    },
    {
     "name": "stdout",
     "output_type": "stream",
     "text": [
      "flower_68.46%.png\n",
      "flower_68.48%.png\n",
      "flower_68.50%.png\n",
      "flower_68.52%.png\n"
     ]
    },
    {
     "name": "stderr",
     "output_type": "stream",
     "text": [
      " 69%|██████▊   | 34280/50000 [03:58<04:52, 53.83it/s]"
     ]
    },
    {
     "name": "stdout",
     "output_type": "stream",
     "text": [
      "flower_68.54%.png\n",
      "flower_68.56%.png\n",
      "flower_68.58%.png\n",
      "flower_68.60%.png\n"
     ]
    },
    {
     "name": "stderr",
     "output_type": "stream",
     "text": [
      " 69%|██████▊   | 34340/50000 [03:59<02:43, 96.07it/s]"
     ]
    },
    {
     "name": "stdout",
     "output_type": "stream",
     "text": [
      "flower_68.62%.png\n",
      "flower_68.64%.png\n",
      "flower_68.66%.png\n",
      "flower_68.68%.png\n"
     ]
    },
    {
     "name": "stderr",
     "output_type": "stream",
     "text": [
      " 69%|██████▉   | 34380/50000 [03:59<02:06, 123.29it/s]"
     ]
    },
    {
     "name": "stdout",
     "output_type": "stream",
     "text": [
      "flower_68.70%.png\n",
      "flower_68.72%.png\n",
      "flower_68.74%.png\n",
      "flower_68.76%.png\n"
     ]
    },
    {
     "name": "stderr",
     "output_type": "stream",
     "text": [
      " 69%|██████▉   | 34420/50000 [03:59<01:51, 139.21it/s]"
     ]
    },
    {
     "name": "stdout",
     "output_type": "stream",
     "text": [
      "flower_68.78%.png\n",
      "flower_68.80%.png\n",
      "flower_68.82%.png\n",
      "flower_68.84%.png\n"
     ]
    },
    {
     "name": "stderr",
     "output_type": "stream",
     "text": [
      " 69%|██████▉   | 34450/50000 [03:59<02:10, 118.89it/s]"
     ]
    },
    {
     "name": "stdout",
     "output_type": "stream",
     "text": [
      "flower_68.86%.png\n",
      "flower_68.88%.png\n",
      "flower_68.90%.png\n"
     ]
    },
    {
     "name": "stderr",
     "output_type": "stream",
     "text": [
      " 69%|██████▉   | 34490/50000 [04:00<01:52, 138.41it/s]"
     ]
    },
    {
     "name": "stdout",
     "output_type": "stream",
     "text": [
      "flower_68.92%.png\n",
      "flower_68.94%.png\n",
      "flower_68.96%.png\n",
      "flower_68.98%.png\n"
     ]
    },
    {
     "name": "stderr",
     "output_type": "stream",
     "text": [
      " 69%|██████▉   | 34530/50000 [04:00<01:40, 153.45it/s]"
     ]
    },
    {
     "name": "stdout",
     "output_type": "stream",
     "text": [
      "flower_69.00%.png\n",
      "flower_69.02%.png\n",
      "flower_69.04%.png\n",
      "flower_69.06%.png\n"
     ]
    },
    {
     "name": "stderr",
     "output_type": "stream",
     "text": [
      " 69%|██████▉   | 34570/50000 [04:00<01:39, 155.17it/s]"
     ]
    },
    {
     "name": "stdout",
     "output_type": "stream",
     "text": [
      "flower_69.08%.png\n",
      "flower_69.10%.png\n",
      "flower_69.12%.png\n",
      "flower_69.14%.png\n"
     ]
    },
    {
     "name": "stderr",
     "output_type": "stream",
     "text": [
      " 69%|██████▉   | 34610/50000 [04:00<01:38, 155.70it/s]"
     ]
    },
    {
     "name": "stdout",
     "output_type": "stream",
     "text": [
      "flower_69.16%.png\n",
      "flower_69.18%.png\n",
      "flower_69.20%.png\n",
      "flower_69.22%.png\n"
     ]
    },
    {
     "name": "stderr",
     "output_type": "stream",
     "text": [
      "\r",
      " 69%|██████▉   | 34630/50000 [04:01<01:38, 155.49it/s]"
     ]
    },
    {
     "name": "stdout",
     "output_type": "stream",
     "text": [
      "flower_69.24%.png\n",
      "flower_69.26%.png\n",
      "flower_69.28%.png\n",
      "flower_69.30%.png\n"
     ]
    },
    {
     "name": "stderr",
     "output_type": "stream",
     "text": [
      " 69%|██████▉   | 34682/50000 [04:01<01:43, 147.46it/s]"
     ]
    },
    {
     "name": "stdout",
     "output_type": "stream",
     "text": [
      "flower_69.32%.png\n",
      "flower_69.34%.png\n",
      "flower_69.36%.png\n",
      "flower_69.38%.png\n"
     ]
    },
    {
     "name": "stderr",
     "output_type": "stream",
     "text": [
      " 69%|██████▉   | 34715/50000 [04:01<01:52, 135.55it/s]"
     ]
    },
    {
     "name": "stdout",
     "output_type": "stream",
     "text": [
      "flower_69.40%.png\n",
      "flower_69.42%.png\n"
     ]
    },
    {
     "name": "stderr",
     "output_type": "stream",
     "text": [
      " 69%|██████▉   | 34741/50000 [04:01<02:14, 113.68it/s]"
     ]
    },
    {
     "name": "stdout",
     "output_type": "stream",
     "text": [
      "flower_69.44%.png\n",
      "flower_69.46%.png\n",
      "flower_69.48%.png\n",
      "flower_69.50%.png\n"
     ]
    },
    {
     "name": "stderr",
     "output_type": "stream",
     "text": [
      " 70%|██████▉   | 34766/50000 [04:02<03:11, 79.64it/s] "
     ]
    },
    {
     "name": "stdout",
     "output_type": "stream",
     "text": [
      "flower_69.52%.png\n",
      "flower_69.54%.png\n"
     ]
    },
    {
     "name": "stderr",
     "output_type": "stream",
     "text": [
      "\r",
      " 70%|██████▉   | 34780/50000 [04:02<02:48, 90.47it/s]"
     ]
    },
    {
     "name": "stdout",
     "output_type": "stream",
     "text": [
      "flower_69.56%.png\n"
     ]
    },
    {
     "name": "stderr",
     "output_type": "stream",
     "text": [
      "\r",
      " 70%|██████▉   | 34791/50000 [04:02<03:37, 70.00it/s]"
     ]
    },
    {
     "name": "stdout",
     "output_type": "stream",
     "text": [
      "flower_69.58%.png\n"
     ]
    },
    {
     "name": "stderr",
     "output_type": "stream",
     "text": [
      " 70%|██████▉   | 34808/50000 [04:03<04:23, 57.60it/s]"
     ]
    },
    {
     "name": "stdout",
     "output_type": "stream",
     "text": [
      "flower_69.60%.png\n"
     ]
    },
    {
     "name": "stderr",
     "output_type": "stream",
     "text": [
      "\r",
      " 70%|██████▉   | 34815/50000 [04:03<04:22, 57.84it/s]"
     ]
    },
    {
     "name": "stdout",
     "output_type": "stream",
     "text": [
      "flower_69.62%.png\n"
     ]
    },
    {
     "name": "stderr",
     "output_type": "stream",
     "text": [
      " 70%|██████▉   | 34840/50000 [04:03<03:25, 73.93it/s]"
     ]
    },
    {
     "name": "stdout",
     "output_type": "stream",
     "text": [
      "flower_69.64%.png\n",
      "flower_69.66%.png\n",
      "flower_69.68%.png\n"
     ]
    },
    {
     "name": "stderr",
     "output_type": "stream",
     "text": [
      " 70%|██████▉   | 34865/50000 [04:03<03:34, 70.66it/s]"
     ]
    },
    {
     "name": "stdout",
     "output_type": "stream",
     "text": [
      "flower_69.70%.png\n",
      "flower_69.72%.png\n",
      "flower_69.74%.png\n"
     ]
    },
    {
     "name": "stderr",
     "output_type": "stream",
     "text": [
      " 70%|██████▉   | 34893/50000 [04:04<03:28, 72.40it/s]"
     ]
    },
    {
     "name": "stdout",
     "output_type": "stream",
     "text": [
      "flower_69.76%.png\n",
      "flower_69.78%.png\n"
     ]
    },
    {
     "name": "stderr",
     "output_type": "stream",
     "text": [
      "\r",
      " 70%|██████▉   | 34910/50000 [04:04<02:44, 91.86it/s]"
     ]
    },
    {
     "name": "stdout",
     "output_type": "stream",
     "text": [
      "flower_69.80%.png\n",
      "flower_69.82%.png\n",
      "flower_69.84%.png\n"
     ]
    },
    {
     "name": "stderr",
     "output_type": "stream",
     "text": [
      " 70%|██████▉   | 34940/50000 [04:04<02:19, 107.94it/s]"
     ]
    },
    {
     "name": "stdout",
     "output_type": "stream",
     "text": [
      "flower_69.86%.png\n",
      "flower_69.88%.png\n",
      "flower_69.90%.png\n"
     ]
    },
    {
     "name": "stderr",
     "output_type": "stream",
     "text": [
      " 70%|██████▉   | 34990/50000 [04:05<02:07, 117.68it/s]"
     ]
    },
    {
     "name": "stdout",
     "output_type": "stream",
     "text": [
      "flower_69.92%.png\n",
      "flower_69.94%.png\n",
      "flower_69.96%.png\n",
      "flower_69.98%.png\n"
     ]
    },
    {
     "name": "stderr",
     "output_type": "stream",
     "text": [
      "\r",
      " 70%|███████   | 35003/50000 [04:05<02:09, 116.08it/s]"
     ]
    },
    {
     "name": "stdout",
     "output_type": "stream",
     "text": [
      "flower_70.00%.png\n",
      "flower_70.02%.png\n"
     ]
    },
    {
     "name": "stderr",
     "output_type": "stream",
     "text": [
      " 70%|███████   | 35027/50000 [04:05<03:33, 70.00it/s] "
     ]
    },
    {
     "name": "stdout",
     "output_type": "stream",
     "text": [
      "flower_70.04%.png\n"
     ]
    },
    {
     "name": "stderr",
     "output_type": "stream",
     "text": [
      "\r",
      " 70%|███████   | 35036/50000 [04:05<04:06, 60.80it/s]"
     ]
    },
    {
     "name": "stdout",
     "output_type": "stream",
     "text": [
      "flower_70.06%.png\n"
     ]
    },
    {
     "name": "stderr",
     "output_type": "stream",
     "text": [
      " 70%|███████   | 35051/50000 [04:06<04:43, 52.75it/s]"
     ]
    },
    {
     "name": "stdout",
     "output_type": "stream",
     "text": [
      "flower_70.08%.png\n",
      "flower_70.10%.png\n",
      "flower_70.12%.png\n"
     ]
    },
    {
     "name": "stderr",
     "output_type": "stream",
     "text": [
      " 70%|███████   | 35092/50000 [04:06<02:23, 103.70it/s]"
     ]
    },
    {
     "name": "stdout",
     "output_type": "stream",
     "text": [
      "flower_70.14%.png\n",
      "flower_70.16%.png\n",
      "flower_70.18%.png\n",
      "flower_70.20%.png\n"
     ]
    },
    {
     "name": "stderr",
     "output_type": "stream",
     "text": [
      " 70%|███████   | 35122/50000 [04:06<02:47, 88.86it/s] "
     ]
    },
    {
     "name": "stdout",
     "output_type": "stream",
     "text": [
      "flower_70.22%.png\n",
      "flower_70.24%.png\n"
     ]
    },
    {
     "name": "stderr",
     "output_type": "stream",
     "text": [
      " 70%|███████   | 35160/50000 [04:07<02:03, 120.12it/s]"
     ]
    },
    {
     "name": "stdout",
     "output_type": "stream",
     "text": [
      "flower_70.26%.png\n",
      "flower_70.28%.png\n",
      "flower_70.30%.png\n",
      "flower_70.32%.png\n"
     ]
    },
    {
     "name": "stderr",
     "output_type": "stream",
     "text": [
      "\r",
      " 70%|███████   | 35180/50000 [04:07<01:55, 128.47it/s]"
     ]
    },
    {
     "name": "stdout",
     "output_type": "stream",
     "text": [
      "flower_70.34%.png\n",
      "flower_70.36%.png\n",
      "flower_70.38%.png\n",
      "flower_70.40%.png\n"
     ]
    },
    {
     "name": "stderr",
     "output_type": "stream",
     "text": [
      " 70%|███████   | 35220/50000 [04:07<01:44, 140.82it/s]"
     ]
    },
    {
     "name": "stdout",
     "output_type": "stream",
     "text": [
      "flower_70.42%.png\n",
      "flower_70.44%.png\n",
      "flower_70.46%.png\n",
      "flower_70.48%.png\n"
     ]
    },
    {
     "name": "stderr",
     "output_type": "stream",
     "text": [
      " 71%|███████   | 35280/50000 [04:07<01:34, 156.00it/s]"
     ]
    },
    {
     "name": "stdout",
     "output_type": "stream",
     "text": [
      "flower_70.50%.png\n",
      "flower_70.52%.png\n",
      "flower_70.54%.png\n",
      "flower_70.56%.png\n"
     ]
    },
    {
     "name": "stderr",
     "output_type": "stream",
     "text": [
      " 71%|███████   | 35320/50000 [04:08<01:31, 160.58it/s]"
     ]
    },
    {
     "name": "stdout",
     "output_type": "stream",
     "text": [
      "flower_70.58%.png\n",
      "flower_70.60%.png\n",
      "flower_70.62%.png\n",
      "flower_70.64%.png\n"
     ]
    },
    {
     "name": "stderr",
     "output_type": "stream",
     "text": [
      "\r",
      " 71%|███████   | 35340/50000 [04:08<01:31, 160.20it/s]"
     ]
    },
    {
     "name": "stdout",
     "output_type": "stream",
     "text": [
      "flower_70.66%.png\n",
      "flower_70.68%.png\n",
      "flower_70.70%.png\n",
      "flower_70.72%.png\n"
     ]
    },
    {
     "name": "stderr",
     "output_type": "stream",
     "text": [
      " 71%|███████   | 35400/50000 [04:08<01:30, 161.43it/s]"
     ]
    },
    {
     "name": "stdout",
     "output_type": "stream",
     "text": [
      "flower_70.74%.png\n",
      "flower_70.76%.png\n",
      "flower_70.78%.png\n",
      "flower_70.80%.png\n"
     ]
    },
    {
     "name": "stderr",
     "output_type": "stream",
     "text": [
      " 71%|███████   | 35440/50000 [04:08<01:31, 159.37it/s]"
     ]
    },
    {
     "name": "stdout",
     "output_type": "stream",
     "text": [
      "flower_70.82%.png\n",
      "flower_70.84%.png\n",
      "flower_70.86%.png\n",
      "flower_70.88%.png\n"
     ]
    },
    {
     "name": "stderr",
     "output_type": "stream",
     "text": [
      "\r",
      " 71%|███████   | 35460/50000 [04:09<01:28, 163.79it/s]"
     ]
    },
    {
     "name": "stdout",
     "output_type": "stream",
     "text": [
      "flower_70.90%.png\n",
      "flower_70.92%.png\n",
      "flower_70.94%.png\n",
      "flower_70.96%.png\n"
     ]
    },
    {
     "name": "stderr",
     "output_type": "stream",
     "text": [
      " 71%|███████   | 35520/50000 [04:09<01:28, 164.24it/s]"
     ]
    },
    {
     "name": "stdout",
     "output_type": "stream",
     "text": [
      "flower_70.98%.png\n",
      "flower_71.00%.png\n",
      "flower_71.02%.png\n",
      "flower_71.04%.png\n"
     ]
    },
    {
     "name": "stderr",
     "output_type": "stream",
     "text": [
      " 71%|███████   | 35560/50000 [04:09<01:25, 168.98it/s]"
     ]
    },
    {
     "name": "stdout",
     "output_type": "stream",
     "text": [
      "flower_71.06%.png\n",
      "flower_71.08%.png\n",
      "flower_71.10%.png\n",
      "flower_71.12%.png\n"
     ]
    },
    {
     "name": "stderr",
     "output_type": "stream",
     "text": [
      " 71%|███████   | 35600/50000 [04:09<01:27, 163.84it/s]"
     ]
    },
    {
     "name": "stdout",
     "output_type": "stream",
     "text": [
      "flower_71.14%.png\n",
      "flower_71.16%.png\n",
      "flower_71.18%.png\n",
      "flower_71.20%.png\n"
     ]
    },
    {
     "name": "stderr",
     "output_type": "stream",
     "text": [
      "\r",
      " 71%|███████   | 35617/50000 [04:10<02:04, 115.09it/s]"
     ]
    },
    {
     "name": "stdout",
     "output_type": "stream",
     "text": [
      "flower_71.22%.png\n",
      "flower_71.24%.png\n"
     ]
    },
    {
     "name": "stderr",
     "output_type": "stream",
     "text": [
      " 71%|███████▏  | 35650/50000 [04:10<02:02, 117.46it/s]"
     ]
    },
    {
     "name": "stdout",
     "output_type": "stream",
     "text": [
      "flower_71.26%.png\n",
      "flower_71.28%.png\n",
      "flower_71.30%.png\n",
      "flower_71.32%.png\n"
     ]
    },
    {
     "name": "stderr",
     "output_type": "stream",
     "text": [
      " 71%|███████▏  | 35690/50000 [04:10<01:44, 137.01it/s]"
     ]
    },
    {
     "name": "stdout",
     "output_type": "stream",
     "text": [
      "flower_71.34%.png\n",
      "flower_71.36%.png\n",
      "flower_71.38%.png\n",
      "flower_71.40%.png\n"
     ]
    },
    {
     "name": "stderr",
     "output_type": "stream",
     "text": [
      "\r",
      " 71%|███████▏  | 35710/50000 [04:10<01:38, 144.98it/s]"
     ]
    },
    {
     "name": "stdout",
     "output_type": "stream",
     "text": [
      "flower_71.42%.png\n"
     ]
    },
    {
     "name": "stderr",
     "output_type": "stream",
     "text": [
      "\r",
      " 71%|███████▏  | 35726/50000 [04:11<02:25, 98.33it/s] "
     ]
    },
    {
     "name": "stdout",
     "output_type": "stream",
     "text": [
      "flower_71.44%.png\n"
     ]
    },
    {
     "name": "stderr",
     "output_type": "stream",
     "text": [
      " 72%|███████▏  | 35752/50000 [04:11<02:24, 98.49it/s]"
     ]
    },
    {
     "name": "stdout",
     "output_type": "stream",
     "text": [
      "flower_71.46%.png\n",
      "flower_71.48%.png\n",
      "flower_71.50%.png\n",
      "flower_71.52%.png\n"
     ]
    },
    {
     "name": "stderr",
     "output_type": "stream",
     "text": [
      " 72%|███████▏  | 35790/50000 [04:11<01:55, 123.41it/s]"
     ]
    },
    {
     "name": "stdout",
     "output_type": "stream",
     "text": [
      "flower_71.54%.png\n",
      "flower_71.56%.png\n",
      "flower_71.58%.png\n",
      "flower_71.60%.png\n"
     ]
    },
    {
     "name": "stderr",
     "output_type": "stream",
     "text": [
      " 72%|███████▏  | 35830/50000 [04:11<01:43, 136.99it/s]"
     ]
    },
    {
     "name": "stdout",
     "output_type": "stream",
     "text": [
      "flower_71.62%.png\n",
      "flower_71.64%.png\n",
      "flower_71.66%.png\n",
      "flower_71.68%.png\n"
     ]
    },
    {
     "name": "stderr",
     "output_type": "stream",
     "text": [
      " 72%|███████▏  | 35870/50000 [04:12<01:35, 147.64it/s]"
     ]
    },
    {
     "name": "stdout",
     "output_type": "stream",
     "text": [
      "flower_71.70%.png\n",
      "flower_71.72%.png\n",
      "flower_71.74%.png\n",
      "flower_71.76%.png\n"
     ]
    },
    {
     "name": "stderr",
     "output_type": "stream",
     "text": [
      " 72%|███████▏  | 35910/50000 [04:12<01:29, 158.23it/s]"
     ]
    },
    {
     "name": "stdout",
     "output_type": "stream",
     "text": [
      "flower_71.78%.png\n",
      "flower_71.80%.png\n",
      "flower_71.82%.png\n",
      "flower_71.84%.png\n"
     ]
    },
    {
     "name": "stderr",
     "output_type": "stream",
     "text": [
      " 72%|███████▏  | 35950/50000 [04:12<01:28, 159.09it/s]"
     ]
    },
    {
     "name": "stdout",
     "output_type": "stream",
     "text": [
      "flower_71.86%.png\n",
      "flower_71.88%.png\n",
      "flower_71.90%.png\n",
      "flower_71.92%.png\n"
     ]
    },
    {
     "name": "stderr",
     "output_type": "stream",
     "text": [
      " 72%|███████▏  | 35990/50000 [04:12<01:29, 156.28it/s]"
     ]
    },
    {
     "name": "stdout",
     "output_type": "stream",
     "text": [
      "flower_71.94%.png\n",
      "flower_71.96%.png\n",
      "flower_71.98%.png\n",
      "flower_72.00%.png\n"
     ]
    },
    {
     "name": "stderr",
     "output_type": "stream",
     "text": [
      " 72%|███████▏  | 36030/50000 [04:13<01:27, 158.93it/s]"
     ]
    },
    {
     "name": "stdout",
     "output_type": "stream",
     "text": [
      "flower_72.02%.png\n",
      "flower_72.04%.png\n",
      "flower_72.06%.png\n",
      "flower_72.08%.png\n"
     ]
    },
    {
     "name": "stderr",
     "output_type": "stream",
     "text": [
      " 72%|███████▏  | 36070/50000 [04:13<01:27, 159.85it/s]"
     ]
    },
    {
     "name": "stdout",
     "output_type": "stream",
     "text": [
      "flower_72.10%.png\n",
      "flower_72.12%.png\n",
      "flower_72.14%.png\n",
      "flower_72.16%.png\n"
     ]
    },
    {
     "name": "stderr",
     "output_type": "stream",
     "text": [
      " 72%|███████▏  | 36110/50000 [04:13<01:25, 162.66it/s]"
     ]
    },
    {
     "name": "stdout",
     "output_type": "stream",
     "text": [
      "flower_72.18%.png\n",
      "flower_72.20%.png\n",
      "flower_72.22%.png\n",
      "flower_72.24%.png\n"
     ]
    },
    {
     "name": "stderr",
     "output_type": "stream",
     "text": [
      " 72%|███████▏  | 36150/50000 [04:13<01:24, 164.68it/s]"
     ]
    },
    {
     "name": "stdout",
     "output_type": "stream",
     "text": [
      "flower_72.26%.png\n",
      "flower_72.28%.png\n",
      "flower_72.30%.png\n",
      "flower_72.32%.png\n"
     ]
    },
    {
     "name": "stderr",
     "output_type": "stream",
     "text": [
      " 72%|███████▏  | 36190/50000 [04:14<01:22, 168.37it/s]"
     ]
    },
    {
     "name": "stdout",
     "output_type": "stream",
     "text": [
      "flower_72.34%.png\n",
      "flower_72.36%.png\n",
      "flower_72.38%.png\n",
      "flower_72.40%.png\n"
     ]
    },
    {
     "name": "stderr",
     "output_type": "stream",
     "text": [
      " 72%|███████▏  | 36230/50000 [04:14<01:23, 164.66it/s]"
     ]
    },
    {
     "name": "stdout",
     "output_type": "stream",
     "text": [
      "flower_72.42%.png\n",
      "flower_72.44%.png\n",
      "flower_72.46%.png\n",
      "flower_72.48%.png\n"
     ]
    },
    {
     "name": "stderr",
     "output_type": "stream",
     "text": [
      " 73%|███████▎  | 36270/50000 [04:14<01:24, 161.60it/s]"
     ]
    },
    {
     "name": "stdout",
     "output_type": "stream",
     "text": [
      "flower_72.50%.png\n",
      "flower_72.52%.png\n",
      "flower_72.54%.png\n",
      "flower_72.56%.png\n"
     ]
    },
    {
     "name": "stderr",
     "output_type": "stream",
     "text": [
      " 73%|███████▎  | 36310/50000 [04:14<01:25, 159.39it/s]"
     ]
    },
    {
     "name": "stdout",
     "output_type": "stream",
     "text": [
      "flower_72.58%.png\n",
      "flower_72.60%.png\n",
      "flower_72.62%.png\n",
      "flower_72.64%.png\n"
     ]
    },
    {
     "name": "stderr",
     "output_type": "stream",
     "text": [
      " 73%|███████▎  | 36350/50000 [04:15<01:22, 164.78it/s]"
     ]
    },
    {
     "name": "stdout",
     "output_type": "stream",
     "text": [
      "flower_72.66%.png\n",
      "flower_72.68%.png\n",
      "flower_72.70%.png\n",
      "flower_72.72%.png\n"
     ]
    },
    {
     "name": "stderr",
     "output_type": "stream",
     "text": [
      " 73%|███████▎  | 36390/50000 [04:15<01:22, 165.35it/s]"
     ]
    },
    {
     "name": "stdout",
     "output_type": "stream",
     "text": [
      "flower_72.74%.png\n",
      "flower_72.76%.png\n",
      "flower_72.78%.png\n"
     ]
    },
    {
     "name": "stderr",
     "output_type": "stream",
     "text": [
      "\r",
      " 73%|███████▎  | 36407/50000 [04:15<02:20, 96.66it/s] "
     ]
    },
    {
     "name": "stdout",
     "output_type": "stream",
     "text": [
      "flower_72.80%.png\n"
     ]
    },
    {
     "name": "stderr",
     "output_type": "stream",
     "text": [
      "\r",
      " 73%|███████▎  | 36420/50000 [04:15<02:19, 97.03it/s]"
     ]
    },
    {
     "name": "stdout",
     "output_type": "stream",
     "text": [
      "flower_72.82%.png\n",
      "flower_72.84%.png\n"
     ]
    },
    {
     "name": "stderr",
     "output_type": "stream",
     "text": [
      "\r",
      " 73%|███████▎  | 36433/50000 [04:16<02:37, 86.02it/s]"
     ]
    },
    {
     "name": "stdout",
     "output_type": "stream",
     "text": [
      "flower_72.86%.png\n"
     ]
    },
    {
     "name": "stderr",
     "output_type": "stream",
     "text": [
      "\r",
      " 73%|███████▎  | 36444/50000 [04:16<03:43, 60.75it/s]"
     ]
    },
    {
     "name": "stdout",
     "output_type": "stream",
     "text": [
      "flower_72.88%.png\n"
     ]
    },
    {
     "name": "stderr",
     "output_type": "stream",
     "text": [
      "\r",
      " 73%|███████▎  | 36453/50000 [04:16<04:03, 55.68it/s]"
     ]
    },
    {
     "name": "stdout",
     "output_type": "stream",
     "text": [
      "flower_72.90%.png\n"
     ]
    },
    {
     "name": "stderr",
     "output_type": "stream",
     "text": [
      "\r",
      " 73%|███████▎  | 36460/50000 [04:16<04:33, 49.56it/s]"
     ]
    },
    {
     "name": "stdout",
     "output_type": "stream",
     "text": [
      "flower_72.92%.png\n"
     ]
    },
    {
     "name": "stderr",
     "output_type": "stream",
     "text": [
      " 73%|███████▎  | 36490/50000 [04:17<03:31, 63.98it/s]"
     ]
    },
    {
     "name": "stdout",
     "output_type": "stream",
     "text": [
      "flower_72.94%.png\n",
      "flower_72.96%.png\n",
      "flower_72.98%.png\n",
      "flower_73.00%.png\n"
     ]
    },
    {
     "name": "stderr",
     "output_type": "stream",
     "text": [
      "\r",
      " 73%|███████▎  | 36510/50000 [04:17<02:52, 78.26it/s]"
     ]
    },
    {
     "name": "stdout",
     "output_type": "stream",
     "text": [
      "flower_73.02%.png\n"
     ]
    },
    {
     "name": "stderr",
     "output_type": "stream",
     "text": [
      "\r",
      " 73%|███████▎  | 36520/50000 [04:17<03:51, 58.25it/s]"
     ]
    },
    {
     "name": "stdout",
     "output_type": "stream",
     "text": [
      "flower_73.04%.png\n"
     ]
    },
    {
     "name": "stderr",
     "output_type": "stream",
     "text": [
      " 73%|███████▎  | 36534/50000 [04:18<05:21, 41.88it/s]"
     ]
    },
    {
     "name": "stdout",
     "output_type": "stream",
     "text": [
      "flower_73.06%.png\n",
      "flower_73.08%.png\n"
     ]
    },
    {
     "name": "stderr",
     "output_type": "stream",
     "text": [
      " 73%|███████▎  | 36560/50000 [04:18<03:49, 58.68it/s]"
     ]
    },
    {
     "name": "stdout",
     "output_type": "stream",
     "text": [
      "flower_73.10%.png\n",
      "flower_73.12%.png\n"
     ]
    },
    {
     "name": "stderr",
     "output_type": "stream",
     "text": [
      "\r",
      " 73%|███████▎  | 36580/50000 [04:18<02:36, 85.62it/s]"
     ]
    },
    {
     "name": "stdout",
     "output_type": "stream",
     "text": [
      "flower_73.14%.png\n",
      "flower_73.16%.png\n"
     ]
    },
    {
     "name": "stderr",
     "output_type": "stream",
     "text": [
      " 73%|███████▎  | 36610/50000 [04:19<02:44, 81.44it/s]"
     ]
    },
    {
     "name": "stdout",
     "output_type": "stream",
     "text": [
      "flower_73.18%.png\n",
      "flower_73.20%.png\n",
      "flower_73.22%.png\n",
      "flower_73.24%.png\n"
     ]
    },
    {
     "name": "stderr",
     "output_type": "stream",
     "text": [
      " 73%|███████▎  | 36643/50000 [04:19<02:26, 91.13it/s] "
     ]
    },
    {
     "name": "stdout",
     "output_type": "stream",
     "text": [
      "flower_73.26%.png\n",
      "flower_73.28%.png\n"
     ]
    },
    {
     "name": "stderr",
     "output_type": "stream",
     "text": [
      " 73%|███████▎  | 36680/50000 [04:19<01:51, 119.51it/s]"
     ]
    },
    {
     "name": "stdout",
     "output_type": "stream",
     "text": [
      "flower_73.30%.png\n",
      "flower_73.32%.png\n",
      "flower_73.34%.png\n",
      "flower_73.36%.png\n"
     ]
    },
    {
     "name": "stderr",
     "output_type": "stream",
     "text": [
      "\r",
      " 73%|███████▎  | 36698/50000 [04:19<01:46, 124.65it/s]"
     ]
    },
    {
     "name": "stdout",
     "output_type": "stream",
     "text": [
      "flower_73.38%.png\n",
      "flower_73.40%.png\n"
     ]
    },
    {
     "name": "stderr",
     "output_type": "stream",
     "text": [
      " 73%|███████▎  | 36723/50000 [04:20<03:04, 71.84it/s] "
     ]
    },
    {
     "name": "stdout",
     "output_type": "stream",
     "text": [
      "flower_73.42%.png\n",
      "flower_73.44%.png\n"
     ]
    },
    {
     "name": "stderr",
     "output_type": "stream",
     "text": [
      "\r",
      " 73%|███████▎  | 36740/50000 [04:20<02:34, 86.08it/s]"
     ]
    },
    {
     "name": "stdout",
     "output_type": "stream",
     "text": [
      "flower_73.46%.png\n",
      "flower_73.48%.png\n",
      "flower_73.50%.png\n"
     ]
    },
    {
     "name": "stderr",
     "output_type": "stream",
     "text": [
      " 74%|███████▎  | 36780/50000 [04:21<03:03, 72.15it/s]"
     ]
    },
    {
     "name": "stdout",
     "output_type": "stream",
     "text": [
      "flower_73.52%.png\n",
      "flower_73.54%.png\n",
      "flower_73.56%.png\n"
     ]
    },
    {
     "name": "stderr",
     "output_type": "stream",
     "text": [
      " 74%|███████▎  | 36798/50000 [04:21<03:43, 59.12it/s]"
     ]
    },
    {
     "name": "stdout",
     "output_type": "stream",
     "text": [
      "flower_73.58%.png\n"
     ]
    },
    {
     "name": "stderr",
     "output_type": "stream",
     "text": [
      "\r",
      " 74%|███████▎  | 36806/50000 [04:21<04:10, 52.58it/s]"
     ]
    },
    {
     "name": "stdout",
     "output_type": "stream",
     "text": [
      "flower_73.60%.png\n"
     ]
    },
    {
     "name": "stderr",
     "output_type": "stream",
     "text": [
      "\r",
      " 74%|███████▎  | 36813/50000 [04:22<06:03, 36.29it/s]"
     ]
    },
    {
     "name": "stdout",
     "output_type": "stream",
     "text": [
      "flower_73.62%.png\n",
      "flower_73.64%.png\n"
     ]
    },
    {
     "name": "stderr",
     "output_type": "stream",
     "text": [
      " 74%|███████▎  | 36835/50000 [04:22<04:02, 54.20it/s]"
     ]
    },
    {
     "name": "stdout",
     "output_type": "stream",
     "text": [
      "flower_73.66%.png\n"
     ]
    },
    {
     "name": "stderr",
     "output_type": "stream",
     "text": [
      "\r",
      " 74%|███████▎  | 36843/50000 [04:22<04:23, 49.90it/s]"
     ]
    },
    {
     "name": "stdout",
     "output_type": "stream",
     "text": [
      "flower_73.68%.png\n"
     ]
    },
    {
     "name": "stderr",
     "output_type": "stream",
     "text": [
      " 74%|███████▎  | 36870/50000 [04:23<03:10, 68.98it/s]"
     ]
    },
    {
     "name": "stdout",
     "output_type": "stream",
     "text": [
      "flower_73.70%.png\n",
      "flower_73.72%.png\n",
      "flower_73.74%.png\n",
      "flower_73.76%.png\n"
     ]
    },
    {
     "name": "stderr",
     "output_type": "stream",
     "text": [
      " 74%|███████▍  | 36910/50000 [04:23<02:01, 107.32it/s]"
     ]
    },
    {
     "name": "stdout",
     "output_type": "stream",
     "text": [
      "flower_73.78%.png\n",
      "flower_73.80%.png\n",
      "flower_73.82%.png\n",
      "flower_73.84%.png\n"
     ]
    },
    {
     "name": "stderr",
     "output_type": "stream",
     "text": [
      " 74%|███████▍  | 36950/50000 [04:23<01:38, 132.35it/s]"
     ]
    },
    {
     "name": "stdout",
     "output_type": "stream",
     "text": [
      "flower_73.86%.png\n",
      "flower_73.88%.png\n",
      "flower_73.90%.png\n"
     ]
    },
    {
     "name": "stderr",
     "output_type": "stream",
     "text": [
      " 74%|███████▍  | 36980/50000 [04:23<01:40, 129.79it/s]"
     ]
    },
    {
     "name": "stdout",
     "output_type": "stream",
     "text": [
      "flower_73.92%.png\n",
      "flower_73.94%.png\n",
      "flower_73.96%.png\n",
      "flower_73.98%.png\n"
     ]
    },
    {
     "name": "stderr",
     "output_type": "stream",
     "text": [
      " 74%|███████▍  | 37020/50000 [04:24<01:34, 136.68it/s]"
     ]
    },
    {
     "name": "stdout",
     "output_type": "stream",
     "text": [
      "flower_74.00%.png\n",
      "flower_74.02%.png\n",
      "flower_74.04%.png\n",
      "flower_74.06%.png\n"
     ]
    },
    {
     "name": "stderr",
     "output_type": "stream",
     "text": [
      " 74%|███████▍  | 37060/50000 [04:24<01:25, 151.94it/s]"
     ]
    },
    {
     "name": "stdout",
     "output_type": "stream",
     "text": [
      "flower_74.08%.png\n",
      "flower_74.10%.png\n",
      "flower_74.12%.png\n",
      "flower_74.14%.png\n"
     ]
    },
    {
     "name": "stderr",
     "output_type": "stream",
     "text": [
      "\r",
      " 74%|███████▍  | 37080/50000 [04:24<01:24, 153.25it/s]"
     ]
    }
   ],
   "source": [
    "plot_MCMC_traj(myFlower, myHelper, total_iters=5e4, lr=2e-5, boundary_=1.2, filename='flower')"
   ]
  },
  {
   "cell_type": "code",
   "execution_count": null,
   "metadata": {},
   "outputs": [],
   "source": []
  },
  {
   "cell_type": "code",
   "execution_count": null,
   "metadata": {},
   "outputs": [],
   "source": [
    "!convert -delay 3 results/GIF_figures/*.png ./results/flower.gif"
   ]
  },
  {
   "cell_type": "code",
   "execution_count": null,
   "metadata": {},
   "outputs": [],
   "source": []
  },
  {
   "cell_type": "code",
   "execution_count": null,
   "metadata": {},
   "outputs": [],
   "source": [
    "!rm -r results/GIF_figures/heart\n",
    "!mkdir -p results/GIF_figures/heart"
   ]
  },
  {
   "cell_type": "code",
   "execution_count": null,
   "metadata": {},
   "outputs": [],
   "source": [
    "myHelper = HelperTorch(Heart, grid_radius=3e-3, grid_curve=3e-4)\n",
    "myHeart = Heart()"
   ]
  },
  {
   "cell_type": "code",
   "execution_count": null,
   "metadata": {},
   "outputs": [],
   "source": [
    "plot_MCMC_traj(myHeart, myHelper, total_iters=5e4, lr=2e-5, boundary_=1.8, filename='heart')"
   ]
  },
  {
   "cell_type": "code",
   "execution_count": null,
   "metadata": {},
   "outputs": [],
   "source": [
    "!convert -delay 3 results/GIF_figures/heart/*.png ./results/heart.gif"
   ]
  }
 ],
 "metadata": {
  "kernelspec": {
   "display_name": "Python 3",
   "language": "python",
   "name": "python3"
  },
  "language_info": {
   "codemirror_mode": {
    "name": "ipython",
    "version": 3
   },
   "file_extension": ".py",
   "mimetype": "text/x-python",
   "name": "python",
   "nbconvert_exporter": "python",
   "pygments_lexer": "ipython3",
   "version": "3.8.10"
  }
 },
 "nbformat": 4,
 "nbformat_minor": 5
}
