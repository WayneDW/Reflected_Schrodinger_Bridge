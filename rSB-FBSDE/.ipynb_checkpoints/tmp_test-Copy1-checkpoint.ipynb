{
 "cells": [
  {
   "cell_type": "code",
   "execution_count": 1,
   "metadata": {},
   "outputs": [],
   "source": [
    "import numpy as np\n",
    "import matplotlib.pyplot as plt\n",
    "import tqdm"
   ]
  },
  {
   "cell_type": "code",
   "execution_count": null,
   "metadata": {},
   "outputs": [
    {
     "name": "stderr",
     "output_type": "stream",
     "text": [
      "  0%|          | 21/10000 [00:00<07:28, 22.26it/s]"
     ]
    }
   ],
   "source": [
    "brownian_motion, reflected_BM = [], []\n",
    "for repeat in tqdm.tqdm(range(10000)):\n",
    "    num_paths = 10000\n",
    "    x0, y0 = np.random.uniform(low=-2, high=1), np.random.uniform(low=-2, high=1)\n",
    "    for idx, _ in enumerate(range(num_paths)):\n",
    "        x0 += np.random.normal(loc=0.0, scale=0.1)\n",
    "        y0 += np.random.normal(loc=0.0, scale=0.1)\n",
    "        if y0 >= 1:\n",
    "            y0 = 2 - y0\n",
    "        if y0 <= -2:\n",
    "            y0 = -4 - y0\n",
    "    brownian_motion.append(x0)\n",
    "    reflected_BM.append(y0)\n",
    "    \n",
    "plt.hist(brownian_motion, 100)\n",
    "plt.hist(reflected_BM, 100, alpha=0.3)\n",
    "plt.xlim([-2, 1])\n",
    "plt.show()"
   ]
  },
  {
   "cell_type": "code",
   "execution_count": null,
   "metadata": {},
   "outputs": [],
   "source": [
    "plt.hist(brownian_motion, 100)\n",
    "plt.hist(reflected_BM, 100, alpha=0.3)\n",
    "plt.xlim([-2, 1])\n",
    "plt.show()"
   ]
  },
  {
   "cell_type": "code",
   "execution_count": null,
   "metadata": {},
   "outputs": [],
   "source": []
  }
 ],
 "metadata": {
  "kernelspec": {
   "display_name": "Python 3",
   "language": "python",
   "name": "python3"
  },
  "language_info": {
   "codemirror_mode": {
    "name": "ipython",
    "version": 3
   },
   "file_extension": ".py",
   "mimetype": "text/x-python",
   "name": "python",
   "nbconvert_exporter": "python",
   "pygments_lexer": "ipython3",
   "version": "3.8.10"
  }
 },
 "nbformat": 4,
 "nbformat_minor": 4
}
