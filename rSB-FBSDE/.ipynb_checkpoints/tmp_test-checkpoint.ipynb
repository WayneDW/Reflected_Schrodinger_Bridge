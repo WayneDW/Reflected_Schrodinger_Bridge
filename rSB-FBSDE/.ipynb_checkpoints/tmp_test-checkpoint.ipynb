{
 "cells": [
  {
   "cell_type": "code",
   "execution_count": 1,
   "metadata": {},
   "outputs": [],
   "source": [
    "import numpy as np\n",
    "from numpy.random import normal\n",
    "import matplotlib.pyplot as plt\n",
    "import tqdm"
   ]
  },
  {
   "cell_type": "code",
   "execution_count": 2,
   "metadata": {},
   "outputs": [],
   "source": [
    "def cube(point, pmin=0, pmax=1):\n",
    "    if point > pmax:\n",
    "        return 2*pmax - point\n",
    "    if point < pmin:\n",
    "        return 2*pmin - point\n",
    "    return point"
   ]
  },
  {
   "cell_type": "code",
   "execution_count": 3,
   "metadata": {},
   "outputs": [
    {
     "name": "stderr",
     "output_type": "stream",
     "text": [
      " 23%|██▎       | 2308/10000 [00:05<00:17, 443.11it/s]\n"
     ]
    },
    {
     "ename": "KeyboardInterrupt",
     "evalue": "",
     "output_type": "error",
     "traceback": [
      "\u001b[0;31m---------------------------------------------------------------------------\u001b[0m",
      "\u001b[0;31mKeyboardInterrupt\u001b[0m                         Traceback (most recent call last)",
      "Input \u001b[0;32mIn [3]\u001b[0m, in \u001b[0;36m<cell line: 2>\u001b[0;34m()\u001b[0m\n\u001b[1;32m      3\u001b[0m num_paths \u001b[38;5;241m=\u001b[39m \u001b[38;5;241m1000\u001b[39m\n\u001b[1;32m      4\u001b[0m x0, y0 \u001b[38;5;241m=\u001b[39m \u001b[38;5;241m0\u001b[39m, \u001b[38;5;241m0\u001b[39m\n\u001b[0;32m----> 5\u001b[0m \u001b[38;5;28;01mfor\u001b[39;00m idx, _ \u001b[38;5;129;01min\u001b[39;00m \u001b[38;5;28menumerate\u001b[39m(\u001b[38;5;28mrange\u001b[39m(num_paths)):\n\u001b[1;32m      6\u001b[0m     dw \u001b[38;5;241m=\u001b[39m normal(loc\u001b[38;5;241m=\u001b[39m\u001b[38;5;241m0.0\u001b[39m, scale\u001b[38;5;241m=\u001b[39m\u001b[38;5;241m0.03\u001b[39m)\n\u001b[1;32m      7\u001b[0m     x0 \u001b[38;5;241m+\u001b[39m\u001b[38;5;241m=\u001b[39m dw\n",
      "\u001b[0;31mKeyboardInterrupt\u001b[0m: "
     ]
    }
   ],
   "source": [
    "brownian_motion, reflected_BM = [], []\n",
    "for repeat in tqdm.tqdm(range(10000)):\n",
    "    num_paths = 1000\n",
    "    x0, y0 = 0, 0\n",
    "    for idx, _ in enumerate(range(num_paths)):\n",
    "        dw = normal(loc=0.0, scale=0.03)\n",
    "        x0 += dw\n",
    "        y0 += dw\n",
    "        y0 = cube(y0)\n",
    "    brownian_motion.append(x0)\n",
    "    reflected_BM.append(y0)\n",
    "    \n",
    "plt.hist(brownian_motion[::2], 50)\n",
    "plt.hist(reflected_BM, 50, alpha=0.3, color='red')\n",
    "plt.xlim([-3, 3])\n",
    "plt.show()"
   ]
  },
  {
   "cell_type": "code",
   "execution_count": null,
   "metadata": {},
   "outputs": [],
   "source": [
    "OU, reflected_OU = [], []\n",
    "dt = 0.03\n",
    "beta = 0.5\n",
    "for repeat in tqdm.tqdm(range(10000)):\n",
    "    num_paths = 1000\n",
    "    x0, y0 = 0, 0\n",
    "    for idx, _ in enumerate(range(num_paths)):\n",
    "        drift, diffusion = (1 - 0.5*beta*dt), np.sqrt(beta*dt)\n",
    "        dw = normal(loc=0.0, scale=1)\n",
    "        x0 = drift * x0 + diffusion * dw\n",
    "        y0 = drift * y0 + diffusion * dw\n",
    "        y0 = cube(y0)\n",
    "    OU.append(x0)\n",
    "    reflected_OU.append(y0)\n",
    "    \n",
    "plt.hist(OU[::2], 50)\n",
    "plt.hist(reflected_OU, 50, alpha=0.3, color='red')\n",
    "plt.xlim([-3, 3])\n",
    "plt.show()"
   ]
  },
  {
   "cell_type": "code",
   "execution_count": null,
   "metadata": {},
   "outputs": [],
   "source": []
  },
  {
   "cell_type": "code",
   "execution_count": null,
   "metadata": {},
   "outputs": [],
   "source": []
  },
  {
   "cell_type": "code",
   "execution_count": null,
   "metadata": {},
   "outputs": [],
   "source": []
  }
 ],
 "metadata": {
  "kernelspec": {
   "display_name": "Python 3",
   "language": "python",
   "name": "python3"
  },
  "language_info": {
   "codemirror_mode": {
    "name": "ipython",
    "version": 3
   },
   "file_extension": ".py",
   "mimetype": "text/x-python",
   "name": "python",
   "nbconvert_exporter": "python",
   "pygments_lexer": "ipython3",
   "version": "3.8.10"
  }
 },
 "nbformat": 4,
 "nbformat_minor": 4
}
